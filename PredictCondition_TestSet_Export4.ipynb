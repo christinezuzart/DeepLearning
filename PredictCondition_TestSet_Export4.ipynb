{
  "nbformat": 4,
  "nbformat_minor": 0,
  "metadata": {
    "colab": {
      "name": "PredictCondition_TestSet_Export4.ipynb",
      "provenance": [],
      "collapsed_sections": [],
      "include_colab_link": true
    },
    "kernelspec": {
      "name": "python3",
      "display_name": "Python 3"
    }
  },
  "cells": [
    {
      "cell_type": "markdown",
      "metadata": {
        "id": "view-in-github",
        "colab_type": "text"
      },
      "source": [
        "<a href=\"https://colab.research.google.com/github/christinezuzart/DeepLearning/blob/master/PredictCondition_TestSet_Export4.ipynb\" target=\"_parent\"><img src=\"https://colab.research.google.com/assets/colab-badge.svg\" alt=\"Open In Colab\"/></a>"
      ]
    },
    {
      "cell_type": "code",
      "metadata": {
        "id": "BelpwrzCQlug",
        "colab_type": "code",
        "outputId": "ccb6fb5f-a9bc-4c64-8137-11f66ecda9e7",
        "colab": {
          "base_uri": "https://localhost:8080/",
          "height": 122
        }
      },
      "source": [
        "from google.colab import drive \n",
        "drive.mount('/content/gdrive')"
      ],
      "execution_count": 1,
      "outputs": [
        {
          "output_type": "stream",
          "text": [
            "Go to this URL in a browser: https://accounts.google.com/o/oauth2/auth?client_id=947318989803-6bn6qk8qdgf4n4g3pfee6491hc0brc4i.apps.googleusercontent.com&redirect_uri=urn%3aietf%3awg%3aoauth%3a2.0%3aoob&response_type=code&scope=email%20https%3a%2f%2fwww.googleapis.com%2fauth%2fdocs.test%20https%3a%2f%2fwww.googleapis.com%2fauth%2fdrive%20https%3a%2f%2fwww.googleapis.com%2fauth%2fdrive.photos.readonly%20https%3a%2f%2fwww.googleapis.com%2fauth%2fpeopleapi.readonly\n",
            "\n",
            "Enter your authorization code:\n",
            "··········\n",
            "Mounted at /content/gdrive\n"
          ],
          "name": "stdout"
        }
      ]
    },
    {
      "cell_type": "code",
      "metadata": {
        "id": "01xKPY-pQr8e",
        "colab_type": "code",
        "colab": {
          "base_uri": "https://localhost:8080/",
          "height": 640
        },
        "outputId": "ff700a7c-182a-42c4-a6cb-6e0c466df3b3"
      },
      "source": [
        "import io\n",
        "import pandas as pd\n",
        "\n",
        "pd.options.display.max_colwidth = 500\n",
        "\n",
        "dfTest = pd.read_csv('/content/gdrive/My Drive/Data/NLP_02_Test_Set.csv')\n",
        "dfTest.head(n=101)"
      ],
      "execution_count": 4,
      "outputs": [
        {
          "output_type": "execute_result",
          "data": {
            "text/html": [
              "<div>\n",
              "<style scoped>\n",
              "    .dataframe tbody tr th:only-of-type {\n",
              "        vertical-align: middle;\n",
              "    }\n",
              "\n",
              "    .dataframe tbody tr th {\n",
              "        vertical-align: top;\n",
              "    }\n",
              "\n",
              "    .dataframe thead th {\n",
              "        text-align: right;\n",
              "    }\n",
              "</style>\n",
              "<table border=\"1\" class=\"dataframe\">\n",
              "  <thead>\n",
              "    <tr style=\"text-align: right;\">\n",
              "      <th></th>\n",
              "      <th>ItemId</th>\n",
              "      <th>review</th>\n",
              "    </tr>\n",
              "  </thead>\n",
              "  <tbody>\n",
              "    <tr>\n",
              "      <th>0</th>\n",
              "      <td>1</td>\n",
              "      <td>\"I've tried a few antidepressants these years (citalopram, fluoxetine, amitriptyline), but none of those helped with my depression, insomnia &amp; anxiety. Doctor suggested and changed me onto 105mg mirtazapine and this medicine has saved my life. Thankfully I have had no side effects especially the most common - weight gain.</td>\n",
              "    </tr>\n",
              "    <tr>\n",
              "      <th>1</th>\n",
              "      <td>2</td>\n",
              "      <td>\"I feel hungry before I want food now. I really don't care to eat; it's just to fill my stomach. Since I have only been on it a few days, I don't know if I've lost weight (I don't have a scale), but my clothes do feel a little looser, so maybe a pound or two. I'm hoping that after a few months on this medication, I will develop healthier habits that I can continue without the aid of Contrave. Contrave combines drugs that were used for alcohol, smoking, and opioid cessation. People lose weigh...</td>\n",
              "    </tr>\n",
              "    <tr>\n",
              "      <th>2</th>\n",
              "      <td>3</td>\n",
              "      <td>\"I have been on this birth control for one cycle. After reading some of the reviews on this type and similar birth controls I was a bit apprehensive to start. Im giving this birth control a 9 out of 10 as I have not been on it long enough for a 10. So far I love this birth control! My side effects have been so minimal its like Im not even on birth control! I have experienced mild headaches here and there and some nausea but other than that ive been feeling great! I got my period on cue on th...</td>\n",
              "    </tr>\n",
              "    <tr>\n",
              "      <th>3</th>\n",
              "      <td>4</td>\n",
              "      <td>\"A doctor in the ER prescribed me 200 mg of Provigil when I was first diagnosed with Narcolepsy. It didn't seem to have any effect on me at all. Then I went to see my sleep doctor and he prescribed me 250 mg of Nuvigil. It finally allowed me to stay awake for an entire day. But if I went out somewhere I would be able to come home and take a nap and be fully awake again. Taking that with Xyrem makes me feel 98%..not quite 100, but still pretty great.\"</td>\n",
              "    </tr>\n",
              "    <tr>\n",
              "      <th>4</th>\n",
              "      <td>5</td>\n",
              "      <td>\"So I was on Ginanvi for about 3 months before I switched over to this pill due to the high cost of Ginavi (I don't have insurance). Ginanvi had cleared up my acne in the short time I used and I was hoping this birth control would not mess that up. I was wrong. After 2-3 months of using this pill my skin went crazy with horrible breakouts. Now, 9 months later I still have horrible acne. If you want a pill that helps with acne this is NOT it. It also made my period &amp;quot;weird&amp;quot;. I would ...</td>\n",
              "    </tr>\n",
              "    <tr>\n",
              "      <th>...</th>\n",
              "      <td>...</td>\n",
              "      <td>...</td>\n",
              "    </tr>\n",
              "    <tr>\n",
              "      <th>96</th>\n",
              "      <td>97</td>\n",
              "      <td>\"I went to my doctor with excessive blood loss that started lasting up to 8 days with loss of massive clots. I was told due to having issues for years that my husband &amp;amp; I would never naturally have children. I have had CIN3, ovarian cysts, endometriosis &amp;amp; now fibroids. My periods were coming on time every 4 weeks, it was just the flow that was all different &amp;amp; extreme. I had the Mirena Implant put in &amp;amp; now I bleed for 12 days every 2 weeks &amp;amp; am more irritable &amp;amp; moody t...</td>\n",
              "    </tr>\n",
              "    <tr>\n",
              "      <th>97</th>\n",
              "      <td>98</td>\n",
              "      <td>\"I have Multiple Sclerosis and have a problem with my bladder fully emptying.  Any amount of urine that Is left in my bladder, makes it seem like I haven't even gone to the bathroom. Bethanechol makes it so my bladder fully empties and I don't have those feelings.\"</td>\n",
              "    </tr>\n",
              "    <tr>\n",
              "      <th>98</th>\n",
              "      <td>99</td>\n",
              "      <td>\"Mild Hemophiliac, use Advate for injuries or surgeries. It has proven effective for me for surgery including total hip replacement with no bleeding or other side effects.\"</td>\n",
              "    </tr>\n",
              "    <tr>\n",
              "      <th>99</th>\n",
              "      <td>100</td>\n",
              "      <td>\"I have been on Alpha-nine SD for 31 years .\\r\\rIt's been good for preventing bleeds and excellent for stopping initial or on going bleeds.\"</td>\n",
              "    </tr>\n",
              "    <tr>\n",
              "      <th>100</th>\n",
              "      <td>101</td>\n",
              "      <td>\"New packaging sucks!! Have carpal tunnel. 4 surgeries. Always relied on your product for relief.\\r\\r Now, have to find pair of scissors to open package. No more purchases from this fellow.\\r\\r Shame, love the stuff. Beats Tylenol and others.</td>\n",
              "    </tr>\n",
              "  </tbody>\n",
              "</table>\n",
              "<p>101 rows × 2 columns</p>\n",
              "</div>"
            ],
            "text/plain": [
              "     ItemId                                                                                                                                                                                                                                                                                                                                                                                                                                                                                                               review\n",
              "0         1                                                                                                                                                                                  \"I've tried a few antidepressants these years (citalopram, fluoxetine, amitriptyline), but none of those helped with my depression, insomnia & anxiety. Doctor suggested and changed me onto 105mg mirtazapine and this medicine has saved my life. Thankfully I have had no side effects especially the most common - weight gain.\n",
              "1         2  \"I feel hungry before I want food now. I really don't care to eat; it's just to fill my stomach. Since I have only been on it a few days, I don't know if I've lost weight (I don't have a scale), but my clothes do feel a little looser, so maybe a pound or two. I'm hoping that after a few months on this medication, I will develop healthier habits that I can continue without the aid of Contrave. Contrave combines drugs that were used for alcohol, smoking, and opioid cessation. People lose weigh...\n",
              "2         3  \"I have been on this birth control for one cycle. After reading some of the reviews on this type and similar birth controls I was a bit apprehensive to start. Im giving this birth control a 9 out of 10 as I have not been on it long enough for a 10. So far I love this birth control! My side effects have been so minimal its like Im not even on birth control! I have experienced mild headaches here and there and some nausea but other than that ive been feeling great! I got my period on cue on th...\n",
              "3         4                                               \"A doctor in the ER prescribed me 200 mg of Provigil when I was first diagnosed with Narcolepsy. It didn't seem to have any effect on me at all. Then I went to see my sleep doctor and he prescribed me 250 mg of Nuvigil. It finally allowed me to stay awake for an entire day. But if I went out somewhere I would be able to come home and take a nap and be fully awake again. Taking that with Xyrem makes me feel 98%..not quite 100, but still pretty great.\"\n",
              "4         5  \"So I was on Ginanvi for about 3 months before I switched over to this pill due to the high cost of Ginavi (I don't have insurance). Ginanvi had cleared up my acne in the short time I used and I was hoping this birth control would not mess that up. I was wrong. After 2-3 months of using this pill my skin went crazy with horrible breakouts. Now, 9 months later I still have horrible acne. If you want a pill that helps with acne this is NOT it. It also made my period &quot;weird&quot;. I would ...\n",
              "..      ...                                                                                                                                                                                                                                                                                                                                                                                                                                                                                                                  ...\n",
              "96       97  \"I went to my doctor with excessive blood loss that started lasting up to 8 days with loss of massive clots. I was told due to having issues for years that my husband &amp; I would never naturally have children. I have had CIN3, ovarian cysts, endometriosis &amp; now fibroids. My periods were coming on time every 4 weeks, it was just the flow that was all different &amp; extreme. I had the Mirena Implant put in &amp; now I bleed for 12 days every 2 weeks &amp; am more irritable &amp; moody t...\n",
              "97       98                                                                                                                                                                                                                                            \"I have Multiple Sclerosis and have a problem with my bladder fully emptying.  Any amount of urine that Is left in my bladder, makes it seem like I haven't even gone to the bathroom. Bethanechol makes it so my bladder fully empties and I don't have those feelings.\"\n",
              "98       99                                                                                                                                                                                                                                                                                                                                         \"Mild Hemophiliac, use Advate for injuries or surgeries. It has proven effective for me for surgery including total hip replacement with no bleeding or other side effects.\"\n",
              "99      100                                                                                                                                                                                                                                                                                                                                                                         \"I have been on Alpha-nine SD for 31 years .\\r\\rIt's been good for preventing bleeds and excellent for stopping initial or on going bleeds.\"\n",
              "100     101                                                                                                                                                                                                                                                                   \"New packaging sucks!! Have carpal tunnel. 4 surgeries. Always relied on your product for relief.\\r\\r Now, have to find pair of scissors to open package. No more purchases from this fellow.\\r\\r Shame, love the stuff. Beats Tylenol and others.\n",
              "\n",
              "[101 rows x 2 columns]"
            ]
          },
          "metadata": {
            "tags": []
          },
          "execution_count": 4
        }
      ]
    },
    {
      "cell_type": "code",
      "metadata": {
        "id": "gtQNrcYMXE2_",
        "colab_type": "code",
        "outputId": "71d404cc-582c-435c-b9be-0ec4c05c008b",
        "colab": {
          "base_uri": "https://localhost:8080/",
          "height": 17
        }
      },
      "source": [
        "from fastai.text import *\n",
        "# give the path of the model file\n",
        "learn_classifier = load_learner('/content/gdrive/My Drive/', 'export4.pkl')"
      ],
      "execution_count": 5,
      "outputs": [
        {
          "output_type": "display_data",
          "data": {
            "text/html": [
              ""
            ],
            "text/plain": [
              "<IPython.core.display.HTML object>"
            ]
          },
          "metadata": {
            "tags": []
          }
        },
        {
          "output_type": "display_data",
          "data": {
            "text/html": [
              ""
            ],
            "text/plain": [
              "<IPython.core.display.HTML object>"
            ]
          },
          "metadata": {
            "tags": []
          }
        }
      ]
    },
    {
      "cell_type": "code",
      "metadata": {
        "id": "PrX5xW6NXCBJ",
        "colab_type": "code",
        "colab": {}
      },
      "source": [
        "def perform_prediction_finetuned(review):\n",
        "  pred, b, c = learn_classifier.predict(review)\n",
        "  return pred.obj"
      ],
      "execution_count": 0,
      "outputs": []
    },
    {
      "cell_type": "code",
      "metadata": {
        "id": "tUgDM3JZXJOn",
        "colab_type": "code",
        "outputId": "95f8c91e-1a49-4693-d7c6-ceea52bc9f59",
        "colab": {
          "base_uri": "https://localhost:8080/",
          "height": 374
        }
      },
      "source": [
        "dfTest['predicted label'] = dfTest.apply(lambda x: perform_prediction_finetuned(x['review']), axis=1)\n",
        "dfTest.to_csv('/content/gdrive/My Drive/NLP_02_Test_Set_Prediction.csv')\n",
        "dfTest.head()"
      ],
      "execution_count": 7,
      "outputs": [
        {
          "output_type": "execute_result",
          "data": {
            "text/html": [
              "<div>\n",
              "<style scoped>\n",
              "    .dataframe tbody tr th:only-of-type {\n",
              "        vertical-align: middle;\n",
              "    }\n",
              "\n",
              "    .dataframe tbody tr th {\n",
              "        vertical-align: top;\n",
              "    }\n",
              "\n",
              "    .dataframe thead th {\n",
              "        text-align: right;\n",
              "    }\n",
              "</style>\n",
              "<table border=\"1\" class=\"dataframe\">\n",
              "  <thead>\n",
              "    <tr style=\"text-align: right;\">\n",
              "      <th></th>\n",
              "      <th>ItemId</th>\n",
              "      <th>review</th>\n",
              "      <th>predicted label</th>\n",
              "    </tr>\n",
              "  </thead>\n",
              "  <tbody>\n",
              "    <tr>\n",
              "      <th>0</th>\n",
              "      <td>1</td>\n",
              "      <td>\"I've tried a few antidepressants these years (citalopram, fluoxetine, amitriptyline), but none of those helped with my depression, insomnia &amp; anxiety. Doctor suggested and changed me onto 105mg mirtazapine and this medicine has saved my life. Thankfully I have had no side effects especially the most common - weight gain.</td>\n",
              "      <td>Depression</td>\n",
              "    </tr>\n",
              "    <tr>\n",
              "      <th>1</th>\n",
              "      <td>2</td>\n",
              "      <td>\"I feel hungry before I want food now. I really don't care to eat; it's just to fill my stomach. Since I have only been on it a few days, I don't know if I've lost weight (I don't have a scale), but my clothes do feel a little looser, so maybe a pound or two. I'm hoping that after a few months on this medication, I will develop healthier habits that I can continue without the aid of Contrave. Contrave combines drugs that were used for alcohol, smoking, and opioid cessation. People lose weigh...</td>\n",
              "      <td>Weight Loss</td>\n",
              "    </tr>\n",
              "    <tr>\n",
              "      <th>2</th>\n",
              "      <td>3</td>\n",
              "      <td>\"I have been on this birth control for one cycle. After reading some of the reviews on this type and similar birth controls I was a bit apprehensive to start. Im giving this birth control a 9 out of 10 as I have not been on it long enough for a 10. So far I love this birth control! My side effects have been so minimal its like Im not even on birth control! I have experienced mild headaches here and there and some nausea but other than that ive been feeling great! I got my period on cue on th...</td>\n",
              "      <td>Birth Control</td>\n",
              "    </tr>\n",
              "    <tr>\n",
              "      <th>3</th>\n",
              "      <td>4</td>\n",
              "      <td>\"A doctor in the ER prescribed me 200 mg of Provigil when I was first diagnosed with Narcolepsy. It didn't seem to have any effect on me at all. Then I went to see my sleep doctor and he prescribed me 250 mg of Nuvigil. It finally allowed me to stay awake for an entire day. But if I went out somewhere I would be able to come home and take a nap and be fully awake again. Taking that with Xyrem makes me feel 98%..not quite 100, but still pretty great.\"</td>\n",
              "      <td>Narcolepsy</td>\n",
              "    </tr>\n",
              "    <tr>\n",
              "      <th>4</th>\n",
              "      <td>5</td>\n",
              "      <td>\"So I was on Ginanvi for about 3 months before I switched over to this pill due to the high cost of Ginavi (I don't have insurance). Ginanvi had cleared up my acne in the short time I used and I was hoping this birth control would not mess that up. I was wrong. After 2-3 months of using this pill my skin went crazy with horrible breakouts. Now, 9 months later I still have horrible acne. If you want a pill that helps with acne this is NOT it. It also made my period &amp;quot;weird&amp;quot;. I would ...</td>\n",
              "      <td>Birth Control</td>\n",
              "    </tr>\n",
              "  </tbody>\n",
              "</table>\n",
              "</div>"
            ],
            "text/plain": [
              "   ItemId  ... predicted label\n",
              "0       1  ...      Depression\n",
              "1       2  ...     Weight Loss\n",
              "2       3  ...   Birth Control\n",
              "3       4  ...      Narcolepsy\n",
              "4       5  ...   Birth Control\n",
              "\n",
              "[5 rows x 3 columns]"
            ]
          },
          "metadata": {
            "tags": []
          },
          "execution_count": 7
        }
      ]
    },
    {
      "cell_type": "code",
      "metadata": {
        "id": "liqqbhJAP93O",
        "colab_type": "code",
        "colab": {
          "base_uri": "https://localhost:8080/",
          "height": 674
        },
        "outputId": "fc8cf6c4-f3a0-47c5-f861-8bada9a2b2c5"
      },
      "source": [
        "dfTest.head(n=101)"
      ],
      "execution_count": 8,
      "outputs": [
        {
          "output_type": "execute_result",
          "data": {
            "text/html": [
              "<div>\n",
              "<style scoped>\n",
              "    .dataframe tbody tr th:only-of-type {\n",
              "        vertical-align: middle;\n",
              "    }\n",
              "\n",
              "    .dataframe tbody tr th {\n",
              "        vertical-align: top;\n",
              "    }\n",
              "\n",
              "    .dataframe thead th {\n",
              "        text-align: right;\n",
              "    }\n",
              "</style>\n",
              "<table border=\"1\" class=\"dataframe\">\n",
              "  <thead>\n",
              "    <tr style=\"text-align: right;\">\n",
              "      <th></th>\n",
              "      <th>ItemId</th>\n",
              "      <th>review</th>\n",
              "      <th>predicted label</th>\n",
              "    </tr>\n",
              "  </thead>\n",
              "  <tbody>\n",
              "    <tr>\n",
              "      <th>0</th>\n",
              "      <td>1</td>\n",
              "      <td>\"I've tried a few antidepressants these years (citalopram, fluoxetine, amitriptyline), but none of those helped with my depression, insomnia &amp; anxiety. Doctor suggested and changed me onto 105mg mirtazapine and this medicine has saved my life. Thankfully I have had no side effects especially the most common - weight gain.</td>\n",
              "      <td>Depression</td>\n",
              "    </tr>\n",
              "    <tr>\n",
              "      <th>1</th>\n",
              "      <td>2</td>\n",
              "      <td>\"I feel hungry before I want food now. I really don't care to eat; it's just to fill my stomach. Since I have only been on it a few days, I don't know if I've lost weight (I don't have a scale), but my clothes do feel a little looser, so maybe a pound or two. I'm hoping that after a few months on this medication, I will develop healthier habits that I can continue without the aid of Contrave. Contrave combines drugs that were used for alcohol, smoking, and opioid cessation. People lose weigh...</td>\n",
              "      <td>Weight Loss</td>\n",
              "    </tr>\n",
              "    <tr>\n",
              "      <th>2</th>\n",
              "      <td>3</td>\n",
              "      <td>\"I have been on this birth control for one cycle. After reading some of the reviews on this type and similar birth controls I was a bit apprehensive to start. Im giving this birth control a 9 out of 10 as I have not been on it long enough for a 10. So far I love this birth control! My side effects have been so minimal its like Im not even on birth control! I have experienced mild headaches here and there and some nausea but other than that ive been feeling great! I got my period on cue on th...</td>\n",
              "      <td>Birth Control</td>\n",
              "    </tr>\n",
              "    <tr>\n",
              "      <th>3</th>\n",
              "      <td>4</td>\n",
              "      <td>\"A doctor in the ER prescribed me 200 mg of Provigil when I was first diagnosed with Narcolepsy. It didn't seem to have any effect on me at all. Then I went to see my sleep doctor and he prescribed me 250 mg of Nuvigil. It finally allowed me to stay awake for an entire day. But if I went out somewhere I would be able to come home and take a nap and be fully awake again. Taking that with Xyrem makes me feel 98%..not quite 100, but still pretty great.\"</td>\n",
              "      <td>Narcolepsy</td>\n",
              "    </tr>\n",
              "    <tr>\n",
              "      <th>4</th>\n",
              "      <td>5</td>\n",
              "      <td>\"So I was on Ginanvi for about 3 months before I switched over to this pill due to the high cost of Ginavi (I don't have insurance). Ginanvi had cleared up my acne in the short time I used and I was hoping this birth control would not mess that up. I was wrong. After 2-3 months of using this pill my skin went crazy with horrible breakouts. Now, 9 months later I still have horrible acne. If you want a pill that helps with acne this is NOT it. It also made my period &amp;quot;weird&amp;quot;. I would ...</td>\n",
              "      <td>Birth Control</td>\n",
              "    </tr>\n",
              "    <tr>\n",
              "      <th>...</th>\n",
              "      <td>...</td>\n",
              "      <td>...</td>\n",
              "      <td>...</td>\n",
              "    </tr>\n",
              "    <tr>\n",
              "      <th>96</th>\n",
              "      <td>97</td>\n",
              "      <td>\"I went to my doctor with excessive blood loss that started lasting up to 8 days with loss of massive clots. I was told due to having issues for years that my husband &amp;amp; I would never naturally have children. I have had CIN3, ovarian cysts, endometriosis &amp;amp; now fibroids. My periods were coming on time every 4 weeks, it was just the flow that was all different &amp;amp; extreme. I had the Mirena Implant put in &amp;amp; now I bleed for 12 days every 2 weeks &amp;amp; am more irritable &amp;amp; moody t...</td>\n",
              "      <td>Abnormal Uterine Bleeding</td>\n",
              "    </tr>\n",
              "    <tr>\n",
              "      <th>97</th>\n",
              "      <td>98</td>\n",
              "      <td>\"I have Multiple Sclerosis and have a problem with my bladder fully emptying.  Any amount of urine that Is left in my bladder, makes it seem like I haven't even gone to the bathroom. Bethanechol makes it so my bladder fully empties and I don't have those feelings.\"</td>\n",
              "      <td>Urinary Incontinence</td>\n",
              "    </tr>\n",
              "    <tr>\n",
              "      <th>98</th>\n",
              "      <td>99</td>\n",
              "      <td>\"Mild Hemophiliac, use Advate for injuries or surgeries. It has proven effective for me for surgery including total hip replacement with no bleeding or other side effects.\"</td>\n",
              "      <td>Pain</td>\n",
              "    </tr>\n",
              "    <tr>\n",
              "      <th>99</th>\n",
              "      <td>100</td>\n",
              "      <td>\"I have been on Alpha-nine SD for 31 years .\\r\\rIt's been good for preventing bleeds and excellent for stopping initial or on going bleeds.\"</td>\n",
              "      <td>Dietary Supplementation</td>\n",
              "    </tr>\n",
              "    <tr>\n",
              "      <th>100</th>\n",
              "      <td>101</td>\n",
              "      <td>\"New packaging sucks!! Have carpal tunnel. 4 surgeries. Always relied on your product for relief.\\r\\r Now, have to find pair of scissors to open package. No more purchases from this fellow.\\r\\r Shame, love the stuff. Beats Tylenol and others.</td>\n",
              "      <td>Nasal Congestion</td>\n",
              "    </tr>\n",
              "  </tbody>\n",
              "</table>\n",
              "<p>101 rows × 3 columns</p>\n",
              "</div>"
            ],
            "text/plain": [
              "     ItemId  ...            predicted label\n",
              "0         1  ...                 Depression\n",
              "1         2  ...                Weight Loss\n",
              "2         3  ...              Birth Control\n",
              "3         4  ...                 Narcolepsy\n",
              "4         5  ...              Birth Control\n",
              "..      ...  ...                        ...\n",
              "96       97  ...  Abnormal Uterine Bleeding\n",
              "97       98  ...       Urinary Incontinence\n",
              "98       99  ...                       Pain\n",
              "99      100  ...    Dietary Supplementation\n",
              "100     101  ...           Nasal Congestion\n",
              "\n",
              "[101 rows x 3 columns]"
            ]
          },
          "metadata": {
            "tags": []
          },
          "execution_count": 8
        }
      ]
    }
  ]
}