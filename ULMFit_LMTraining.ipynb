{
  "nbformat": 4,
  "nbformat_minor": 0,
  "metadata": {
    "colab": {
      "name": "ULMFit_LMTraining.ipynb",
      "provenance": [],
      "collapsed_sections": [],
      "include_colab_link": true
    },
    "kernelspec": {
      "name": "python3",
      "display_name": "Python 3"
    },
    "accelerator": "GPU"
  },
  "cells": [
    {
      "cell_type": "markdown",
      "metadata": {
        "id": "view-in-github",
        "colab_type": "text"
      },
      "source": [
        "<a href=\"https://colab.research.google.com/github/christinezuzart/DeepLearning/blob/master/ULMFit_LMTraining.ipynb\" target=\"_parent\"><img src=\"https://colab.research.google.com/assets/colab-badge.svg\" alt=\"Open In Colab\"/></a>"
      ]
    },
    {
      "cell_type": "code",
      "metadata": {
        "id": "1DswNXjP1gvO",
        "colab_type": "code",
        "outputId": "bf6db586-c22a-40df-96e3-2c70098ade83",
        "colab": {
          "base_uri": "https://localhost:8080/",
          "height": 122
        }
      },
      "source": [
        "from google.colab import drive \n",
        "drive.mount('/content/gdrive')"
      ],
      "execution_count": 0,
      "outputs": [
        {
          "output_type": "stream",
          "text": [
            "Go to this URL in a browser: https://accounts.google.com/o/oauth2/auth?client_id=947318989803-6bn6qk8qdgf4n4g3pfee6491hc0brc4i.apps.googleusercontent.com&redirect_uri=urn%3aietf%3awg%3aoauth%3a2.0%3aoob&response_type=code&scope=email%20https%3a%2f%2fwww.googleapis.com%2fauth%2fdocs.test%20https%3a%2f%2fwww.googleapis.com%2fauth%2fdrive%20https%3a%2f%2fwww.googleapis.com%2fauth%2fdrive.photos.readonly%20https%3a%2f%2fwww.googleapis.com%2fauth%2fpeopleapi.readonly\n",
            "\n",
            "Enter your authorization code:\n",
            "··········\n",
            "Mounted at /content/gdrive\n"
          ],
          "name": "stdout"
        }
      ]
    },
    {
      "cell_type": "code",
      "metadata": {
        "id": "OqU7UyFA1m_w",
        "colab_type": "code",
        "colab": {}
      },
      "source": [
        "from fastai.text import *"
      ],
      "execution_count": 0,
      "outputs": []
    },
    {
      "cell_type": "code",
      "metadata": {
        "id": "QvqHiNCP7Nmm",
        "colab_type": "code",
        "colab": {}
      },
      "source": [
        "from fastai.text import *\n",
        "data_lm = (TextList.from_csv(F\"/content/gdrive/My Drive/\", 'texts.csv', cols='text').split_by_rand_pct(0.1).label_for_lm().databunch(bs=32))"
      ],
      "execution_count": 0,
      "outputs": []
    },
    {
      "cell_type": "code",
      "metadata": {
        "id": "XPcKSzZl7RBV",
        "colab_type": "code",
        "colab": {}
      },
      "source": [
        "data_lm.save(F\"/content/gdrive/My Drive/tmp_lm.pkl\")"
      ],
      "execution_count": 0,
      "outputs": []
    },
    {
      "cell_type": "code",
      "metadata": {
        "id": "SQhDs-321pnt",
        "colab_type": "code",
        "colab": {}
      },
      "source": [
        "# args also need to be passed\n",
        "# data_lm = load_data(F\"/content/gdrive/My Drive/\", 'tmp_lm.pkl')"
      ],
      "execution_count": 0,
      "outputs": []
    },
    {
      "cell_type": "code",
      "metadata": {
        "id": "AzhzuAjN1uYO",
        "colab_type": "code",
        "outputId": "6e9665aa-a9ab-4669-8f69-e075a8ddc9bf",
        "colab": {
          "base_uri": "https://localhost:8080/",
          "height": 289
        }
      },
      "source": [
        "data_lm.show_batch()"
      ],
      "execution_count": 0,
      "outputs": [
        {
          "output_type": "display_data",
          "data": {
            "text/html": [
              "<table border=\"1\" class=\"dataframe\">\n",
              "  <thead>\n",
              "    <tr style=\"text-align: right;\">\n",
              "      <th>idx</th>\n",
              "      <th>text</th>\n",
              "    </tr>\n",
              "  </thead>\n",
              "  <tbody>\n",
              "    <tr>\n",
              "      <td>0</td>\n",
              "      <td>could hardly get out of bed , was very cranky , and slept for nearly 8 hours on a drive home from school vacation ( very unusual for him . ) i called his doctor on xxmaj monday morning and she said to stick it out a few days . xxmaj see how he did at school , and with getting up in the morning . xxmaj the last two</td>\n",
              "    </tr>\n",
              "    <tr>\n",
              "      <td>1</td>\n",
              "      <td>drugged &amp; ' like other medications do . i felt like my old self again , before the days of xxup cfs . \" xxbos \" i have been on xxmaj viibryd for 2 days now and the only side effect that i have had is a lot of gas and had to use the bathroom about 10 times but it was not diarrhea . i am on 10 mg</td>\n",
              "    </tr>\n",
              "    <tr>\n",
              "      <td>2</td>\n",
              "      <td>7 days .. i tried it in hopes it would work and sure enough i had her on my scheduled due date with out one complication or preterm labor symptoms , now pregnant with our last child , which i again did the xxmaj makena and am at 39 weeks without complications ! xxmaj love xxmaj xxunk ! \" xxbos \" xxmaj both my daughter and i gained an excessive</td>\n",
              "    </tr>\n",
              "    <tr>\n",
              "      <td>3</td>\n",
              "      <td>did n't end up in the xxup er ( useless ) . xxmaj other types of birth control have helped slightly , but xxmaj nexplanon was xxup easily the absolute best decision of my life ( no exaggeration ) . xxmaj absolutely no side effects that ca n't be attributed to something else , virtually xxup no cramps , acceptable amounts of acne ( less than most of my life</td>\n",
              "    </tr>\n",
              "    <tr>\n",
              "      <td>4</td>\n",
              "      <td>excessive weight gain , but i have been watching what i eat and working out frequently so i guess i ca n't really touch on that . xxmaj it curbed my appetite a little - lot less snacking and craving . xxmaj after a few months , my breast did n't hurt anymore and i am in - between and b and a c ( yay ! ) xxmaj my</td>\n",
              "    </tr>\n",
              "  </tbody>\n",
              "</table>"
            ],
            "text/plain": [
              "<IPython.core.display.HTML object>"
            ]
          },
          "metadata": {
            "tags": []
          }
        }
      ]
    },
    {
      "cell_type": "code",
      "metadata": {
        "id": "9rQXdYy2142_",
        "colab_type": "code",
        "colab": {}
      },
      "source": [
        "lm_learn = language_model_learner(data_lm, AWD_LSTM, drop_mult=0.3)"
      ],
      "execution_count": 0,
      "outputs": []
    },
    {
      "cell_type": "code",
      "metadata": {
        "id": "-A8Ry3g91669",
        "colab_type": "code",
        "outputId": "a75e9b62-2ecd-40ec-da71-1fcdcb97e7fd",
        "colab": {
          "base_uri": "https://localhost:8080/",
          "height": 298
        }
      },
      "source": [
        "lm_learn.lr_find()\n",
        "lm_learn.recorder.plot(skip_end=15)"
      ],
      "execution_count": 0,
      "outputs": [
        {
          "output_type": "display_data",
          "data": {
            "text/html": [
              ""
            ],
            "text/plain": [
              "<IPython.core.display.HTML object>"
            ]
          },
          "metadata": {
            "tags": []
          }
        },
        {
          "output_type": "stream",
          "text": [
            "LR Finder is complete, type {learner_name}.recorder.plot() to see the graph.\n"
          ],
          "name": "stdout"
        },
        {
          "output_type": "display_data",
          "data": {
            "image/png": "[encoded data removed]",
            "text/plain": [
              "<Figure size 432x288 with 1 Axes>"
            ]
          },
          "metadata": {
            "tags": []
          }
        }
      ]
    },
    {
      "cell_type": "code",
      "metadata": {
        "id": "Sowq5KImOEhF",
        "colab_type": "code",
        "outputId": "a049f8b0-57b8-4eee-8032-43784f91e7cc",
        "colab": {
          "base_uri": "https://localhost:8080/",
          "height": 80
        }
      },
      "source": [
        "lm_learn.fit_one_cycle(1, 1e-2, moms=(0.8,0.7))"
      ],
      "execution_count": 0,
      "outputs": [
        {
          "output_type": "display_data",
          "data": {
            "text/html": [
              "<table border=\"1\" class=\"dataframe\">\n",
              "  <thead>\n",
              "    <tr style=\"text-align: left;\">\n",
              "      <th>epoch</th>\n",
              "      <th>train_loss</th>\n",
              "      <th>valid_loss</th>\n",
              "      <th>accuracy</th>\n",
              "      <th>time</th>\n",
              "    </tr>\n",
              "  </thead>\n",
              "  <tbody>\n",
              "    <tr>\n",
              "      <td>0</td>\n",
              "      <td>3.491988</td>\n",
              "      <td>3.367755</td>\n",
              "      <td>0.323458</td>\n",
              "      <td>13:48</td>\n",
              "    </tr>\n",
              "  </tbody>\n",
              "</table>"
            ],
            "text/plain": [
              "<IPython.core.display.HTML object>"
            ]
          },
          "metadata": {
            "tags": []
          }
        }
      ]
    },
    {
      "cell_type": "code",
      "metadata": {
        "id": "Dyiexy3q1_rK",
        "colab_type": "code",
        "outputId": "9e3ec206-900d-42dd-bd6a-c0175736c25e",
        "colab": {
          "base_uri": "https://localhost:8080/",
          "height": 34
        }
      },
      "source": [
        "lm_learn.save_encoder('/content/gdrive/My Drive/lm_fine_tuned_enc')\n",
        "lm_learn.save(\"/content/gdrive/My Drive/lm_trained_model\", return_path=True)"
      ],
      "execution_count": 0,
      "outputs": [
        {
          "output_type": "execute_result",
          "data": {
            "text/plain": [
              "PosixPath('/content/gdrive/My Drive/lm_trained_model.pth')"
            ]
          },
          "metadata": {
            "tags": []
          },
          "execution_count": 10
        }
      ]
    },
    {
      "cell_type": "code",
      "metadata": {
        "id": "pvuN6MSH2Hvf",
        "colab_type": "code",
        "outputId": "63f498bf-5263-49fc-e46f-090e38181d1c",
        "colab": {
          "base_uri": "https://localhost:8080/",
          "height": 54
        }
      },
      "source": [
        "lm_learn.predict('It made me feel dizzy and', 100, temperature=1.1, min_p=0.001)"
      ],
      "execution_count": 0,
      "outputs": [
        {
          "output_type": "execute_result",
          "data": {
            "text/plain": [
              "'It made me feel dizzy and calm . \\r \\n  i only used to go . i am now not going on trying i really think i would have for my heart or something so that i can live without Chantix . \" xxbos \" Great medication for over a year . It definitely helps some with controlling the depression of the mood swings . i still get sleepy so i do n\\'t wanna get bed sleep . It \\'s just not worth it ! \" xxbos \" Not only have sex no the more easy way however . It gets'"
            ]
          },
          "metadata": {
            "tags": []
          },
          "execution_count": 11
        }
      ]
    },
    {
      "cell_type": "code",
      "metadata": {
        "id": "yYG3fZgr2Kp_",
        "colab_type": "code",
        "outputId": "5ef94768-8023-4550-f683-96040e2e439e",
        "colab": {
          "base_uri": "https://localhost:8080/",
          "height": 174
        }
      },
      "source": [
        "lm_learn.unfreeze()\n",
        "lm_learn.fit_one_cycle(2, 1e-3, moms=(0.8,0.7))"
      ],
      "execution_count": 0,
      "outputs": [
        {
          "output_type": "display_data",
          "data": {
            "text/html": [
              "\n",
              "    <div>\n",
              "        <style>\n",
              "            /* Turns off some styling */\n",
              "            progress {\n",
              "                /* gets rid of default border in Firefox and Opera. */\n",
              "                border: none;\n",
              "                /* Needs to be in here for Safari polyfill so background images work as expected. */\n",
              "                background-size: auto;\n",
              "            }\n",
              "            .progress-bar-interrupted, .progress-bar-interrupted::-webkit-progress-bar {\n",
              "                background: #F44336;\n",
              "            }\n",
              "        </style>\n",
              "      <progress value='2' class='' max='10', style='width:300px; height:20px; vertical-align: middle;'></progress>\n",
              "      20.00% [2/10 33:14<2:12:59]\n",
              "    </div>\n",
              "    \n",
              "<table border=\"1\" class=\"dataframe\">\n",
              "  <thead>\n",
              "    <tr style=\"text-align: left;\">\n",
              "      <th>epoch</th>\n",
              "      <th>train_loss</th>\n",
              "      <th>valid_loss</th>\n",
              "      <th>accuracy</th>\n",
              "      <th>time</th>\n",
              "    </tr>\n",
              "  </thead>\n",
              "  <tbody>\n",
              "    <tr>\n",
              "      <td>0</td>\n",
              "      <td>3.167890</td>\n",
              "      <td>3.125608</td>\n",
              "      <td>0.354485</td>\n",
              "      <td>16:38</td>\n",
              "    </tr>\n",
              "    <tr>\n",
              "      <td>1</td>\n",
              "      <td>3.073214</td>\n",
              "      <td>3.033879</td>\n",
              "      <td>0.368122</td>\n",
              "      <td>16:36</td>\n",
              "    </tr>\n",
              "  </tbody>\n",
              "</table><p>\n",
              "\n",
              "    <div>\n",
              "        <style>\n",
              "            /* Turns off some styling */\n",
              "            progress {\n",
              "                /* gets rid of default border in Firefox and Opera. */\n",
              "                border: none;\n",
              "                /* Needs to be in here for Safari polyfill so background images work as expected. */\n",
              "                background-size: auto;\n",
              "            }\n",
              "            .progress-bar-interrupted, .progress-bar-interrupted::-webkit-progress-bar {\n",
              "                background: #F44336;\n",
              "            }\n",
              "        </style>\n",
              "      <progress value='1397' class='' max='9164', style='width:300px; height:20px; vertical-align: middle;'></progress>\n",
              "      15.24% [1397/9164 02:26<13:36 3.0258]\n",
              "    </div>\n",
              "    "
            ],
            "text/plain": [
              "<IPython.core.display.HTML object>"
            ]
          },
          "metadata": {
            "tags": []
          }
        },
        {
          "output_type": "stream",
          "text": [
            "Buffered data was truncated after reaching the output size limit."
          ],
          "name": "stdout"
        }
      ]
    },
    {
      "cell_type": "code",
      "metadata": {
        "id": "ra8d0aTng0dy",
        "colab_type": "code",
        "outputId": "103ad79d-b3fa-47fb-9662-27c39a725f14",
        "colab": {
          "base_uri": "https://localhost:8080/",
          "height": 111
        }
      },
      "source": [
        "lm_learn.unfreeze()\n",
        "lm_learn.fit_one_cycle(2, 1e-3, moms=(0.8,0.7))"
      ],
      "execution_count": 0,
      "outputs": [
        {
          "output_type": "display_data",
          "data": {
            "text/html": [
              "<table border=\"1\" class=\"dataframe\">\n",
              "  <thead>\n",
              "    <tr style=\"text-align: left;\">\n",
              "      <th>epoch</th>\n",
              "      <th>train_loss</th>\n",
              "      <th>valid_loss</th>\n",
              "      <th>accuracy</th>\n",
              "      <th>time</th>\n",
              "    </tr>\n",
              "  </thead>\n",
              "  <tbody>\n",
              "    <tr>\n",
              "      <td>0</td>\n",
              "      <td>2.879599</td>\n",
              "      <td>2.891151</td>\n",
              "      <td>0.389160</td>\n",
              "      <td>16:39</td>\n",
              "    </tr>\n",
              "    <tr>\n",
              "      <td>1</td>\n",
              "      <td>2.725330</td>\n",
              "      <td>2.806333</td>\n",
              "      <td>0.403705</td>\n",
              "      <td>16:34</td>\n",
              "    </tr>\n",
              "  </tbody>\n",
              "</table>"
            ],
            "text/plain": [
              "<IPython.core.display.HTML object>"
            ]
          },
          "metadata": {
            "tags": []
          }
        }
      ]
    },
    {
      "cell_type": "code",
      "metadata": {
        "id": "0MwT8Oljg9mP",
        "colab_type": "code",
        "outputId": "0f008f77-7dab-4e65-a074-1d10a8edf388",
        "colab": {
          "base_uri": "https://localhost:8080/",
          "height": 111
        }
      },
      "source": [
        "lm_learn.unfreeze()\n",
        "lm_learn.fit_one_cycle(2, 1e-3, moms=(0.8,0.7))"
      ],
      "execution_count": 0,
      "outputs": [
        {
          "output_type": "display_data",
          "data": {
            "text/html": [
              "<table border=\"1\" class=\"dataframe\">\n",
              "  <thead>\n",
              "    <tr style=\"text-align: left;\">\n",
              "      <th>epoch</th>\n",
              "      <th>train_loss</th>\n",
              "      <th>valid_loss</th>\n",
              "      <th>accuracy</th>\n",
              "      <th>time</th>\n",
              "    </tr>\n",
              "  </thead>\n",
              "  <tbody>\n",
              "    <tr>\n",
              "      <td>0</td>\n",
              "      <td>2.837881</td>\n",
              "      <td>2.858577</td>\n",
              "      <td>0.394824</td>\n",
              "      <td>16:37</td>\n",
              "    </tr>\n",
              "    <tr>\n",
              "      <td>1</td>\n",
              "      <td>2.671437</td>\n",
              "      <td>2.775625</td>\n",
              "      <td>0.409095</td>\n",
              "      <td>16:47</td>\n",
              "    </tr>\n",
              "  </tbody>\n",
              "</table>"
            ],
            "text/plain": [
              "<IPython.core.display.HTML object>"
            ]
          },
          "metadata": {
            "tags": []
          }
        }
      ]
    },
    {
      "cell_type": "code",
      "metadata": {
        "id": "T2yKG33wg9Bo",
        "colab_type": "code",
        "outputId": "0dda946b-0606-42ca-b3f9-9d339d3e60dd",
        "colab": {
          "base_uri": "https://localhost:8080/",
          "height": 111
        }
      },
      "source": [
        "lm_learn.unfreeze()\n",
        "lm_learn.fit_one_cycle(2, 1e-3, moms=(0.8,0.7))"
      ],
      "execution_count": 0,
      "outputs": [
        {
          "output_type": "display_data",
          "data": {
            "text/html": [
              "<table border=\"1\" class=\"dataframe\">\n",
              "  <thead>\n",
              "    <tr style=\"text-align: left;\">\n",
              "      <th>epoch</th>\n",
              "      <th>train_loss</th>\n",
              "      <th>valid_loss</th>\n",
              "      <th>accuracy</th>\n",
              "      <th>time</th>\n",
              "    </tr>\n",
              "  </thead>\n",
              "  <tbody>\n",
              "    <tr>\n",
              "      <td>0</td>\n",
              "      <td>2.799451</td>\n",
              "      <td>2.834735</td>\n",
              "      <td>0.398967</td>\n",
              "      <td>16:37</td>\n",
              "    </tr>\n",
              "    <tr>\n",
              "      <td>1</td>\n",
              "      <td>2.627398</td>\n",
              "      <td>2.752116</td>\n",
              "      <td>0.413385</td>\n",
              "      <td>16:38</td>\n",
              "    </tr>\n",
              "  </tbody>\n",
              "</table>"
            ],
            "text/plain": [
              "<IPython.core.display.HTML object>"
            ]
          },
          "metadata": {
            "tags": []
          }
        }
      ]
    },
    {
      "cell_type": "code",
      "metadata": {
        "id": "34f1az3Gg8eQ",
        "colab_type": "code",
        "outputId": "3b441e31-d284-4a40-fb31-32a26e09cf1b",
        "colab": {
          "base_uri": "https://localhost:8080/",
          "height": 111
        }
      },
      "source": [
        "lm_learn.unfreeze()\n",
        "lm_learn.fit_one_cycle(2, 1e-3, moms=(0.8,0.7))"
      ],
      "execution_count": 0,
      "outputs": [
        {
          "output_type": "display_data",
          "data": {
            "text/html": [
              "<table border=\"1\" class=\"dataframe\">\n",
              "  <thead>\n",
              "    <tr style=\"text-align: left;\">\n",
              "      <th>epoch</th>\n",
              "      <th>train_loss</th>\n",
              "      <th>valid_loss</th>\n",
              "      <th>accuracy</th>\n",
              "      <th>time</th>\n",
              "    </tr>\n",
              "  </thead>\n",
              "  <tbody>\n",
              "    <tr>\n",
              "      <td>0</td>\n",
              "      <td>2.750492</td>\n",
              "      <td>2.815698</td>\n",
              "      <td>0.402221</td>\n",
              "      <td>16:36</td>\n",
              "    </tr>\n",
              "    <tr>\n",
              "      <td>1</td>\n",
              "      <td>2.594489</td>\n",
              "      <td>2.734014</td>\n",
              "      <td>0.416754</td>\n",
              "      <td>16:37</td>\n",
              "    </tr>\n",
              "  </tbody>\n",
              "</table>"
            ],
            "text/plain": [
              "<IPython.core.display.HTML object>"
            ]
          },
          "metadata": {
            "tags": []
          }
        }
      ]
    },
    {
      "cell_type": "code",
      "metadata": {
        "id": "Id0sh_oh3Zg1",
        "colab_type": "code",
        "outputId": "0290d8b7-38e6-4bc8-e500-274e383bdf93",
        "colab": {
          "base_uri": "https://localhost:8080/",
          "height": 34
        }
      },
      "source": [
        "lm_learn.save_encoder('/content/gdrive/My Drive/lm_fine_tuned_enc')\n",
        "lm_learn.save(\"/content/gdrive/My Drive/lm_trained_model\", return_path=True)"
      ],
      "execution_count": 0,
      "outputs": [
        {
          "output_type": "execute_result",
          "data": {
            "text/plain": [
              "PosixPath('/content/gdrive/My Drive/lm_trained_model.pth')"
            ]
          },
          "metadata": {
            "tags": []
          },
          "execution_count": 20
        }
      ]
    },
    {
      "cell_type": "code",
      "metadata": {
        "id": "mYWcK7AE2N9_",
        "colab_type": "code",
        "outputId": "7617a0b8-6b19-4b00-cdc2-8974b1f5df4c",
        "colab": {
          "base_uri": "https://localhost:8080/"
        }
      },
      "source": [
        "lm_learn.predict('It made me feel dizzy and', 100, temperature=1.1, min_p=0.001)"
      ],
      "execution_count": 0,
      "outputs": [
        {
          "output_type": "execute_result",
          "data": {
            "text/plain": [
              "\"It made me feel dizzy and tired . For two weeks , i would n't leave my bed for days . In three days i realized i was sleeping almost all night without thinking about it ! Once , when i was very active , i was waking up feeling hot and sweating ! The & ' cold & ' was really weird and that was not typical in my case . i did not get any sleep at all ! When i found out if i took it after i had ate an ice cold pack , i would get\""
            ]
          },
          "metadata": {
            "tags": []
          },
          "execution_count": 21
        }
      ]
    }
  ]
}