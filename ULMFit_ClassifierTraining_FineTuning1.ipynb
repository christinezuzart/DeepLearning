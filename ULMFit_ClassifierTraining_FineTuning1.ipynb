{
  "nbformat": 4,
  "nbformat_minor": 0,
  "metadata": {
    "colab": {
      "name": "ULMFit_ClassifierTraining_FineTuning1.ipynb",
      "provenance": [],
      "collapsed_sections": [],
      "include_colab_link": true
    },
    "kernelspec": {
      "name": "python3",
      "display_name": "Python 3"
    },
    "accelerator": "GPU"
  },
  "cells": [
    {
      "cell_type": "markdown",
      "metadata": {
        "id": "view-in-github",
        "colab_type": "text"
      },
      "source": [
        "<a href=\"https://colab.research.google.com/github/christinezuzart/DeepLearning/blob/master/ULMFit_ClassifierTraining_FineTuning1.ipynb\" target=\"_parent\"><img src=\"https://colab.research.google.com/assets/colab-badge.svg\" alt=\"Open In Colab\"/></a>"
      ]
    },
    {
      "cell_type": "code",
      "metadata": {
        "id": "l3qFZGWGwpVi",
        "colab_type": "code",
        "outputId": "5a2b4f00-5f76-47d7-a999-c3db03cbb73a",
        "colab": {
          "base_uri": "https://localhost:8080/",
          "height": 238
        }
      },
      "source": [
        "# memory footprint support libraries/code\n",
        "!ln -sf /opt/bin/nvidia-smi /usr/bin/nvidia-smi \n",
        "!pip install gputil \n",
        "!pip install psutil\n",
        "!pip install humanize\n",
        "import psutil \n",
        "import humanize \n",
        "import os \n",
        "import GPUtil as GPU \n",
        "GPUs = GPU.getGPUs()\n",
        "\n",
        "# XXX: only one GPU on Colab and isn’t guaranteed\n",
        "gpu = GPUs[0] \n",
        "def printm(): \n",
        "  process = psutil.Process(os.getpid())\n",
        "  print(\"Gen RAM Free: \" + humanize.naturalsize( psutil.virtual_memory().available ), \" | Proc size: \" + humanize.naturalsize( process.memory_info().rss)) \n",
        "  print(\"GPU RAM Free: {0:.0f}MB | Used: {1:.0f}MB | Util {2:3.0f}% | Total {3:.0f}MB\".format(gpu.memoryFree, gpu.memoryUsed, gpu.memoryUtil*100, gpu.memoryTotal)) \n",
        "\n",
        "printm()"
      ],
      "execution_count": 1,
      "outputs": [
        {
          "output_type": "stream",
          "text": [
            "Collecting gputil\n",
            "  Downloading https://files.pythonhosted.org/packages/ed/0e/5c61eedde9f6c87713e89d794f01e378cfd9565847d4576fa627d758c554/GPUtil-1.4.0.tar.gz\n",
            "Building wheels for collected packages: gputil\n",
            "  Building wheel for gputil (setup.py) ... \u001b[?25l\u001b[?25hdone\n",
            "  Created wheel for gputil: filename=GPUtil-1.4.0-cp36-none-any.whl size=7410 sha256=adfff9a0c2c3a27a9ffc0c5fb076e23f431700c46e4d5756aeb66e9f6c3277ec\n",
            "  Stored in directory: /root/.cache/pip/wheels/3d/77/07/80562de4bb0786e5ea186911a2c831fdd0018bda69beab71fd\n",
            "Successfully built gputil\n",
            "Installing collected packages: gputil\n",
            "Successfully installed gputil-1.4.0\n",
            "Requirement already satisfied: psutil in /usr/local/lib/python3.6/dist-packages (5.4.8)\n",
            "Requirement already satisfied: humanize in /usr/local/lib/python3.6/dist-packages (0.5.1)\n",
            "Gen RAM Free: 12.8 GB  | Proc size: 155.9 MB\n",
            "GPU RAM Free: 16280MB | Used: 0MB | Util   0% | Total 16280MB\n"
          ],
          "name": "stdout"
        }
      ]
    },
    {
      "cell_type": "code",
      "metadata": {
        "id": "qrZnAC8A4s5Q",
        "colab_type": "code",
        "outputId": "cc194d09-6324-400a-98c7-d69dcef35f7e",
        "colab": {
          "base_uri": "https://localhost:8080/",
          "height": 122
        }
      },
      "source": [
        "from google.colab import drive \n",
        "drive.mount('/content/gdrive')"
      ],
      "execution_count": 2,
      "outputs": [
        {
          "output_type": "stream",
          "text": [
            "Go to this URL in a browser: https://accounts.google.com/o/oauth2/auth?client_id=947318989803-6bn6qk8qdgf4n4g3pfee6491hc0brc4i.apps.googleusercontent.com&redirect_uri=urn%3aietf%3awg%3aoauth%3a2.0%3aoob&response_type=code&scope=email%20https%3a%2f%2fwww.googleapis.com%2fauth%2fdocs.test%20https%3a%2f%2fwww.googleapis.com%2fauth%2fdrive%20https%3a%2f%2fwww.googleapis.com%2fauth%2fdrive.photos.readonly%20https%3a%2f%2fwww.googleapis.com%2fauth%2fpeopleapi.readonly\n",
            "\n",
            "Enter your authorization code:\n",
            "··········\n",
            "Mounted at /content/gdrive\n"
          ],
          "name": "stdout"
        }
      ]
    },
    {
      "cell_type": "code",
      "metadata": {
        "id": "cBJTvSQi6iIp",
        "colab_type": "code",
        "colab": {}
      },
      "source": [
        "from fastai.text import *"
      ],
      "execution_count": 0,
      "outputs": []
    },
    {
      "cell_type": "code",
      "metadata": {
        "id": "9srF9SgpBL9G",
        "colab_type": "code",
        "colab": {}
      },
      "source": [
        "# args also need to be passed\n",
        "data_lm = load_data(F\"/content/gdrive/My Drive/\", 'tmp_lm.pkl',bs=32)"
      ],
      "execution_count": 0,
      "outputs": []
    },
    {
      "cell_type": "code",
      "metadata": {
        "id": "oRpxaaVx7fvV",
        "colab_type": "code",
        "colab": {}
      },
      "source": [
        "data_clas = (TextList.from_csv(F'/content/gdrive/My Drive/', 'df_classifier_clean.csv', cols='text', vocab=data_lm.vocab).split_from_df(col='is_valid').label_from_df(cols='label').databunch(bs=32))"
      ],
      "execution_count": 0,
      "outputs": []
    },
    {
      "cell_type": "code",
      "metadata": {
        "id": "ZlGCZngh5MD_",
        "colab_type": "code",
        "colab": {
          "base_uri": "https://localhost:8080/",
          "height": 1000
        },
        "outputId": "30f42550-2514-479f-ad3b-2b3b6b635362"
      },
      "source": [
        "classifier_learn = text_classifier_learner(data_clas, AWD_LSTM, drop_mult=0.5)\n",
        "classifier_learn.load_encoder('/content/gdrive/My Drive/lm_fine_tuned_enc')\n",
        "classifier_learn.load('/content/gdrive/My Drive/trained_model2')\n"
      ],
      "execution_count": 6,
      "outputs": [
        {
          "output_type": "execute_result",
          "data": {
            "text/plain": [
              "RNNLearner(data=TextClasDataBunch;\n",
              "\n",
              "Train: LabelList (160398 items)\n",
              "x: TextList\n",
              "xxbos \" xxmaj it has no side effect , i take it in combination of xxmaj bystolic 5 xxmaj mg and xxmaj fish xxmaj oil \",xxbos \" xxmaj my son is halfway through his fourth week of xxmaj intuniv . xxmaj we became concerned when he began this last week , when he started taking the highest dose he will be on . xxmaj for two days , he could hardly get out of bed , was very cranky , and slept for nearly 8 hours on a drive home from school vacation ( very unusual for him . ) i called his doctor on xxmaj monday morning and she said to stick it out a few days . xxmaj see how he did at school , and with getting up in the morning . xxmaj the last two days have been problem free . xxmaj he is xxup much more agreeable than ever . xxmaj he is less emotional ( a good thing ) , less cranky . xxmaj he is remembering all the things he should . xxmaj overall his behavior is better . \n",
              " \n",
              "  xxmaj we have tried many different medications and so far this is the most effective . \",xxbos \" i used to take another oral contraceptive , which had 21 pill cycle , and was very happy- very light periods , max 5 days , no other side effects . xxmaj but it contained hormone xxunk , which is not available in xxup us , so i switched to xxmaj lybrel , because the ingredients are similar . xxmaj when my other pills ended , i started xxmaj lybrel immediately , on my first day of period , as the instructions said . xxmaj and the period lasted for two weeks . xxmaj when taking the second pack- same two weeks . xxmaj and now , with third pack things got even worse- my third period lasted for two weeks and now it 's the end of the third week- i still have daily brown discharge . \n",
              " \n",
              "  xxmaj the positive side is that i did n't have any other side effects . xxmaj the idea of being period free was so tempting ... xxmaj alas . \",xxbos \" xxmaj this is my first time using any form of birth control . i 'm glad i went with the patch , i have been on it for 8 months . xxmaj at first xxmaj it decreased my libido but that subsided . xxmaj the only downside is that it made my periods longer ( 5 - 6 days to be exact ) i used to only have periods for 3 - 4 days max also made my cramps intense for the first two days of my period , i never had cramps before using birth control . xxmaj other than that in happy with the patch \",xxbos \" xxmaj suboxone has completely turned my life around . i feel healthier , i 'm excelling at my job and i always have money in my pocket and my savings account . i had none of those before xxmaj suboxone and spent years abusing oxycontin . xxmaj my paycheck was already spent by the time i got it and i started resorting to xxunk and stealing to fund my addiction . xxmaj all that is history . xxmaj if you 're ready to stop , there 's a good chance that suboxone will put you on the path of great life again . i have found the side - effects to be minimal compared to oxycontin . i 'm actually sleeping better . xxmaj slight constipation is about it for me . xxmaj it truly is amazing . xxmaj the cost pales in comparison to what i spent on oxycontin . \"\n",
              "y: CategoryList\n",
              "Left Ventricular Dysfunction,ADHD,Birth Control,Birth Control,Opiate Dependence\n",
              "Path: /content/gdrive/My Drive;\n",
              "\n",
              "Valid: LabelList (53425 items)\n",
              "x: TextList\n",
              "xxbos \" i 've tried a few antidepressants over the years ( citalopram , fluoxetine , amitriptyline ) , but none of those helped with my depression , insomnia & & anxiety . xxmaj my doctor suggested and changed me onto 45 mg mirtazapine and this medicine has saved my life . xxmaj thankfully i have had no side effects especially the most common - weight gain , i 've actually lost alot of weight . i still have suicidal thoughts but mirtazapine has saved me . \",xxbos \" xxmaj my son has xxmaj crohn 's disease and has done very well on the xxmaj asacol . xxmaj he has no complaints and shows no side effects . xxmaj he has taken as many as nine tablets per day at one time . i 've been very happy with the results , reducing his bouts of diarrhea drastically . \",xxbos \" xxmaj quick reduction of symptoms \",xxbos \" xxmaj contrave combines drugs that were used for alcohol , smoking , and opioid cessation . xxmaj people lose weight on it because it also helps control over - eating . i have no doubt that most obesity is caused from sugar / carb addiction , which is just as powerful as any drug . i have been taking it for five days , and the good news is , it seems to go to work immediately . i feel hungry before i want food now . i really do n't care to eat ; it 's just to fill my stomach . xxmaj since i have only been on it a few days , i do n't know if i 've lost weight ( i do n't have a scale ) , but my clothes do feel a little looser , so maybe a pound or two . i 'm hoping that after a few months on this medication , i will develop healthier habits that i can continue without the aid of xxmaj contrave . \",xxbos \" i have been on this birth control for one cycle . xxmaj after reading some of the reviews on this type and similar birth controls i was a bit apprehensive to start . i m giving this birth control a 9 out of 10 as i have not been on it long enough for a 10 . xxmaj so far i love this birth control ! xxmaj my side effects have been so minimal its like i m not even on birth control ! i have experienced mild headaches here and there and some nausea but other than that i ve been feeling great ! i got my period on cue on the third day of the inactive pills and i had no idea it was coming because i had zero pms ! xxmaj my period was very light and i barely had any cramping ! i had unprotected sex the first month and obviously did n't get pregnant so i 'm very pleased ! xxmaj highly recommend \"\n",
              "y: CategoryList\n",
              "Depression,Crohn's Disease, Maintenance,Urinary Tract Infection,Weight Loss,Birth Control\n",
              "Path: /content/gdrive/My Drive;\n",
              "\n",
              "Test: None, model=SequentialRNN(\n",
              "  (0): MultiBatchEncoder(\n",
              "    (module): AWD_LSTM(\n",
              "      (encoder): Embedding(28600, 400, padding_idx=1)\n",
              "      (encoder_dp): EmbeddingDropout(\n",
              "        (emb): Embedding(28600, 400, padding_idx=1)\n",
              "      )\n",
              "      (rnns): ModuleList(\n",
              "        (0): WeightDropout(\n",
              "          (module): LSTM(400, 1152, batch_first=True)\n",
              "        )\n",
              "        (1): WeightDropout(\n",
              "          (module): LSTM(1152, 1152, batch_first=True)\n",
              "        )\n",
              "        (2): WeightDropout(\n",
              "          (module): LSTM(1152, 400, batch_first=True)\n",
              "        )\n",
              "      )\n",
              "      (input_dp): RNNDropout()\n",
              "      (hidden_dps): ModuleList(\n",
              "        (0): RNNDropout()\n",
              "        (1): RNNDropout()\n",
              "        (2): RNNDropout()\n",
              "      )\n",
              "    )\n",
              "  )\n",
              "  (1): PoolingLinearClassifier(\n",
              "    (layers): Sequential(\n",
              "      (0): BatchNorm1d(1200, eps=1e-05, momentum=0.1, affine=True, track_running_stats=True)\n",
              "      (1): Dropout(p=0.2, inplace=False)\n",
              "      (2): Linear(in_features=1200, out_features=50, bias=True)\n",
              "      (3): ReLU(inplace=True)\n",
              "      (4): BatchNorm1d(50, eps=1e-05, momentum=0.1, affine=True, track_running_stats=True)\n",
              "      (5): Dropout(p=0.1, inplace=False)\n",
              "      (6): Linear(in_features=50, out_features=884, bias=True)\n",
              "    )\n",
              "  )\n",
              "), opt_func=functools.partial(<class 'torch.optim.adam.Adam'>, betas=(0.9, 0.99)), loss_func=FlattenedLoss of CrossEntropyLoss(), metrics=[<function accuracy at 0x7f4f12e9d0d0>], true_wd=True, bn_wd=True, wd=0.01, train_bn=True, path=PosixPath('/content/gdrive/My Drive'), model_dir='models', callback_fns=[functools.partial(<class 'fastai.basic_train.Recorder'>, add_time=True, silent=False)], callbacks=[RNNTrainer\n",
              "learn: RNNLearner(data=TextClasDataBunch;\n",
              "\n",
              "Train: LabelList (160398 items)\n",
              "x: TextList\n",
              "xxbos \" xxmaj it has no side effect , i take it in combination of xxmaj bystolic 5 xxmaj mg and xxmaj fish xxmaj oil \",xxbos \" xxmaj my son is halfway through his fourth week of xxmaj intuniv . xxmaj we became concerned when he began this last week , when he started taking the highest dose he will be on . xxmaj for two days , he could hardly get out of bed , was very cranky , and slept for nearly 8 hours on a drive home from school vacation ( very unusual for him . ) i called his doctor on xxmaj monday morning and she said to stick it out a few days . xxmaj see how he did at school , and with getting up in the morning . xxmaj the last two days have been problem free . xxmaj he is xxup much more agreeable than ever . xxmaj he is less emotional ( a good thing ) , less cranky . xxmaj he is remembering all the things he should . xxmaj overall his behavior is better . \n",
              " \n",
              "  xxmaj we have tried many different medications and so far this is the most effective . \",xxbos \" i used to take another oral contraceptive , which had 21 pill cycle , and was very happy- very light periods , max 5 days , no other side effects . xxmaj but it contained hormone xxunk , which is not available in xxup us , so i switched to xxmaj lybrel , because the ingredients are similar . xxmaj when my other pills ended , i started xxmaj lybrel immediately , on my first day of period , as the instructions said . xxmaj and the period lasted for two weeks . xxmaj when taking the second pack- same two weeks . xxmaj and now , with third pack things got even worse- my third period lasted for two weeks and now it 's the end of the third week- i still have daily brown discharge . \n",
              " \n",
              "  xxmaj the positive side is that i did n't have any other side effects . xxmaj the idea of being period free was so tempting ... xxmaj alas . \",xxbos \" xxmaj this is my first time using any form of birth control . i 'm glad i went with the patch , i have been on it for 8 months . xxmaj at first xxmaj it decreased my libido but that subsided . xxmaj the only downside is that it made my periods longer ( 5 - 6 days to be exact ) i used to only have periods for 3 - 4 days max also made my cramps intense for the first two days of my period , i never had cramps before using birth control . xxmaj other than that in happy with the patch \",xxbos \" xxmaj suboxone has completely turned my life around . i feel healthier , i 'm excelling at my job and i always have money in my pocket and my savings account . i had none of those before xxmaj suboxone and spent years abusing oxycontin . xxmaj my paycheck was already spent by the time i got it and i started resorting to xxunk and stealing to fund my addiction . xxmaj all that is history . xxmaj if you 're ready to stop , there 's a good chance that suboxone will put you on the path of great life again . i have found the side - effects to be minimal compared to oxycontin . i 'm actually sleeping better . xxmaj slight constipation is about it for me . xxmaj it truly is amazing . xxmaj the cost pales in comparison to what i spent on oxycontin . \"\n",
              "y: CategoryList\n",
              "Left Ventricular Dysfunction,ADHD,Birth Control,Birth Control,Opiate Dependence\n",
              "Path: /content/gdrive/My Drive;\n",
              "\n",
              "Valid: LabelList (53425 items)\n",
              "x: TextList\n",
              "xxbos \" i 've tried a few antidepressants over the years ( citalopram , fluoxetine , amitriptyline ) , but none of those helped with my depression , insomnia & & anxiety . xxmaj my doctor suggested and changed me onto 45 mg mirtazapine and this medicine has saved my life . xxmaj thankfully i have had no side effects especially the most common - weight gain , i 've actually lost alot of weight . i still have suicidal thoughts but mirtazapine has saved me . \",xxbos \" xxmaj my son has xxmaj crohn 's disease and has done very well on the xxmaj asacol . xxmaj he has no complaints and shows no side effects . xxmaj he has taken as many as nine tablets per day at one time . i 've been very happy with the results , reducing his bouts of diarrhea drastically . \",xxbos \" xxmaj quick reduction of symptoms \",xxbos \" xxmaj contrave combines drugs that were used for alcohol , smoking , and opioid cessation . xxmaj people lose weight on it because it also helps control over - eating . i have no doubt that most obesity is caused from sugar / carb addiction , which is just as powerful as any drug . i have been taking it for five days , and the good news is , it seems to go to work immediately . i feel hungry before i want food now . i really do n't care to eat ; it 's just to fill my stomach . xxmaj since i have only been on it a few days , i do n't know if i 've lost weight ( i do n't have a scale ) , but my clothes do feel a little looser , so maybe a pound or two . i 'm hoping that after a few months on this medication , i will develop healthier habits that i can continue without the aid of xxmaj contrave . \",xxbos \" i have been on this birth control for one cycle . xxmaj after reading some of the reviews on this type and similar birth controls i was a bit apprehensive to start . i m giving this birth control a 9 out of 10 as i have not been on it long enough for a 10 . xxmaj so far i love this birth control ! xxmaj my side effects have been so minimal its like i m not even on birth control ! i have experienced mild headaches here and there and some nausea but other than that i ve been feeling great ! i got my period on cue on the third day of the inactive pills and i had no idea it was coming because i had zero pms ! xxmaj my period was very light and i barely had any cramping ! i had unprotected sex the first month and obviously did n't get pregnant so i 'm very pleased ! xxmaj highly recommend \"\n",
              "y: CategoryList\n",
              "Depression,Crohn's Disease, Maintenance,Urinary Tract Infection,Weight Loss,Birth Control\n",
              "Path: /content/gdrive/My Drive;\n",
              "\n",
              "Test: None, model=SequentialRNN(\n",
              "  (0): MultiBatchEncoder(\n",
              "    (module): AWD_LSTM(\n",
              "      (encoder): Embedding(28600, 400, padding_idx=1)\n",
              "      (encoder_dp): EmbeddingDropout(\n",
              "        (emb): Embedding(28600, 400, padding_idx=1)\n",
              "      )\n",
              "      (rnns): ModuleList(\n",
              "        (0): WeightDropout(\n",
              "          (module): LSTM(400, 1152, batch_first=True)\n",
              "        )\n",
              "        (1): WeightDropout(\n",
              "          (module): LSTM(1152, 1152, batch_first=True)\n",
              "        )\n",
              "        (2): WeightDropout(\n",
              "          (module): LSTM(1152, 400, batch_first=True)\n",
              "        )\n",
              "      )\n",
              "      (input_dp): RNNDropout()\n",
              "      (hidden_dps): ModuleList(\n",
              "        (0): RNNDropout()\n",
              "        (1): RNNDropout()\n",
              "        (2): RNNDropout()\n",
              "      )\n",
              "    )\n",
              "  )\n",
              "  (1): PoolingLinearClassifier(\n",
              "    (layers): Sequential(\n",
              "      (0): BatchNorm1d(1200, eps=1e-05, momentum=0.1, affine=True, track_running_stats=True)\n",
              "      (1): Dropout(p=0.2, inplace=False)\n",
              "      (2): Linear(in_features=1200, out_features=50, bias=True)\n",
              "      (3): ReLU(inplace=True)\n",
              "      (4): BatchNorm1d(50, eps=1e-05, momentum=0.1, affine=True, track_running_stats=True)\n",
              "      (5): Dropout(p=0.1, inplace=False)\n",
              "      (6): Linear(in_features=50, out_features=884, bias=True)\n",
              "    )\n",
              "  )\n",
              "), opt_func=functools.partial(<class 'torch.optim.adam.Adam'>, betas=(0.9, 0.99)), loss_func=FlattenedLoss of CrossEntropyLoss(), metrics=[<function accuracy at 0x7f4f12e9d0d0>], true_wd=True, bn_wd=True, wd=0.01, train_bn=True, path=PosixPath('/content/gdrive/My Drive'), model_dir='models', callback_fns=[functools.partial(<class 'fastai.basic_train.Recorder'>, add_time=True, silent=False)], callbacks=[...], layer_groups=[Sequential(\n",
              "  (0): Embedding(28600, 400, padding_idx=1)\n",
              "  (1): EmbeddingDropout(\n",
              "    (emb): Embedding(28600, 400, padding_idx=1)\n",
              "  )\n",
              "), Sequential(\n",
              "  (0): WeightDropout(\n",
              "    (module): LSTM(400, 1152, batch_first=True)\n",
              "  )\n",
              "  (1): RNNDropout()\n",
              "), Sequential(\n",
              "  (0): WeightDropout(\n",
              "    (module): LSTM(1152, 1152, batch_first=True)\n",
              "  )\n",
              "  (1): RNNDropout()\n",
              "), Sequential(\n",
              "  (0): WeightDropout(\n",
              "    (module): LSTM(1152, 400, batch_first=True)\n",
              "  )\n",
              "  (1): RNNDropout()\n",
              "), Sequential(\n",
              "  (0): PoolingLinearClassifier(\n",
              "    (layers): Sequential(\n",
              "      (0): BatchNorm1d(1200, eps=1e-05, momentum=0.1, affine=True, track_running_stats=True)\n",
              "      (1): Dropout(p=0.2, inplace=False)\n",
              "      (2): Linear(in_features=1200, out_features=50, bias=True)\n",
              "      (3): ReLU(inplace=True)\n",
              "      (4): BatchNorm1d(50, eps=1e-05, momentum=0.1, affine=True, track_running_stats=True)\n",
              "      (5): Dropout(p=0.1, inplace=False)\n",
              "      (6): Linear(in_features=50, out_features=884, bias=True)\n",
              "    )\n",
              "  )\n",
              ")], add_time=True, silent=False)\n",
              "alpha: 2.0\n",
              "beta: 1.0], layer_groups=[Sequential(\n",
              "  (0): Embedding(28600, 400, padding_idx=1)\n",
              "  (1): EmbeddingDropout(\n",
              "    (emb): Embedding(28600, 400, padding_idx=1)\n",
              "  )\n",
              "), Sequential(\n",
              "  (0): WeightDropout(\n",
              "    (module): LSTM(400, 1152, batch_first=True)\n",
              "  )\n",
              "  (1): RNNDropout()\n",
              "), Sequential(\n",
              "  (0): WeightDropout(\n",
              "    (module): LSTM(1152, 1152, batch_first=True)\n",
              "  )\n",
              "  (1): RNNDropout()\n",
              "), Sequential(\n",
              "  (0): WeightDropout(\n",
              "    (module): LSTM(1152, 400, batch_first=True)\n",
              "  )\n",
              "  (1): RNNDropout()\n",
              "), Sequential(\n",
              "  (0): PoolingLinearClassifier(\n",
              "    (layers): Sequential(\n",
              "      (0): BatchNorm1d(1200, eps=1e-05, momentum=0.1, affine=True, track_running_stats=True)\n",
              "      (1): Dropout(p=0.2, inplace=False)\n",
              "      (2): Linear(in_features=1200, out_features=50, bias=True)\n",
              "      (3): ReLU(inplace=True)\n",
              "      (4): BatchNorm1d(50, eps=1e-05, momentum=0.1, affine=True, track_running_stats=True)\n",
              "      (5): Dropout(p=0.1, inplace=False)\n",
              "      (6): Linear(in_features=50, out_features=884, bias=True)\n",
              "    )\n",
              "  )\n",
              ")], add_time=True, silent=False)"
            ]
          },
          "metadata": {
            "tags": []
          },
          "execution_count": 6
        }
      ]
    },
    {
      "cell_type": "code",
      "metadata": {
        "id": "SZF_3d8r5V23",
        "colab_type": "code",
        "outputId": "55304b7e-6943-47c9-e666-c368ebcc6018",
        "colab": {
          "base_uri": "https://localhost:8080/",
          "height": 111
        }
      },
      "source": [
        "classifier_learn.unfreeze()\n",
        "classifier_learn.fit_one_cycle(2, slice(1e-3/(2.6**4),1e-3), moms=(0.8,0.7))"
      ],
      "execution_count": 7,
      "outputs": [
        {
          "output_type": "display_data",
          "data": {
            "text/html": [
              "<table border=\"1\" class=\"dataframe\">\n",
              "  <thead>\n",
              "    <tr style=\"text-align: left;\">\n",
              "      <th>epoch</th>\n",
              "      <th>train_loss</th>\n",
              "      <th>valid_loss</th>\n",
              "      <th>accuracy</th>\n",
              "      <th>time</th>\n",
              "    </tr>\n",
              "  </thead>\n",
              "  <tbody>\n",
              "    <tr>\n",
              "      <td>0</td>\n",
              "      <td>0.963560</td>\n",
              "      <td>0.988995</td>\n",
              "      <td>0.785812</td>\n",
              "      <td>13:21</td>\n",
              "    </tr>\n",
              "    <tr>\n",
              "      <td>1</td>\n",
              "      <td>0.869471</td>\n",
              "      <td>0.965649</td>\n",
              "      <td>0.794890</td>\n",
              "      <td>13:47</td>\n",
              "    </tr>\n",
              "  </tbody>\n",
              "</table>"
            ],
            "text/plain": [
              "<IPython.core.display.HTML object>"
            ]
          },
          "metadata": {
            "tags": []
          }
        }
      ]
    },
    {
      "cell_type": "code",
      "metadata": {
        "colab_type": "code",
        "id": "vK9s2PqkTeFZ",
        "colab": {
          "base_uri": "https://localhost:8080/",
          "height": 34
        },
        "outputId": "9140a5f0-d743-41c4-cc14-50c3375cab24"
      },
      "source": [
        "model_save_name = 'export3.pkl'\n",
        "path = F\"/content/gdrive/My Drive/{model_save_name}\" \n",
        "\n",
        "classifier_learn.export(path)\n",
        "classifier_learn.save(\"/content/gdrive/My Drive/trained_model3\", return_path=True)"
      ],
      "execution_count": 8,
      "outputs": [
        {
          "output_type": "execute_result",
          "data": {
            "text/plain": [
              "PosixPath('/content/gdrive/My Drive/trained_model3.pth')"
            ]
          },
          "metadata": {
            "tags": []
          },
          "execution_count": 8
        }
      ]
    },
    {
      "cell_type": "code",
      "metadata": {
        "id": "Od-u903tTe5h",
        "colab_type": "code",
        "colab": {}
      },
      "source": [
        "classifier_learn.fit_one_cycle(5, 1e-3, moms=(0.8,0.7))"
      ],
      "execution_count": 0,
      "outputs": []
    },
    {
      "cell_type": "code",
      "metadata": {
        "id": "DEauOciaTqZj",
        "colab_type": "code",
        "colab": {}
      },
      "source": [
        "model_save_name = 'export4.pkl'\n",
        "path = F\"/content/gdrive/My Drive/{model_save_name}\" \n",
        "\n",
        "classifier_learn.export(path)\n",
        "classifier_learn.save(\"/content/gdrive/My Drive/trained_model4\", return_path=True)"
      ],
      "execution_count": 0,
      "outputs": []
    },
    {
      "cell_type": "code",
      "metadata": {
        "id": "goBPrenxTjdo",
        "colab_type": "code",
        "colab": {}
      },
      "source": [
        "classifier_learn.fit_one_cycle(5, 1e-3, moms=(0.8,0.7))"
      ],
      "execution_count": 0,
      "outputs": []
    },
    {
      "cell_type": "code",
      "metadata": {
        "id": "oaj0xoZvTtma",
        "colab_type": "code",
        "colab": {}
      },
      "source": [
        "model_save_name = 'export5.pkl'\n",
        "path = F\"/content/gdrive/My Drive/{model_save_name}\" \n",
        "\n",
        "classifier_learn.export(path)\n",
        "classifier_learn.save(\"/content/gdrive/My Drive/trained_model5\", return_path=True)"
      ],
      "execution_count": 0,
      "outputs": []
    },
    {
      "cell_type": "code",
      "metadata": {
        "id": "3SY_gMv55rcx",
        "colab_type": "code",
        "colab": {}
      },
      "source": [
        "classifier_learn.show_results(rows=10)"
      ],
      "execution_count": 0,
      "outputs": []
    },
    {
      "cell_type": "code",
      "metadata": {
        "id": "hqiGhpc651gZ",
        "colab_type": "code",
        "colab": {}
      },
      "source": [
        "from sklearn import metrics\n",
        "\n",
        "preds, targets = classifier_learn.get_preds()\n",
        "predictions = np.argmax(preds, axis=1)\n",
        "confusion_matrix = metrics.confusion_matrix(targets, predictions)\n",
        "\n",
        "filename = 'Confusion2.csv'\n",
        "path = F\"/content/gdrive/My Drive/{filename}\" \n",
        "pd.DataFrame(confusion_matrix).to_csv(path)"
      ],
      "execution_count": 0,
      "outputs": []
    },
    {
      "cell_type": "code",
      "metadata": {
        "id": "7USnbfVs53mw",
        "colab_type": "code",
        "colab": {}
      },
      "source": [
        "diagonal = np.diag(confusion_matrix)\n",
        "true_positives = sum(diagonal)\n",
        "total_test_data = np.sum(confusion_matrix, axis=1).sum()\n",
        "accuracy = (true_positives /total_test_data) * 100\n",
        "\n",
        "print(\"Test Accuracy Percentage:\", accuracy)"
      ],
      "execution_count": 0,
      "outputs": []
    }
  ]
}