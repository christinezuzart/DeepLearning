{
  "nbformat": 4,
  "nbformat_minor": 0,
  "metadata": {
    "colab": {
      "name": "DrugReviewConditionULMFitFineTune.ipynb",
      "provenance": [],
      "collapsed_sections": [
        "RTiP1GXyNehf"
      ],
      "include_colab_link": true
    },
    "kernelspec": {
      "name": "python3",
      "display_name": "Python 3"
    },
    "accelerator": "GPU"
  },
  "cells": [
    {
      "cell_type": "markdown",
      "metadata": {
        "id": "view-in-github",
        "colab_type": "text"
      },
      "source": [
        "<a href=\"https://colab.research.google.com/github/christinezuzart/DeepLearning/blob/master/DrugReviewConditionULMFitFineTune.ipynb\" target=\"_parent\"><img src=\"https://colab.research.google.com/assets/colab-badge.svg\" alt=\"Open In Colab\"/></a>"
      ]
    },
    {
      "cell_type": "markdown",
      "metadata": {
        "id": "c-22ajbysoRp",
        "colab_type": "text"
      },
      "source": [
        "Mount drive inorder to read train and test csv files"
      ]
    },
    {
      "cell_type": "code",
      "metadata": {
        "id": "xC6cmqQA1ONX",
        "colab_type": "code",
        "colab": {}
      },
      "source": [
        "from google.colab import drive \n",
        "drive.mount('/content/gdrive')"
      ],
      "execution_count": 0,
      "outputs": []
    },
    {
      "cell_type": "markdown",
      "metadata": {
        "id": "yJsqTDR4tySV",
        "colab_type": "text"
      },
      "source": [
        "Populate train and test data in dataframes"
      ]
    },
    {
      "cell_type": "code",
      "metadata": {
        "id": "nP16_FNg1g-V",
        "colab_type": "code",
        "colab": {}
      },
      "source": [
        "import pandas as pd\n",
        "import io\n",
        "\n",
        "dfTrain = pd.read_csv('/content/gdrive/My Drive/Data/drugsComTrain_raw.csv')\n",
        "dfTest = pd.read_csv('/content/gdrive/My Drive/Data/drugsComTest_raw.csv') \n"
      ],
      "execution_count": 0,
      "outputs": []
    },
    {
      "cell_type": "markdown",
      "metadata": {
        "id": "0ZmpWGLRt5Xh",
        "colab_type": "text"
      },
      "source": [
        "Create train and test dataframes with only two columns - labels and text"
      ]
    },
    {
      "cell_type": "code",
      "metadata": {
        "id": "qMbYTPrkV8Uw",
        "colab_type": "code",
        "colab": {}
      },
      "source": [
        "train_texts = dfTrain.loc[ : , 'review'].values\n",
        "train_labels = dfTrain.loc[ : , 'condition'].values\n",
        "\n",
        "test_texts = dfTest.loc[ : , 'review'].values\n",
        "test_labels = dfTest.loc[ : , 'condition'].values\n",
        "\n",
        "col_names = ['labels','text']\n",
        "df_train = pd.DataFrame({'text':train_texts, 'labels':train_labels}, columns=col_names)\n",
        "df_test = pd.DataFrame({'text':test_texts, 'labels':test_labels}, columns=col_names)\n",
        "\n",
        "print(\"Train shape :\" ,df_train.shape)\n",
        "print(\"Test shape :\", df_test.shape)"
      ],
      "execution_count": 0,
      "outputs": []
    },
    {
      "cell_type": "markdown",
      "metadata": {
        "id": "-q4bfuLst_nQ",
        "colab_type": "text"
      },
      "source": [
        "Remove examples with blank condition "
      ]
    },
    {
      "cell_type": "code",
      "metadata": {
        "id": "dyCsaF1p3Bgd",
        "colab_type": "code",
        "colab": {}
      },
      "source": [
        "import html\n",
        "\n",
        "df_train['text'] = df_train['text'].apply(html.unescape)\n",
        "df_test['text'] = df_test['text'].apply(html.unescape)\n"
      ],
      "execution_count": 0,
      "outputs": []
    },
    {
      "cell_type": "code",
      "metadata": {
        "id": "9wFiTQO0uLkI",
        "colab_type": "code",
        "colab": {}
      },
      "source": [
        "df_train = df_train.dropna(axis=0)\n",
        "df_test = df_test.dropna(axis=0)\n",
        "\n",
        "print(\"Train shape :\", df_train.shape)\n",
        "print(\"Test shape :\", df_test.shape)"
      ],
      "execution_count": 0,
      "outputs": []
    },
    {
      "cell_type": "markdown",
      "metadata": {
        "id": "hzlalH9Yuktf",
        "colab_type": "text"
      },
      "source": [
        "Process df_test to remove examples that have conditions not present in df_train.Store it in df_test_new"
      ]
    },
    {
      "cell_type": "code",
      "metadata": {
        "id": "VNu-1A57pi65",
        "colab_type": "code",
        "colab": {}
      },
      "source": [
        "unique_train_labels_list = df_train.labels.unique()\n",
        "unique_test_labels_list = df_test.labels.unique()\n",
        "\n",
        "df_test_new = pd.DataFrame(columns=['labels','text'])\n",
        "\n",
        "for ind in df_test.index: \n",
        "  if df_test['labels'][ind] in unique_train_labels_list :\n",
        "   new_row = {'labels': df_test['labels'][ind], 'text':df_test['text'][ind]}\n",
        "   df_test_new = df_test_new.append(new_row, ignore_index=True)\n",
        "\n",
        "print(\"Test shape :\", df_test_new.shape)"
      ],
      "execution_count": 0,
      "outputs": []
    },
    {
      "cell_type": "markdown",
      "metadata": {
        "id": "69iwcEznvH73",
        "colab_type": "text"
      },
      "source": [
        "Check the number of examples corresponding to a particular label in train and test dataframes"
      ]
    },
    {
      "cell_type": "code",
      "metadata": {
        "id": "5tMVN1ZFvnxX",
        "colab_type": "code",
        "colab": {}
      },
      "source": [
        "df_train['labels'].value_counts()\n",
        "df_test_new['labels'].value_counts()"
      ],
      "execution_count": 0,
      "outputs": []
    },
    {
      "cell_type": "markdown",
      "metadata": {
        "id": "VcZA1w4NvrM3",
        "colab_type": "text"
      },
      "source": [
        "Create a language model specific data bunch"
      ]
    },
    {
      "cell_type": "code",
      "metadata": {
        "id": "jkCP0-7D1xd1",
        "colab_type": "code",
        "colab": {}
      },
      "source": [
        "from fastai.text import *\n",
        "\n",
        "# Language model data\n",
        "data_lm = TextLMDataBunch.from_df('./', train_df=df_train, valid_df=df_test_new)"
      ],
      "execution_count": 0,
      "outputs": []
    },
    {
      "cell_type": "markdown",
      "metadata": {
        "id": "LXmvt5WWv7yE",
        "colab_type": "text"
      },
      "source": [
        "Check how the data is encoded by fast.ai"
      ]
    },
    {
      "cell_type": "code",
      "metadata": {
        "id": "bX7ZLIT0wCVe",
        "colab_type": "code",
        "colab": {}
      },
      "source": [
        "data_lm.show_batch()"
      ],
      "execution_count": 0,
      "outputs": []
    },
    {
      "cell_type": "markdown",
      "metadata": {
        "id": "x-3a-MWLwEVb",
        "colab_type": "text"
      },
      "source": [
        "Create language model learner"
      ]
    },
    {
      "cell_type": "code",
      "metadata": {
        "id": "0yyaO4pO17Fo",
        "colab_type": "code",
        "colab": {}
      },
      "source": [
        "# Language model\n",
        "lang_learner = language_model_learner(data_lm, AWD_LSTM, drop_mult=0.1)"
      ],
      "execution_count": 0,
      "outputs": []
    },
    {
      "cell_type": "markdown",
      "metadata": {
        "id": "5znLkNRTwexe",
        "colab_type": "text"
      },
      "source": [
        "Search through a range of learning rates to find the optimum one for our dataset"
      ]
    },
    {
      "cell_type": "code",
      "metadata": {
        "id": "fSBOuNaTr6QP",
        "colab_type": "code",
        "colab": {}
      },
      "source": [
        "lang_learner.lr_find(start_lr=1e-8, end_lr=1e2)\n",
        "lang_learner.recorder.plot()"
      ],
      "execution_count": 0,
      "outputs": []
    },
    {
      "cell_type": "markdown",
      "metadata": {
        "id": "WOYa3P_ywwu0",
        "colab_type": "text"
      },
      "source": [
        "Fine tune the language model"
      ]
    },
    {
      "cell_type": "code",
      "metadata": {
        "id": "vqZ0hjiHbBNG",
        "colab_type": "code",
        "colab": {}
      },
      "source": [
        "lang_learner = language_model_learner(data_lm, AWD_LSTM, drop_mult=0.5)\n",
        "lang_learner.fit_one_cycle(1, 1e-3, moms=(0.8, 0.7))\n",
        "\n",
        "lang_learner.unfreeze() \n",
        "lang_learner.fit_one_cycle(2, 1e-3, moms=(0.8, 0.7))"
      ],
      "execution_count": 0,
      "outputs": []
    },
    {
      "cell_type": "markdown",
      "metadata": {
        "id": "xdU-sQu8w0BG",
        "colab_type": "text"
      },
      "source": [
        "Save the language model"
      ]
    },
    {
      "cell_type": "code",
      "metadata": {
        "id": "S5IzDJe_2Cl5",
        "colab_type": "code",
        "colab": {}
      },
      "source": [
        "lang_learner.save_encoder('fine_enc')\n",
        "lmmodel_save_name = 'lmexport.pkl'\n",
        "path = F\"/content/gdrive/My Drive/{lmmodel_save_name}\" \n",
        "print(path)\n",
        "lang_learner.export(path)\n"
      ],
      "execution_count": 0,
      "outputs": []
    },
    {
      "cell_type": "markdown",
      "metadata": {
        "id": "psaIartAw7N6",
        "colab_type": "text"
      },
      "source": [
        "Create the classifier data bunch"
      ]
    },
    {
      "cell_type": "code",
      "metadata": {
        "id": "anx9MnBtDe2D",
        "colab_type": "code",
        "colab": {}
      },
      "source": [
        "# Classifier model data\n",
        "data_clas = TextClasDataBunch.from_df('./', train_df=df_train, valid_df=df_test_new, vocab=data_lm.train_ds.vocab, bs=32)\n",
        "data_clas.save('tmp_clas')"
      ],
      "execution_count": 0,
      "outputs": []
    },
    {
      "cell_type": "code",
      "metadata": {
        "id": "-qV1fMHMKOZ8",
        "colab_type": "code",
        "colab": {}
      },
      "source": [
        "# Classifier\n",
        "learn = text_classifier_learner(data_clas, AWD_LSTM, drop_mult=0.7)\n",
        "learn.load_encoder('fine_enc')\n",
        "learn.freeze()"
      ],
      "execution_count": 0,
      "outputs": []
    },
    {
      "cell_type": "markdown",
      "metadata": {
        "id": "j9yMK0wXxHJj",
        "colab_type": "text"
      },
      "source": [
        "Search through a range of learning rates to find the optimum one for our dataset"
      ]
    },
    {
      "cell_type": "code",
      "metadata": {
        "id": "mGmuTjKhMU32",
        "colab_type": "code",
        "colab": {}
      },
      "source": [
        "learn.lr_find()\n",
        "learn.recorder.plot()"
      ],
      "execution_count": 0,
      "outputs": []
    },
    {
      "cell_type": "markdown",
      "metadata": {
        "id": "jjKoiLJmxJp8",
        "colab_type": "text"
      },
      "source": [
        "Fine tune the classifier"
      ]
    },
    {
      "cell_type": "code",
      "metadata": {
        "id": "PNAFkP7Z3EnA",
        "colab_type": "code",
        "colab": {}
      },
      "source": [
        "learn.fit_one_cycle(1, 2e-2, moms=(0.8, 0.7))"
      ],
      "execution_count": 0,
      "outputs": []
    },
    {
      "cell_type": "code",
      "metadata": {
        "id": "i50yKGSEz5sg",
        "colab_type": "code",
        "colab": {}
      },
      "source": [
        "learn.save('first')\n",
        "learn.load('first');\n",
        "learn.freeze_to(-2)\n",
        "learn.fit_one_cycle(1, slice(1e-2/(2.6**4),1e-2), moms=(0.8,0.7))"
      ],
      "execution_count": 0,
      "outputs": []
    },
    {
      "cell_type": "code",
      "metadata": {
        "id": "fXOdtMUlD0np",
        "colab_type": "code",
        "colab": {}
      },
      "source": [
        "learn.save('second')\n",
        "learn.load('second');\n",
        "learn.freeze_to(-3)\n",
        "learn.fit_one_cycle(1, slice(5e-3/(2.6**4),5e-3), moms=(0.8,0.7))"
      ],
      "execution_count": 0,
      "outputs": []
    },
    {
      "cell_type": "code",
      "metadata": {
        "id": "iX9YxjtND2Ce",
        "colab_type": "code",
        "colab": {}
      },
      "source": [
        "learn.save('third')\n",
        "learn.load('third');\n",
        "learn.unfreeze()\n",
        "learn.fit_one_cycle(2, slice(1e-3/(2.6**4),1e-3), moms=(0.8,0.7))"
      ],
      "execution_count": 0,
      "outputs": []
    },
    {
      "cell_type": "markdown",
      "metadata": {
        "id": "vG0HjQvxxWwx",
        "colab_type": "text"
      },
      "source": [
        "Export the classifier trained model"
      ]
    },
    {
      "cell_type": "code",
      "metadata": {
        "id": "IkfKh6w-EBIL",
        "colab_type": "code",
        "colab": {}
      },
      "source": [
        "model_save_name = 'export2.pkl'\n",
        "path = F\"/content/gdrive/My Drive/{model_save_name}\" \n",
        "print(path)\n",
        "learn.export(path)\n",
        "\n",
        "learn.save(\"trained_model2\", return_path=True)"
      ],
      "execution_count": 0,
      "outputs": []
    },
    {
      "cell_type": "markdown",
      "metadata": {
        "id": "d9N_xuxxxbX0",
        "colab_type": "text"
      },
      "source": [
        "Get Predictions"
      ]
    },
    {
      "cell_type": "code",
      "metadata": {
        "id": "E-svXhehHeAu",
        "colab_type": "code",
        "colab": {}
      },
      "source": [
        "# get predictions\n",
        "preds, targets = learn.get_preds()\n",
        "predictions = np.argmax(preds, axis=1)\n",
        "pd.crosstab(predictions, targets)\n",
        "\n",
        "print(f\"softmax predictions: {preds}\")\n",
        "print(f\"indexed predictions:{predictions}\")\n",
        "print(f\"targets:{targets}\")"
      ],
      "execution_count": 0,
      "outputs": []
    },
    {
      "cell_type": "markdown",
      "metadata": {
        "id": "zPnxh3Gq2V-4",
        "colab_type": "text"
      },
      "source": [
        "Print class names"
      ]
    },
    {
      "cell_type": "code",
      "metadata": {
        "id": "vfAU1Msv5iJg",
        "colab_type": "code",
        "colab": {}
      },
      "source": [
        "class_names = learn.data.classes\n",
        "print(class_names)"
      ],
      "execution_count": 0,
      "outputs": []
    },
    {
      "cell_type": "markdown",
      "metadata": {
        "id": "GLtapSh72aJD",
        "colab_type": "text"
      },
      "source": [
        "Confusion Matrix"
      ]
    },
    {
      "cell_type": "code",
      "metadata": {
        "id": "PGZsUkJv5oia",
        "colab_type": "code",
        "colab": {}
      },
      "source": [
        "from sklearn import metrics\n",
        "\n",
        "confusion_matrix = metrics.confusion_matrix(targets, predictions)\n",
        "print(confusion_matrix)\n"
      ],
      "execution_count": 0,
      "outputs": []
    },
    {
      "cell_type": "markdown",
      "metadata": {
        "id": "bVN4rpTygtN4",
        "colab_type": "text"
      },
      "source": [
        "Verify predictions"
      ]
    },
    {
      "cell_type": "code",
      "metadata": {
        "id": "6snczBGlDJU7",
        "colab_type": "code",
        "colab": {}
      },
      "source": [
        "filename = 'Confusion2.csv'\n",
        "path = F\"/content/gdrive/My Drive/{filename}\" \n",
        "pd.DataFrame(confusion_matrix).to_csv(path)"
      ],
      "execution_count": 0,
      "outputs": []
    },
    {
      "cell_type": "code",
      "metadata": {
        "id": "CbbcfFHmFiDo",
        "colab_type": "code",
        "colab": {}
      },
      "source": [
        "learn.show_results(rows=5)"
      ],
      "execution_count": 0,
      "outputs": []
    },
    {
      "cell_type": "code",
      "metadata": {
        "id": "Ks9CSZXuHpSp",
        "colab_type": "code",
        "colab": {}
      },
      "source": [
        "diagonal = np.diag(confusion_matrix)\n",
        "true_positives = sum(diagonal)\n",
        "total_test_data = np.sum(confusion_matrix, axis=1).sum()\n",
        "accuracy = (true_positives /total_test_data) * 100\n",
        "\n",
        "print(\"Test Accuracy Percentage:\", accuracy)"
      ],
      "execution_count": 0,
      "outputs": []
    }
  ]
}