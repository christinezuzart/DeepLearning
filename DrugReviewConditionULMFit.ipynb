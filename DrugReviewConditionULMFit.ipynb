{
  "nbformat": 4,
  "nbformat_minor": 0,
  "metadata": {
    "colab": {
      "name": "DrugReviewConditionULMFit.ipynb",
      "provenance": [],
      "collapsed_sections": [
        "RTiP1GXyNehf"
      ],
      "include_colab_link": true
    },
    "kernelspec": {
      "name": "python3",
      "display_name": "Python 3"
    },
    "accelerator": "GPU"
  },
  "cells": [
    {
      "cell_type": "markdown",
      "metadata": {
        "id": "view-in-github",
        "colab_type": "text"
      },
      "source": [
        "<a href=\"https://colab.research.google.com/github/christinezuzart/DeepLearning/blob/master/DrugReviewConditionULMFit.ipynb\" target=\"_parent\"><img src=\"https://colab.research.google.com/assets/colab-badge.svg\" alt=\"Open In Colab\"/></a>"
      ]
    },
    {
      "cell_type": "markdown",
      "metadata": {
        "id": "fkUiSo_jsfHc",
        "colab_type": "text"
      },
      "source": [
        "# Classification of the Medical Condition  based on Drug Review using Transfer Learning\n"
      ]
    },
    {
      "cell_type": "markdown",
      "metadata": {
        "id": "R0mksV2fMPq5",
        "colab_type": "text"
      },
      "source": [
        "# Challenge Description\n",
        "\n",
        "*   This problem is based on multi-class classification wherein medical domain dataset is provided.\n",
        "\n",
        "*   Each sample set is the description of patient health condition or problem he/she is facing.\n",
        "\n",
        "*   Given the description of patient's problem the model should understand it and predict about the disease or medical condition.\n",
        "\n",
        "*  Inorder to complete this challenge, Deep Learning models with transfer learning needs to be used.\n",
        "\n",
        "\n",
        "* **Evaluation Critera:**\n",
        "  For the performance we will consider accuracy as **Predicted Label** / **True Label** .\n",
        "  Minimum accuracy for this problem is 85%."
      ]
    },
    {
      "cell_type": "markdown",
      "metadata": {
        "id": "85gvPTeYMVk_",
        "colab_type": "text"
      },
      "source": [
        "# Current trends\n",
        "\n",
        "Text Classification is a classic problem in the field of Machine Learning.\n",
        "\n",
        "There was a huge hype of transfer learning in NLP in recent times.\n",
        "\n",
        "It started with ULMFit by Jeremy Howard et. al. from fast.ai, ELMo, GLoMo, Open AI Transformer, Google's BERT, OpenAI’s GPT-2.\n",
        "\n",
        "These pre-trained models enhance the language modeling capabilities and eases out the problem of text classification."
      ]
    },
    {
      "cell_type": "markdown",
      "metadata": {
        "id": "H2PyT4TYMcwY",
        "colab_type": "text"
      },
      "source": [
        "# Problem Statement Understanding\n",
        "\n",
        "Given the medical reviews of the patients symtoms and the drugs the patient is administered the model should predict the disease or the medical condition.\n",
        "\n",
        "I tried to ponder on the application of this in real world.\n",
        "May act as a virtual assist to a new bee medical practitioner who is seeing a patient suffering from a medical problem or may be a pharmacist.\n"
      ]
    },
    {
      "cell_type": "markdown",
      "metadata": {
        "id": "1sOFxoSPMnZn",
        "colab_type": "text"
      },
      "source": [
        "# Proposed Solution & Rationale of using models and tuning parameters\n",
        "\n",
        "This challenge insisted on using pre-trained model.\n",
        "\n",
        "I looked for the  list of pre-trained models available. Came across this list put down beautifully by analyticsvidyha. https://www.analyticsvidhya.com/blog/2019/03/pretrained-models-get-started-nlp/\n",
        "\n",
        "ULMFit, Google's BERT, OpenAI’s GPT-2 are the ones I plan to experiment before freezing on the best solution.\n",
        "\n",
        "I started with ULMFit from fast.ai\n",
        "\n",
        "Being new to NLP I started with fast.ai's course on NLP.The transfer learning lecture delivered by Jeremy Howard on the imdb dataset put things right on what are the essential building blocks to do so. This is what I referred to.\n",
        "\n",
        "https://github.com/fastai/fastai/blob/master/examples/ULMFit.ipynb\n",
        "\n",
        "I tried to study similiar examples using ULMFit to gather more understanding on how fine tuning is done.Stance Classification of Tweets using Transfer Learning was one example https://github.com/prrao87/tweet-stance-prediction/blob/master/ulmfit.ipynb .\n",
        "\n",
        "My work is still in progess in terms of tuning parameters.I have used the default parameters specified above.\n"
      ]
    },
    {
      "cell_type": "markdown",
      "metadata": {
        "id": "muRBBaecMr3m",
        "colab_type": "text"
      },
      "source": [
        "# Data and Preprocessing\n",
        "\n",
        "* Input Dataset:\n",
        "\n",
        "  Number of training examples = 161297\n",
        "\n",
        "  Number of testing examples = 53766\n",
        "\n",
        "* Training and Testing Dataset exploration gave good insights.\n",
        "\n",
        "* There were examples where condition was blank.There were such examples present in both datasets.\n",
        "\n",
        "* There were some examples where the condition was not appropriate as in the real world scenario.Its of the form where it is mentioned as \"</span> users found this comment helpful.\"\n",
        "\n",
        "* There were some conditions present in the Test dataset that were not present in the Training dataset.\n",
        "\n",
        "* Some conditions had a few number of examples.\n",
        "\n",
        "* The reviews had html text.\n",
        "\n"
      ]
    },
    {
      "cell_type": "markdown",
      "metadata": {
        "id": "PdLonmj-MvZ3",
        "colab_type": "text"
      },
      "source": [
        "# Network architecture\n",
        "\n",
        "* General-Domain Language Model Pretraining: \n",
        "\n",
        "  A LM is pretrained on a large general-domain corpus. \n",
        "  In ULMFit it refers to the WikiText-103 dataset. \n",
        "  This model is able to predict the next word in a sequence. \n",
        "  The model learns the general features of the language, e.g.  the sentence structure of the English language is verb or a noun.\n",
        "\n",
        "\n",
        "* Target Task Language Model  Fine-Tuning: \n",
        "\n",
        "  The Language model in this stage is fine tuned for our target dataset i.e Drug Reviews. \n",
        "  The target dataset is of a different distribution than the WikiText-103 dataset.\n",
        "  As I understand , there may be specific terms or features in this Drug Review dataset that comes from Medical domain where the language model can learn.\n",
        "\n",
        "\n",
        "* Target Task Classifier:\n",
        "   Our goal is to provide text classification for the reviews in our dataset.\n",
        "   The pretrained LM is expanded by two linear blocks so that the final output is a probability distribution over the medical conditions.\n"
      ]
    },
    {
      "cell_type": "markdown",
      "metadata": {
        "id": "oYWfigwPNEv4",
        "colab_type": "text"
      },
      "source": [
        "# Incremental Innovation"
      ]
    },
    {
      "cell_type": "markdown",
      "metadata": {
        "id": "Y_a8DlerNJMP",
        "colab_type": "text"
      },
      "source": [
        "# Performance measures\n",
        "\n",
        "* For the performance we will consider accuracy as **Predicted Label** / **True Label** .\n",
        "\n",
        "* The current model predicts 75.85% accuracy."
      ]
    },
    {
      "cell_type": "markdown",
      "metadata": {
        "id": "g0d1XQqwNNOv",
        "colab_type": "text"
      },
      "source": [
        "# Open source/Research references\n",
        "\n",
        "https://www.fast.ai/2019/07/08/fastai-nlp/\n",
        "\n",
        "\n",
        "https://www.analyticsvidhya.com/blog/2019/03/pretrained-models-get-started-nlp/\n",
        "\n",
        "https://github.com/prrao87/tweet-stance-prediction/blob/master/ulmfit.ipynb\n",
        "\n",
        "https://github.com/fastai/fastai/blob/master/examples/ULMFit.ipynb\n",
        "\n",
        "https://humboldt-wi.github.io/blog/research/information_systems_1819/group4_ulmfit/\n",
        "\n",
        "https://arxiv.org/abs/1801.06146\n"
      ]
    },
    {
      "cell_type": "markdown",
      "metadata": {
        "id": "XhjlaUw1NRIv",
        "colab_type": "text"
      },
      "source": [
        "# Tools & Framework Used\n",
        "\n",
        "Used the Jupyter notebook environment provided by Google Colab.\n",
        "https://colab.research.google.com/\n",
        "\n",
        "This requires no setup.\n"
      ]
    },
    {
      "cell_type": "markdown",
      "metadata": {
        "id": "KdVppJCFNYRG",
        "colab_type": "text"
      },
      "source": [
        "# Future work\n",
        "\n",
        "Experimentation on Google's BERT, OpenAI’s GPT-2 pre-trained models is desired.\n",
        "\n",
        "These would give better insights in terms of performance of the model on the given dataset"
      ]
    },
    {
      "cell_type": "markdown",
      "metadata": {
        "id": "RTiP1GXyNehf",
        "colab_type": "text"
      },
      "source": [
        "# Code"
      ]
    },
    {
      "cell_type": "markdown",
      "metadata": {
        "id": "c-22ajbysoRp",
        "colab_type": "text"
      },
      "source": [
        "1. Mount drive inorder to read train and test csv files"
      ]
    },
    {
      "cell_type": "code",
      "metadata": {
        "id": "xC6cmqQA1ONX",
        "colab_type": "code",
        "outputId": "e45db2bf-5884-4031-81f5-f1eeecebb79a",
        "colab": {
          "base_uri": "https://localhost:8080/",
          "height": 121
        }
      },
      "source": [
        "from google.colab import drive \n",
        "drive.mount('/content/gdrive')"
      ],
      "execution_count": 0,
      "outputs": [
        {
          "output_type": "stream",
          "text": [
            "Go to this URL in a browser: https://accounts.google.com/o/oauth2/auth?client_id=947318989803-6bn6qk8qdgf4n4g3pfee6491hc0brc4i.apps.googleusercontent.com&redirect_uri=urn%3Aietf%3Awg%3Aoauth%3A2.0%3Aoob&scope=email%20https%3A%2F%2Fwww.googleapis.com%2Fauth%2Fdocs.test%20https%3A%2F%2Fwww.googleapis.com%2Fauth%2Fdrive%20https%3A%2F%2Fwww.googleapis.com%2Fauth%2Fdrive.photos.readonly%20https%3A%2F%2Fwww.googleapis.com%2Fauth%2Fpeopleapi.readonly&response_type=code\n",
            "\n",
            "Enter your authorization code:\n",
            "··········\n",
            "Mounted at /content/gdrive\n"
          ],
          "name": "stdout"
        }
      ]
    },
    {
      "cell_type": "markdown",
      "metadata": {
        "id": "yJsqTDR4tySV",
        "colab_type": "text"
      },
      "source": [
        "2. Populate train and test data in dataframes"
      ]
    },
    {
      "cell_type": "code",
      "metadata": {
        "id": "nP16_FNg1g-V",
        "colab_type": "code",
        "colab": {}
      },
      "source": [
        "import pandas as pd\n",
        "import io\n",
        "\n",
        "dfTrain = pd.read_csv('/content/gdrive/My Drive/Data/drugsComTrainClean_raw.csv')\n",
        "dfTest = pd.read_csv('/content/gdrive/My Drive/Data/drugsComTestClean_raw.csv') \n"
      ],
      "execution_count": 0,
      "outputs": []
    },
    {
      "cell_type": "markdown",
      "metadata": {
        "id": "0ZmpWGLRt5Xh",
        "colab_type": "text"
      },
      "source": [
        "3. Create train and test dataframes with only two columns - labels and text"
      ]
    },
    {
      "cell_type": "code",
      "metadata": {
        "id": "qMbYTPrkV8Uw",
        "colab_type": "code",
        "outputId": "d16d3667-783a-4afa-bbf6-9f0372aaf4e0",
        "colab": {
          "base_uri": "https://localhost:8080/",
          "height": 50
        }
      },
      "source": [
        "train_texts = dfTrain.loc[ : , 'review'].values\n",
        "train_labels = dfTrain.loc[ : , 'condition'].values\n",
        "\n",
        "test_texts = dfTest.loc[ : , 'review'].values\n",
        "test_labels = dfTest.loc[ : , 'condition'].values\n",
        "\n",
        "col_names = ['labels','text']\n",
        "df_train = pd.DataFrame({'text':train_texts, 'labels':train_labels}, columns=col_names)\n",
        "df_test = pd.DataFrame({'text':test_texts, 'labels':test_labels}, columns=col_names)\n",
        "\n",
        "print(\"Train shape :\" ,df_train.shape)\n",
        "print(\"Test shape :\", df_test.shape)"
      ],
      "execution_count": 0,
      "outputs": [
        {
          "output_type": "stream",
          "text": [
            "Train shape : (160397, 2)\n",
            "Test shape : (53495, 2)\n"
          ],
          "name": "stdout"
        }
      ]
    },
    {
      "cell_type": "markdown",
      "metadata": {
        "id": "-q4bfuLst_nQ",
        "colab_type": "text"
      },
      "source": [
        "4. Remove examples with blank condition"
      ]
    },
    {
      "cell_type": "code",
      "metadata": {
        "id": "dyCsaF1p3Bgd",
        "colab_type": "code",
        "colab": {}
      },
      "source": [
        "import html\n",
        "\n",
        "df_train['text'] = df_train['text'].apply(html.unescape)\n",
        "df_test['text'] = df_test['text'].apply(html.unescape)\n"
      ],
      "execution_count": 0,
      "outputs": []
    },
    {
      "cell_type": "code",
      "metadata": {
        "id": "9wFiTQO0uLkI",
        "colab_type": "code",
        "outputId": "4b5387b6-a244-4821-86a7-e6f15b7048e5",
        "colab": {
          "base_uri": "https://localhost:8080/",
          "height": 50
        }
      },
      "source": [
        "df_train = df_train.dropna(axis=0)\n",
        "df_test = df_test.dropna(axis=0)\n",
        "\n",
        "print(\"Train shape :\", df_train.shape)\n",
        "print(\"Test shape :\", df_test.shape)"
      ],
      "execution_count": 0,
      "outputs": [
        {
          "output_type": "stream",
          "text": [
            "Train shape : (159498, 2)\n",
            "Test shape : (53200, 2)\n"
          ],
          "name": "stdout"
        }
      ]
    },
    {
      "cell_type": "markdown",
      "metadata": {
        "id": "hzlalH9Yuktf",
        "colab_type": "text"
      },
      "source": [
        "5. Process df_test to remove examples that have conditions not present in df_train.Store it in df_test_new"
      ]
    },
    {
      "cell_type": "code",
      "metadata": {
        "id": "VNu-1A57pi65",
        "colab_type": "code",
        "outputId": "c6f8cbb0-bdc1-42c9-d4a1-4d63cb55bd98",
        "colab": {
          "base_uri": "https://localhost:8080/",
          "height": 34
        }
      },
      "source": [
        "unique_train_labels_list = df_train.labels.unique()\n",
        "unique_test_labels_list = df_test.labels.unique()\n",
        "\n",
        "df_test_new = pd.DataFrame(columns=['labels','text'])\n",
        "\n",
        "for ind in df_test.index: \n",
        "  if df_test['labels'][ind] in unique_train_labels_list :\n",
        "   new_row = {'labels': df_test['labels'][ind], 'text':df_test['text'][ind]}\n",
        "   df_test_new = df_test_new.append(new_row, ignore_index=True)\n",
        "\n",
        "print(\"Test shape :\", df_test_new.shape)"
      ],
      "execution_count": 0,
      "outputs": [
        {
          "output_type": "stream",
          "text": [
            "Test shape : (53161, 2)\n"
          ],
          "name": "stdout"
        }
      ]
    },
    {
      "cell_type": "markdown",
      "metadata": {
        "id": "69iwcEznvH73",
        "colab_type": "text"
      },
      "source": [
        "6. Check the number of examples corresponding to a particular label in train and test dataframes"
      ]
    },
    {
      "cell_type": "code",
      "metadata": {
        "id": "5tMVN1ZFvnxX",
        "colab_type": "code",
        "outputId": "31f0a82a-cc16-4fb9-efb7-84d496b611b0",
        "colab": {
          "base_uri": "https://localhost:8080/",
          "height": 218
        }
      },
      "source": [
        "df_train['labels'].value_counts()\n",
        "df_test_new['labels'].value_counts()"
      ],
      "execution_count": 0,
      "outputs": [
        {
          "output_type": "execute_result",
          "data": {
            "text/plain": [
              "Birth Control                             9648\n",
              "Depression                                3095\n",
              "Pain                                      2100\n",
              "Anxiety                                   1908\n",
              "Acne                                      1847\n",
              "                                          ... \n",
              "Hyperkalemia                                 1\n",
              "amilial Cold Autoinflammatory Syndrome       1\n",
              "Hypertensive Emergency                       1\n",
              "Gonadotropin Inhibition                      1\n",
              "Immunosuppression                            1\n",
              "Name: labels, Length: 639, dtype: int64"
            ]
          },
          "metadata": {
            "tags": []
          },
          "execution_count": 7
        }
      ]
    },
    {
      "cell_type": "markdown",
      "metadata": {
        "id": "VcZA1w4NvrM3",
        "colab_type": "text"
      },
      "source": [
        "7. Create a language model specific data bunch"
      ]
    },
    {
      "cell_type": "code",
      "metadata": {
        "id": "jkCP0-7D1xd1",
        "colab_type": "code",
        "colab": {}
      },
      "source": [
        "from fastai.text import *\n",
        "\n",
        "# Language model data\n",
        "data_lm = TextLMDataBunch.from_df('./', train_df=df_train, valid_df=df_test_new)"
      ],
      "execution_count": 0,
      "outputs": []
    },
    {
      "cell_type": "markdown",
      "metadata": {
        "id": "LXmvt5WWv7yE",
        "colab_type": "text"
      },
      "source": [
        "8. Check how the data is encoded by fast.ai"
      ]
    },
    {
      "cell_type": "code",
      "metadata": {
        "id": "bX7ZLIT0wCVe",
        "colab_type": "code",
        "outputId": "e7b13000-2033-4ba1-bd9a-7c9b6c3b4753",
        "colab": {
          "base_uri": "https://localhost:8080/",
          "height": 279
        }
      },
      "source": [
        "data_lm.show_batch()"
      ],
      "execution_count": 0,
      "outputs": [
        {
          "output_type": "display_data",
          "data": {
            "text/html": [
              "<table border=\"1\" class=\"dataframe\">\n",
              "  <thead>\n",
              "    <tr style=\"text-align: right;\">\n",
              "      <th>idx</th>\n",
              "      <th>text</th>\n",
              "    </tr>\n",
              "  </thead>\n",
              "  <tbody>\n",
              "    <tr>\n",
              "      <td>0</td>\n",
              "      <td>could hardly get out of bed , was very cranky , and slept for nearly 8 hours on a drive home from school vacation ( very unusual for him . ) i called his doctor on xxmaj monday morning and she said to stick it out a few days . xxmaj see how he did at school , and with getting up in the morning . xxmaj the last two</td>\n",
              "    </tr>\n",
              "    <tr>\n",
              "      <td>1</td>\n",
              "      <td>i have made significant improvements in my health &amp; i no longer have the ' brain fog ' &amp; chronic fatigue . \" xxbos \" xxmaj this pill has made my acne much worse and given me bad depression . i have noticed slight weight gain and worsening of allergies . \" xxbos \" xxmaj hi everyone . i 'm 18 and have been suffering from moderate acne for about</td>\n",
              "    </tr>\n",
              "    <tr>\n",
              "      <td>2</td>\n",
              "      <td>to eat . 3rd month . xxmaj total loss= 28 lbs . \" xxbos \" xxmaj prescribed 500 mg 3x a day for xxup bv . xxmaj day 1 i took two doses 8 hours apart . xxmaj awful , chalky taste that you ca n't get rid of . xxmaj slight dizzyness and slight headache day 1 . xxmaj day 2 woke up with the edge of a headache</td>\n",
              "    </tr>\n",
              "    <tr>\n",
              "      <td>3</td>\n",
              "      <td>this was the last hope my podiatrist had given me . xxup it xxup worked . xxmaj within 4 months toenail grew back and was fungus free for three years . xxmaj just got it back in big toe and using xxmaj xxunk gel to hopefully get rid of it again . \" xxbos \" xxmaj horrible drug . xxmaj used this for 3 weeks and had to stop .</td>\n",
              "    </tr>\n",
              "    <tr>\n",
              "      <td>4</td>\n",
              "      <td>drugs made white blood cell count go really low , i had zero energy but worst of all i felt like i had insects under my skin constantly . i failed treatment . xxmaj have n't heard any of you say you had itching or the feeling of bugs under skin so ya ! xxmaj that 's good . xxmaj good luck to all . \" xxbos \" i am</td>\n",
              "    </tr>\n",
              "  </tbody>\n",
              "</table>"
            ],
            "text/plain": [
              "<IPython.core.display.HTML object>"
            ]
          },
          "metadata": {
            "tags": []
          }
        }
      ]
    },
    {
      "cell_type": "markdown",
      "metadata": {
        "id": "x-3a-MWLwEVb",
        "colab_type": "text"
      },
      "source": [
        "9. Create language model learner"
      ]
    },
    {
      "cell_type": "code",
      "metadata": {
        "id": "0yyaO4pO17Fo",
        "colab_type": "code",
        "colab": {}
      },
      "source": [
        "# Language model\n",
        "lang_learner = language_model_learner(data_lm, AWD_LSTM, drop_mult=0.1)"
      ],
      "execution_count": 0,
      "outputs": []
    },
    {
      "cell_type": "markdown",
      "metadata": {
        "id": "5znLkNRTwexe",
        "colab_type": "text"
      },
      "source": [
        "10. Search through a range of learning rates to find the optimum one for our dataset"
      ]
    },
    {
      "cell_type": "code",
      "metadata": {
        "id": "fSBOuNaTr6QP",
        "colab_type": "code",
        "outputId": "fb86fc52-4df1-4451-8d87-0766bff0f453",
        "colab": {
          "base_uri": "https://localhost:8080/",
          "height": 296
        }
      },
      "source": [
        "lang_learner.lr_find(start_lr=1e-8, end_lr=1e2)\n",
        "lang_learner.recorder.plot()"
      ],
      "execution_count": 0,
      "outputs": [
        {
          "output_type": "display_data",
          "data": {
            "text/html": [
              ""
            ],
            "text/plain": [
              "<IPython.core.display.HTML object>"
            ]
          },
          "metadata": {
            "tags": []
          }
        },
        {
          "output_type": "stream",
          "text": [
            "LR Finder is complete, type {learner_name}.recorder.plot() to see the graph.\n"
          ],
          "name": "stdout"
        },
        {
          "output_type": "display_data",
          "data": {
            "image/png": "[encoded data removed]",
            "text/plain": [
              "<Figure size 432x288 with 1 Axes>"
            ]
          },
          "metadata": {
            "tags": []
          }
        }
      ]
    },
    {
      "cell_type": "markdown",
      "metadata": {
        "id": "WOYa3P_ywwu0",
        "colab_type": "text"
      },
      "source": [
        "11. Fine tune the language model"
      ]
    },
    {
      "cell_type": "code",
      "metadata": {
        "id": "vqZ0hjiHbBNG",
        "colab_type": "code",
        "outputId": "f71d5e09-9f65-4315-81f6-8d13833508a0",
        "colab": {
          "base_uri": "https://localhost:8080/",
          "height": 166
        }
      },
      "source": [
        "lang_learner = language_model_learner(data_lm, AWD_LSTM, drop_mult=0.5)\n",
        "lang_learner.fit_one_cycle(1, 1e-3, moms=(0.8, 0.7))\n",
        "\n",
        "lang_learner.unfreeze() \n",
        "lang_learner.fit_one_cycle(2, 1e-3, moms=(0.8, 0.7))"
      ],
      "execution_count": 0,
      "outputs": [
        {
          "output_type": "display_data",
          "data": {
            "text/html": [
              "<table border=\"1\" class=\"dataframe\">\n",
              "  <thead>\n",
              "    <tr style=\"text-align: left;\">\n",
              "      <th>epoch</th>\n",
              "      <th>train_loss</th>\n",
              "      <th>valid_loss</th>\n",
              "      <th>accuracy</th>\n",
              "      <th>time</th>\n",
              "    </tr>\n",
              "  </thead>\n",
              "  <tbody>\n",
              "    <tr>\n",
              "      <td>0</td>\n",
              "      <td>3.687714</td>\n",
              "      <td>3.532383</td>\n",
              "      <td>0.306221</td>\n",
              "      <td>11:10</td>\n",
              "    </tr>\n",
              "  </tbody>\n",
              "</table>"
            ],
            "text/plain": [
              "<IPython.core.display.HTML object>"
            ]
          },
          "metadata": {
            "tags": []
          }
        },
        {
          "output_type": "display_data",
          "data": {
            "text/html": [
              "<table border=\"1\" class=\"dataframe\">\n",
              "  <thead>\n",
              "    <tr style=\"text-align: left;\">\n",
              "      <th>epoch</th>\n",
              "      <th>train_loss</th>\n",
              "      <th>valid_loss</th>\n",
              "      <th>accuracy</th>\n",
              "      <th>time</th>\n",
              "    </tr>\n",
              "  </thead>\n",
              "  <tbody>\n",
              "    <tr>\n",
              "      <td>0</td>\n",
              "      <td>3.214529</td>\n",
              "      <td>3.105346</td>\n",
              "      <td>0.359176</td>\n",
              "      <td>12:54</td>\n",
              "    </tr>\n",
              "    <tr>\n",
              "      <td>1</td>\n",
              "      <td>3.074212</td>\n",
              "      <td>3.002189</td>\n",
              "      <td>0.373179</td>\n",
              "      <td>12:54</td>\n",
              "    </tr>\n",
              "  </tbody>\n",
              "</table>"
            ],
            "text/plain": [
              "<IPython.core.display.HTML object>"
            ]
          },
          "metadata": {
            "tags": []
          }
        }
      ]
    },
    {
      "cell_type": "markdown",
      "metadata": {
        "id": "xdU-sQu8w0BG",
        "colab_type": "text"
      },
      "source": [
        "12. Save the language model"
      ]
    },
    {
      "cell_type": "code",
      "metadata": {
        "id": "S5IzDJe_2Cl5",
        "colab_type": "code",
        "colab": {}
      },
      "source": [
        "lang_learner.save_encoder('fine_enc')"
      ],
      "execution_count": 0,
      "outputs": []
    },
    {
      "cell_type": "markdown",
      "metadata": {
        "id": "psaIartAw7N6",
        "colab_type": "text"
      },
      "source": [
        "13. Create the classifier data bunch"
      ]
    },
    {
      "cell_type": "code",
      "metadata": {
        "id": "anx9MnBtDe2D",
        "colab_type": "code",
        "colab": {}
      },
      "source": [
        "# Classifier model data\n",
        "data_clas = TextClasDataBunch.from_df('./', train_df=df_train, valid_df=df_test_new, vocab=data_lm.train_ds.vocab, min_freq=1, bs=32)"
      ],
      "execution_count": 0,
      "outputs": []
    },
    {
      "cell_type": "code",
      "metadata": {
        "id": "-qV1fMHMKOZ8",
        "colab_type": "code",
        "colab": {}
      },
      "source": [
        "# Classifier\n",
        "learn = text_classifier_learner(data_clas, AWD_LSTM, drop_mult=0.5)\n",
        "learn.load_encoder('fine_enc')\n",
        "learn.freeze()"
      ],
      "execution_count": 0,
      "outputs": []
    },
    {
      "cell_type": "markdown",
      "metadata": {
        "id": "j9yMK0wXxHJj",
        "colab_type": "text"
      },
      "source": [
        "14. Search through a range of learning rates to find the optimum one for our dataset"
      ]
    },
    {
      "cell_type": "code",
      "metadata": {
        "id": "mGmuTjKhMU32",
        "colab_type": "code",
        "outputId": "46f4144c-a11a-402d-fdc6-978ed4e2fdcf",
        "colab": {
          "base_uri": "https://localhost:8080/",
          "height": 296
        }
      },
      "source": [
        "learn.lr_find()\n",
        "learn.recorder.plot()"
      ],
      "execution_count": 0,
      "outputs": [
        {
          "output_type": "display_data",
          "data": {
            "text/html": [
              ""
            ],
            "text/plain": [
              "<IPython.core.display.HTML object>"
            ]
          },
          "metadata": {
            "tags": []
          }
        },
        {
          "output_type": "stream",
          "text": [
            "LR Finder is complete, type {learner_name}.recorder.plot() to see the graph.\n"
          ],
          "name": "stdout"
        },
        {
          "output_type": "display_data",
          "data": {
            "image/png": "[encoded data removed]",
            "text/plain": [
              "<Figure size 432x288 with 1 Axes>"
            ]
          },
          "metadata": {
            "tags": []
          }
        }
      ]
    },
    {
      "cell_type": "markdown",
      "metadata": {
        "id": "jjKoiLJmxJp8",
        "colab_type": "text"
      },
      "source": [
        "15. Fine tune the classifier"
      ]
    },
    {
      "cell_type": "code",
      "metadata": {
        "id": "PNAFkP7Z3EnA",
        "colab_type": "code",
        "outputId": "c785f8be-1177-4ab1-c816-f94d46e47684",
        "colab": {
          "base_uri": "https://localhost:8080/",
          "height": 77
        }
      },
      "source": [
        "learn = text_classifier_learner(data_clas, AWD_LSTM, drop_mult=0.5)\n",
        "learn.load_encoder('fine_enc')\n",
        "\n",
        "learn.freeze()\n",
        "learn.fit_one_cycle(1, 1e-3, moms=(0.8, 0.7))"
      ],
      "execution_count": 0,
      "outputs": [
        {
          "output_type": "display_data",
          "data": {
            "text/html": [
              "<table border=\"1\" class=\"dataframe\">\n",
              "  <thead>\n",
              "    <tr style=\"text-align: left;\">\n",
              "      <th>epoch</th>\n",
              "      <th>train_loss</th>\n",
              "      <th>valid_loss</th>\n",
              "      <th>accuracy</th>\n",
              "      <th>time</th>\n",
              "    </tr>\n",
              "  </thead>\n",
              "  <tbody>\n",
              "    <tr>\n",
              "      <td>0</td>\n",
              "      <td>2.016586</td>\n",
              "      <td>1.720361</td>\n",
              "      <td>0.610410</td>\n",
              "      <td>04:41</td>\n",
              "    </tr>\n",
              "  </tbody>\n",
              "</table>"
            ],
            "text/plain": [
              "<IPython.core.display.HTML object>"
            ]
          },
          "metadata": {
            "tags": []
          }
        }
      ]
    },
    {
      "cell_type": "code",
      "metadata": {
        "id": "i50yKGSEz5sg",
        "colab_type": "code",
        "outputId": "9585d141-85a5-4a8d-a178-31cf5f9a92ac",
        "colab": {
          "base_uri": "https://localhost:8080/",
          "height": 136
        }
      },
      "source": [
        "learn.unfreeze()\n",
        "learn.fit_one_cycle(3, slice(1e-4, 1e-2))"
      ],
      "execution_count": 0,
      "outputs": [
        {
          "output_type": "display_data",
          "data": {
            "text/html": [
              "<table border=\"1\" class=\"dataframe\">\n",
              "  <thead>\n",
              "    <tr style=\"text-align: left;\">\n",
              "      <th>epoch</th>\n",
              "      <th>train_loss</th>\n",
              "      <th>valid_loss</th>\n",
              "      <th>accuracy</th>\n",
              "      <th>time</th>\n",
              "    </tr>\n",
              "  </thead>\n",
              "  <tbody>\n",
              "    <tr>\n",
              "      <td>0</td>\n",
              "      <td>1.636997</td>\n",
              "      <td>1.482186</td>\n",
              "      <td>0.658961</td>\n",
              "      <td>11:11</td>\n",
              "    </tr>\n",
              "    <tr>\n",
              "      <td>1</td>\n",
              "      <td>1.309534</td>\n",
              "      <td>1.247598</td>\n",
              "      <td>0.706853</td>\n",
              "      <td>10:43</td>\n",
              "    </tr>\n",
              "    <tr>\n",
              "      <td>2</td>\n",
              "      <td>1.211783</td>\n",
              "      <td>1.121122</td>\n",
              "      <td>0.732962</td>\n",
              "      <td>12:04</td>\n",
              "    </tr>\n",
              "  </tbody>\n",
              "</table>"
            ],
            "text/plain": [
              "<IPython.core.display.HTML object>"
            ]
          },
          "metadata": {
            "tags": []
          }
        }
      ]
    },
    {
      "cell_type": "code",
      "metadata": {
        "id": "fXOdtMUlD0np",
        "colab_type": "code",
        "outputId": "841ebc45-ef83-4c4c-93b3-6cfa1cdda2fa",
        "colab": {
          "base_uri": "https://localhost:8080/",
          "height": 77
        }
      },
      "source": [
        "learn.freeze_to(-2)\n",
        "learn.fit_one_cycle(1, slice(1e-4,1e-2), moms=(0.8,0.7))"
      ],
      "execution_count": 0,
      "outputs": [
        {
          "output_type": "display_data",
          "data": {
            "text/html": [
              "<table border=\"1\" class=\"dataframe\">\n",
              "  <thead>\n",
              "    <tr style=\"text-align: left;\">\n",
              "      <th>epoch</th>\n",
              "      <th>train_loss</th>\n",
              "      <th>valid_loss</th>\n",
              "      <th>accuracy</th>\n",
              "      <th>time</th>\n",
              "    </tr>\n",
              "  </thead>\n",
              "  <tbody>\n",
              "    <tr>\n",
              "      <td>0</td>\n",
              "      <td>1.156372</td>\n",
              "      <td>1.125899</td>\n",
              "      <td>0.733602</td>\n",
              "      <td>05:12</td>\n",
              "    </tr>\n",
              "  </tbody>\n",
              "</table>"
            ],
            "text/plain": [
              "<IPython.core.display.HTML object>"
            ]
          },
          "metadata": {
            "tags": []
          }
        }
      ]
    },
    {
      "cell_type": "code",
      "metadata": {
        "id": "iX9YxjtND2Ce",
        "colab_type": "code",
        "outputId": "934446ad-7cca-459e-af18-cc076f0c3fd0",
        "colab": {
          "base_uri": "https://localhost:8080/",
          "height": 77
        }
      },
      "source": [
        "learn.freeze_to(-3)\n",
        "learn.fit_one_cycle(1, slice(1e-5,5e-3), moms=(0.8,0.7))"
      ],
      "execution_count": 0,
      "outputs": [
        {
          "output_type": "display_data",
          "data": {
            "text/html": [
              "<table border=\"1\" class=\"dataframe\">\n",
              "  <thead>\n",
              "    <tr style=\"text-align: left;\">\n",
              "      <th>epoch</th>\n",
              "      <th>train_loss</th>\n",
              "      <th>valid_loss</th>\n",
              "      <th>accuracy</th>\n",
              "      <th>time</th>\n",
              "    </tr>\n",
              "  </thead>\n",
              "  <tbody>\n",
              "    <tr>\n",
              "      <td>0</td>\n",
              "      <td>1.150784</td>\n",
              "      <td>1.101882</td>\n",
              "      <td>0.740712</td>\n",
              "      <td>08:15</td>\n",
              "    </tr>\n",
              "  </tbody>\n",
              "</table>"
            ],
            "text/plain": [
              "<IPython.core.display.HTML object>"
            ]
          },
          "metadata": {
            "tags": []
          }
        }
      ]
    },
    {
      "cell_type": "code",
      "metadata": {
        "id": "k-H0AJ9BD7rc",
        "colab_type": "code",
        "outputId": "9ca3477a-8305-4102-817c-04c1173c2b5f",
        "colab": {
          "base_uri": "https://localhost:8080/",
          "height": 166
        }
      },
      "source": [
        "learn.unfreeze()\n",
        "learn.fit_one_cycle(4, slice(1e-5,1e-3), moms=(0.8,0.7))"
      ],
      "execution_count": 0,
      "outputs": [
        {
          "output_type": "display_data",
          "data": {
            "text/html": [
              "<table border=\"1\" class=\"dataframe\">\n",
              "  <thead>\n",
              "    <tr style=\"text-align: left;\">\n",
              "      <th>epoch</th>\n",
              "      <th>train_loss</th>\n",
              "      <th>valid_loss</th>\n",
              "      <th>accuracy</th>\n",
              "      <th>time</th>\n",
              "    </tr>\n",
              "  </thead>\n",
              "  <tbody>\n",
              "    <tr>\n",
              "      <td>0</td>\n",
              "      <td>1.071802</td>\n",
              "      <td>1.096428</td>\n",
              "      <td>0.743346</td>\n",
              "      <td>12:00</td>\n",
              "    </tr>\n",
              "    <tr>\n",
              "      <td>1</td>\n",
              "      <td>1.015156</td>\n",
              "      <td>1.063712</td>\n",
              "      <td>0.750193</td>\n",
              "      <td>11:20</td>\n",
              "    </tr>\n",
              "    <tr>\n",
              "      <td>2</td>\n",
              "      <td>0.959877</td>\n",
              "      <td>1.044691</td>\n",
              "      <td>0.756005</td>\n",
              "      <td>10:54</td>\n",
              "    </tr>\n",
              "    <tr>\n",
              "      <td>3</td>\n",
              "      <td>1.031512</td>\n",
              "      <td>1.039873</td>\n",
              "      <td>0.758507</td>\n",
              "      <td>10:15</td>\n",
              "    </tr>\n",
              "  </tbody>\n",
              "</table>"
            ],
            "text/plain": [
              "<IPython.core.display.HTML object>"
            ]
          },
          "metadata": {
            "tags": []
          }
        }
      ]
    },
    {
      "cell_type": "markdown",
      "metadata": {
        "id": "Wpr4XeY9xP80",
        "colab_type": "text"
      },
      "source": [
        "16. Loss Plot: Let us plot the loss while training the model:"
      ]
    },
    {
      "cell_type": "code",
      "metadata": {
        "id": "mhc2xcrQD3qB",
        "colab_type": "code",
        "outputId": "24807055-8561-474d-cf57-f3c1827f77d6",
        "colab": {
          "base_uri": "https://localhost:8080/",
          "height": 279
        }
      },
      "source": [
        "learn.recorder.plot_losses()"
      ],
      "execution_count": 0,
      "outputs": [
        {
          "output_type": "display_data",
          "data": {
            "image/png": "[encoded data removed]",
            "text/plain": [
              "<Figure size 432x288 with 1 Axes>"
            ]
          },
          "metadata": {
            "tags": []
          }
        }
      ]
    },
    {
      "cell_type": "markdown",
      "metadata": {
        "id": "vG0HjQvxxWwx",
        "colab_type": "text"
      },
      "source": [
        "17. Export the classifier trained model"
      ]
    },
    {
      "cell_type": "code",
      "metadata": {
        "id": "IkfKh6w-EBIL",
        "colab_type": "code",
        "outputId": "873b4429-392b-40fb-cf56-4e94ccbc7678",
        "colab": {
          "base_uri": "https://localhost:8080/",
          "height": 50
        }
      },
      "source": [
        "model_save_name = 'export1.pkl'\n",
        "path = F\"/content/gdrive/My Drive/{model_save_name}\" \n",
        "print(path)\n",
        "learn.export(path)\n",
        "\n",
        "learn.save(\"trained_model\", return_path=True)"
      ],
      "execution_count": 0,
      "outputs": [
        {
          "output_type": "stream",
          "text": [
            "/content/gdrive/My Drive/export1.pkl\n"
          ],
          "name": "stdout"
        },
        {
          "output_type": "execute_result",
          "data": {
            "text/plain": [
              "PosixPath('models/trained_model.pth')"
            ]
          },
          "metadata": {
            "tags": []
          },
          "execution_count": 23
        }
      ]
    },
    {
      "cell_type": "markdown",
      "metadata": {
        "id": "d9N_xuxxxbX0",
        "colab_type": "text"
      },
      "source": [
        "18.  Get Predictions"
      ]
    },
    {
      "cell_type": "code",
      "metadata": {
        "id": "E-svXhehHeAu",
        "colab_type": "code",
        "outputId": "d52cb100-af68-4848-84cf-22c484cde092",
        "colab": {
          "base_uri": "https://localhost:8080/",
          "height": 269
        }
      },
      "source": [
        "# get predictions\n",
        "preds, targets = learn.get_preds()\n",
        "predictions = np.argmax(preds, axis=1)\n",
        "pd.crosstab(predictions, targets)\n",
        "\n",
        "print(f\"softmax predictions: {preds}\")\n",
        "print(f\"indexed predictions:{predictions}\")\n",
        "print(f\"targets:{targets}\")"
      ],
      "execution_count": 0,
      "outputs": [
        {
          "output_type": "stream",
          "text": [
            "softmax predictions: tensor([[1.1441e-04, 2.2832e-08, 4.1763e-10,  ..., 4.0215e-10, 4.9055e-07,\n",
            "         4.7388e-06],\n",
            "        [1.8758e-04, 1.3108e-06, 1.3524e-08,  ..., 1.2160e-08, 8.0867e-06,\n",
            "         7.0163e-05],\n",
            "        [2.7295e-06, 1.5056e-09, 2.9319e-11,  ..., 1.9489e-11, 3.0381e-08,\n",
            "         9.2097e-08],\n",
            "        ...,\n",
            "        [6.6955e-04, 3.5289e-07, 4.8646e-09,  ..., 4.5196e-09, 3.5244e-06,\n",
            "         2.0692e-05],\n",
            "        [1.8113e-02, 8.9210e-07, 1.5182e-08,  ..., 1.3027e-08, 1.9656e-05,\n",
            "         1.6466e-04],\n",
            "        [2.8664e-02, 1.9385e-06, 3.9224e-08,  ..., 3.1702e-08, 5.1240e-05,\n",
            "         5.2395e-04]])\n",
            "indexed predictions:tensor([491, 314, 501,  ..., 189, 631, 521])\n",
            "targets:tensor([491, 189, 501,  ..., 189, 252, 645])\n"
          ],
          "name": "stdout"
        }
      ]
    },
    {
      "cell_type": "markdown",
      "metadata": {
        "id": "zPnxh3Gq2V-4",
        "colab_type": "text"
      },
      "source": [
        "19. Print class names"
      ]
    },
    {
      "cell_type": "code",
      "metadata": {
        "id": "vfAU1Msv5iJg",
        "colab_type": "code",
        "outputId": "9ad6ee8d-348f-48e1-cbd7-33a23c47df9c",
        "colab": {
          "base_uri": "https://localhost:8080/",
          "height": 54
        }
      },
      "source": [
        "class_names = learn.data.classes\n",
        "print(class_names)"
      ],
      "execution_count": 0,
      "outputs": [
        {
          "output_type": "stream",
          "text": [
            "['ADHD', 'AIDS Related Wasting', 'AV Heart Block', 'Abdominal Distension', 'Abnormal Uterine Bleeding', 'Abortion', 'Acetaminophen Overdose', 'Acne', 'Actinic Keratosis', 'Acute Coronary Syndrome', 'Acute Lymphoblastic Leukemia', 'Acute Nonlymphocytic Leukemia', 'Acute Promyelocytic Leukemia', \"Addison's Disease\", 'Adrenocortical Insufficiency', 'Adult Human Growth Hormone Deficiency', 'Aggressive Behavi', 'Agitated State', 'Agitation', 'Alcohol Dependence', 'Alcohol Withdrawal', 'Allergic Reactions', 'Allergic Rhinitis', 'Allergic Urticaria', 'Allergies', 'Alopecia', 'Alpha-1 Proteinase Inhibitor Deficiency', \"Alzheimer's Disease\", 'Amebiasis', 'Amenorrhea', 'Amyotrophic Lateral Sclerosis', 'Anal Fissure and Fistula', 'Anal Itching', 'Anaphylaxis', 'Anaplastic Astrocytoma', 'Anaplastic Oligodendroglioma', 'Androgenetic Alopecia', 'Anemia', 'Anemia Associated with Chronic Renal Failure', 'Anemia, Chemotherapy Induced', 'Anemia, Sickle Cell', 'Anesthesia', 'Anesthetic Adjunct', 'Angina', 'Angina Pectoris Prophylaxis', 'Angioedema', 'Ankylosing Spondylitis', 'Anorexia', 'Anorexia/Feeding Problems', 'Anthrax', 'Anti NMDA Receptor Encephalitis', 'Antiphospholipid Syndrome', 'Anxiety', 'Anxiety and Stress', 'Aphthous Ulce', 'Arrhythmia', 'Ascariasis', 'Asperger Syndrome', 'Aspergillosis, Aspergilloma', 'Aspiration Pneumonia', 'Asthma', 'Asthma, Maintenance', 'Asthma, acute', 'Asystole', 'Atherosclerosis', 'Atopic Dermatitis', 'Atrial Fibrillation', 'Atrial Flutte', 'Atrophic Urethritis', 'Atrophic Vaginitis', 'Auditory Processing Disorde', 'Autism', 'Autoimmune Hemolytic Anemia', 'Autoimmune Hepatitis', 'Avian Influenza', 'B12 Nutritional Deficiency', 'Babesiosis', 'Back Pain', 'Bacterial Endocarditis Prevention', 'Bacterial Infection', 'Bacterial Skin Infection', 'Bacterial Vaginitis', \"Barrett's Esophagus\", 'Bartonellosis', 'Basal Cell Carcinoma', \"Behcet's Disease\", 'Benign Essential Trem', 'Benign Prostatic Hyperplasia', 'Benzodiazepine Withdrawal', 'Biliary Cirrhosis', 'Binge Eating Disorde', 'Bipolar Disorde', 'Birth Control', 'Bladder Infection', 'Bleeding Disorde', 'Blepharitis', 'Body Dysmorphic Disorde', 'Body Imaging', 'Bone infection', 'Borderline Personality Disorde', 'Bowel Preparation', 'Brain Tum', 'Breakthrough Pain', 'Breast Cance', 'Breast Cancer, Adjuvant', 'Breast Cancer, Metastatic', 'Breast Cancer, Palliative', 'Breast Cancer, Prevention', 'Bronchiectasis', 'Bronchitis', 'Bronchospasm Prophylaxis', 'Bulimia', 'Bullous Pemphigoid', 'Burning Mouth Syndrome', 'Burns, External', 'Bursitis', 'CMV Prophylaxis', 'CNS Magnetic Resonance Imaging', 'COPD', 'COPD, Acute', 'COPD, Maintenance', 'Cachexia', 'Campylobacter Gastroenteritis', 'Cance', 'Candida Urinary Tract Infection', 'Candidemia', 'Carcinoid Tum', 'Cardiovascular Risk Reduction', 'Cataplexy', 'Cerebral Edema', 'Cerebral Spasticity', 'Cerebrovascular Insufficiency', 'Cervical Dystonia', 'Chlamydia Infection', 'Cholera', 'Chronic Eosinophilic Leukemia', 'Chronic Fatigue Syndrome', 'Chronic Idiopathic Constipation', 'Chronic Inflammatory Demyelinating Polyradiculoneuropathy', 'Chronic Lymphocytic Leukemia', 'Chronic Myelogenous Leukemia', 'Chronic Myofascial Pain', 'Chronic Pain', 'Chronic Pancreatitis', 'Chronic Spasticity', 'Clostridial Infection', 'Cluster Headaches', 'Cluster-Tic Syndrome', 'Coccidioidomycosis', \"Cogan's Syndrome\", 'Cold Sores', 'Cold Symptoms', 'Colorectal Cance', 'Computed Tomography', 'Condylomata Acuminata', 'Conjunctivitis', 'Conjunctivitis, Allergic', 'Conjunctivitis, Bacterial', 'Constipation', 'Constipation, Acute', 'Constipation, Chronic', 'Constipation, Drug Induced', 'Corneal Ulce', 'Coronary Artery Disease', 'Costochondritis', 'Cough', 'Cough and Nasal Congestion', \"Crohn's Disease\", \"Crohn's Disease, Acute\", \"Crohn's Disease, Maintenance\", 'Croup', 'Cutaneous Candidiasis', 'Cutaneous Larva Migrans', 'Cutaneous T-cell Lymphoma', 'Cyclic Vomiting Syndrome', 'Cyclitis', 'Cyclothymic Disorde', 'Cystic Fibrosis', 'Dandruff', 'Deep Neck Infection', 'Deep Vein Thrombosis', 'Deep Vein Thrombosis Prophylaxis after Hip Replacement Surgery', 'Deep Vein Thrombosis Prophylaxis after Knee Replacement Surgery', 'Deep Vein Thrombosis, First Event', 'Deep Vein Thrombosis, Prophylaxis', 'Deep Vein Thrombosis, Recurrent Event', 'Delayed Puberty, Male', 'Dementia', 'Dental Abscess', 'Depression', \"Dercum's Disease\", 'Dermatitis', 'Dermatitis Herpeti', 'Dermatitis Herpetiformis', 'Dermatologic Lesion', 'Dermatological Disorders', 'Dermatomyositis', 'Dermatophytosis', 'Diabetes Insipidus', 'Diabetes, Type 1', 'Diabetes, Type 2', 'Diabetic Kidney Disease', 'Diabetic Macular Edema', 'Diabetic Peripheral Neuropathy', 'Diagnosis and Investigation', 'Diagnostic Bronchograms', 'Diaper Rash', 'Diarrhea', 'Diarrhea, Acute', 'Diarrhea, Chronic', 'Dientamoeba fragilis', 'Dietary Fiber Supplementation', 'Dietary Supplementation', 'Dissociative Identity Disorde', 'Diverticulitis', 'Dry Eye Disease', 'Dry Skin', 'Dumping Syndrome', 'Duodenal Ulce', 'Duodenal Ulcer Prophylaxis', \"Dupuytren's contracture\", 'Dysautonomia', 'Dyspareunia', 'Dystonia', 'Dysuria', 'Ear Wax Impaction', 'Ectopic Pregnancy', 'Eczema', 'Edema', 'Ehrlichiosis', 'Emergency Contraception', 'Endometrial Cance', 'Endometrial Hyperplasia', 'Endometrial Hyperplasia, Prophylaxis', 'Endometriosis', 'Endoscopy or Radiology Premedication', 'Enterocolitis', 'Eosinophilic Esophagitis', 'Epicondylitis, Tennis Elbow', 'Epididymitis, Sexually Transmitted', 'Epilepsy', 'Erectile Dysfunction', 'Erosive Esophagitis', 'Esophageal Candidiasis', 'Esophageal Spasm', 'Esophageal Variceal Hemorrhage Prophylaxis', 'Euvolemic Hyponatremia', 'Expectoration', 'Extrapyramidal Reaction', 'Eye Redness', 'Eye Redness/Itching', 'Eyelash Hypotrichosis', 'GERD', 'Gallbladder Disease', 'Gas', 'Gastric Cance', 'Gastric Ulcer Maintenance Treatment', 'Gastritis/Duodenitis', 'Gastroenteritis', 'Gastrointestinal Decontamination', 'Gastrointestinal Stromal Tum', 'Gastroparesis', 'Gaucher Disease', 'Gender Dysphoria', 'Generalized Anxiety Disorde', 'Gestational Diabetes', 'Giant Cell Tumor of Bone', 'Giardiasis', 'Gingivitis', 'Glaucoma', 'Glaucoma, Open Angle', 'Glaucoma/Intraocular Hypertension', 'Glioblastoma Multi', 'Glioblastoma Multiforme', 'Gonadotropin Inhibition', 'Gonococcal Infection, Disseminated', 'Gonococcal Infection, Uncomplicated', 'Gout', 'Gout, Acute', 'Gout, Prophylaxis', 'Gouty Arthritis', 'Granuloma Annulare', 'HIV Infection', 'Hairy Cell Leukemia', \"Hashimoto's disease\", 'Head Injury', 'Head Lice', 'Head and Neck Cance', 'Headache', 'Heart Attack', 'Heart Failure', 'Helicobacter Pylori Infection', 'Hemangioma', 'Hemophilia A', 'Hemophilia B', 'Hemorrhoids', 'Hepatic Encephalopathy', 'Hepatic Tum', 'Hepatitis B', 'Hepatitis B Prevention', 'Hepatitis C', 'Hepatocellular Carcinoma', 'Herbal Supplementation', 'Hereditary Angioedema', 'Herpes Simplex', 'Herpes Simplex Dendritic Keratitis', 'Herpes Simplex, Mucocutaneous/Immunocompetent Host', 'Herpes Simplex, Mucocutaneous/Immunocompromised Host', 'Herpes Simplex, Suppression', 'Herpes Zoste', 'Herpes Zoster, Prophylaxis', 'Hiccups', 'Hidradenitis Suppurativa', 'High Blood Pressure', 'High Cholesterol', 'High Cholesterol, Familial Heterozygous', 'High Cholesterol, Familial Homozygous', 'Hirsutism', 'Histoplasmosis', \"Hodgkin's Lymphoma\", 'Hot Flashes', 'Human Papilloma Virus', 'Human Papillomavirus Prophylaxis', 'Hydrocephalus', 'Hyperbilirubinemia', 'Hypercalcemia', 'Hypercalcemia of Malignancy', 'Hyperekplexia', 'Hyperhidrosis', 'Hyperkalemia', 'Hyperlipoproteinemia', 'Hyperlipoproteinemia Type III, Elevated beta-VLDL   IDL', 'Hyperlipoproteinemia Type IIa, Elevated LDL', 'Hyperlipoproteinemia Type IV, Elevated VLDL', 'Hyperparathyroidism Secondary to Renal Impairment', 'Hyperphosphatemia', 'Hyperphosphatemia of Renal Failure', 'Hyperprolactinemia', 'Hypersomnia', 'Hypertensive Emergency', 'Hyperthyroidism', 'Hypertriglyceridemia', 'Hyperuricemia Secondary to Chemotherapy', 'Hypoactive Sexual Desire Disorde', 'Hypocalcemia', 'Hypodermoclysis', 'Hypoestrogenism', 'Hypoglycemia', 'Hypogonadism, Male', 'Hypokalemia', 'Hypokalemic Periodic Paralysis', 'Hypomagnesemia', 'Hypoparathyroidism', 'Hypopituitarism', 'Hypotension', 'Hypothyroidism, After Thyroid Removal', 'ICU Agitation', 'Ichthyosis', 'Idiopathic Thrombocytopenic Purpura', 'Immunosuppression', 'Impetig', 'Indigestion', 'Infection Prophylaxis', 'Infectious Diarrhea', 'Inflammatory Bowel Disease', 'Inflammatory Conditions', 'Influenza', 'Influenza Prophylaxis', 'Insomnia', 'Insomnia, Stimulant-Associated', 'Insulin Resistance Syndrome', 'Intermittent Claudication', 'Intermittent Explosive Disorde', 'Interstitial Cystitis', 'Intraabdominal Infection', 'Intraocular Hypertension', 'Iritis', 'Iron Deficiency Anemia', 'Irritable Bowel Syndrome', 'Ischemic Stroke', 'Ischemic Stroke, Prophylaxis', 'Joint Infection', 'Juvenile Idiopathic Arthritis', 'Juvenile Rheumatoid Arthritis', 'Keratitis', 'Keratoconjunctivitis Sicca', 'Keratosis', 'Kidney Infections', 'Klinefelter Syndrome', 'Labor Induction', 'Labor Pain', 'Lactation Augmentation', 'Lactose Intolerance', 'Left Ventricular Dysfunction', 'Legionella Pneumonia', 'Lennox-Gastaut Syndrome', 'Leukemia', 'Leukocytoclastic Vasculitis', 'Lewy Body Dementia', 'Lichen Planus', 'Lichen Sclerosus', 'Light Anesthesia', 'Light Sedation', 'Linear IgA Disease', 'Lipodystrophy', 'Liver Magnetic Resonance Imaging', 'Local Anesthesia', 'Lyme Disease', 'Lyme Disease, Arthritis', 'Lyme Disease, Neurologic', 'Lymphocytic Colitis', 'Lymphoma', 'Macular Degeneration', 'Macular Edema', 'Major Depressive Disorde', 'Malaria', 'Malaria Prevention', 'Malignant Glioma', 'Mania', 'Manscaping Pain', 'Melanoma', 'Melanoma, Metastatic', 'Melasma', \"Meniere's Disease\", 'Meningitis', 'Meningitis, Meningococcal', 'Meningococcal Meningitis Prophylaxis', 'Menopausal Disorders', 'Menorrhagia', 'Menstrual Disorders', 'Methicillin-Resistant Staphylococcus Aureus Infection', 'Microscopic polyangiitis', 'Migraine', 'Migraine Prevention', 'Mild Cognitive Impairment', 'Mitral Valve Prolapse', 'Mixed Connective Tissue Disease', 'Mononucleosis', 'Motion Sickness', 'Mountain Sickness / Altitude Sickness', 'Mucositis', 'Multiple Endocrine Adenomas', 'Multiple Myeloma', 'Multiple Sclerosis', 'Mumps Prophylaxis', 'Muscle Pain', 'Muscle Spasm', 'Muscle Twitching', 'Myasthenia Gravis', 'Mycobacterium avium-intracellulare, Treatment', 'Mycoplasma Pneumonia', 'Myelodysplastic Syndrome', 'Myelofibrosis', 'Myeloproliferative Disorders', 'Myxedema Coma', 'NSAID-Induced Gastric Ulce', 'NSAID-Induced Ulcer Prophylaxis', 'Narcolepsy', 'Nasal Carriage of Staphylococcus aureus', 'Nasal Congestion', 'Nasal Polyps', 'Nausea/Vomiting', 'Nausea/Vomiting of Pregnancy', 'Nausea/Vomiting, Chemotherapy Induced', 'Nausea/Vomiting, Postoperative', 'Nausea/Vomiting, Radiation Induced', 'Neck Pain', 'Neoplastic Diseases', 'Nephrocalcinosis', 'Nephrotic Syndrome', 'Neuralgia', 'Neuritis', 'Neuropathic Pain', 'Neurosis', 'Neurosurgery', 'Neurotic Depression', 'Neutropenia', 'Neutropenia Associated with Chemotherapy', 'New Daily Persistent Headache', 'Niacin Deficiency', 'Night Terrors', 'Nightmares', 'Nocardiosis', 'Nocturnal Leg Cramps', \"Non-Hodgkin's Lymphoma\", 'Non-Small Cell Lung Cance', 'Nonalcoholic Fatty Liver Disease', 'Noninfectious Colitis', 'Nonoccupational Exposure', 'Not Listed / Othe', 'Obesity', 'Obsessive Compulsive Disorde', 'Obstructive Sleep Apnea/Hypopnea Syndrome', 'Occipital Neuralgia', 'Ocular Rosacea', 'Oligospermia', 'Onychomycosis, Fingernail', 'Onychomycosis, Toenail', 'Oophorectomy', 'Ophthalmic Surgery', 'Opiate Adjunct', 'Opiate Dependence', 'Opiate Withdrawal', 'Opioid Overdose', 'Opioid-Induced Constipation', 'Oppositional Defiant Disorde', 'Oral Thrush', 'Oral and Dental Conditions', 'Organ Transplant, Rejection Prophylaxis', 'Organ Transplant, Rejection Reversal', 'Osteoarthritis', 'Osteolytic Bone Lesions of Multiple Myeloma', 'Osteolytic Bone Metastases of Solid Tumors', 'Osteoporosis', 'Otitis Externa', 'Otitis Media', 'Ovarian Cance', 'Ovarian Cysts', 'Overactive Bladde', 'Ovulation Induction', \"Paget's Disease\", 'Pain', 'Pain/Feve', 'Pancreatic Cance', 'Pancreatic Exocrine Dysfunction', 'Panic Disorde', 'Paragonimus westermani, Lung Fluke', 'Paranoid Disorde', \"Parkinson's Disease\", 'Parkinsonian Trem', 'Parkinsonism', 'Paroxysmal Supraventricular Tachycardia', 'Patent Ductus Arteriosus', 'Pathological Hypersecretory Conditions', 'Pe', 'Pediatric Growth Hormone Deficiency', 'Pelvic Inflammatory Disease', 'Pemphigoid', 'Pemphigus', 'Peptic Ulce', 'Percutaneous Coronary Intervention', 'Performance Anxiety', 'Perimenopausal Symptoms', 'Period Pain', 'Periodic Limb Movement Disorde', 'Periodontitis', 'Perioral Dermatitis', 'Peripheral Arterial Disease', 'Peripheral Neuropathy', 'Peripheral T-cell Lymphoma', 'Peritonitis', 'Persistent Depressive Disorde', 'Pertussis', \"Peyronie's Disease\", 'Pharyngitis', 'Photoaging of the Skin', 'Pinworm Infection (Enterobius vermicularis)', 'Pityriasis rubra pilaris', 'Plaque Psoriasis', 'Platelet Aggregation Inhibition', 'Pneumococcal Disease Prophylaxis', 'Pneumonia', 'Polycystic Ovary Syndrome', 'Polycythemia Vera', 'Porphyria', 'Portal Hypertension', 'Post Traumatic Stress Disorde', 'Post-Cholecystectomy Diarrhea', 'Postherpetic Neuralgia', 'Postmenopausal Symptoms', 'Postoperative Increased Intraocular Pressure', 'Postoperative Ocular Inflammation', 'Postoperative Pain', 'Postpartum Breast Pain', 'Postpartum Depression', 'Postural Orthostatic Tachycardia Syndrome', 'Pre-Exposure Prophylaxis', 'Precocious Puberty', 'Premature Lab', 'Premature Ventricular Depolarizations', 'Premenstrual Dysphoric Disorde', 'Premenstrual Syndrome', 'Prevention of Atherothrombotic Events', 'Prevention of Bladder infection', 'Prevention of Cardiovascular Disease', 'Prevention of Dental Caries', 'Prevention of Hypokalemia', 'Prevention of Osteoporosis', 'Prevention of Perinatal Group B Streptococcal Disease', 'Prevention of Thromboembolism in Atrial Fibrillation', 'Primary Hyperaldosteronism', 'Primary Hyperaldosteronism Diagnosis', 'Primary Immunodeficiency Syndrome', 'Primary Nocturnal Enuresis', 'Primary Ovarian Failure', 'Progesterone Insufficiency', 'Prostate Cance', 'Prostatitis', 'Prosthetic Heart Valves, Mechanical Valves - Thrombosis Prophylaxis', 'Prosthetic Heart Valves, Tissue Valves - Thrombosis Prophylaxis', 'Pruritus', 'Pruritus of Partial Biliary Obstruction', 'Pseudobulbar Affect', 'Pseudogout, Prophylaxis', 'Pseudomembranous Colitis', 'Pseudotumor Cerebri', 'Psoriasis', 'Psoriatic Arthritis', 'Psychosis', 'Pudendal Neuralgia', 'Pulmonary Embolism', 'Pulmonary Embolism, First Event', 'Pulmonary Embolism, Recurrent Event', 'Pulmonary Hypertension', 'Pupillary Dilation', 'Q Feve', 'Rabies Prophylaxis', 'Radionuclide Myocardial Perfusion Study', 'Ramsay Hunt Syndrome', \"Raynaud's Syndrome\", 'Reflex Sympathetic Dystrophy Syndrome', \"Reiter's Syndrome\", 'Rejection Prophylaxis', 'Renal Cell Carcinoma', 'Renal Transplant', 'Restless Legs Syndrome', 'Reversal of Nondepolarizing Muscle Relaxants', 'Reversal of Opioid Sedation', 'Rheumatoid Arthritis', 'Rhinitis', 'Rhinorrhea', 'Rosacea', 'SIADH', 'STD Prophylaxis', 'Salivary Gland Cance', 'Sarcoidosis', 'Scabies', 'Schilling Test', 'Schistosoma japonicum', 'Schizoaffective Disorde', 'Schizophrenia', 'Schnitzler Syndrome', 'Sciatica', 'Scleroderma', 'Seasonal Affective Disorde', 'Seasonal Allergic Conjunctivitis', 'Seborrheic Dermatitis', 'Secondary Cutaneous Bacterial Infections', 'Secondary Hyperparathyroidism', 'Sedation', 'Seizure Prevention', 'Seizures', 'Sepsis', 'Severe Mood Dysregulation', 'Sexual Dysfunction, SSRI Induced', 'Shift Work Sleep Disorde', 'Short Stature', 'Short Stature for Age', 'Sinus Symptoms', 'Sinusitis', \"Sjogren's Syndrome\", 'Skin Cance', 'Skin Disinfection, Preoperative', 'Skin Rash', 'Skin and Structure Infection', 'Skin or Soft Tissue Infection', 'Sleep Paralysis', 'Small Bowel Bacterial Overgrowth', 'Small Bowel or Pancreatic Fistula', 'Small Fiber Neuropathy', 'Smoking Cessation', 'Social Anxiety Disorde', 'Soft Tissue Sarcoma', 'Solid Tumors', 'Somatoform Pain Disorde', 'Sore Throat', 'Spondyloarthritis', 'Spondylolisthesis', 'Sporotrichosis', 'Squamous Cell Carcinoma', 'Status Epilepticus', \"Still's Disease\", 'Stomach Cance', 'Stomach Ulce', 'Strabismus', 'Strep Throat', 'Streptococcal Infection', 'Stress Ulcer Prophylaxis', 'Strongyloidiasis', 'Subarachnoid Hemorrhage', 'Submental Fullness', 'Sunburn', 'Supraventricular Tachycardia', 'Surgical Prophylaxis', 'Swine Flu', 'Syringomyelia', 'Systemic Candidiasis', 'Systemic Lupus Erythematosus', 'Systemic Mastocytosis', 'Systemic Sclerosis', 'TSH Suppression', 'Tardive Dyskinesia', 'Temporomandibular Joint Disorde', 'Tendonitis', 'Testicular Cance', 'Tetanus', 'Thrombocythemia', 'Thrombocytopenia', 'Thromboembolic Stroke Prophylaxis', 'Thyroid Cance', 'Thyroid Suppression Test', 'Thyrotoxicosis', 'Tic Disorde', 'Tinea Barbae', 'Tinea Capitis', 'Tinea Corporis', 'Tinea Cruris', 'Tinea Pedis', 'Tinea Versicol', 'Tinnitus', 'Tonsillitis/Pharyngitis', 'Toothache', 'Topical Disinfection', \"Tourette's Syndrome\", 'Transient Ischemic Attack', 'Transverse Myelitis', \"Traveler's Diarrhea\", 'Trichomoniasis', 'Trichotillomania', 'Trigeminal Neuralgia', 'Tuberculosis, Active', 'Tuberculosis, Latent', 'Tuberculosis, Prophylaxis', \"Turner's Syndrome\", 'Typhoid Feve', 'Ulcerative Colitis', 'Ulcerative Colitis, Active', 'Ulcerative Colitis, Maintenance', 'Ulcerative Proctitis', 'Underactive Thyroid', 'Undifferentiated Connective Tissue Disease', 'Upper Limb Spasticity', 'Upper Respiratory Tract Infection', 'Urinary Incontinence', 'Urinary Retention', 'Urinary Tract Infection', 'Urinary Tract Stones', 'Urticaria', 'Uterine Bleeding', 'Uterine Fibroids', 'Uveitis', 'Vaginal Yeast Infection', 'Varicella-Zoste', 'Varicose Veins', 'Ventricular Arrhythmia', 'Ventricular Fibrillation', 'Ventricular Tachycardia', 'Vertig', 'Vitamin B12 Deficiency', 'Vitamin D Deficiency', 'Vitamin K Deficiency', 'Vitamin/Mineral Supplementation and Deficiency', 'Vitamin/Mineral Supplementation during Pregnancy/Lactation', 'Vulvodynia', 'Warts', \"Wegener's Granulomatosis\", 'Weight Loss', \"Wilson's Disease\", 'Wolff-Parkinson-White Syndrome', 'Women (minoxidil)', 'Women (oxybutynin)', 'Wound Cleansing', 'Xerostomia', 'Zollinger-Ellison Syndrome', 'acial Lipoatrophy', 'acial Wrinkles', 'actor IX Deficiency', 'ailure to Thrive', 'amilial Cold Autoinflammatory Syndrome', 'amilial Mediterranean Feve', 'atigue', 'cal Segmental Glomerulosclerosis', 'emale Infertility', 'eve', 'ge (amlodipine / valsartan)', 'ge HCT (amlodipine / hydrochlorothiazide / valsartan)', 'ibrocystic Breast Disease', 'ibromyalgia', 'lic Acid Deficiency', 'llicular Lymphoma', 'm Pain Disorde', 'mance Anxiety', 'me', 'min / pioglitazone)', 'min / rosiglitazone)', 'min / saxagliptin)', 'min / sitagliptin)', 'min)', 'mis', 'mist (', 'moterol / mometasone)', 'moterol)', 'mulation) (phenylephrine)', 't Care', 't Pac with Cyclobenzaprine (cyclobenzaprine)', 'tic (mycophenolic acid)', 'unctional Gastric Disorde', 'ungal Infection Prophylaxis', 'ungal Pneumonia', \"von Willebrand's Disease\", 'zen Shoulde']\n"
          ],
          "name": "stdout"
        }
      ]
    },
    {
      "cell_type": "markdown",
      "metadata": {
        "id": "GLtapSh72aJD",
        "colab_type": "text"
      },
      "source": [
        "20. Confusion Matrix"
      ]
    },
    {
      "cell_type": "code",
      "metadata": {
        "id": "PGZsUkJv5oia",
        "colab_type": "code",
        "outputId": "34a23d7a-d723-40e9-ad3d-b741d7e2fb5a",
        "colab": {
          "base_uri": "https://localhost:8080/",
          "height": 168
        }
      },
      "source": [
        "from sklearn import metrics\n",
        "\n",
        "confusion_matrix = metrics.confusion_matrix(targets, predictions)\n",
        "print(confusion_matrix)\n"
      ],
      "execution_count": 0,
      "outputs": [
        {
          "output_type": "stream",
          "text": [
            "[[1022    0    0    0 ...    0    0    0    0]\n",
            " [   1    0    0    0 ...    0    0    0    0]\n",
            " [   0    0  375    0 ...    0    0    0    0]\n",
            " [   0    0    0    0 ...    0    0    0    0]\n",
            " ...\n",
            " [   0    0    0    0 ...    0    0    0    0]\n",
            " [   0    0    0    0 ...    0    0    0    0]\n",
            " [   0    0    2    0 ...    0    0    0    0]\n",
            " [   0    0    0    0 ...    0    0    0    0]]\n"
          ],
          "name": "stdout"
        }
      ]
    },
    {
      "cell_type": "markdown",
      "metadata": {
        "id": "bVN4rpTygtN4",
        "colab_type": "text"
      },
      "source": [
        "21. Verify predictions"
      ]
    },
    {
      "cell_type": "code",
      "metadata": {
        "id": "6snczBGlDJU7",
        "colab_type": "code",
        "colab": {}
      },
      "source": [
        "filename = 'Confusion.csv'\n",
        "path = F\"/content/gdrive/My Drive/{filename}\" \n",
        "pd.DataFrame(confusion_matrix).to_csv(path)"
      ],
      "execution_count": 0,
      "outputs": []
    },
    {
      "cell_type": "code",
      "metadata": {
        "id": "CbbcfFHmFiDo",
        "colab_type": "code",
        "outputId": "0eb0456f-da9b-40bb-95a0-ac01a3d9ab4f",
        "colab": {
          "base_uri": "https://localhost:8080/",
          "height": 313
        }
      },
      "source": [
        "learn.show_results(rows=5)"
      ],
      "execution_count": 0,
      "outputs": [
        {
          "output_type": "display_data",
          "data": {
            "text/html": [
              "<table border=\"1\" class=\"dataframe\">\n",
              "  <thead>\n",
              "    <tr style=\"text-align: right;\">\n",
              "      <th>text</th>\n",
              "      <th>target</th>\n",
              "      <th>prediction</th>\n",
              "    </tr>\n",
              "  </thead>\n",
              "  <tbody>\n",
              "    <tr>\n",
              "      <td>xxbos \" i do n’t find a lot of positive stories about antidepressants , or i find stories where people are taking the antidepressant the wrong way . \\r \\n \\r \\n  i wanted to share my experience . a positive one . \\r \\n \\r \\n  i ’ve had generalized anxiety disorder , xxup severe xxup ocd , and panic disorder for as long as i can</td>\n",
              "      <td>Obsessive Compulsive Disorde</td>\n",
              "      <td>Obsessive Compulsive Disorde</td>\n",
              "    </tr>\n",
              "    <tr>\n",
              "      <td>xxbos \" • \\t 19 xxmaj apr. 2016 \\r\\r \\n \\r\\r \\n  xxmaj began initial dose at xxunk hours . xxmaj felt the medicine working within a ½ hour . xxmaj was in a good mood as i had been taken off of xxmaj warfarin this date . xxmaj before drifting off to sleep , i xxunk at the clock . xxmaj it was approx . xxunk hrs .</td>\n",
              "      <td>Depression</td>\n",
              "      <td>High Cholesterol</td>\n",
              "    </tr>\n",
              "    <tr>\n",
              "      <td>xxbos \" xxmaj my personal experience with suboxone is good so far . i have been on prescribed xxmaj fentanyl xxmaj patch 25 much / 48 hrs . i have dropped to this dose over the last year . ( i also left the old patch on ) . i have been on opiates for 12 years full time prescribed . xxmaj at my highest prescription i was using 180</td>\n",
              "      <td>Opiate Dependence</td>\n",
              "      <td>Opiate Dependence</td>\n",
              "    </tr>\n",
              "    <tr>\n",
              "      <td>xxbos \" xxmaj my personal experience with suboxone is good so far . i have been on prescribed xxmaj fentanyl xxmaj patch 25 much / 48 hrs . i have dropped to this dose over the last year . ( i also left the old patch on ) . i have been on opiates for 12 years full time prescribed . xxmaj at my highest prescription i was using 180</td>\n",
              "      <td>Opiate Dependence</td>\n",
              "      <td>Opiate Dependence</td>\n",
              "    </tr>\n",
              "    <tr>\n",
              "      <td>xxbos \" xxmaj my colonoscopy was booked in for late afternoon on a xxmaj thursday . xxmaj the hospital said to stop eating anything from 1 pm on the xxmaj wednesday and recommended ( giving some detail ) a non fibre diet from xxmaj tuesday evening until xxmaj wednesday noon - avoiding dark drinks and jelly ( like blackcurrant flavour ) . xxmaj avoid red meat , sausages and pies</td>\n",
              "      <td>Bowel Preparation</td>\n",
              "      <td>Bowel Preparation</td>\n",
              "    </tr>\n",
              "  </tbody>\n",
              "</table>"
            ],
            "text/plain": [
              "<IPython.core.display.HTML object>"
            ]
          },
          "metadata": {
            "tags": []
          }
        }
      ]
    },
    {
      "cell_type": "code",
      "metadata": {
        "id": "Ks9CSZXuHpSp",
        "colab_type": "code",
        "outputId": "dbdfe397-b8e8-479e-fac0-ec0f1cdc3e10",
        "colab": {
          "base_uri": "https://localhost:8080/",
          "height": 34
        }
      },
      "source": [
        "diagonal = np.diag(confusion_matrix)\n",
        "true_positives = sum(diagonal)\n",
        "total_test_data = np.sum(confusion_matrix, axis=1).sum()\n",
        "accuracy = (true_positives /total_test_data) * 100\n",
        "\n",
        "print(\"Test Accuracy Percentage:\", accuracy)"
      ],
      "execution_count": 0,
      "outputs": [
        {
          "output_type": "stream",
          "text": [
            "Test Accuracy Percentage: 75.85071763134628\n"
          ],
          "name": "stdout"
        }
      ]
    }
  ]
}