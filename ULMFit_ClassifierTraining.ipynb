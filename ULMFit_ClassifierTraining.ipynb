{
  "nbformat": 4,
  "nbformat_minor": 0,
  "metadata": {
    "colab": {
      "name": "ULMFit_ClassifierTraining.ipynb",
      "provenance": [],
      "collapsed_sections": [],
      "include_colab_link": true
    },
    "kernelspec": {
      "name": "python3",
      "display_name": "Python 3"
    },
    "accelerator": "GPU"
  },
  "cells": [
    {
      "cell_type": "markdown",
      "metadata": {
        "id": "view-in-github",
        "colab_type": "text"
      },
      "source": [
        "<a href=\"https://colab.research.google.com/github/christinezuzart/DeepLearning/blob/master/ULMFit_ClassifierTraining.ipynb\" target=\"_parent\"><img src=\"https://colab.research.google.com/assets/colab-badge.svg\" alt=\"Open In Colab\"/></a>"
      ]
    },
    {
      "cell_type": "markdown",
      "metadata": {
        "id": "Nmh581qYjASU",
        "colab_type": "text"
      },
      "source": [
        "# memory footprint support libraries/code\n",
        "!ln -sf /opt/bin/nvidia-smi /usr/bin/nvidia-smi\n",
        "!pip install gputil\n",
        "!pip install psutil\n",
        "!pip install humanize\n",
        "import psutil\n",
        "import humanize\n",
        "import os\n",
        "import GPUtil as GPU\n",
        "GPUs = GPU.getGPUs()\n",
        "# XXX: only one GPU on Colab and isn’t guaranteed\n",
        "gpu = GPUs[0]\n",
        "def printm():\n",
        " process = psutil.Process(os.getpid())\n",
        " print(\"Gen RAM Free: \" + humanize.naturalsize( psutil.virtual_memory().available ), \" | Proc size: \" + humanize.naturalsize( process.memory_info().rss))\n",
        " print(\"GPU RAM Free: {0:.0f}MB | Used: {1:.0f}MB | Util {2:3.0f}% | Total {3:.0f}MB\".format(gpu.memoryFree, gpu.memoryUsed, gpu.memoryUtil*100, gpu.memoryTotal))\n",
        "printm()"
      ]
    },
    {
      "cell_type": "code",
      "metadata": {
        "id": "l3qFZGWGwpVi",
        "colab_type": "code",
        "colab": {
          "base_uri": "https://localhost:8080/",
          "height": 258
        },
        "outputId": "f0484042-3191-4a8a-abca-c07380d31508"
      },
      "source": [
        "# memory footprint support libraries/code\n",
        "!ln -sf /opt/bin/nvidia-smi /usr/bin/nvidia-smi \n",
        "!pip install gputil \n",
        "!pip install psutil\n",
        "!pip install humanize\n",
        "import psutil \n",
        "import humanize \n",
        "import os \n",
        "import GPUtil as GPU \n",
        "GPUs = GPU.getGPUs()\n",
        "\n",
        "# XXX: only one GPU on Colab and isn’t guaranteed\n",
        "gpu = GPUs[0] \n",
        "def printm(): \n",
        "  process = psutil.Process(os.getpid())\n",
        "  print(\"Gen RAM Free: \" + humanize.naturalsize( psutil.virtual_memory().available ), \" | Proc size: \" + humanize.naturalsize( process.memory_info().rss)) \n",
        "  print(\"GPU RAM Free: {0:.0f}MB | Used: {1:.0f}MB | Util {2:3.0f}% | Total {3:.0f}MB\".format(gpu.memoryFree, gpu.memoryUsed, gpu.memoryUtil*100, gpu.memoryTotal)) \n",
        "\n",
        "printm()"
      ],
      "execution_count": 8,
      "outputs": [
        {
          "output_type": "stream",
          "text": [
            "Collecting gputil\n",
            "  Downloading https://files.pythonhosted.org/packages/ed/0e/5c61eedde9f6c87713e89d794f01e378cfd9565847d4576fa627d758c554/GPUtil-1.4.0.tar.gz\n",
            "Building wheels for collected packages: gputil\n",
            "  Building wheel for gputil (setup.py) ... \u001b[?25l\u001b[?25hdone\n",
            "  Created wheel for gputil: filename=GPUtil-1.4.0-cp36-none-any.whl size=7410 sha256=55b67abec82eb58695591f63e2de07206be3c8b5454d4e558587ced60ecb60d2\n",
            "  Stored in directory: /root/.cache/pip/wheels/3d/77/07/80562de4bb0786e5ea186911a2c831fdd0018bda69beab71fd\n",
            "Successfully built gputil\n",
            "Installing collected packages: gputil\n",
            "Successfully installed gputil-1.4.0\n",
            "Requirement already satisfied: psutil in /usr/local/lib/python3.6/dist-packages (5.4.8)\n",
            "Requirement already satisfied: humanize in /usr/local/lib/python3.6/dist-packages (0.5.1)\n",
            "Gen RAM Free: 12.8 GB  | Proc size: 156.0 MB\n",
            "GPU RAM Free: 16280MB | Used: 0MB | Util   0% | Total 16280MB\n"
          ],
          "name": "stdout"
        }
      ]
    },
    {
      "cell_type": "code",
      "metadata": {
        "id": "qrZnAC8A4s5Q",
        "colab_type": "code",
        "colab": {
          "base_uri": "https://localhost:8080/",
          "height": 122
        },
        "outputId": "31e9c8e0-021d-4678-e5c9-a5aaf1fc1fa6"
      },
      "source": [
        "from google.colab import drive \n",
        "drive.mount('/content/gdrive')"
      ],
      "execution_count": 9,
      "outputs": [
        {
          "output_type": "stream",
          "text": [
            "Go to this URL in a browser: https://accounts.google.com/o/oauth2/auth?client_id=947318989803-6bn6qk8qdgf4n4g3pfee6491hc0brc4i.apps.googleusercontent.com&redirect_uri=urn%3aietf%3awg%3aoauth%3a2.0%3aoob&response_type=code&scope=email%20https%3a%2f%2fwww.googleapis.com%2fauth%2fdocs.test%20https%3a%2f%2fwww.googleapis.com%2fauth%2fdrive%20https%3a%2f%2fwww.googleapis.com%2fauth%2fdrive.photos.readonly%20https%3a%2f%2fwww.googleapis.com%2fauth%2fpeopleapi.readonly\n",
            "\n",
            "Enter your authorization code:\n",
            "··········\n",
            "Mounted at /content/gdrive\n"
          ],
          "name": "stdout"
        }
      ]
    },
    {
      "cell_type": "code",
      "metadata": {
        "id": "cBJTvSQi6iIp",
        "colab_type": "code",
        "colab": {}
      },
      "source": [
        "from fastai.text import *"
      ],
      "execution_count": 0,
      "outputs": []
    },
    {
      "cell_type": "code",
      "metadata": {
        "id": "9srF9SgpBL9G",
        "colab_type": "code",
        "colab": {}
      },
      "source": [
        "# args also need to be passed\n",
        "data_lm = load_data(F\"/content/gdrive/My Drive/\", 'tmp_lm.pkl',bs=32)"
      ],
      "execution_count": 0,
      "outputs": []
    },
    {
      "cell_type": "code",
      "metadata": {
        "id": "oRpxaaVx7fvV",
        "colab_type": "code",
        "colab": {}
      },
      "source": [
        "data_clas = (TextList.from_csv(F'/content/gdrive/My Drive/', 'df_classifier_clean.csv', cols='text', vocab=data_lm.vocab).split_from_df(col='is_valid').label_from_df(cols='label').databunch(bs=32))"
      ],
      "execution_count": 0,
      "outputs": []
    },
    {
      "cell_type": "code",
      "metadata": {
        "id": "xBwf17XI7g4x",
        "colab_type": "code",
        "colab": {}
      },
      "source": [
        "data_clas.save('/content/gdrive/My Drive/tmp_clas.pkl')"
      ],
      "execution_count": 0,
      "outputs": []
    },
    {
      "cell_type": "code",
      "metadata": {
        "id": "zU8vvOWV5A0Q",
        "colab_type": "code",
        "colab": {}
      },
      "source": [
        "# args also need to be passed\n",
        "# data_clas = load_data(F\"/content/gdrive/My Drive/tmp_clas.pkl')"
      ],
      "execution_count": 0,
      "outputs": []
    },
    {
      "cell_type": "code",
      "metadata": {
        "id": "qpgTCj0w5KP8",
        "colab_type": "code",
        "colab": {
          "base_uri": "https://localhost:8080/",
          "height": 357
        },
        "outputId": "c4330ecc-a4d8-45b7-837f-52074a8a5e25"
      },
      "source": [
        "data_clas.show_batch()"
      ],
      "execution_count": 15,
      "outputs": [
        {
          "output_type": "display_data",
          "data": {
            "text/html": [
              "<table border=\"1\" class=\"dataframe\">\n",
              "  <thead>\n",
              "    <tr style=\"text-align: right;\">\n",
              "      <th>text</th>\n",
              "      <th>target</th>\n",
              "    </tr>\n",
              "  </thead>\n",
              "  <tbody>\n",
              "    <tr>\n",
              "      <td>xxbos \" xxmaj two and a half months ago i was prescribed xxmaj venlafaxine to help prevent chronic migraines . \\r \\n  xxmaj it did help the migraines ( reduced them by almost half ) , but with it came a host of side effects that were far worse than the problem i was trying to get rid of . \\r \\n  xxmaj having now come off of</td>\n",
              "      <td>Migraine</td>\n",
              "    </tr>\n",
              "    <tr>\n",
              "      <td>xxbos \" i have spent a lot of time reading threads on xxmaj prozac . xxmaj they have all been very helpful during these past few months so i thought i should share my own experiences just in case anyone out there might find it helpful . i started xxmaj prozac 20 mg about 2 months ago . i always knew i had anxiety and mild depression and was always</td>\n",
              "      <td>Anxiety and Stress</td>\n",
              "    </tr>\n",
              "    <tr>\n",
              "      <td>xxbos \" ( a little background on my skin , i get a pimple here and there and overall have pretty normal skin ) \\r \\n \\r \\n  i saw a commercial for xxmaj differin and immediately went online to buy it , i thought that the product sounded great for the price ! xxmaj after i purchased it i started looking into side effects and reviews on the</td>\n",
              "      <td>Acne</td>\n",
              "    </tr>\n",
              "    <tr>\n",
              "      <td>xxbos \" i ’ve been taking xxmaj contrave for 5 days . i noticed a change in my appetite on the first day . i was definitely less hungry . xxmaj on the 2nd day , i felt great . i had more energy than i ’d had in a very long time . xxmaj the thought of junk food disgusted me . xxmaj if i looked at it ,</td>\n",
              "      <td>Obesity</td>\n",
              "    </tr>\n",
              "    <tr>\n",
              "      <td>xxbos \" xxmaj actinic keratosis lesions on forearms only ... but a nasty case at any rate . \\r \\n  xxmaj dermatologist put me on a regimen of xxmaj aldara cream and xxmaj salicylic xxmaj acid . xxmaj the experience during the 4 months of xxmaj aldara treatment was not particularly pleasant : worst of all being that it made the xxmaj keratosis lesions much worse in terms of</td>\n",
              "      <td>Keratosis</td>\n",
              "    </tr>\n",
              "  </tbody>\n",
              "</table>"
            ],
            "text/plain": [
              "<IPython.core.display.HTML object>"
            ]
          },
          "metadata": {
            "tags": []
          }
        }
      ]
    },
    {
      "cell_type": "code",
      "metadata": {
        "id": "ZlGCZngh5MD_",
        "colab_type": "code",
        "colab": {}
      },
      "source": [
        "classifier_learn = text_classifier_learner(data_clas, AWD_LSTM, drop_mult=0.5)\n",
        "classifier_learn.load_encoder('/content/gdrive/My Drive/lm_fine_tuned_enc')\n",
        "classifier_learn.freeze()"
      ],
      "execution_count": 0,
      "outputs": []
    },
    {
      "cell_type": "code",
      "metadata": {
        "id": "PDaetKmi5PxH",
        "colab_type": "code",
        "colab": {
          "base_uri": "https://localhost:8080/",
          "height": 296
        },
        "outputId": "781680a0-a385-405b-eef7-adf29f74c07b"
      },
      "source": [
        "classifier_learn.lr_find()\n",
        "classifier_learn.recorder.plot()"
      ],
      "execution_count": 17,
      "outputs": [
        {
          "output_type": "display_data",
          "data": {
            "text/html": [
              ""
            ],
            "text/plain": [
              "<IPython.core.display.HTML object>"
            ]
          },
          "metadata": {
            "tags": []
          }
        },
        {
          "output_type": "stream",
          "text": [
            "LR Finder is complete, type {learner_name}.recorder.plot() to see the graph.\n"
          ],
          "name": "stdout"
        },
        {
          "output_type": "display_data",
          "data": {
            "image/png": "[encoded data removed]",
            "text/plain": [
              "<Figure size 432x288 with 1 Axes>"
            ]
          },
          "metadata": {
            "tags": []
          }
        }
      ]
    },
    {
      "cell_type": "code",
      "metadata": {
        "id": "xyW1DJcp5TIA",
        "colab_type": "code",
        "colab": {
          "base_uri": "https://localhost:8080/",
          "height": 80
        },
        "outputId": "3881c651-257f-4f30-9754-7ee52c4d1561"
      },
      "source": [
        "classifier_learn.fit_one_cycle(1, 2e-2, moms=(0.8,0.7))"
      ],
      "execution_count": 18,
      "outputs": [
        {
          "output_type": "display_data",
          "data": {
            "text/html": [
              "<table border=\"1\" class=\"dataframe\">\n",
              "  <thead>\n",
              "    <tr style=\"text-align: left;\">\n",
              "      <th>epoch</th>\n",
              "      <th>train_loss</th>\n",
              "      <th>valid_loss</th>\n",
              "      <th>accuracy</th>\n",
              "      <th>time</th>\n",
              "    </tr>\n",
              "  </thead>\n",
              "  <tbody>\n",
              "    <tr>\n",
              "      <td>0</td>\n",
              "      <td>1.896690</td>\n",
              "      <td>1.621608</td>\n",
              "      <td>0.631614</td>\n",
              "      <td>05:23</td>\n",
              "    </tr>\n",
              "  </tbody>\n",
              "</table>"
            ],
            "text/plain": [
              "<IPython.core.display.HTML object>"
            ]
          },
          "metadata": {
            "tags": []
          }
        }
      ]
    },
    {
      "cell_type": "code",
      "metadata": {
        "id": "OZXu1DvT5VIY",
        "colab_type": "code",
        "colab": {
          "base_uri": "https://localhost:8080/",
          "height": 80
        },
        "outputId": "0ad40d39-2d15-46d1-e4a3-8eef8798a902"
      },
      "source": [
        "classifier_learn.save('/content/gdrive/My Drive/first')\n",
        "classifier_learn.load('/content/gdrive/My Drive/first');\n",
        "classifier_learn.freeze_to(-2)\n",
        "classifier_learn.fit_one_cycle(1, slice(1e-2/(2.6**4),1e-2), moms=(0.8,0.7))"
      ],
      "execution_count": 19,
      "outputs": [
        {
          "output_type": "display_data",
          "data": {
            "text/html": [
              "<table border=\"1\" class=\"dataframe\">\n",
              "  <thead>\n",
              "    <tr style=\"text-align: left;\">\n",
              "      <th>epoch</th>\n",
              "      <th>train_loss</th>\n",
              "      <th>valid_loss</th>\n",
              "      <th>accuracy</th>\n",
              "      <th>time</th>\n",
              "    </tr>\n",
              "  </thead>\n",
              "  <tbody>\n",
              "    <tr>\n",
              "      <td>0</td>\n",
              "      <td>1.703716</td>\n",
              "      <td>1.440767</td>\n",
              "      <td>0.672213</td>\n",
              "      <td>05:53</td>\n",
              "    </tr>\n",
              "  </tbody>\n",
              "</table>"
            ],
            "text/plain": [
              "<IPython.core.display.HTML object>"
            ]
          },
          "metadata": {
            "tags": []
          }
        }
      ]
    },
    {
      "cell_type": "code",
      "metadata": {
        "id": "MNz_mB8l502q",
        "colab_type": "code",
        "colab": {
          "base_uri": "https://localhost:8080/",
          "height": 34
        },
        "outputId": "e5c6c510-1808-41e4-a718-e68e6dcde27c"
      },
      "source": [
        "model_save_name = 'export2.pkl'\n",
        "path = F\"/content/gdrive/My Drive/{model_save_name}\" \n",
        "\n",
        "classifier_learn.export(path)\n",
        "classifier_learn.save(\"/content/gdrive/My Drive/trained_model2\", return_path=True)"
      ],
      "execution_count": 20,
      "outputs": [
        {
          "output_type": "execute_result",
          "data": {
            "text/plain": [
              "PosixPath('/content/gdrive/My Drive/trained_model2.pth')"
            ]
          },
          "metadata": {
            "tags": []
          },
          "execution_count": 20
        }
      ]
    },
    {
      "cell_type": "code",
      "metadata": {
        "id": "SZF_3d8r5V23",
        "colab_type": "code",
        "colab": {
          "base_uri": "https://localhost:8080/",
          "height": 80
        },
        "outputId": "2f8ab735-c5b4-4019-c286-718dfa0ccc23"
      },
      "source": [
        "classifier_learn.save('/content/gdrive/My Drive/second')\n",
        "classifier_learn.load('/content/gdrive/My Drive/second');\n",
        "classifier_learn.freeze_to(-3)\n",
        "classifier_learn.fit_one_cycle(1, slice(5e-3/(2.6**4),5e-3), moms=(0.8,0.7))"
      ],
      "execution_count": 21,
      "outputs": [
        {
          "output_type": "display_data",
          "data": {
            "text/html": [
              "<table border=\"1\" class=\"dataframe\">\n",
              "  <thead>\n",
              "    <tr style=\"text-align: left;\">\n",
              "      <th>epoch</th>\n",
              "      <th>train_loss</th>\n",
              "      <th>valid_loss</th>\n",
              "      <th>accuracy</th>\n",
              "      <th>time</th>\n",
              "    </tr>\n",
              "  </thead>\n",
              "  <tbody>\n",
              "    <tr>\n",
              "      <td>0</td>\n",
              "      <td>1.402414</td>\n",
              "      <td>1.289767</td>\n",
              "      <td>0.703678</td>\n",
              "      <td>09:29</td>\n",
              "    </tr>\n",
              "  </tbody>\n",
              "</table>"
            ],
            "text/plain": [
              "<IPython.core.display.HTML object>"
            ]
          },
          "metadata": {
            "tags": []
          }
        }
      ]
    },
    {
      "cell_type": "code",
      "metadata": {
        "id": "8nz6XI8I515l",
        "colab_type": "code",
        "colab": {
          "base_uri": "https://localhost:8080/",
          "height": 111
        },
        "outputId": "ed49fcb5-b048-4647-966c-2e71d5ca45a0"
      },
      "source": [
        "classifier_learn.save('/content/gdrive/My Drive/third')\n",
        "classifier_learn.load('/content/gdrive/My Drive/third');\n",
        "\n",
        "classifier_learn.unfreeze()\n",
        "classifier_learn.fit_one_cycle(2, slice(1e-3/(2.6**4),1e-3), moms=(0.8,0.7))"
      ],
      "execution_count": 22,
      "outputs": [
        {
          "output_type": "display_data",
          "data": {
            "text/html": [
              "<table border=\"1\" class=\"dataframe\">\n",
              "  <thead>\n",
              "    <tr style=\"text-align: left;\">\n",
              "      <th>epoch</th>\n",
              "      <th>train_loss</th>\n",
              "      <th>valid_loss</th>\n",
              "      <th>accuracy</th>\n",
              "      <th>time</th>\n",
              "    </tr>\n",
              "  </thead>\n",
              "  <tbody>\n",
              "    <tr>\n",
              "      <td>0</td>\n",
              "      <td>1.322893</td>\n",
              "      <td>1.245670</td>\n",
              "      <td>0.713018</td>\n",
              "      <td>13:33</td>\n",
              "    </tr>\n",
              "    <tr>\n",
              "      <td>1</td>\n",
              "      <td>1.290537</td>\n",
              "      <td>1.217996</td>\n",
              "      <td>0.719513</td>\n",
              "      <td>13:05</td>\n",
              "    </tr>\n",
              "  </tbody>\n",
              "</table>"
            ],
            "text/plain": [
              "<IPython.core.display.HTML object>"
            ]
          },
          "metadata": {
            "tags": []
          }
        }
      ]
    },
    {
      "cell_type": "code",
      "metadata": {
        "id": "taKztitR522u",
        "colab_type": "code",
        "colab": {
          "base_uri": "https://localhost:8080/",
          "height": 34
        },
        "outputId": "1090ea3e-5711-48fb-be83-1fc9e6a2bc31"
      },
      "source": [
        "model_save_name = 'export2.pkl'\n",
        "path = F\"/content/gdrive/My Drive/{model_save_name}\" \n",
        "\n",
        "classifier_learn.export(path)\n",
        "classifier_learn.save(\"/content/gdrive/My Drive/trained_model2\", return_path=True)"
      ],
      "execution_count": 23,
      "outputs": [
        {
          "output_type": "execute_result",
          "data": {
            "text/plain": [
              "PosixPath('/content/gdrive/My Drive/trained_model2.pth')"
            ]
          },
          "metadata": {
            "tags": []
          },
          "execution_count": 23
        }
      ]
    },
    {
      "cell_type": "code",
      "metadata": {
        "id": "_eihObmO5oEo",
        "colab_type": "code",
        "colab": {
          "base_uri": "https://localhost:8080/",
          "height": 111
        },
        "outputId": "63982c78-d542-4f68-e99b-0f40d12e9bf7"
      },
      "source": [
        "classifier_learn.save('/content/gdrive/My Drive/four')\n",
        "classifier_learn.load('/content/gdrive/My Drive/four');\n",
        "\n",
        "classifier_learn.unfreeze()\n",
        "classifier_learn.fit_one_cycle(2, slice(1e-3/(2.6**4),1e-3), moms=(0.8,0.7))"
      ],
      "execution_count": 24,
      "outputs": [
        {
          "output_type": "display_data",
          "data": {
            "text/html": [
              "<table border=\"1\" class=\"dataframe\">\n",
              "  <thead>\n",
              "    <tr style=\"text-align: left;\">\n",
              "      <th>epoch</th>\n",
              "      <th>train_loss</th>\n",
              "      <th>valid_loss</th>\n",
              "      <th>accuracy</th>\n",
              "      <th>time</th>\n",
              "    </tr>\n",
              "  </thead>\n",
              "  <tbody>\n",
              "    <tr>\n",
              "      <td>0</td>\n",
              "      <td>1.296381</td>\n",
              "      <td>1.197954</td>\n",
              "      <td>0.722695</td>\n",
              "      <td>14:09</td>\n",
              "    </tr>\n",
              "    <tr>\n",
              "      <td>1</td>\n",
              "      <td>1.212174</td>\n",
              "      <td>1.175893</td>\n",
              "      <td>0.729247</td>\n",
              "      <td>12:33</td>\n",
              "    </tr>\n",
              "  </tbody>\n",
              "</table>"
            ],
            "text/plain": [
              "<IPython.core.display.HTML object>"
            ]
          },
          "metadata": {
            "tags": []
          }
        }
      ]
    },
    {
      "cell_type": "code",
      "metadata": {
        "id": "wdhXAnBK5ulV",
        "colab_type": "code",
        "colab": {
          "base_uri": "https://localhost:8080/",
          "height": 111
        },
        "outputId": "3cd26bba-c254-4810-d4ef-731419fc004a"
      },
      "source": [
        "classifier_learn.save('/content/gdrive/My Drive/five')\n",
        "classifier_learn.load('/content/gdrive/My Drive/five');\n",
        "\n",
        "classifier_learn.unfreeze()\n",
        "classifier_learn.fit_one_cycle(2, slice(1e-3/(2.6**4),1e-3), moms=(0.8,0.7))C"
      ],
      "execution_count": 25,
      "outputs": [
        {
          "output_type": "display_data",
          "data": {
            "text/html": [
              "<table border=\"1\" class=\"dataframe\">\n",
              "  <thead>\n",
              "    <tr style=\"text-align: left;\">\n",
              "      <th>epoch</th>\n",
              "      <th>train_loss</th>\n",
              "      <th>valid_loss</th>\n",
              "      <th>accuracy</th>\n",
              "      <th>time</th>\n",
              "    </tr>\n",
              "  </thead>\n",
              "  <tbody>\n",
              "    <tr>\n",
              "      <td>0</td>\n",
              "      <td>1.275622</td>\n",
              "      <td>1.158577</td>\n",
              "      <td>0.733683</td>\n",
              "      <td>14:15</td>\n",
              "    </tr>\n",
              "    <tr>\n",
              "      <td>1</td>\n",
              "      <td>1.218267</td>\n",
              "      <td>1.126434</td>\n",
              "      <td>0.740215</td>\n",
              "      <td>14:06</td>\n",
              "    </tr>\n",
              "  </tbody>\n",
              "</table>"
            ],
            "text/plain": [
              "<IPython.core.display.HTML object>"
            ]
          },
          "metadata": {
            "tags": []
          }
        }
      ]
    },
    {
      "cell_type": "code",
      "metadata": {
        "id": "aCsEtu4LtBBs",
        "colab_type": "code",
        "colab": {
          "base_uri": "https://localhost:8080/",
          "height": 111
        },
        "outputId": "8f932f14-15fc-4388-c8b5-dc325b980233"
      },
      "source": [
        "classifier_learn.save('/content/gdrive/My Drive/six')\n",
        "classifier_learn.load('/content/gdrive/My Drive/six');\n",
        "\n",
        "classifier_learn.unfreeze()\n",
        "classifier_learn.fit_one_cycle(2, slice(1e-3/(2.6**4),1e-3), moms=(0.8,0.7))"
      ],
      "execution_count": 26,
      "outputs": [
        {
          "output_type": "display_data",
          "data": {
            "text/html": [
              "<table border=\"1\" class=\"dataframe\">\n",
              "  <thead>\n",
              "    <tr style=\"text-align: left;\">\n",
              "      <th>epoch</th>\n",
              "      <th>train_loss</th>\n",
              "      <th>valid_loss</th>\n",
              "      <th>accuracy</th>\n",
              "      <th>time</th>\n",
              "    </tr>\n",
              "  </thead>\n",
              "  <tbody>\n",
              "    <tr>\n",
              "      <td>0</td>\n",
              "      <td>1.108862</td>\n",
              "      <td>1.125427</td>\n",
              "      <td>0.744221</td>\n",
              "      <td>13:42</td>\n",
              "    </tr>\n",
              "    <tr>\n",
              "      <td>1</td>\n",
              "      <td>1.223203</td>\n",
              "      <td>1.097947</td>\n",
              "      <td>0.752064</td>\n",
              "      <td>14:07</td>\n",
              "    </tr>\n",
              "  </tbody>\n",
              "</table>"
            ],
            "text/plain": [
              "<IPython.core.display.HTML object>"
            ]
          },
          "metadata": {
            "tags": []
          }
        }
      ]
    },
    {
      "cell_type": "code",
      "metadata": {
        "id": "QeuaJypytJts",
        "colab_type": "code",
        "colab": {
          "base_uri": "https://localhost:8080/",
          "height": 111
        },
        "outputId": "6b345a91-1469-4ee2-a534-13519fbf7c7c"
      },
      "source": [
        "classifier_learn.save('/content/gdrive/My Drive/seven')\n",
        "classifier_learn.load('/content/gdrive/My Drive/seven');\n",
        "\n",
        "classifier_learn.unfreeze()\n",
        "classifier_learn.fit_one_cycle(2, slice(1e-3/(2.6**4),1e-3), moms=(0.8,0.7))"
      ],
      "execution_count": 27,
      "outputs": [
        {
          "output_type": "display_data",
          "data": {
            "text/html": [
              "<table border=\"1\" class=\"dataframe\">\n",
              "  <thead>\n",
              "    <tr style=\"text-align: left;\">\n",
              "      <th>epoch</th>\n",
              "      <th>train_loss</th>\n",
              "      <th>valid_loss</th>\n",
              "      <th>accuracy</th>\n",
              "      <th>time</th>\n",
              "    </tr>\n",
              "  </thead>\n",
              "  <tbody>\n",
              "    <tr>\n",
              "      <td>0</td>\n",
              "      <td>1.147449</td>\n",
              "      <td>1.096760</td>\n",
              "      <td>0.752288</td>\n",
              "      <td>14:01</td>\n",
              "    </tr>\n",
              "    <tr>\n",
              "      <td>1</td>\n",
              "      <td>1.123156</td>\n",
              "      <td>1.058413</td>\n",
              "      <td>0.761067</td>\n",
              "      <td>13:46</td>\n",
              "    </tr>\n",
              "  </tbody>\n",
              "</table>"
            ],
            "text/plain": [
              "<IPython.core.display.HTML object>"
            ]
          },
          "metadata": {
            "tags": []
          }
        }
      ]
    },
    {
      "cell_type": "code",
      "metadata": {
        "id": "ceqeNyqQtSS6",
        "colab_type": "code",
        "colab": {
          "base_uri": "https://localhost:8080/",
          "height": 111
        },
        "outputId": "8e8237da-b39b-490c-b14f-1a289606617b"
      },
      "source": [
        "classifier_learn.save('/content/gdrive/My Drive/eight')\n",
        "classifier_learn.load('/content/gdrive/My Drive/eight');\n",
        "\n",
        "classifier_learn.unfreeze()\n",
        "classifier_learn.fit_one_cycle(2, slice(1e-3/(2.6**4),1e-3), moms=(0.8,0.7))"
      ],
      "execution_count": 28,
      "outputs": [
        {
          "output_type": "display_data",
          "data": {
            "text/html": [
              "<table border=\"1\" class=\"dataframe\">\n",
              "  <thead>\n",
              "    <tr style=\"text-align: left;\">\n",
              "      <th>epoch</th>\n",
              "      <th>train_loss</th>\n",
              "      <th>valid_loss</th>\n",
              "      <th>accuracy</th>\n",
              "      <th>time</th>\n",
              "    </tr>\n",
              "  </thead>\n",
              "  <tbody>\n",
              "    <tr>\n",
              "      <td>0</td>\n",
              "      <td>1.073956</td>\n",
              "      <td>1.055209</td>\n",
              "      <td>0.761722</td>\n",
              "      <td>13:04</td>\n",
              "    </tr>\n",
              "    <tr>\n",
              "      <td>1</td>\n",
              "      <td>0.910178</td>\n",
              "      <td>1.039405</td>\n",
              "      <td>0.771643</td>\n",
              "      <td>12:37</td>\n",
              "    </tr>\n",
              "  </tbody>\n",
              "</table>"
            ],
            "text/plain": [
              "<IPython.core.display.HTML object>"
            ]
          },
          "metadata": {
            "tags": []
          }
        }
      ]
    },
    {
      "cell_type": "code",
      "metadata": {
        "id": "nbLwQ-POtWkc",
        "colab_type": "code",
        "colab": {
          "base_uri": "https://localhost:8080/",
          "height": 111
        },
        "outputId": "8b9700db-080a-4266-bf37-c6b3457742ac"
      },
      "source": [
        "classifier_learn.save('/content/gdrive/My Drive/nine')\n",
        "classifier_learn.load('/content/gdrive/My Drive/nine');\n",
        "\n",
        "classifier_learn.unfreeze()\n",
        "classifier_learn.fit_one_cycle(2, slice(1e-3/(2.6**4),1e-3), moms=(0.8,0.7))"
      ],
      "execution_count": 29,
      "outputs": [
        {
          "output_type": "display_data",
          "data": {
            "text/html": [
              "<table border=\"1\" class=\"dataframe\">\n",
              "  <thead>\n",
              "    <tr style=\"text-align: left;\">\n",
              "      <th>epoch</th>\n",
              "      <th>train_loss</th>\n",
              "      <th>valid_loss</th>\n",
              "      <th>accuracy</th>\n",
              "      <th>time</th>\n",
              "    </tr>\n",
              "  </thead>\n",
              "  <tbody>\n",
              "    <tr>\n",
              "      <td>0</td>\n",
              "      <td>1.055485</td>\n",
              "      <td>1.040121</td>\n",
              "      <td>0.770332</td>\n",
              "      <td>12:42</td>\n",
              "    </tr>\n",
              "    <tr>\n",
              "      <td>1</td>\n",
              "      <td>0.857888</td>\n",
              "      <td>1.010181</td>\n",
              "      <td>0.780028</td>\n",
              "      <td>12:44</td>\n",
              "    </tr>\n",
              "  </tbody>\n",
              "</table>"
            ],
            "text/plain": [
              "<IPython.core.display.HTML object>"
            ]
          },
          "metadata": {
            "tags": []
          }
        }
      ]
    },
    {
      "cell_type": "code",
      "metadata": {
        "id": "41Tg-eq3tZsO",
        "colab_type": "code",
        "colab": {
          "base_uri": "https://localhost:8080/",
          "height": 111
        },
        "outputId": "de97e26f-a3f4-4b94-a59c-0842e3b3086e"
      },
      "source": [
        "classifier_learn.save('/content/gdrive/My Drive/ten')\n",
        "classifier_learn.load('/content/gdrive/My Drive/ten');\n",
        "\n",
        "classifier_learn.unfreeze()\n",
        "classifier_learn.fit_one_cycle(2, slice(1e-3/(2.6**4),1e-3), moms=(0.8,0.7))"
      ],
      "execution_count": 30,
      "outputs": [
        {
          "output_type": "display_data",
          "data": {
            "text/html": [
              "<table border=\"1\" class=\"dataframe\">\n",
              "  <thead>\n",
              "    <tr style=\"text-align: left;\">\n",
              "      <th>epoch</th>\n",
              "      <th>train_loss</th>\n",
              "      <th>valid_loss</th>\n",
              "      <th>accuracy</th>\n",
              "      <th>time</th>\n",
              "    </tr>\n",
              "  </thead>\n",
              "  <tbody>\n",
              "    <tr>\n",
              "      <td>0</td>\n",
              "      <td>0.938707</td>\n",
              "      <td>1.018745</td>\n",
              "      <td>0.777351</td>\n",
              "      <td>14:25</td>\n",
              "    </tr>\n",
              "    <tr>\n",
              "      <td>1</td>\n",
              "      <td>0.824112</td>\n",
              "      <td>0.991506</td>\n",
              "      <td>0.788114</td>\n",
              "      <td>12:44</td>\n",
              "    </tr>\n",
              "  </tbody>\n",
              "</table>"
            ],
            "text/plain": [
              "<IPython.core.display.HTML object>"
            ]
          },
          "metadata": {
            "tags": []
          }
        }
      ]
    },
    {
      "cell_type": "code",
      "metadata": {
        "id": "Vo5u0EJtU2hN",
        "colab_type": "code",
        "colab": {
          "base_uri": "https://localhost:8080/",
          "height": 34
        },
        "outputId": "17fe508b-75e0-4a0a-d351-e2eb111fd7cf"
      },
      "source": [
        "model_save_name = 'export2.pkl'\n",
        "path = F\"/content/gdrive/My Drive/{model_save_name}\" \n",
        "\n",
        "classifier_learn.export(path)\n",
        "classifier_learn.save(\"/content/gdrive/My Drive/trained_model2\", return_path=True)"
      ],
      "execution_count": 31,
      "outputs": [
        {
          "output_type": "execute_result",
          "data": {
            "text/plain": [
              "PosixPath('/content/gdrive/My Drive/trained_model2.pth')"
            ]
          },
          "metadata": {
            "tags": []
          },
          "execution_count": 31
        }
      ]
    },
    {
      "cell_type": "code",
      "metadata": {
        "id": "3SY_gMv55rcx",
        "colab_type": "code",
        "colab": {
          "base_uri": "https://localhost:8080/",
          "height": 716
        },
        "outputId": "0e7326a3-951e-4e35-e539-eae625500119"
      },
      "source": [
        "classifier_learn.show_results(rows=10)"
      ],
      "execution_count": 32,
      "outputs": [
        {
          "output_type": "display_data",
          "data": {
            "text/html": [
              "<table border=\"1\" class=\"dataframe\">\n",
              "  <thead>\n",
              "    <tr style=\"text-align: right;\">\n",
              "      <th>text</th>\n",
              "      <th>target</th>\n",
              "      <th>prediction</th>\n",
              "    </tr>\n",
              "  </thead>\n",
              "  <tbody>\n",
              "    <tr>\n",
              "      <td>xxbos \" i do n’t find a lot of positive stories about antidepressants , or i find stories where people are taking the antidepressant the wrong way . \\r \\n \\r \\n  i wanted to share my experience . a positive one . \\r \\n \\r \\n  i ’ve had generalized anxiety disorder , xxup severe xxup ocd , and panic disorder for as long as i can</td>\n",
              "      <td>Obsessive Compulsive Disorde</td>\n",
              "      <td>Panic Disorde</td>\n",
              "    </tr>\n",
              "    <tr>\n",
              "      <td>xxbos \" • \\t 19 xxmaj apr. 2016 \\r\\r \\n \\r\\r \\n  xxmaj began initial dose at xxunk hours . xxmaj felt the medicine working within a ½ hour . xxmaj was in a good mood as i had been taken off of xxmaj warfarin this date . xxmaj before drifting off to sleep , i xxunk at the clock . xxmaj it was approx . xxunk hrs .</td>\n",
              "      <td>Depression</td>\n",
              "      <td>High Cholesterol</td>\n",
              "    </tr>\n",
              "    <tr>\n",
              "      <td>xxbos \" xxmaj my personal experience with suboxone is good so far . i have been on prescribed xxmaj fentanyl xxmaj patch 25 much / 48 hrs . i have dropped to this dose over the last year . ( i also left the old patch on ) . i have been on opiates for 12 years full time prescribed . xxmaj at my highest prescription i was using 180</td>\n",
              "      <td>Opiate Dependence</td>\n",
              "      <td>Opiate Dependence</td>\n",
              "    </tr>\n",
              "    <tr>\n",
              "      <td>xxbos \" xxmaj my personal experience with suboxone is good so far . i have been on prescribed xxmaj fentanyl xxmaj patch 25 much / 48 hrs . i have dropped to this dose over the last year . ( i also left the old patch on ) . i have been on opiates for 12 years full time prescribed . xxmaj at my highest prescription i was using 180</td>\n",
              "      <td>Opiate Dependence</td>\n",
              "      <td>Opiate Dependence</td>\n",
              "    </tr>\n",
              "    <tr>\n",
              "      <td>xxbos \" xxmaj my colonoscopy was booked in for late afternoon on a xxmaj thursday . xxmaj the hospital said to stop eating anything from 1 pm on the xxmaj wednesday and recommended ( giving some detail ) a non fibre diet from xxmaj tuesday evening until xxmaj wednesday noon - avoiding dark drinks and jelly ( like xxunk flavour ) . xxmaj avoid red meat , sausages and pies</td>\n",
              "      <td>Bowel Preparation</td>\n",
              "      <td>Bowel Preparation</td>\n",
              "    </tr>\n",
              "    <tr>\n",
              "      <td>xxbos \" xxmaj holy xxunk xxmaj batman it worked ! xxmaj but boy it was a xxmaj journey lol for 4 days i had n't pooped ! i had already taken laxatives , stool softener , a bucket of prunes , fiber pills , other fiber pills and still no poop over the last 4 days ! xxmaj so i called friend that has xxmaj gastroparesis and asked her what</td>\n",
              "      <td>Constipation</td>\n",
              "      <td>Constipation</td>\n",
              "    </tr>\n",
              "    <tr>\n",
              "      <td>xxbos \" i just started this medicine 3 days ago and i can not express how much of an effect it has had on me already . i just graduated high school and became depressed soon after , severe anxiety where i could n't go out to eat without having to vomit . i also could n't keep focus on anything , especially when trying to talk to people ,</td>\n",
              "      <td>Depression</td>\n",
              "      <td>Depression</td>\n",
              "    </tr>\n",
              "    <tr>\n",
              "      <td>xxbos \" i felt compelled to write a review , as i was on topamax ( or should i say dopamax ? ! ) for about 2 years . i started this medication when i was 21 and was so desperate to find something that would actually help my on - going migraines . xxmaj personally , the side effect symptoms xxup far outweighed the benefits . i started out</td>\n",
              "      <td>Migraine Prevention</td>\n",
              "      <td>Migraine Prevention</td>\n",
              "    </tr>\n",
              "    <tr>\n",
              "      <td>xxbos \" i have dealt with ups and downs , anxiety , social anxiety , depression etc . etc . for years . xxmaj my life overall is normal and i managed the episodes but i always knew they were there and did n't like feeling that way . i am married we have children combine that with everything else and it times it was just too much . xxmaj</td>\n",
              "      <td>Social Anxiety Disorde</td>\n",
              "      <td>Social Anxiety Disorde</td>\n",
              "    </tr>\n",
              "    <tr>\n",
              "      <td>xxbos \" xxmaj yes , this medication works . xxmaj it works very well for chronic anxiety disorder and sudden onsets of severe panic attacks . xxmaj knowing what i know now , i wish with all my being it had never ever been prescribed to me , and without the absurd xxunk dozens of practitioners have portrayed . \\r\\r \\n  i 'm 32 and have been prescribed clonazopam</td>\n",
              "      <td>Anxiety</td>\n",
              "      <td>Anxiety</td>\n",
              "    </tr>\n",
              "  </tbody>\n",
              "</table>"
            ],
            "text/plain": [
              "<IPython.core.display.HTML object>"
            ]
          },
          "metadata": {
            "tags": []
          }
        }
      ]
    },
    {
      "cell_type": "code",
      "metadata": {
        "id": "hqiGhpc651gZ",
        "colab_type": "code",
        "colab": {}
      },
      "source": [
        "from sklearn import metrics\n",
        "\n",
        "preds, targets = classifier_learn.get_preds()\n",
        "predictions = np.argmax(preds, axis=1)\n",
        "confusion_matrix = metrics.confusion_matrix(targets, predictions)\n",
        "\n",
        "filename = 'Confusion2.csv'\n",
        "path = F\"/content/gdrive/My Drive/{filename}\" \n",
        "pd.DataFrame(confusion_matrix).to_csv(path)"
      ],
      "execution_count": 0,
      "outputs": []
    },
    {
      "cell_type": "code",
      "metadata": {
        "id": "7USnbfVs53mw",
        "colab_type": "code",
        "colab": {
          "base_uri": "https://localhost:8080/",
          "height": 34
        },
        "outputId": "2ad398a8-abbb-43fe-c067-39b61e835157"
      },
      "source": [
        "diagonal = np.diag(confusion_matrix)\n",
        "true_positives = sum(diagonal)\n",
        "total_test_data = np.sum(confusion_matrix, axis=1).sum()\n",
        "accuracy = (true_positives /total_test_data) * 100\n",
        "\n",
        "print(\"Test Accuracy Percentage:\", accuracy)"
      ],
      "execution_count": 34,
      "outputs": [
        {
          "output_type": "stream",
          "text": [
            "Test Accuracy Percentage: 78.81141787552643\n"
          ],
          "name": "stdout"
        }
      ]
    }
  ]
}