{
  "nbformat": 4,
  "nbformat_minor": 0,
  "metadata": {
    "colab": {
      "name": "NLPULMFitGPU.ipynb",
      "provenance": [],
      "collapsed_sections": [],
      "include_colab_link": true
    },
    "kernelspec": {
      "name": "python3",
      "display_name": "Python 3"
    },
    "accelerator": "GPU"
  },
  "cells": [
    {
      "cell_type": "markdown",
      "metadata": {
        "id": "view-in-github",
        "colab_type": "text"
      },
      "source": [
        "<a href=\"https://colab.research.google.com/github/christinezuzart/DeepLearning/blob/master/NLPULMFitGPU.ipynb\" target=\"_parent\"><img src=\"https://colab.research.google.com/assets/colab-badge.svg\" alt=\"Open In Colab\"/></a>"
      ]
    },
    {
      "cell_type": "code",
      "metadata": {
        "id": "xC6cmqQA1ONX",
        "colab_type": "code",
        "outputId": "2249adb8-c296-49ef-be32-60465d84fdb1",
        "colab": {
          "resources": {
            "http://localhost:8080/nbextensions/google.colab/files.js": {
              "data": "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",
              "ok": true,
              "headers": [
                [
                  "content-type",
                  "application/javascript"
                ]
              ],
              "status": 200,
              "status_text": ""
            }
          },
          "base_uri": "https://localhost:8080/",
          "height": 108
        }
      },
      "source": [
        "from google.colab import files\n",
        "\n",
        "uploaded = files.upload()"
      ],
      "execution_count": 1,
      "outputs": [
        {
          "output_type": "display_data",
          "data": {
            "text/html": [
              "\n",
              "     <input type=\"file\" id=\"files-2153b56f-f6b8-459a-9ab3-67db61355368\" name=\"files[]\" multiple disabled />\n",
              "     <output id=\"result-2153b56f-f6b8-459a-9ab3-67db61355368\">\n",
              "      Upload widget is only available when the cell has been executed in the\n",
              "      current browser session. Please rerun this cell to enable.\n",
              "      </output>\n",
              "      <script src=\"/nbextensions/google.colab/files.js\"></script> "
            ],
            "text/plain": [
              "<IPython.core.display.HTML object>"
            ]
          },
          "metadata": {
            "tags": []
          }
        },
        {
          "output_type": "stream",
          "text": [
            "Saving drugsComTest_raw.csv to drugsComTest_raw.csv\n",
            "Saving drugsComTrain_raw.csv to drugsComTrain_raw.csv\n"
          ],
          "name": "stdout"
        }
      ]
    },
    {
      "cell_type": "code",
      "metadata": {
        "id": "nP16_FNg1g-V",
        "colab_type": "code",
        "colab": {}
      },
      "source": [
        "import pandas as pd\n",
        "import io\n",
        "\n",
        "dfTrain = pd.read_csv(io.StringIO(uploaded['drugsComTest_raw.csv'].decode('utf-8')))\n",
        "dfTest = pd.read_csv(io.StringIO(uploaded['drugsComTrain_raw.csv'].decode('utf-8')))\n",
        "\n",
        "train_texts = dfTrain.loc[ : , 'review'].values\n",
        "train_labels = dfTrain.loc[ : , 'condition'].values\n",
        "\n",
        "test_texts = dfTest.loc[ : , 'review'].values\n",
        "test_labels = dfTest.loc[ : , 'condition'].values\n",
        "\n",
        "col_names = ['labels','text']\n",
        "df_train = pd.DataFrame({'text':train_texts, 'labels':train_labels}, columns=col_names)\n",
        "df_test = pd.DataFrame({'text':test_texts, 'labels':test_labels}, columns=col_names)\n",
        "\n",
        "df_train = df_train.dropna(axis=0)\n",
        "df_test = df_test.dropna(axis=0)\n",
        "\n",
        "unique_train_labels_list = df_train.labels.unique()\n",
        "unique_test_labels_list = df_test.labels.unique()\n",
        "\n"
      ],
      "execution_count": 0,
      "outputs": []
    },
    {
      "cell_type": "code",
      "metadata": {
        "id": "VNu-1A57pi65",
        "colab_type": "code",
        "outputId": "64ad5172-c7af-4dbf-a14e-20eeaf881d66",
        "colab": {
          "base_uri": "https://localhost:8080/",
          "height": 119
        }
      },
      "source": [
        "df_test_new = pd.DataFrame(columns=['labels','text'])\n",
        "for ind in df_test.index: \n",
        "  if df_test['labels'][ind] in unique_train_labels_list :\n",
        "   new_row = {'labels': df_test['labels'][ind], 'text':df_test['text'][ind]}\n",
        "   df_test_new = df_test_new.append(new_row, ignore_index=True)\n",
        "\n",
        "print(df_test_new.head())"
      ],
      "execution_count": 3,
      "outputs": [
        {
          "output_type": "stream",
          "text": [
            "                         labels                                               text\n",
            "0  Left Ventricular Dysfunction  \"It has no side effect, I take it in combinati...\n",
            "1                          ADHD  \"My son is halfway through his fourth week of ...\n",
            "2                 Birth Control  \"I used to take another oral contraceptive, wh...\n",
            "3                 Birth Control  \"This is my first time using any form of birth...\n",
            "4             Opiate Dependence  \"Suboxone has completely turned my life around...\n"
          ],
          "name": "stdout"
        }
      ]
    },
    {
      "cell_type": "code",
      "metadata": {
        "id": "VGsGi4Ing-kH",
        "colab_type": "code",
        "colab": {}
      },
      "source": [
        "# a = df_test_new.labels.unique()\n",
        "# print('\\n'.join(map(str, a)))"
      ],
      "execution_count": 0,
      "outputs": []
    },
    {
      "cell_type": "code",
      "metadata": {
        "id": "jkCP0-7D1xd1",
        "colab_type": "code",
        "colab": {}
      },
      "source": [
        "from fastai.text import *\n",
        "\n",
        "# Language model data\n",
        "data_lm = TextLMDataBunch.from_df('./', train_df=df_train, valid_df=df_test_new)"
      ],
      "execution_count": 0,
      "outputs": []
    },
    {
      "cell_type": "code",
      "metadata": {
        "id": "0yyaO4pO17Fo",
        "colab_type": "code",
        "colab": {}
      },
      "source": [
        "# Language model\n",
        "lang_learner = language_model_learner(data_lm, AWD_LSTM, drop_mult=0.1)"
      ],
      "execution_count": 0,
      "outputs": []
    },
    {
      "cell_type": "code",
      "metadata": {
        "id": "fSBOuNaTr6QP",
        "colab_type": "code",
        "outputId": "ec938f47-e515-4922-f240-c05098a559e5",
        "colab": {
          "base_uri": "https://localhost:8080/",
          "height": 296
        }
      },
      "source": [
        "lang_learner.lr_find(start_lr=1e-8, end_lr=1e2)\n",
        "lang_learner.recorder.plot()"
      ],
      "execution_count": 7,
      "outputs": [
        {
          "output_type": "display_data",
          "data": {
            "text/html": [
              ""
            ],
            "text/plain": [
              "<IPython.core.display.HTML object>"
            ]
          },
          "metadata": {
            "tags": []
          }
        },
        {
          "output_type": "stream",
          "text": [
            "LR Finder is complete, type {learner_name}.recorder.plot() to see the graph.\n"
          ],
          "name": "stdout"
        },
        {
          "output_type": "display_data",
          "data": {
            "image/png": "[encoded data removed]",
            "text/plain": [
              "<Figure size 432x288 with 1 Axes>"
            ]
          },
          "metadata": {
            "tags": []
          }
        }
      ]
    },
    {
      "cell_type": "code",
      "metadata": {
        "id": "vqZ0hjiHbBNG",
        "colab_type": "code",
        "outputId": "703a4be2-b9c1-42b6-9da1-aaecc48bc809",
        "colab": {
          "base_uri": "https://localhost:8080/",
          "height": 174
        }
      },
      "source": [
        "lang_learner = language_model_learner(data_lm, AWD_LSTM, drop_mult=0.5)\n",
        "lang_learner.fit_one_cycle(1, 1e-3, moms=(0.8, 0.7))\n",
        "\n",
        "lang_learner.unfreeze() \n",
        "lang_learner.fit_one_cycle(2, 1e-3, moms=(0.8, 0.7))"
      ],
      "execution_count": 8,
      "outputs": [
        {
          "output_type": "display_data",
          "data": {
            "text/html": [
              "<table border=\"1\" class=\"dataframe\">\n",
              "  <thead>\n",
              "    <tr style=\"text-align: left;\">\n",
              "      <th>epoch</th>\n",
              "      <th>train_loss</th>\n",
              "      <th>valid_loss</th>\n",
              "      <th>accuracy</th>\n",
              "      <th>time</th>\n",
              "    </tr>\n",
              "  </thead>\n",
              "  <tbody>\n",
              "    <tr>\n",
              "      <td>0</td>\n",
              "      <td>3.857413</td>\n",
              "      <td>3.681069</td>\n",
              "      <td>0.290681</td>\n",
              "      <td>22:07</td>\n",
              "    </tr>\n",
              "  </tbody>\n",
              "</table>"
            ],
            "text/plain": [
              "<IPython.core.display.HTML object>"
            ]
          },
          "metadata": {
            "tags": []
          }
        },
        {
          "output_type": "display_data",
          "data": {
            "text/html": [
              "<table border=\"1\" class=\"dataframe\">\n",
              "  <thead>\n",
              "    <tr style=\"text-align: left;\">\n",
              "      <th>epoch</th>\n",
              "      <th>train_loss</th>\n",
              "      <th>valid_loss</th>\n",
              "      <th>accuracy</th>\n",
              "      <th>time</th>\n",
              "    </tr>\n",
              "  </thead>\n",
              "  <tbody>\n",
              "    <tr>\n",
              "      <td>0</td>\n",
              "      <td>3.382216</td>\n",
              "      <td>3.260805</td>\n",
              "      <td>0.340298</td>\n",
              "      <td>24:42</td>\n",
              "    </tr>\n",
              "    <tr>\n",
              "      <td>1</td>\n",
              "      <td>3.213693</td>\n",
              "      <td>3.159980</td>\n",
              "      <td>0.353125</td>\n",
              "      <td>24:40</td>\n",
              "    </tr>\n",
              "  </tbody>\n",
              "</table>"
            ],
            "text/plain": [
              "<IPython.core.display.HTML object>"
            ]
          },
          "metadata": {
            "tags": []
          }
        }
      ]
    },
    {
      "cell_type": "code",
      "metadata": {
        "id": "S5IzDJe_2Cl5",
        "colab_type": "code",
        "colab": {}
      },
      "source": [
        "lang_learner.save_encoder('fine_enc')"
      ],
      "execution_count": 0,
      "outputs": []
    },
    {
      "cell_type": "code",
      "metadata": {
        "id": "anx9MnBtDe2D",
        "colab_type": "code",
        "colab": {}
      },
      "source": [
        "# Classifier model data\n",
        "data_clas = TextClasDataBunch.from_df('./', train_df=df_train, valid_df=df_test_new, vocab=data_lm.train_ds.vocab, min_freq=1, bs=32)"
      ],
      "execution_count": 0,
      "outputs": []
    },
    {
      "cell_type": "code",
      "metadata": {
        "id": "-qV1fMHMKOZ8",
        "colab_type": "code",
        "colab": {}
      },
      "source": [
        "# Classifier\n",
        "learn = text_classifier_learner(data_clas, AWD_LSTM, drop_mult=0.5)\n",
        "learn.load_encoder('fine_enc')\n",
        "learn.freeze()"
      ],
      "execution_count": 0,
      "outputs": []
    },
    {
      "cell_type": "code",
      "metadata": {
        "id": "mGmuTjKhMU32",
        "colab_type": "code",
        "outputId": "98abcb3a-ab7f-4254-bb86-f98f383f3a81",
        "colab": {
          "base_uri": "https://localhost:8080/",
          "height": 296
        }
      },
      "source": [
        "learn.lr_find()\n",
        "learn.recorder.plot()"
      ],
      "execution_count": 12,
      "outputs": [
        {
          "output_type": "display_data",
          "data": {
            "text/html": [
              ""
            ],
            "text/plain": [
              "<IPython.core.display.HTML object>"
            ]
          },
          "metadata": {
            "tags": []
          }
        },
        {
          "output_type": "stream",
          "text": [
            "LR Finder is complete, type {learner_name}.recorder.plot() to see the graph.\n"
          ],
          "name": "stdout"
        },
        {
          "output_type": "display_data",
          "data": {
            "image/png": "[encoded data removed]",
            "text/plain": [
              "<Figure size 432x288 with 1 Axes>"
            ]
          },
          "metadata": {
            "tags": []
          }
        }
      ]
    },
    {
      "cell_type": "code",
      "metadata": {
        "id": "PNAFkP7Z3EnA",
        "colab_type": "code",
        "outputId": "bcb14187-c93d-439a-c9c2-16bee6562b68",
        "colab": {
          "base_uri": "https://localhost:8080/",
          "height": 80
        }
      },
      "source": [
        "learn = text_classifier_learner(data_clas, AWD_LSTM, drop_mult=0.5)\n",
        "learn.load_encoder('fine_enc')\n",
        "\n",
        "learn.freeze()\n",
        "learn.fit_one_cycle(1, 1e-3, moms=(0.8, 0.7))"
      ],
      "execution_count": 15,
      "outputs": [
        {
          "output_type": "display_data",
          "data": {
            "text/html": [
              "<table border=\"1\" class=\"dataframe\">\n",
              "  <thead>\n",
              "    <tr style=\"text-align: left;\">\n",
              "      <th>epoch</th>\n",
              "      <th>train_loss</th>\n",
              "      <th>valid_loss</th>\n",
              "      <th>accuracy</th>\n",
              "      <th>time</th>\n",
              "    </tr>\n",
              "  </thead>\n",
              "  <tbody>\n",
              "    <tr>\n",
              "      <td>0</td>\n",
              "      <td>2.656560</td>\n",
              "      <td>2.280760</td>\n",
              "      <td>0.517231</td>\n",
              "      <td>19:31</td>\n",
              "    </tr>\n",
              "  </tbody>\n",
              "</table>"
            ],
            "text/plain": [
              "<IPython.core.display.HTML object>"
            ]
          },
          "metadata": {
            "tags": []
          }
        }
      ]
    },
    {
      "cell_type": "code",
      "metadata": {
        "id": "i50yKGSEz5sg",
        "colab_type": "code",
        "colab": {
          "base_uri": "https://localhost:8080/",
          "height": 142
        },
        "outputId": "b0ddfc48-3602-43cc-9073-7911ff6f2136"
      },
      "source": [
        "learn.unfreeze()\n",
        "learn.fit_one_cycle(3, slice(1e-4, 1e-2))"
      ],
      "execution_count": 16,
      "outputs": [
        {
          "output_type": "display_data",
          "data": {
            "text/html": [
              "<table border=\"1\" class=\"dataframe\">\n",
              "  <thead>\n",
              "    <tr style=\"text-align: left;\">\n",
              "      <th>epoch</th>\n",
              "      <th>train_loss</th>\n",
              "      <th>valid_loss</th>\n",
              "      <th>accuracy</th>\n",
              "      <th>time</th>\n",
              "    </tr>\n",
              "  </thead>\n",
              "  <tbody>\n",
              "    <tr>\n",
              "      <td>0</td>\n",
              "      <td>2.118899</td>\n",
              "      <td>1.847632</td>\n",
              "      <td>0.591727</td>\n",
              "      <td>29:35</td>\n",
              "    </tr>\n",
              "    <tr>\n",
              "      <td>1</td>\n",
              "      <td>1.648052</td>\n",
              "      <td>1.540924</td>\n",
              "      <td>0.644749</td>\n",
              "      <td>29:19</td>\n",
              "    </tr>\n",
              "    <tr>\n",
              "      <td>2</td>\n",
              "      <td>1.390293</td>\n",
              "      <td>1.417370</td>\n",
              "      <td>0.672970</td>\n",
              "      <td>30:11</td>\n",
              "    </tr>\n",
              "  </tbody>\n",
              "</table>"
            ],
            "text/plain": [
              "<IPython.core.display.HTML object>"
            ]
          },
          "metadata": {
            "tags": []
          }
        }
      ]
    },
    {
      "cell_type": "code",
      "metadata": {
        "id": "fXOdtMUlD0np",
        "colab_type": "code",
        "colab": {
          "base_uri": "https://localhost:8080/",
          "height": 80
        },
        "outputId": "7d0f0fee-fecc-4561-a73f-09bd46e1313b"
      },
      "source": [
        "learn.freeze_to(-2)\n",
        "learn.fit_one_cycle(1, slice(1e-4,1e-2), moms=(0.8,0.7))"
      ],
      "execution_count": 17,
      "outputs": [
        {
          "output_type": "display_data",
          "data": {
            "text/html": [
              "<table border=\"1\" class=\"dataframe\">\n",
              "  <thead>\n",
              "    <tr style=\"text-align: left;\">\n",
              "      <th>epoch</th>\n",
              "      <th>train_loss</th>\n",
              "      <th>valid_loss</th>\n",
              "      <th>accuracy</th>\n",
              "      <th>time</th>\n",
              "    </tr>\n",
              "  </thead>\n",
              "  <tbody>\n",
              "    <tr>\n",
              "      <td>0</td>\n",
              "      <td>1.388839</td>\n",
              "      <td>1.440297</td>\n",
              "      <td>0.673458</td>\n",
              "      <td>20:33</td>\n",
              "    </tr>\n",
              "  </tbody>\n",
              "</table>"
            ],
            "text/plain": [
              "<IPython.core.display.HTML object>"
            ]
          },
          "metadata": {
            "tags": []
          }
        }
      ]
    },
    {
      "cell_type": "code",
      "metadata": {
        "id": "iX9YxjtND2Ce",
        "colab_type": "code",
        "colab": {
          "base_uri": "https://localhost:8080/",
          "height": 80
        },
        "outputId": "674982d0-9bc9-4f3a-dd67-e855b11c0a8b"
      },
      "source": [
        "learn.freeze_to(-3)\n",
        "learn.fit_one_cycle(1, slice(1e-5,5e-3), moms=(0.8,0.7))"
      ],
      "execution_count": 18,
      "outputs": [
        {
          "output_type": "display_data",
          "data": {
            "text/html": [
              "<table border=\"1\" class=\"dataframe\">\n",
              "  <thead>\n",
              "    <tr style=\"text-align: left;\">\n",
              "      <th>epoch</th>\n",
              "      <th>train_loss</th>\n",
              "      <th>valid_loss</th>\n",
              "      <th>accuracy</th>\n",
              "      <th>time</th>\n",
              "    </tr>\n",
              "  </thead>\n",
              "  <tbody>\n",
              "    <tr>\n",
              "      <td>0</td>\n",
              "      <td>1.321799</td>\n",
              "      <td>1.426418</td>\n",
              "      <td>0.679198</td>\n",
              "      <td>25:01</td>\n",
              "    </tr>\n",
              "  </tbody>\n",
              "</table>"
            ],
            "text/plain": [
              "<IPython.core.display.HTML object>"
            ]
          },
          "metadata": {
            "tags": []
          }
        }
      ]
    },
    {
      "cell_type": "code",
      "metadata": {
        "id": "k-H0AJ9BD7rc",
        "colab_type": "code",
        "colab": {
          "base_uri": "https://localhost:8080/",
          "height": 173
        },
        "outputId": "0e1c2756-05ed-4d03-dc1b-c3b913f90b40"
      },
      "source": [
        "learn.unfreeze()\n",
        "learn.fit_one_cycle(4, slice(1e-5,1e-3), moms=(0.8,0.7))"
      ],
      "execution_count": 19,
      "outputs": [
        {
          "output_type": "display_data",
          "data": {
            "text/html": [
              "<table border=\"1\" class=\"dataframe\">\n",
              "  <thead>\n",
              "    <tr style=\"text-align: left;\">\n",
              "      <th>epoch</th>\n",
              "      <th>train_loss</th>\n",
              "      <th>valid_loss</th>\n",
              "      <th>accuracy</th>\n",
              "      <th>time</th>\n",
              "    </tr>\n",
              "  </thead>\n",
              "  <tbody>\n",
              "    <tr>\n",
              "      <td>0</td>\n",
              "      <td>1.264797</td>\n",
              "      <td>1.424710</td>\n",
              "      <td>0.681512</td>\n",
              "      <td>27:49</td>\n",
              "    </tr>\n",
              "    <tr>\n",
              "      <td>1</td>\n",
              "      <td>1.327090</td>\n",
              "      <td>1.398366</td>\n",
              "      <td>0.685814</td>\n",
              "      <td>30:14</td>\n",
              "    </tr>\n",
              "    <tr>\n",
              "      <td>2</td>\n",
              "      <td>1.185883</td>\n",
              "      <td>1.403701</td>\n",
              "      <td>0.690354</td>\n",
              "      <td>27:48</td>\n",
              "    </tr>\n",
              "    <tr>\n",
              "      <td>3</td>\n",
              "      <td>1.132348</td>\n",
              "      <td>1.387314</td>\n",
              "      <td>0.691561</td>\n",
              "      <td>29:55</td>\n",
              "    </tr>\n",
              "  </tbody>\n",
              "</table>"
            ],
            "text/plain": [
              "<IPython.core.display.HTML object>"
            ]
          },
          "metadata": {
            "tags": []
          }
        }
      ]
    },
    {
      "cell_type": "code",
      "metadata": {
        "id": "mhc2xcrQD3qB",
        "colab_type": "code",
        "colab": {
          "base_uri": "https://localhost:8080/",
          "height": 279
        },
        "outputId": "9c1004c6-a54b-477e-ea05-7da52e26a1e4"
      },
      "source": [
        "learn.recorder.plot_losses()"
      ],
      "execution_count": 20,
      "outputs": [
        {
          "output_type": "display_data",
          "data": {
            "image/png": "[encoded data removed]",
            "text/plain": [
              "<Figure size 432x288 with 1 Axes>"
            ]
          },
          "metadata": {
            "tags": []
          }
        }
      ]
    },
    {
      "cell_type": "code",
      "metadata": {
        "id": "IkfKh6w-EBIL",
        "colab_type": "code",
        "colab": {}
      },
      "source": [
        "learn.export()"
      ],
      "execution_count": 0,
      "outputs": []
    },
    {
      "cell_type": "code",
      "metadata": {
        "id": "E-svXhehHeAu",
        "colab_type": "code",
        "colab": {
          "base_uri": "https://localhost:8080/",
          "height": 470
        },
        "outputId": "19aa610b-3179-4a06-aaff-683bbb61be9e"
      },
      "source": [
        "# get predictions\n",
        "preds, targets = learn.get_preds()\n",
        "predictions = np.argmax(preds, axis=1)\n",
        "pd.crosstab(predictions, targets)"
      ],
      "execution_count": 22,
      "outputs": [
        {
          "output_type": "execute_result",
          "data": {
            "text/html": [
              "<div>\n",
              "<style scoped>\n",
              "    .dataframe tbody tr th:only-of-type {\n",
              "        vertical-align: middle;\n",
              "    }\n",
              "\n",
              "    .dataframe tbody tr th {\n",
              "        vertical-align: top;\n",
              "    }\n",
              "\n",
              "    .dataframe thead th {\n",
              "        text-align: right;\n",
              "    }\n",
              "</style>\n",
              "<table border=\"1\" class=\"dataframe\">\n",
              "  <thead>\n",
              "    <tr style=\"text-align: right;\">\n",
              "      <th>col_0</th>\n",
              "      <th>0</th>\n",
              "      <th>3</th>\n",
              "      <th>4</th>\n",
              "      <th>5</th>\n",
              "      <th>7</th>\n",
              "      <th>8</th>\n",
              "      <th>9</th>\n",
              "      <th>10</th>\n",
              "      <th>11</th>\n",
              "      <th>12</th>\n",
              "      <th>13</th>\n",
              "      <th>14</th>\n",
              "      <th>15</th>\n",
              "      <th>16</th>\n",
              "      <th>17</th>\n",
              "      <th>18</th>\n",
              "      <th>19</th>\n",
              "      <th>20</th>\n",
              "      <th>21</th>\n",
              "      <th>22</th>\n",
              "      <th>23</th>\n",
              "      <th>24</th>\n",
              "      <th>25</th>\n",
              "      <th>26</th>\n",
              "      <th>27</th>\n",
              "      <th>28</th>\n",
              "      <th>31</th>\n",
              "      <th>32</th>\n",
              "      <th>33</th>\n",
              "      <th>34</th>\n",
              "      <th>35</th>\n",
              "      <th>36</th>\n",
              "      <th>37</th>\n",
              "      <th>38</th>\n",
              "      <th>40</th>\n",
              "      <th>42</th>\n",
              "      <th>43</th>\n",
              "      <th>44</th>\n",
              "      <th>45</th>\n",
              "      <th>46</th>\n",
              "      <th>...</th>\n",
              "      <th>666</th>\n",
              "      <th>667</th>\n",
              "      <th>668</th>\n",
              "      <th>669</th>\n",
              "      <th>670</th>\n",
              "      <th>671</th>\n",
              "      <th>672</th>\n",
              "      <th>673</th>\n",
              "      <th>674</th>\n",
              "      <th>675</th>\n",
              "      <th>676</th>\n",
              "      <th>677</th>\n",
              "      <th>678</th>\n",
              "      <th>679</th>\n",
              "      <th>681</th>\n",
              "      <th>682</th>\n",
              "      <th>683</th>\n",
              "      <th>684</th>\n",
              "      <th>685</th>\n",
              "      <th>686</th>\n",
              "      <th>687</th>\n",
              "      <th>688</th>\n",
              "      <th>689</th>\n",
              "      <th>690</th>\n",
              "      <th>691</th>\n",
              "      <th>692</th>\n",
              "      <th>693</th>\n",
              "      <th>695</th>\n",
              "      <th>696</th>\n",
              "      <th>697</th>\n",
              "      <th>698</th>\n",
              "      <th>699</th>\n",
              "      <th>700</th>\n",
              "      <th>701</th>\n",
              "      <th>702</th>\n",
              "      <th>703</th>\n",
              "      <th>704</th>\n",
              "      <th>705</th>\n",
              "      <th>706</th>\n",
              "      <th>707</th>\n",
              "    </tr>\n",
              "    <tr>\n",
              "      <th>row_0</th>\n",
              "      <th></th>\n",
              "      <th></th>\n",
              "      <th></th>\n",
              "      <th></th>\n",
              "      <th></th>\n",
              "      <th></th>\n",
              "      <th></th>\n",
              "      <th></th>\n",
              "      <th></th>\n",
              "      <th></th>\n",
              "      <th></th>\n",
              "      <th></th>\n",
              "      <th></th>\n",
              "      <th></th>\n",
              "      <th></th>\n",
              "      <th></th>\n",
              "      <th></th>\n",
              "      <th></th>\n",
              "      <th></th>\n",
              "      <th></th>\n",
              "      <th></th>\n",
              "      <th></th>\n",
              "      <th></th>\n",
              "      <th></th>\n",
              "      <th></th>\n",
              "      <th></th>\n",
              "      <th></th>\n",
              "      <th></th>\n",
              "      <th></th>\n",
              "      <th></th>\n",
              "      <th></th>\n",
              "      <th></th>\n",
              "      <th></th>\n",
              "      <th></th>\n",
              "      <th></th>\n",
              "      <th></th>\n",
              "      <th></th>\n",
              "      <th></th>\n",
              "      <th></th>\n",
              "      <th></th>\n",
              "      <th></th>\n",
              "      <th></th>\n",
              "      <th></th>\n",
              "      <th></th>\n",
              "      <th></th>\n",
              "      <th></th>\n",
              "      <th></th>\n",
              "      <th></th>\n",
              "      <th></th>\n",
              "      <th></th>\n",
              "      <th></th>\n",
              "      <th></th>\n",
              "      <th></th>\n",
              "      <th></th>\n",
              "      <th></th>\n",
              "      <th></th>\n",
              "      <th></th>\n",
              "      <th></th>\n",
              "      <th></th>\n",
              "      <th></th>\n",
              "      <th></th>\n",
              "      <th></th>\n",
              "      <th></th>\n",
              "      <th></th>\n",
              "      <th></th>\n",
              "      <th></th>\n",
              "      <th></th>\n",
              "      <th></th>\n",
              "      <th></th>\n",
              "      <th></th>\n",
              "      <th></th>\n",
              "      <th></th>\n",
              "      <th></th>\n",
              "      <th></th>\n",
              "      <th></th>\n",
              "      <th></th>\n",
              "      <th></th>\n",
              "      <th></th>\n",
              "      <th></th>\n",
              "      <th></th>\n",
              "      <th></th>\n",
              "    </tr>\n",
              "  </thead>\n",
              "  <tbody>\n",
              "    <tr>\n",
              "      <th>44</th>\n",
              "      <td>1</td>\n",
              "      <td>1</td>\n",
              "      <td>0</td>\n",
              "      <td>0</td>\n",
              "      <td>0</td>\n",
              "      <td>0</td>\n",
              "      <td>1</td>\n",
              "      <td>2</td>\n",
              "      <td>1</td>\n",
              "      <td>0</td>\n",
              "      <td>0</td>\n",
              "      <td>0</td>\n",
              "      <td>2</td>\n",
              "      <td>2</td>\n",
              "      <td>0</td>\n",
              "      <td>0</td>\n",
              "      <td>0</td>\n",
              "      <td>0</td>\n",
              "      <td>0</td>\n",
              "      <td>2</td>\n",
              "      <td>0</td>\n",
              "      <td>0</td>\n",
              "      <td>0</td>\n",
              "      <td>0</td>\n",
              "      <td>0</td>\n",
              "      <td>0</td>\n",
              "      <td>0</td>\n",
              "      <td>1</td>\n",
              "      <td>0</td>\n",
              "      <td>1</td>\n",
              "      <td>0</td>\n",
              "      <td>0</td>\n",
              "      <td>1</td>\n",
              "      <td>1</td>\n",
              "      <td>0</td>\n",
              "      <td>1</td>\n",
              "      <td>1</td>\n",
              "      <td>2965</td>\n",
              "      <td>1</td>\n",
              "      <td>0</td>\n",
              "      <td>...</td>\n",
              "      <td>0</td>\n",
              "      <td>0</td>\n",
              "      <td>0</td>\n",
              "      <td>0</td>\n",
              "      <td>0</td>\n",
              "      <td>1</td>\n",
              "      <td>0</td>\n",
              "      <td>0</td>\n",
              "      <td>0</td>\n",
              "      <td>0</td>\n",
              "      <td>9</td>\n",
              "      <td>0</td>\n",
              "      <td>0</td>\n",
              "      <td>0</td>\n",
              "      <td>0</td>\n",
              "      <td>0</td>\n",
              "      <td>0</td>\n",
              "      <td>0</td>\n",
              "      <td>0</td>\n",
              "      <td>11</td>\n",
              "      <td>0</td>\n",
              "      <td>0</td>\n",
              "      <td>0</td>\n",
              "      <td>0</td>\n",
              "      <td>0</td>\n",
              "      <td>5</td>\n",
              "      <td>0</td>\n",
              "      <td>0</td>\n",
              "      <td>0</td>\n",
              "      <td>0</td>\n",
              "      <td>0</td>\n",
              "      <td>0</td>\n",
              "      <td>1</td>\n",
              "      <td>0</td>\n",
              "      <td>0</td>\n",
              "      <td>0</td>\n",
              "      <td>0</td>\n",
              "      <td>0</td>\n",
              "      <td>0</td>\n",
              "      <td>0</td>\n",
              "    </tr>\n",
              "    <tr>\n",
              "      <th>46</th>\n",
              "      <td>2</td>\n",
              "      <td>0</td>\n",
              "      <td>0</td>\n",
              "      <td>0</td>\n",
              "      <td>0</td>\n",
              "      <td>0</td>\n",
              "      <td>0</td>\n",
              "      <td>0</td>\n",
              "      <td>0</td>\n",
              "      <td>1</td>\n",
              "      <td>1</td>\n",
              "      <td>0</td>\n",
              "      <td>0</td>\n",
              "      <td>0</td>\n",
              "      <td>0</td>\n",
              "      <td>0</td>\n",
              "      <td>0</td>\n",
              "      <td>0</td>\n",
              "      <td>0</td>\n",
              "      <td>0</td>\n",
              "      <td>3</td>\n",
              "      <td>0</td>\n",
              "      <td>0</td>\n",
              "      <td>0</td>\n",
              "      <td>0</td>\n",
              "      <td>0</td>\n",
              "      <td>0</td>\n",
              "      <td>0</td>\n",
              "      <td>0</td>\n",
              "      <td>2</td>\n",
              "      <td>0</td>\n",
              "      <td>0</td>\n",
              "      <td>0</td>\n",
              "      <td>0</td>\n",
              "      <td>0</td>\n",
              "      <td>0</td>\n",
              "      <td>0</td>\n",
              "      <td>0</td>\n",
              "      <td>0</td>\n",
              "      <td>964</td>\n",
              "      <td>...</td>\n",
              "      <td>0</td>\n",
              "      <td>0</td>\n",
              "      <td>0</td>\n",
              "      <td>0</td>\n",
              "      <td>0</td>\n",
              "      <td>0</td>\n",
              "      <td>0</td>\n",
              "      <td>0</td>\n",
              "      <td>0</td>\n",
              "      <td>0</td>\n",
              "      <td>1</td>\n",
              "      <td>0</td>\n",
              "      <td>0</td>\n",
              "      <td>0</td>\n",
              "      <td>0</td>\n",
              "      <td>0</td>\n",
              "      <td>0</td>\n",
              "      <td>0</td>\n",
              "      <td>0</td>\n",
              "      <td>0</td>\n",
              "      <td>0</td>\n",
              "      <td>2</td>\n",
              "      <td>0</td>\n",
              "      <td>0</td>\n",
              "      <td>0</td>\n",
              "      <td>0</td>\n",
              "      <td>0</td>\n",
              "      <td>0</td>\n",
              "      <td>0</td>\n",
              "      <td>0</td>\n",
              "      <td>0</td>\n",
              "      <td>0</td>\n",
              "      <td>0</td>\n",
              "      <td>0</td>\n",
              "      <td>0</td>\n",
              "      <td>0</td>\n",
              "      <td>0</td>\n",
              "      <td>0</td>\n",
              "      <td>4</td>\n",
              "      <td>0</td>\n",
              "    </tr>\n",
              "    <tr>\n",
              "      <th>49</th>\n",
              "      <td>1</td>\n",
              "      <td>1</td>\n",
              "      <td>1</td>\n",
              "      <td>0</td>\n",
              "      <td>1</td>\n",
              "      <td>0</td>\n",
              "      <td>0</td>\n",
              "      <td>0</td>\n",
              "      <td>0</td>\n",
              "      <td>0</td>\n",
              "      <td>2</td>\n",
              "      <td>0</td>\n",
              "      <td>0</td>\n",
              "      <td>0</td>\n",
              "      <td>0</td>\n",
              "      <td>0</td>\n",
              "      <td>0</td>\n",
              "      <td>0</td>\n",
              "      <td>0</td>\n",
              "      <td>0</td>\n",
              "      <td>2</td>\n",
              "      <td>0</td>\n",
              "      <td>0</td>\n",
              "      <td>0</td>\n",
              "      <td>0</td>\n",
              "      <td>0</td>\n",
              "      <td>0</td>\n",
              "      <td>2</td>\n",
              "      <td>0</td>\n",
              "      <td>2</td>\n",
              "      <td>0</td>\n",
              "      <td>0</td>\n",
              "      <td>1</td>\n",
              "      <td>1</td>\n",
              "      <td>1</td>\n",
              "      <td>0</td>\n",
              "      <td>0</td>\n",
              "      <td>0</td>\n",
              "      <td>0</td>\n",
              "      <td>2</td>\n",
              "      <td>...</td>\n",
              "      <td>0</td>\n",
              "      <td>0</td>\n",
              "      <td>0</td>\n",
              "      <td>0</td>\n",
              "      <td>0</td>\n",
              "      <td>1</td>\n",
              "      <td>0</td>\n",
              "      <td>0</td>\n",
              "      <td>0</td>\n",
              "      <td>0</td>\n",
              "      <td>0</td>\n",
              "      <td>0</td>\n",
              "      <td>0</td>\n",
              "      <td>0</td>\n",
              "      <td>0</td>\n",
              "      <td>0</td>\n",
              "      <td>2</td>\n",
              "      <td>0</td>\n",
              "      <td>0</td>\n",
              "      <td>0</td>\n",
              "      <td>0</td>\n",
              "      <td>0</td>\n",
              "      <td>0</td>\n",
              "      <td>0</td>\n",
              "      <td>0</td>\n",
              "      <td>1</td>\n",
              "      <td>0</td>\n",
              "      <td>0</td>\n",
              "      <td>0</td>\n",
              "      <td>0</td>\n",
              "      <td>0</td>\n",
              "      <td>0</td>\n",
              "      <td>0</td>\n",
              "      <td>0</td>\n",
              "      <td>0</td>\n",
              "      <td>0</td>\n",
              "      <td>0</td>\n",
              "      <td>0</td>\n",
              "      <td>0</td>\n",
              "      <td>0</td>\n",
              "    </tr>\n",
              "    <tr>\n",
              "      <th>59</th>\n",
              "      <td>0</td>\n",
              "      <td>0</td>\n",
              "      <td>0</td>\n",
              "      <td>0</td>\n",
              "      <td>0</td>\n",
              "      <td>0</td>\n",
              "      <td>0</td>\n",
              "      <td>0</td>\n",
              "      <td>0</td>\n",
              "      <td>0</td>\n",
              "      <td>0</td>\n",
              "      <td>0</td>\n",
              "      <td>0</td>\n",
              "      <td>0</td>\n",
              "      <td>0</td>\n",
              "      <td>0</td>\n",
              "      <td>0</td>\n",
              "      <td>0</td>\n",
              "      <td>0</td>\n",
              "      <td>0</td>\n",
              "      <td>0</td>\n",
              "      <td>0</td>\n",
              "      <td>0</td>\n",
              "      <td>0</td>\n",
              "      <td>0</td>\n",
              "      <td>0</td>\n",
              "      <td>0</td>\n",
              "      <td>0</td>\n",
              "      <td>0</td>\n",
              "      <td>0</td>\n",
              "      <td>0</td>\n",
              "      <td>0</td>\n",
              "      <td>0</td>\n",
              "      <td>0</td>\n",
              "      <td>0</td>\n",
              "      <td>0</td>\n",
              "      <td>0</td>\n",
              "      <td>0</td>\n",
              "      <td>0</td>\n",
              "      <td>0</td>\n",
              "      <td>...</td>\n",
              "      <td>0</td>\n",
              "      <td>0</td>\n",
              "      <td>0</td>\n",
              "      <td>0</td>\n",
              "      <td>0</td>\n",
              "      <td>0</td>\n",
              "      <td>0</td>\n",
              "      <td>0</td>\n",
              "      <td>0</td>\n",
              "      <td>0</td>\n",
              "      <td>0</td>\n",
              "      <td>0</td>\n",
              "      <td>0</td>\n",
              "      <td>0</td>\n",
              "      <td>0</td>\n",
              "      <td>0</td>\n",
              "      <td>0</td>\n",
              "      <td>0</td>\n",
              "      <td>0</td>\n",
              "      <td>0</td>\n",
              "      <td>0</td>\n",
              "      <td>0</td>\n",
              "      <td>0</td>\n",
              "      <td>0</td>\n",
              "      <td>0</td>\n",
              "      <td>0</td>\n",
              "      <td>0</td>\n",
              "      <td>0</td>\n",
              "      <td>0</td>\n",
              "      <td>0</td>\n",
              "      <td>0</td>\n",
              "      <td>0</td>\n",
              "      <td>0</td>\n",
              "      <td>0</td>\n",
              "      <td>0</td>\n",
              "      <td>0</td>\n",
              "      <td>0</td>\n",
              "      <td>0</td>\n",
              "      <td>0</td>\n",
              "      <td>0</td>\n",
              "    </tr>\n",
              "    <tr>\n",
              "      <th>61</th>\n",
              "      <td>0</td>\n",
              "      <td>0</td>\n",
              "      <td>0</td>\n",
              "      <td>0</td>\n",
              "      <td>0</td>\n",
              "      <td>0</td>\n",
              "      <td>1</td>\n",
              "      <td>0</td>\n",
              "      <td>1</td>\n",
              "      <td>0</td>\n",
              "      <td>0</td>\n",
              "      <td>0</td>\n",
              "      <td>0</td>\n",
              "      <td>0</td>\n",
              "      <td>0</td>\n",
              "      <td>0</td>\n",
              "      <td>0</td>\n",
              "      <td>0</td>\n",
              "      <td>0</td>\n",
              "      <td>0</td>\n",
              "      <td>0</td>\n",
              "      <td>0</td>\n",
              "      <td>0</td>\n",
              "      <td>0</td>\n",
              "      <td>0</td>\n",
              "      <td>0</td>\n",
              "      <td>0</td>\n",
              "      <td>0</td>\n",
              "      <td>0</td>\n",
              "      <td>0</td>\n",
              "      <td>0</td>\n",
              "      <td>0</td>\n",
              "      <td>0</td>\n",
              "      <td>0</td>\n",
              "      <td>0</td>\n",
              "      <td>0</td>\n",
              "      <td>0</td>\n",
              "      <td>2</td>\n",
              "      <td>0</td>\n",
              "      <td>0</td>\n",
              "      <td>...</td>\n",
              "      <td>0</td>\n",
              "      <td>0</td>\n",
              "      <td>0</td>\n",
              "      <td>0</td>\n",
              "      <td>0</td>\n",
              "      <td>0</td>\n",
              "      <td>0</td>\n",
              "      <td>0</td>\n",
              "      <td>0</td>\n",
              "      <td>0</td>\n",
              "      <td>0</td>\n",
              "      <td>0</td>\n",
              "      <td>0</td>\n",
              "      <td>0</td>\n",
              "      <td>0</td>\n",
              "      <td>0</td>\n",
              "      <td>0</td>\n",
              "      <td>0</td>\n",
              "      <td>0</td>\n",
              "      <td>0</td>\n",
              "      <td>0</td>\n",
              "      <td>0</td>\n",
              "      <td>0</td>\n",
              "      <td>0</td>\n",
              "      <td>0</td>\n",
              "      <td>1</td>\n",
              "      <td>0</td>\n",
              "      <td>0</td>\n",
              "      <td>0</td>\n",
              "      <td>0</td>\n",
              "      <td>0</td>\n",
              "      <td>0</td>\n",
              "      <td>0</td>\n",
              "      <td>0</td>\n",
              "      <td>0</td>\n",
              "      <td>0</td>\n",
              "      <td>0</td>\n",
              "      <td>0</td>\n",
              "      <td>0</td>\n",
              "      <td>0</td>\n",
              "    </tr>\n",
              "    <tr>\n",
              "      <th>...</th>\n",
              "      <td>...</td>\n",
              "      <td>...</td>\n",
              "      <td>...</td>\n",
              "      <td>...</td>\n",
              "      <td>...</td>\n",
              "      <td>...</td>\n",
              "      <td>...</td>\n",
              "      <td>...</td>\n",
              "      <td>...</td>\n",
              "      <td>...</td>\n",
              "      <td>...</td>\n",
              "      <td>...</td>\n",
              "      <td>...</td>\n",
              "      <td>...</td>\n",
              "      <td>...</td>\n",
              "      <td>...</td>\n",
              "      <td>...</td>\n",
              "      <td>...</td>\n",
              "      <td>...</td>\n",
              "      <td>...</td>\n",
              "      <td>...</td>\n",
              "      <td>...</td>\n",
              "      <td>...</td>\n",
              "      <td>...</td>\n",
              "      <td>...</td>\n",
              "      <td>...</td>\n",
              "      <td>...</td>\n",
              "      <td>...</td>\n",
              "      <td>...</td>\n",
              "      <td>...</td>\n",
              "      <td>...</td>\n",
              "      <td>...</td>\n",
              "      <td>...</td>\n",
              "      <td>...</td>\n",
              "      <td>...</td>\n",
              "      <td>...</td>\n",
              "      <td>...</td>\n",
              "      <td>...</td>\n",
              "      <td>...</td>\n",
              "      <td>...</td>\n",
              "      <td>...</td>\n",
              "      <td>...</td>\n",
              "      <td>...</td>\n",
              "      <td>...</td>\n",
              "      <td>...</td>\n",
              "      <td>...</td>\n",
              "      <td>...</td>\n",
              "      <td>...</td>\n",
              "      <td>...</td>\n",
              "      <td>...</td>\n",
              "      <td>...</td>\n",
              "      <td>...</td>\n",
              "      <td>...</td>\n",
              "      <td>...</td>\n",
              "      <td>...</td>\n",
              "      <td>...</td>\n",
              "      <td>...</td>\n",
              "      <td>...</td>\n",
              "      <td>...</td>\n",
              "      <td>...</td>\n",
              "      <td>...</td>\n",
              "      <td>...</td>\n",
              "      <td>...</td>\n",
              "      <td>...</td>\n",
              "      <td>...</td>\n",
              "      <td>...</td>\n",
              "      <td>...</td>\n",
              "      <td>...</td>\n",
              "      <td>...</td>\n",
              "      <td>...</td>\n",
              "      <td>...</td>\n",
              "      <td>...</td>\n",
              "      <td>...</td>\n",
              "      <td>...</td>\n",
              "      <td>...</td>\n",
              "      <td>...</td>\n",
              "      <td>...</td>\n",
              "      <td>...</td>\n",
              "      <td>...</td>\n",
              "      <td>...</td>\n",
              "      <td>...</td>\n",
              "    </tr>\n",
              "    <tr>\n",
              "      <th>688</th>\n",
              "      <td>0</td>\n",
              "      <td>0</td>\n",
              "      <td>0</td>\n",
              "      <td>0</td>\n",
              "      <td>0</td>\n",
              "      <td>0</td>\n",
              "      <td>0</td>\n",
              "      <td>0</td>\n",
              "      <td>0</td>\n",
              "      <td>0</td>\n",
              "      <td>0</td>\n",
              "      <td>0</td>\n",
              "      <td>0</td>\n",
              "      <td>0</td>\n",
              "      <td>0</td>\n",
              "      <td>0</td>\n",
              "      <td>0</td>\n",
              "      <td>0</td>\n",
              "      <td>0</td>\n",
              "      <td>0</td>\n",
              "      <td>0</td>\n",
              "      <td>0</td>\n",
              "      <td>0</td>\n",
              "      <td>0</td>\n",
              "      <td>0</td>\n",
              "      <td>0</td>\n",
              "      <td>0</td>\n",
              "      <td>0</td>\n",
              "      <td>0</td>\n",
              "      <td>0</td>\n",
              "      <td>0</td>\n",
              "      <td>0</td>\n",
              "      <td>0</td>\n",
              "      <td>0</td>\n",
              "      <td>0</td>\n",
              "      <td>0</td>\n",
              "      <td>0</td>\n",
              "      <td>0</td>\n",
              "      <td>0</td>\n",
              "      <td>0</td>\n",
              "      <td>...</td>\n",
              "      <td>0</td>\n",
              "      <td>0</td>\n",
              "      <td>0</td>\n",
              "      <td>0</td>\n",
              "      <td>0</td>\n",
              "      <td>0</td>\n",
              "      <td>0</td>\n",
              "      <td>0</td>\n",
              "      <td>0</td>\n",
              "      <td>0</td>\n",
              "      <td>0</td>\n",
              "      <td>0</td>\n",
              "      <td>0</td>\n",
              "      <td>0</td>\n",
              "      <td>0</td>\n",
              "      <td>0</td>\n",
              "      <td>0</td>\n",
              "      <td>0</td>\n",
              "      <td>0</td>\n",
              "      <td>0</td>\n",
              "      <td>0</td>\n",
              "      <td>45</td>\n",
              "      <td>0</td>\n",
              "      <td>0</td>\n",
              "      <td>0</td>\n",
              "      <td>0</td>\n",
              "      <td>0</td>\n",
              "      <td>0</td>\n",
              "      <td>0</td>\n",
              "      <td>0</td>\n",
              "      <td>0</td>\n",
              "      <td>0</td>\n",
              "      <td>0</td>\n",
              "      <td>0</td>\n",
              "      <td>0</td>\n",
              "      <td>0</td>\n",
              "      <td>0</td>\n",
              "      <td>0</td>\n",
              "      <td>0</td>\n",
              "      <td>0</td>\n",
              "    </tr>\n",
              "    <tr>\n",
              "      <th>692</th>\n",
              "      <td>0</td>\n",
              "      <td>0</td>\n",
              "      <td>0</td>\n",
              "      <td>0</td>\n",
              "      <td>0</td>\n",
              "      <td>0</td>\n",
              "      <td>0</td>\n",
              "      <td>0</td>\n",
              "      <td>1</td>\n",
              "      <td>0</td>\n",
              "      <td>0</td>\n",
              "      <td>0</td>\n",
              "      <td>0</td>\n",
              "      <td>0</td>\n",
              "      <td>0</td>\n",
              "      <td>0</td>\n",
              "      <td>0</td>\n",
              "      <td>0</td>\n",
              "      <td>0</td>\n",
              "      <td>0</td>\n",
              "      <td>0</td>\n",
              "      <td>0</td>\n",
              "      <td>0</td>\n",
              "      <td>0</td>\n",
              "      <td>0</td>\n",
              "      <td>0</td>\n",
              "      <td>0</td>\n",
              "      <td>1</td>\n",
              "      <td>0</td>\n",
              "      <td>0</td>\n",
              "      <td>0</td>\n",
              "      <td>1</td>\n",
              "      <td>1</td>\n",
              "      <td>1</td>\n",
              "      <td>0</td>\n",
              "      <td>0</td>\n",
              "      <td>0</td>\n",
              "      <td>2</td>\n",
              "      <td>0</td>\n",
              "      <td>0</td>\n",
              "      <td>...</td>\n",
              "      <td>0</td>\n",
              "      <td>0</td>\n",
              "      <td>0</td>\n",
              "      <td>0</td>\n",
              "      <td>0</td>\n",
              "      <td>0</td>\n",
              "      <td>0</td>\n",
              "      <td>11</td>\n",
              "      <td>0</td>\n",
              "      <td>0</td>\n",
              "      <td>2</td>\n",
              "      <td>0</td>\n",
              "      <td>0</td>\n",
              "      <td>0</td>\n",
              "      <td>0</td>\n",
              "      <td>0</td>\n",
              "      <td>0</td>\n",
              "      <td>0</td>\n",
              "      <td>0</td>\n",
              "      <td>2</td>\n",
              "      <td>0</td>\n",
              "      <td>0</td>\n",
              "      <td>0</td>\n",
              "      <td>0</td>\n",
              "      <td>0</td>\n",
              "      <td>1264</td>\n",
              "      <td>0</td>\n",
              "      <td>0</td>\n",
              "      <td>0</td>\n",
              "      <td>0</td>\n",
              "      <td>0</td>\n",
              "      <td>0</td>\n",
              "      <td>0</td>\n",
              "      <td>0</td>\n",
              "      <td>0</td>\n",
              "      <td>0</td>\n",
              "      <td>0</td>\n",
              "      <td>0</td>\n",
              "      <td>0</td>\n",
              "      <td>0</td>\n",
              "    </tr>\n",
              "    <tr>\n",
              "      <th>696</th>\n",
              "      <td>0</td>\n",
              "      <td>0</td>\n",
              "      <td>0</td>\n",
              "      <td>0</td>\n",
              "      <td>0</td>\n",
              "      <td>0</td>\n",
              "      <td>0</td>\n",
              "      <td>0</td>\n",
              "      <td>0</td>\n",
              "      <td>0</td>\n",
              "      <td>0</td>\n",
              "      <td>0</td>\n",
              "      <td>0</td>\n",
              "      <td>0</td>\n",
              "      <td>0</td>\n",
              "      <td>0</td>\n",
              "      <td>0</td>\n",
              "      <td>0</td>\n",
              "      <td>0</td>\n",
              "      <td>0</td>\n",
              "      <td>0</td>\n",
              "      <td>0</td>\n",
              "      <td>0</td>\n",
              "      <td>0</td>\n",
              "      <td>0</td>\n",
              "      <td>0</td>\n",
              "      <td>0</td>\n",
              "      <td>0</td>\n",
              "      <td>0</td>\n",
              "      <td>0</td>\n",
              "      <td>0</td>\n",
              "      <td>0</td>\n",
              "      <td>0</td>\n",
              "      <td>0</td>\n",
              "      <td>0</td>\n",
              "      <td>0</td>\n",
              "      <td>0</td>\n",
              "      <td>2</td>\n",
              "      <td>0</td>\n",
              "      <td>0</td>\n",
              "      <td>...</td>\n",
              "      <td>0</td>\n",
              "      <td>0</td>\n",
              "      <td>0</td>\n",
              "      <td>0</td>\n",
              "      <td>0</td>\n",
              "      <td>0</td>\n",
              "      <td>0</td>\n",
              "      <td>0</td>\n",
              "      <td>0</td>\n",
              "      <td>0</td>\n",
              "      <td>0</td>\n",
              "      <td>0</td>\n",
              "      <td>0</td>\n",
              "      <td>0</td>\n",
              "      <td>0</td>\n",
              "      <td>0</td>\n",
              "      <td>0</td>\n",
              "      <td>0</td>\n",
              "      <td>0</td>\n",
              "      <td>0</td>\n",
              "      <td>0</td>\n",
              "      <td>0</td>\n",
              "      <td>0</td>\n",
              "      <td>0</td>\n",
              "      <td>0</td>\n",
              "      <td>0</td>\n",
              "      <td>0</td>\n",
              "      <td>0</td>\n",
              "      <td>140</td>\n",
              "      <td>0</td>\n",
              "      <td>0</td>\n",
              "      <td>0</td>\n",
              "      <td>0</td>\n",
              "      <td>0</td>\n",
              "      <td>0</td>\n",
              "      <td>0</td>\n",
              "      <td>0</td>\n",
              "      <td>0</td>\n",
              "      <td>0</td>\n",
              "      <td>0</td>\n",
              "    </tr>\n",
              "    <tr>\n",
              "      <th>700</th>\n",
              "      <td>0</td>\n",
              "      <td>0</td>\n",
              "      <td>0</td>\n",
              "      <td>0</td>\n",
              "      <td>0</td>\n",
              "      <td>0</td>\n",
              "      <td>0</td>\n",
              "      <td>0</td>\n",
              "      <td>0</td>\n",
              "      <td>0</td>\n",
              "      <td>0</td>\n",
              "      <td>0</td>\n",
              "      <td>0</td>\n",
              "      <td>0</td>\n",
              "      <td>0</td>\n",
              "      <td>0</td>\n",
              "      <td>0</td>\n",
              "      <td>0</td>\n",
              "      <td>0</td>\n",
              "      <td>0</td>\n",
              "      <td>0</td>\n",
              "      <td>0</td>\n",
              "      <td>0</td>\n",
              "      <td>0</td>\n",
              "      <td>0</td>\n",
              "      <td>0</td>\n",
              "      <td>0</td>\n",
              "      <td>0</td>\n",
              "      <td>0</td>\n",
              "      <td>0</td>\n",
              "      <td>0</td>\n",
              "      <td>0</td>\n",
              "      <td>0</td>\n",
              "      <td>0</td>\n",
              "      <td>0</td>\n",
              "      <td>0</td>\n",
              "      <td>0</td>\n",
              "      <td>0</td>\n",
              "      <td>0</td>\n",
              "      <td>0</td>\n",
              "      <td>...</td>\n",
              "      <td>0</td>\n",
              "      <td>0</td>\n",
              "      <td>0</td>\n",
              "      <td>0</td>\n",
              "      <td>0</td>\n",
              "      <td>0</td>\n",
              "      <td>0</td>\n",
              "      <td>0</td>\n",
              "      <td>0</td>\n",
              "      <td>0</td>\n",
              "      <td>0</td>\n",
              "      <td>0</td>\n",
              "      <td>0</td>\n",
              "      <td>0</td>\n",
              "      <td>0</td>\n",
              "      <td>0</td>\n",
              "      <td>0</td>\n",
              "      <td>0</td>\n",
              "      <td>0</td>\n",
              "      <td>0</td>\n",
              "      <td>0</td>\n",
              "      <td>0</td>\n",
              "      <td>0</td>\n",
              "      <td>0</td>\n",
              "      <td>0</td>\n",
              "      <td>0</td>\n",
              "      <td>0</td>\n",
              "      <td>0</td>\n",
              "      <td>0</td>\n",
              "      <td>0</td>\n",
              "      <td>0</td>\n",
              "      <td>0</td>\n",
              "      <td>0</td>\n",
              "      <td>0</td>\n",
              "      <td>0</td>\n",
              "      <td>0</td>\n",
              "      <td>0</td>\n",
              "      <td>0</td>\n",
              "      <td>0</td>\n",
              "      <td>0</td>\n",
              "    </tr>\n",
              "    <tr>\n",
              "      <th>703</th>\n",
              "      <td>0</td>\n",
              "      <td>0</td>\n",
              "      <td>0</td>\n",
              "      <td>0</td>\n",
              "      <td>0</td>\n",
              "      <td>0</td>\n",
              "      <td>0</td>\n",
              "      <td>0</td>\n",
              "      <td>0</td>\n",
              "      <td>0</td>\n",
              "      <td>0</td>\n",
              "      <td>0</td>\n",
              "      <td>0</td>\n",
              "      <td>0</td>\n",
              "      <td>0</td>\n",
              "      <td>0</td>\n",
              "      <td>0</td>\n",
              "      <td>0</td>\n",
              "      <td>0</td>\n",
              "      <td>0</td>\n",
              "      <td>0</td>\n",
              "      <td>0</td>\n",
              "      <td>0</td>\n",
              "      <td>0</td>\n",
              "      <td>0</td>\n",
              "      <td>0</td>\n",
              "      <td>0</td>\n",
              "      <td>0</td>\n",
              "      <td>0</td>\n",
              "      <td>0</td>\n",
              "      <td>0</td>\n",
              "      <td>0</td>\n",
              "      <td>0</td>\n",
              "      <td>0</td>\n",
              "      <td>0</td>\n",
              "      <td>0</td>\n",
              "      <td>0</td>\n",
              "      <td>0</td>\n",
              "      <td>0</td>\n",
              "      <td>0</td>\n",
              "      <td>...</td>\n",
              "      <td>0</td>\n",
              "      <td>0</td>\n",
              "      <td>0</td>\n",
              "      <td>0</td>\n",
              "      <td>0</td>\n",
              "      <td>0</td>\n",
              "      <td>0</td>\n",
              "      <td>0</td>\n",
              "      <td>0</td>\n",
              "      <td>0</td>\n",
              "      <td>0</td>\n",
              "      <td>0</td>\n",
              "      <td>0</td>\n",
              "      <td>0</td>\n",
              "      <td>0</td>\n",
              "      <td>0</td>\n",
              "      <td>0</td>\n",
              "      <td>0</td>\n",
              "      <td>0</td>\n",
              "      <td>0</td>\n",
              "      <td>0</td>\n",
              "      <td>0</td>\n",
              "      <td>0</td>\n",
              "      <td>0</td>\n",
              "      <td>0</td>\n",
              "      <td>0</td>\n",
              "      <td>0</td>\n",
              "      <td>0</td>\n",
              "      <td>0</td>\n",
              "      <td>0</td>\n",
              "      <td>0</td>\n",
              "      <td>0</td>\n",
              "      <td>0</td>\n",
              "      <td>0</td>\n",
              "      <td>0</td>\n",
              "      <td>20</td>\n",
              "      <td>0</td>\n",
              "      <td>0</td>\n",
              "      <td>0</td>\n",
              "      <td>0</td>\n",
              "    </tr>\n",
              "  </tbody>\n",
              "</table>\n",
              "<p>258 rows × 676 columns</p>\n",
              "</div>"
            ],
            "text/plain": [
              "col_0  0    3    4    5    7    8    9    ...  701  702  703  704  705  706  707\n",
              "row_0                                     ...                                   \n",
              "44       1    1    0    0    0    0    1  ...    0    0    0    0    0    0    0\n",
              "46       2    0    0    0    0    0    0  ...    0    0    0    0    0    4    0\n",
              "49       1    1    1    0    1    0    0  ...    0    0    0    0    0    0    0\n",
              "59       0    0    0    0    0    0    0  ...    0    0    0    0    0    0    0\n",
              "61       0    0    0    0    0    0    1  ...    0    0    0    0    0    0    0\n",
              "...    ...  ...  ...  ...  ...  ...  ...  ...  ...  ...  ...  ...  ...  ...  ...\n",
              "688      0    0    0    0    0    0    0  ...    0    0    0    0    0    0    0\n",
              "692      0    0    0    0    0    0    0  ...    0    0    0    0    0    0    0\n",
              "696      0    0    0    0    0    0    0  ...    0    0    0    0    0    0    0\n",
              "700      0    0    0    0    0    0    0  ...    0    0    0    0    0    0    0\n",
              "703      0    0    0    0    0    0    0  ...    0    0   20    0    0    0    0\n",
              "\n",
              "[258 rows x 676 columns]"
            ]
          },
          "metadata": {
            "tags": []
          },
          "execution_count": 22
        }
      ]
    },
    {
      "cell_type": "code",
      "metadata": {
        "id": "h-g5NzzjEALD",
        "colab_type": "code",
        "colab": {
          "base_uri": "https://localhost:8080/",
          "height": 272
        },
        "outputId": "b9a767fc-a2a2-4945-cb06-e2e62e874ee9"
      },
      "source": [
        "# from fastai.vision import *\n",
        "\n",
        "# preds, y, losses = learn.get_preds(with_loss = 1)\n",
        "print(f\"softmax predictions: {preds}\")\n",
        "print(f\"indexed predictions:{predictions}\")\n",
        "print(f\"targets:{targets}\")"
      ],
      "execution_count": 23,
      "outputs": [
        {
          "output_type": "stream",
          "text": [
            "softmax predictions: tensor([[1.1177e-04, 4.8905e-09, 9.4790e-09,  ..., 4.1949e-09, 1.3170e-06,\n",
            "         9.5008e-07],\n",
            "        [3.4904e-05, 1.3552e-09, 2.3908e-09,  ..., 9.0101e-10, 3.2567e-07,\n",
            "         3.4303e-07],\n",
            "        [5.2162e-08, 1.5688e-11, 1.8579e-11,  ..., 7.8530e-12, 8.2374e-09,\n",
            "         2.6550e-08],\n",
            "        ...,\n",
            "        [5.4244e-04, 5.3269e-08, 1.1697e-07,  ..., 3.5054e-08, 2.0744e-05,\n",
            "         3.1275e-05],\n",
            "        [5.3990e-04, 6.6220e-08, 1.2545e-07,  ..., 4.0712e-08, 2.7477e-05,\n",
            "         6.4669e-05],\n",
            "        [7.0963e-04, 3.2598e-08, 5.9934e-08,  ..., 1.6792e-08, 1.8107e-05,\n",
            "         2.6752e-05]])\n",
            "indexed predictions:tensor([201, 448, 236,  ..., 201, 244, 478])\n",
            "targets:tensor([402, 448, 236,  ...,  87, 569, 414])\n"
          ],
          "name": "stdout"
        }
      ]
    },
    {
      "cell_type": "code",
      "metadata": {
        "id": "vfAU1Msv5iJg",
        "colab_type": "code",
        "colab": {
          "base_uri": "https://localhost:8080/",
          "height": 54
        },
        "outputId": "83be9e29-9c78-475b-9fa9-16e919ea2532"
      },
      "source": [
        "class_names = learn.data.classes\n",
        "print(class_names)"
      ],
      "execution_count": 24,
      "outputs": [
        {
          "output_type": "stream",
          "text": [
            "['0</span> users found this comment helpful.', '100</span> users found this comment helpful.', '105</span> users found this comment helpful.', '10</span> users found this comment helpful.', '11</span> users found this comment helpful.', '12</span> users found this comment helpful.', '135</span> users found this comment helpful.', '13</span> users found this comment helpful.', '14</span> users found this comment helpful.', '15</span> users found this comment helpful.', '16</span> users found this comment helpful.', '17</span> users found this comment helpful.', '18</span> users found this comment helpful.', '1</span> users found this comment helpful.', '20</span> users found this comment helpful.', '21</span> users found this comment helpful.', '22</span> users found this comment helpful.', '23</span> users found this comment helpful.', '24</span> users found this comment helpful.', '25</span> users found this comment helpful.', '27</span> users found this comment helpful.', '28</span> users found this comment helpful.', '29</span> users found this comment helpful.', '2</span> users found this comment helpful.', '31</span> users found this comment helpful.', '32</span> users found this comment helpful.', '33</span> users found this comment helpful.', '34</span> users found this comment helpful.', '35</span> users found this comment helpful.', '37</span> users found this comment helpful.', '38</span> users found this comment helpful.', '39</span> users found this comment helpful.', '3</span> users found this comment helpful.', '41</span> users found this comment helpful.', '4</span> users found this comment helpful.', '51</span> users found this comment helpful.', '55</span> users found this comment helpful.', '5</span> users found this comment helpful.', '6</span> users found this comment helpful.', '70</span> users found this comment helpful.', '7</span> users found this comment helpful.', '83</span> users found this comment helpful.', '8</span> users found this comment helpful.', '9</span> users found this comment helpful.', 'ADHD', 'AIDS Related Wasting', 'Abnormal Uterine Bleeding', 'Abortion', 'Acetaminophen Overdose', 'Acne', 'Actinic Keratosis', 'Acute Coronary Syndrome', 'Acute Lymphoblastic Leukemia', 'Acute Nonlymphocytic Leukemia', 'Acute Otitis Externa', 'Acute Promyelocytic Leukemia', \"Addison's Disease\", 'Adrenocortical Insufficiency', 'Adult Human Growth Hormone Deficiency', 'Agitated State', 'Agitation', 'Alcohol Dependence', 'Alcohol Withdrawal', 'Allergic Reactions', 'Allergic Rhinitis', 'Allergic Urticaria', 'Allergies', 'Alopecia', 'Alpha-1 Proteinase Inhibitor Deficiency', \"Alzheimer's Disease\", 'Amebiasis', 'Amenorrhea', 'Anal Fissure and Fistula', 'Anal Itching', 'Anaplastic Astrocytoma', 'Androgenetic Alopecia', 'Anemia', 'Anemia Associated with Chronic Renal Failure', 'Anemia, Chemotherapy Induced', 'Anemia, Sickle Cell', 'Anesthesia', 'Angina', 'Angina Pectoris Prophylaxis', 'Ankylosing Spondylitis', 'Anorexia', 'Anthrax', 'Antiphospholipid Syndrome', 'Anxiety', 'Anxiety and Stress', 'Aphthous Ulce', 'Aplastic Anemia', 'Arrhythmia', 'Asperger Syndrome', 'Aspergillosis, Aspergilloma', 'Asthma', 'Asthma, Maintenance', 'Asthma, acute', 'Atopic Dermatitis', 'Atrial Fibrillation', 'Atrial Flutte', 'Atrophic Urethritis', 'Atrophic Vaginitis', 'Auditory Processing Disorde', 'Autism', 'Autoimmune Hemolytic Anemia', 'Autoimmune Hepatitis', 'B12 Nutritional Deficiency', 'Back Pain', 'Bacteremia', 'Bacterial Endocarditis Prevention', 'Bacterial Infection', 'Bacterial Skin Infection', 'Bacterial Vaginitis', \"Barrett's Esophagus\", 'Basal Cell Carcinoma', \"Behcet's Disease\", 'Benign Essential Trem', 'Benign Prostatic Hyperplasia', 'Benzodiazepine Withdrawal', 'Biliary Cirrhosis', 'Binge Eating Disorde', 'Bipolar Disorde', 'Birth Control', 'Bladder Infection', 'Bleeding Disorde', 'Blepharitis', 'Body Dysmorphic Disorde', 'Bone infection', 'Borderline Personality Disorde', 'Bowel Preparation', 'Breakthrough Pain', 'Breast Cance', 'Breast Cancer, Adjuvant', 'Breast Cancer, Metastatic', 'Breast Cancer, Palliative', 'Breast Cancer, Prevention', 'Bronchitis', 'Bronchospasm Prophylaxis', 'Bulimia', 'Bullous Pemphigoid', 'Burning Mouth Syndrome', 'Burns, External', 'Bursitis', 'CMV Prophylaxis', 'COPD', 'COPD, Acute', 'COPD, Maintenance', 'Cachexia', 'Cance', 'Cataplexy', 'Cerebral Edema', 'Cerebral Spasticity', 'Cervical Dystonia', 'Chlamydia Infection', 'Chronic Fatigue Syndrome', 'Chronic Idiopathic Constipation', 'Chronic Inflammatory Demyelinating Polyradiculoneuropathy', 'Chronic Lymphocytic Leukemia', 'Chronic Myelogenous Leukemia', 'Chronic Myofascial Pain', 'Chronic Pain', 'Chronic Pancreatitis', 'Chronic Spasticity', 'Clostridial Infection', 'Cluster Headaches', 'Coccidioidomycosis', 'Cold Sores', 'Cold Symptoms', 'Colorectal Cance', 'Computed Tomography', 'Condylomata Acuminata', 'Conjunctivitis', 'Conjunctivitis, Allergic', 'Conjunctivitis, Bacterial', 'Constipation', 'Constipation, Acute', 'Constipation, Chronic', 'Constipation, Drug Induced', 'Corneal Refractive Surgery', 'Coronary Artery Disease', 'Costochondritis', 'Cough', 'Cough and Nasal Congestion', \"Crohn's Disease\", \"Crohn's Disease, Acute\", \"Crohn's Disease, Maintenance\", 'Cutaneous Candidiasis', 'Cutaneous T-cell Lymphoma', 'Cyclic Vomiting Syndrome', 'Cyclitis', 'Cyclothymic Disorde', 'Cystic Fibrosis', 'Dandruff', 'Deep Neck Infection', 'Deep Vein Thrombosis', 'Deep Vein Thrombosis Prophylaxis after Hip Replacement Surgery', 'Deep Vein Thrombosis, First Event', 'Deep Vein Thrombosis, Prophylaxis', 'Deep Vein Thrombosis, Recurrent Event', 'Dementia', 'Dental Abscess', 'Depression', \"Dercum's Disease\", 'Dermatitis', 'Dermatologic Lesion', 'Dermatological Disorders', 'Dermatomyositis', 'Dermatophytosis', 'Diabetes Insipidus', 'Diabetes, Type 1', 'Diabetes, Type 2', 'Diabetic Kidney Disease', 'Diabetic Macular Edema', 'Diabetic Peripheral Neuropathy', 'Diagnosis and Investigation', 'Diaper Rash', 'Diarrhea', 'Diarrhea, Acute', 'Diarrhea, Chronic', 'Dietary Fiber Supplementation', 'Dietary Supplementation', 'Dissociative Identity Disorde', 'Diverticulitis', 'Dry Eye Disease', 'Dry Skin', 'Dumping Syndrome', 'Duodenal Ulce', \"Dupuytren's contracture\", 'Dysautonomia', 'Dyspareunia', 'Dystonia', 'Dysuria', 'Ear Wax Impaction', 'Eczema', 'Edema', 'Ehrlichiosis', 'Emergency Contraception', 'Endometrial Cance', 'Endometrial Hyperplasia', 'Endometriosis', 'Enterocolitis', 'Eosinophilic Esophagitis', 'Epididymitis, Sexually Transmitted', 'Epilepsy', 'Erectile Dysfunction', 'Erosive Esophagitis', 'Esophageal Variceal Hemorrhage Prophylaxis', 'Expectoration', 'Extrapyramidal Reaction', 'Eye Redness', 'Eye Redness/Itching', 'Eyelash Hypotrichosis', 'GERD', 'Gallbladder Disease', 'Gas', 'Gastric Ulcer Maintenance Treatment', 'Gastritis/Duodenitis', 'Gastroenteritis', 'Gastrointestinal Decontamination', 'Gastrointestinal Hemorrhage', 'Gastrointestinal Stromal Tum', 'Gastroparesis', 'Gender Dysphoria', 'Generalized Anxiety Disorde', 'Giant Cell Tumor of Bone', 'Giardiasis', 'Gingivitis', 'Glaucoma', 'Glaucoma, Open Angle', 'Glioblastoma Multi', 'Glioblastoma Multiforme', 'Gonadotropin Inhibition', 'Gonococcal Infection, Uncomplicated', 'Gout', 'Gout, Acute', 'Gouty Arthritis', 'HIV Infection', \"Hashimoto's disease\", 'Head Injury', 'Head Lice', 'Head and Neck Cance', 'Headache', 'Heart Attack', 'Heart Failure', 'Helicobacter Pylori Infection', 'Hemophilia A', 'Hemophilia B', 'Hemorrhoids', 'Hemorrhoids (pramoxine / zinc oxide)', 'Hepatic Encephalopathy', 'Hepatitis B', 'Hepatitis C', 'Hepatocellular Carcinoma', 'Herbal Supplementation', 'Hereditary Angioedema', 'Herpes Simplex', 'Herpes Simplex Dendritic Keratitis', 'Herpes Simplex, Mucocutaneous/Immunocompetent Host', 'Herpes Simplex, Mucocutaneous/Immunocompromised Host', 'Herpes Simplex, Suppression', 'Herpes Zoste', 'Herpes Zoster, Prophylaxis', 'Hiccups', 'Hidradenitis Suppurativa', 'High Blood Pressure', 'High Cholesterol', 'High Cholesterol, Familial Heterozygous', 'High Cholesterol, Familial Homozygous', 'Hirsutism', 'Histoplasmosis', 'Hot Flashes', 'Human Papilloma Virus', 'Human Papillomavirus Prophylaxis', 'Hypercalcemia of Malignancy', 'Hyperekplexia', 'Hyperhidrosis', 'Hyperkalemia', 'Hyperlipoproteinemia', 'Hyperlipoproteinemia Type IIa, Elevated LDL', 'Hyperphosphatemia', 'Hyperphosphatemia of Renal Failure', 'Hyperprolactinemia', 'Hypersomnia', 'Hypertensive Emergency', 'Hyperthyroidism', 'Hypertriglyceridemia', 'Hypoactive Sexual Desire Disorde', 'Hypocalcemia', 'Hypodermoclysis', 'Hypoestrogenism', 'Hypogonadism, Male', 'Hypokalemic Periodic Paralysis', 'Hypomagnesemia', 'Hypoparathyroidism', 'Hypotension', 'Hypothyroidism, After Thyroid Removal', 'ICU Agitation', 'Ichthyosis', 'Idiopathic Thrombocytopenic Purpura', 'Immunosuppression', 'Impetig', 'Indigestion', 'Infection Prophylaxis', 'Inflammatory Bowel Disease', 'Inflammatory Conditions', 'Influenza', 'Influenza Prophylaxis', 'Insomnia', 'Insomnia, Stimulant-Associated', 'Insulin Resistance Syndrome', 'Intermittent Claudication', 'Interstitial Cystitis', 'Intraabdominal Infection', 'Intraocular Hypertension', 'Iritis', 'Iron Deficiency Anemia', 'Irritable Bowel Syndrome', 'Ischemic Stroke', 'Ischemic Stroke, Prophylaxis', 'Jet Lag', 'Joint Infection', 'Juvenile Idiopathic Arthritis', 'Juvenile Rheumatoid Arthritis', 'Keratitis', 'Keratoconjunctivitis Sicca', 'Keratosis', 'Kidney Infections', 'Labor Induction', 'Labor Pain', 'Lactation Augmentation', 'Lactose Intolerance', 'Left Ventricular Dysfunction', 'Lennox-Gastaut Syndrome', 'Leukemia', 'Lichen Planus', 'Lichen Sclerosus', 'Light Anesthesia', 'Light Sedation', 'Lipodystrophy', 'Liver Magnetic Resonance Imaging', 'Local Anesthesia', 'Lyme Disease', 'Lyme Disease, Erythema Chronicum Migrans', 'Lyme Disease, Neurologic', 'Lymphocytic Colitis', 'Lymphoma', 'Macular Degeneration', 'Macular Edema', 'Major Depressive Disorde', 'Malaria', 'Malaria Prevention', 'Mania', 'Mantle Cell Lymphoma', 'Melanoma', 'Melanoma, Metastatic', 'Melasma', \"Meniere's Disease\", 'Meningococcal Meningitis Prophylaxis', 'Menopausal Disorders', 'Menorrhagia', 'Menstrual Disorders', 'Methicillin-Resistant Staphylococcus Aureus Infection', 'Migraine', 'Migraine Prevention', 'Mild Cognitive Impairment', 'Mitral Valve Prolapse', 'Mixed Connective Tissue Disease', 'Mononucleosis', 'Motion Sickness', 'Mountain Sickness / Altitude Sickness', 'Mucositis', 'Multiple Myeloma', 'Multiple Sclerosis', 'Muscle Pain', 'Muscle Spasm', 'Myasthenia Gravis', 'Mycobacterium avium-intracellulare, Treatment', 'Mycoplasma Pneumonia', 'Myelodysplastic Syndrome', 'Myelofibrosis', 'Myeloproliferative Disorders', 'Myotonia Congenita', 'NSAID-Induced Gastric Ulce', 'Narcolepsy', 'Nasal Carriage of Staphylococcus aureus', 'Nasal Congestion', 'Nasal Polyps', 'Nausea (phosphorated carbohydrate solution)', 'Nausea/Vomiting', 'Nausea/Vomiting of Pregnancy', 'Nausea/Vomiting, Chemotherapy Induced', 'Nausea/Vomiting, Postoperative', 'Neck Pain', 'Nephrotic Syndrome', 'Neuralgia', 'Neuropathic Pain', 'Neutropenia', 'Neutropenia Associated with Chemotherapy', 'New Daily Persistent Headache', 'Night Terrors', 'Nightmares', 'Nocturnal Leg Cramps', \"Non-Hodgkin's Lymphoma\", 'Non-Small Cell Lung Cance', 'Noninfectious Colitis', 'Nonoccupational Exposure', 'Not Listed / Othe', 'Obesity', 'Obsessive Compulsive Disorde', 'Obstructive Sleep Apnea/Hypopnea Syndrome', 'Occipital Neuralgia', 'Occupational Exposure', 'Oligospermia', 'Onychomycosis, Fingernail', 'Onychomycosis, Toenail', 'Oophorectomy', 'Ophthalmic Surgery', 'Opiate Adjunct', 'Opiate Dependence', 'Opiate Withdrawal', 'Opioid Overdose', 'Opioid-Induced Constipation', 'Oppositional Defiant Disorde', 'Oral Thrush', 'Oral and Dental Conditions', 'Organ Transplant, Rejection Prophylaxis', 'Organ Transplant, Rejection Reversal', 'Osteoarthritis', 'Osteolytic Bone Lesions of Multiple Myeloma', 'Osteolytic Bone Metastases of Solid Tumors', 'Osteoporosis', 'Otitis Externa', 'Otitis Media', 'Ovarian Cance', 'Ovarian Cysts', 'Overactive Bladde', 'Ovulation Induction', \"Paget's Disease\", 'Pain', 'Pain/Feve', 'Pancreatic Cance', 'Pancreatic Exocrine Dysfunction', 'Panic Disorde', 'Paranoid Disorde', \"Parkinson's Disease\", 'Parkinsonism', 'Pe', 'Pediatric Growth Hormone Deficiency', 'Pelvic Inflammatory Disease', 'Pemphigoid', 'Pemphigus', 'Peptic Ulce', 'Percutaneous Coronary Intervention', 'Performance Anxiety', 'Perimenopausal Symptoms', 'Period Pain', 'Periodic Limb Movement Disorde', 'Periodontitis', 'Perioral Dermatitis', 'Peripheral Arterial Disease', 'Peripheral Neuropathy', 'Peritonitis', 'Persistent Depressive Disorde', 'Pertussis', 'Pertussis Prophylaxis', 'Pharyngitis', 'Photoaging of the Skin', 'Pinworm Infection (Enterobius vermicularis)', 'Pityriasis rubra pilaris', 'Plaque Psoriasis', 'Platelet Aggregation Inhibition', 'Pneumococcal Disease Prophylaxis', 'Pneumonia', 'Polycystic Ovary Syndrome', 'Polycythemia Vera', 'Polymyositis/Dermatomyositis', 'Post Traumatic Stress Disorde', 'Post-Cholecystectomy Diarrhea', 'Postherpetic Neuralgia', 'Postmenopausal Symptoms', 'Postoperative Increased Intraocular Pressure', 'Postoperative Ocular Inflammation', 'Postoperative Pain', 'Postpartum Depression', 'Postural Orthostatic Tachycardia Syndrome', 'Pre-Exposure Prophylaxis', 'Precocious Puberty', 'Premature Ejaculation', 'Premature Lab', 'Premature Ventricular Depolarizations', 'Premenstrual Dysphoric Disorde', 'Premenstrual Syndrome', 'Prevention of Bladder infection', 'Prevention of Cardiovascular Disease', 'Prevention of Dental Caries', 'Prevention of Hypokalemia', 'Prevention of Osteoporosis', 'Prevention of Thromboembolism in Atrial Fibrillation', 'Primary Hyperaldosteronism', 'Primary Immunodeficiency Syndrome', 'Primary Nocturnal Enuresis', 'Primary Ovarian Failure', 'Progesterone Insufficiency', 'Prostate Cance', 'Prostatitis', 'Pruritus', 'Pseudobulbar Affect', 'Pseudotumor Cerebri', 'Psoriasis', 'Psoriatic Arthritis', 'Psychosis', 'Pudendal Neuralgia', 'Pulmonary Edema', 'Pulmonary Embolism', 'Pulmonary Embolism, First Event', 'Pulmonary Hypertension', 'Pupillary Dilation', 'Radionuclide Myocardial Perfusion Study', 'Rat-bite Feve', \"Raynaud's Syndrome\", 'Reflex Sympathetic Dystrophy Syndrome', 'Renal Cell Carcinoma', 'Renal Tubular Acidosis', 'Restless Legs Syndrome', 'Reversal of Nondepolarizing Muscle Relaxants', 'Reversal of Opioid Sedation', 'Rheumatoid Arthritis', 'Rhinitis', 'Rhinorrhea', 'Rosacea', 'Salmonella Gastroenteritis', 'Sarcoidosis', 'Scabies', 'Schilling Test', 'Schizoaffective Disorde', 'Schizophrenia', 'Schnitzler Syndrome', 'Sciatica', 'Seasonal Affective Disorde', 'Seasonal Allergic Conjunctivitis', 'Seborrheic Dermatitis', 'Secondary Hyperparathyroidism', 'Sedation', 'Seizure Prevention', 'Seizures', 'Sexual Dysfunction, SSRI Induced', 'Shift Work Sleep Disorde', 'Sinus Symptoms', 'Sinusitis', \"Sjogren's Syndrome\", 'Skin Cance', 'Skin Disinfection, Preoperative', 'Skin Rash', 'Skin and Structure Infection', 'Skin or Soft Tissue Infection', 'Small Bowel or Pancreatic Fistula', 'Smoking Cessation', 'Social Anxiety Disorde', 'Soft Tissue Sarcoma', 'Somat', 'Sore Throat', 'Spondyloarthritis', 'Spondylolisthesis', 'Squamous Cell Carcinoma', 'Status Epilepticus', 'Steroid Responsive Inflammatory Conditions', \"Still's Disease\", 'Stomach Cance', 'Stomach Ulce', 'Strabismus', 'Strep Throat', 'Streptococcal Infection', 'Stress Ulcer Prophylaxis', 'Strongyloidiasis', 'Subarachnoid Hemorrhage', 'Submental Fullness', 'Sunburn', 'Supraventricular Tachycardia', 'Surgical Prophylaxis', 'Swine Flu', 'Syringomyelia', 'Systemic Lupus Erythematosus', 'Systemic Mastocytosis', 'Systemic Sclerosis', 'TSH Suppression', 'Temporomandibular Joint Disorde', 'Tendonitis', 'Thrombocythemia', 'Thromboembolic Stroke Prophylaxis', 'Thyroid Cance', 'Thyrotoxicosis', 'Tinea Corporis', 'Tinea Cruris', 'Tinea Pedis', 'Tinea Versicol', 'Tinnitus', 'Tonsillitis/Pharyngitis', 'Topical Disinfection', \"Tourette's Syndrome\", 'Transient Ischemic Attack', \"Traveler's Diarrhea\", 'Trichomoniasis', 'Trichotillomania', 'Trigeminal Neuralgia', 'Tuberculosis, Latent', 'Tympanostomy Tube Placement Surgery', 'Ulcerative Colitis', 'Ulcerative Colitis, Active', 'Ulcerative Colitis, Maintenance', 'Ulcerative Proctitis', 'Underactive Thyroid', 'Undifferentiated Connective Tissue Disease', 'Upper Limb Spasticity', 'Upper Respiratory Tract Infection', 'Urinary Incontinence', 'Urinary Retention', 'Urinary Tract Infection', 'Urinary Tract Stones', 'Urticaria', 'Uterine Bleeding', 'Uterine Fibroids', 'Uveitis', 'Uveitis, Posteri', 'Vaginal Yeast Infection', 'Varicella-Zoste', 'Ventricular Arrhythmia', 'Ventricular Fibrillation', 'Ventricular Tachycardia', 'Vertig', 'Vitamin B12 Deficiency', 'Vitamin D Deficiency', 'Vitamin/Mineral Supplementation and Deficiency', 'Vitamin/Mineral Supplementation during Pregnancy/Lactation', 'Vulvodynia', 'Warts', \"Wegener's Granulomatosis\", 'Weight Loss', 'Wolff-Parkinson-White Syndrome', 'Women (oxybutynin)', 'Xerostomia', 'Yellow Fever Prophylaxis', 'Zollinger-Ellison Syndrome', 'acial Lipoatrophy', 'acial Wrinkles', 'actor IX Deficiency', 'amilial Cold Autoinflammatory Syndrome', 'atigue', 'cal Segmental Glomerulosclerosis', 'emale Infertility', 'eve', 'ge (amlodipine / valsartan)', 'ibrocystic Breast Disease', 'ibromyalgia', 'lic Acid Deficiency', 'llicle Stimulation', 'm Pain Disorde', 'mance Anxiety', 'me', 'min / saxagliptin)', 'min / sitagliptin)', 'min)', 'mist (', 'moterol / mometasone)', 'moterol)', 'mulation) (phenylephrine)', 'tic (mycophenolic acid)', \"von Willebrand's Disease\", 'zen Shoulde']\n"
          ],
          "name": "stdout"
        }
      ]
    },
    {
      "cell_type": "code",
      "metadata": {
        "id": "PGZsUkJv5oia",
        "colab_type": "code",
        "colab": {
          "base_uri": "https://localhost:8080/",
          "height": 170
        },
        "outputId": "04913a66-7458-4892-cf1f-7f72d5b40446"
      },
      "source": [
        "from sklearn import metrics\n",
        "\n",
        "confusion_matrix = metrics.confusion_matrix(targets, predictions)\n",
        "print(confusion_matrix)\n"
      ],
      "execution_count": 26,
      "outputs": [
        {
          "output_type": "stream",
          "text": [
            "[[0 0 0 0 ... 0 0 0 0]\n",
            " [0 0 0 0 ... 0 0 0 0]\n",
            " [0 0 0 0 ... 0 0 0 0]\n",
            " [0 0 0 0 ... 0 0 0 0]\n",
            " ...\n",
            " [0 0 0 0 ... 0 0 0 0]\n",
            " [0 0 0 0 ... 0 0 0 0]\n",
            " [0 0 0 0 ... 0 0 0 0]\n",
            " [0 0 0 0 ... 0 0 0 0]]\n"
          ],
          "name": "stdout"
        }
      ]
    },
    {
      "cell_type": "code",
      "metadata": {
        "id": "qemfnBsE7YZU",
        "colab_type": "code",
        "colab": {}
      },
      "source": [
        "# metrics.classification_report(targets, predictions, target_names=class_names)\n",
        "# metrics.classification_report(targets, predictions, target_names=unique_train_labels_list)"
      ],
      "execution_count": 0,
      "outputs": []
    },
    {
      "cell_type": "code",
      "metadata": {
        "id": "IyTNy-zPBbns",
        "colab_type": "code",
        "colab": {}
      },
      "source": [
        "# interp = ClassificationInterpretation(learn, preds, y, losses)\n",
        "\n",
        "# interp.plot_confusion_matrix()"
      ],
      "execution_count": 0,
      "outputs": []
    },
    {
      "cell_type": "code",
      "metadata": {
        "id": "sz47asPgCG52",
        "colab_type": "code",
        "colab": {
          "base_uri": "https://localhost:8080/",
          "height": 122
        },
        "outputId": "fe7a10c8-6473-4e93-d1bc-a120004e1302"
      },
      "source": [
        "from google.colab import drive \n",
        "drive.mount('/content/gdrive')"
      ],
      "execution_count": 32,
      "outputs": [
        {
          "output_type": "stream",
          "text": [
            "Go to this URL in a browser: https://accounts.google.com/o/oauth2/auth?client_id=947318989803-6bn6qk8qdgf4n4g3pfee6491hc0brc4i.apps.googleusercontent.com&redirect_uri=urn%3Aietf%3Awg%3Aoauth%3A2.0%3Aoob&scope=email%20https%3A%2F%2Fwww.googleapis.com%2Fauth%2Fdocs.test%20https%3A%2F%2Fwww.googleapis.com%2Fauth%2Fdrive%20https%3A%2F%2Fwww.googleapis.com%2Fauth%2Fdrive.photos.readonly%20https%3A%2F%2Fwww.googleapis.com%2Fauth%2Fpeopleapi.readonly&response_type=code\n",
            "\n",
            "Enter your authorization code:\n",
            "··········\n",
            "Mounted at /content/gdrive\n"
          ],
          "name": "stdout"
        }
      ]
    },
    {
      "cell_type": "code",
      "metadata": {
        "id": "LuoIulv1EJIK",
        "colab_type": "code",
        "colab": {
          "base_uri": "https://localhost:8080/",
          "height": 34
        },
        "outputId": "62539ee2-357d-4639-8423-8b202ad3f161"
      },
      "source": [
        "model_save_name = 'export.pkl'\n",
        "path = F\"/content/gdrive/My Drive/{model_save_name}\" \n",
        "print(path)\n",
        "learn.export(path)"
      ],
      "execution_count": 37,
      "outputs": [
        {
          "output_type": "stream",
          "text": [
            "/content/gdrive/My Drive/export.pkl\n"
          ],
          "name": "stdout"
        }
      ]
    },
    {
      "cell_type": "code",
      "metadata": {
        "id": "eKHENmQVF532",
        "colab_type": "code",
        "colab": {
          "base_uri": "https://localhost:8080/",
          "height": 34
        },
        "outputId": "0b440315-08bc-4ec8-a7be-7c32e7f0e94c"
      },
      "source": [
        "learn.save(\"trained_model\", return_path=True)"
      ],
      "execution_count": 38,
      "outputs": [
        {
          "output_type": "execute_result",
          "data": {
            "text/plain": [
              "PosixPath('models/trained_model.pth')"
            ]
          },
          "metadata": {
            "tags": []
          },
          "execution_count": 38
        }
      ]
    },
    {
      "cell_type": "code",
      "metadata": {
        "id": "L362V-51EMFr",
        "colab_type": "code",
        "colab": {}
      },
      "source": [
        "# model_save_name = 'export.pkl'\n",
        "# path = F\"/content/gdrive/My Drive/{model_save_name}\" \n",
        "\n",
        "# saved_learner = load_learner(path)\n",
        "\n",
        "# saved_learner.predict(\"\")"
      ],
      "execution_count": 0,
      "outputs": []
    }
  ]
}