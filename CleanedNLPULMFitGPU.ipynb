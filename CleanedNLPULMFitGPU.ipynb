{
  "nbformat": 4,
  "nbformat_minor": 0,
  "metadata": {
    "colab": {
      "name": "CleanedNLPULMFitGPU.ipynb",
      "provenance": [],
      "collapsed_sections": [],
      "include_colab_link": true
    },
    "kernelspec": {
      "name": "python3",
      "display_name": "Python 3"
    },
    "accelerator": "GPU"
  },
  "cells": [
    {
      "cell_type": "markdown",
      "metadata": {
        "id": "view-in-github",
        "colab_type": "text"
      },
      "source": [
        "<a href=\"https://colab.research.google.com/github/christinezuzart/DeepLearning/blob/master/CleanedNLPULMFitGPU.ipynb\" target=\"_parent\"><img src=\"https://colab.research.google.com/assets/colab-badge.svg\" alt=\"Open In Colab\"/></a>"
      ]
    },
    {
      "cell_type": "code",
      "metadata": {
        "id": "xC6cmqQA1ONX",
        "colab_type": "code",
        "outputId": "35492f80-d6ee-4cdf-a539-3a8d2085206f",
        "colab": {
          "base_uri": "https://localhost:8080/",
          "height": 122
        }
      },
      "source": [
        "from google.colab import drive \n",
        "drive.mount('/content/gdrive')"
      ],
      "execution_count": 1,
      "outputs": [
        {
          "output_type": "stream",
          "text": [
            "Go to this URL in a browser: https://accounts.google.com/o/oauth2/auth?client_id=947318989803-6bn6qk8qdgf4n4g3pfee6491hc0brc4i.apps.googleusercontent.com&redirect_uri=urn%3Aietf%3Awg%3Aoauth%3A2.0%3Aoob&scope=email%20https%3A%2F%2Fwww.googleapis.com%2Fauth%2Fdocs.test%20https%3A%2F%2Fwww.googleapis.com%2Fauth%2Fdrive%20https%3A%2F%2Fwww.googleapis.com%2Fauth%2Fdrive.photos.readonly%20https%3A%2F%2Fwww.googleapis.com%2Fauth%2Fpeopleapi.readonly&response_type=code\n",
            "\n",
            "Enter your authorization code:\n",
            "··········\n",
            "Mounted at /content/gdrive\n"
          ],
          "name": "stdout"
        }
      ]
    },
    {
      "cell_type": "code",
      "metadata": {
        "id": "nP16_FNg1g-V",
        "colab_type": "code",
        "colab": {}
      },
      "source": [
        "import pandas as pd\n",
        "import io\n",
        "\n",
        "dfTrain = pd.read_csv('/content/gdrive/My Drive/Data/drugsComTrainClean_raw.csv')\n",
        "dfTest = pd.read_csv('/content/gdrive/My Drive/Data/drugsComTestClean_raw.csv') \n"
      ],
      "execution_count": 0,
      "outputs": []
    },
    {
      "cell_type": "code",
      "metadata": {
        "id": "jsGVDJ6sd1Mn",
        "colab_type": "code",
        "colab": {
          "base_uri": "https://localhost:8080/",
          "height": 34
        },
        "outputId": "189969bc-a898-4e90-c6a3-5cc914e0852b"
      },
      "source": [
        "from google.colab import drive\n",
        "drive.mount('/content/drive')"
      ],
      "execution_count": 3,
      "outputs": [
        {
          "output_type": "stream",
          "text": [
            "Mounted at /content/drive\n"
          ],
          "name": "stdout"
        }
      ]
    },
    {
      "cell_type": "code",
      "metadata": {
        "id": "qMbYTPrkV8Uw",
        "colab_type": "code",
        "colab": {}
      },
      "source": [
        "train_texts = dfTrain.loc[ : , 'review'].values\n",
        "train_labels = dfTrain.loc[ : , 'condition'].values\n",
        "\n",
        "test_texts = dfTest.loc[ : , 'review'].values\n",
        "test_labels = dfTest.loc[ : , 'condition'].values\n",
        "\n",
        "col_names = ['labels','text']\n",
        "df_train = pd.DataFrame({'text':train_texts, 'labels':train_labels}, columns=col_names)\n",
        "df_test = pd.DataFrame({'text':test_texts, 'labels':test_labels}, columns=col_names)\n",
        "\n",
        "df_train = df_train.dropna(axis=0)\n",
        "df_test = df_test.dropna(axis=0)"
      ],
      "execution_count": 0,
      "outputs": []
    },
    {
      "cell_type": "code",
      "metadata": {
        "id": "VNu-1A57pi65",
        "colab_type": "code",
        "outputId": "9796fa6d-9710-48a4-99ab-7fa4f15ed1fd",
        "colab": {
          "base_uri": "https://localhost:8080/",
          "height": 119
        }
      },
      "source": [
        "unique_train_labels_list = df_train.labels.unique()\n",
        "unique_test_labels_list = df_test.labels.unique()\n",
        "\n",
        "df_test_new = pd.DataFrame(columns=['labels','text'])\n",
        "\n",
        "for ind in df_test.index: \n",
        "  if df_test['labels'][ind] in unique_train_labels_list :\n",
        "   new_row = {'labels': df_test['labels'][ind], 'text':df_test['text'][ind]}\n",
        "   df_test_new = df_test_new.append(new_row, ignore_index=True)\n",
        "\n",
        "print(df_test_new.head())"
      ],
      "execution_count": 5,
      "outputs": [
        {
          "output_type": "stream",
          "text": [
            "                         labels                                               text\n",
            "0                    Depression  \"I&#039;ve tried a few antidepressants over th...\n",
            "1  Crohn's Disease, Maintenance  \"My son has Crohn&#039;s disease and has done ...\n",
            "2       Urinary Tract Infection                      \"Quick reduction of symptoms\"\n",
            "3                   Weight Loss  \"Contrave combines drugs that were used for al...\n",
            "4                 Birth Control  \"I have been on this birth control for one cyc...\n"
          ],
          "name": "stdout"
        }
      ]
    },
    {
      "cell_type": "code",
      "metadata": {
        "id": "VGsGi4Ing-kH",
        "colab_type": "code",
        "colab": {}
      },
      "source": [
        "# a = df_test_new.labels.unique()\n",
        "# print('\\n'.join(map(str, a)))"
      ],
      "execution_count": 0,
      "outputs": []
    },
    {
      "cell_type": "code",
      "metadata": {
        "id": "jkCP0-7D1xd1",
        "colab_type": "code",
        "colab": {}
      },
      "source": [
        "from fastai.text import *\n",
        "\n",
        "# Language model data\n",
        "data_lm = TextLMDataBunch.from_df('./', train_df=df_train, valid_df=df_test_new)"
      ],
      "execution_count": 0,
      "outputs": []
    },
    {
      "cell_type": "code",
      "metadata": {
        "id": "0yyaO4pO17Fo",
        "colab_type": "code",
        "colab": {}
      },
      "source": [
        "# Language model\n",
        "lang_learner = language_model_learner(data_lm, AWD_LSTM, drop_mult=0.1)"
      ],
      "execution_count": 0,
      "outputs": []
    },
    {
      "cell_type": "code",
      "metadata": {
        "id": "fSBOuNaTr6QP",
        "colab_type": "code",
        "outputId": "1c3da67a-0714-4408-cb82-cc31c67896be",
        "colab": {
          "base_uri": "https://localhost:8080/",
          "height": 296
        }
      },
      "source": [
        "lang_learner.lr_find(start_lr=1e-8, end_lr=1e2)\n",
        "lang_learner.recorder.plot()"
      ],
      "execution_count": 9,
      "outputs": [
        {
          "output_type": "display_data",
          "data": {
            "text/html": [
              ""
            ],
            "text/plain": [
              "<IPython.core.display.HTML object>"
            ]
          },
          "metadata": {
            "tags": []
          }
        },
        {
          "output_type": "stream",
          "text": [
            "LR Finder is complete, type {learner_name}.recorder.plot() to see the graph.\n"
          ],
          "name": "stdout"
        },
        {
          "output_type": "display_data",
          "data": {
            "image/png": "[encoded data removed]",
            "text/plain": [
              "<Figure size 432x288 with 1 Axes>"
            ]
          },
          "metadata": {
            "tags": []
          }
        }
      ]
    },
    {
      "cell_type": "code",
      "metadata": {
        "id": "vqZ0hjiHbBNG",
        "colab_type": "code",
        "outputId": "af3301f4-0a0f-4af7-8d81-d3a8670080f7",
        "colab": {
          "base_uri": "https://localhost:8080/",
          "height": 174
        }
      },
      "source": [
        "lang_learner = language_model_learner(data_lm, AWD_LSTM, drop_mult=0.5)\n",
        "lang_learner.fit_one_cycle(1, 1e-3, moms=(0.8, 0.7))\n",
        "\n",
        "lang_learner.unfreeze() \n",
        "lang_learner.fit_one_cycle(2, 1e-3, moms=(0.8, 0.7))"
      ],
      "execution_count": 10,
      "outputs": [
        {
          "output_type": "display_data",
          "data": {
            "text/html": [
              "<table border=\"1\" class=\"dataframe\">\n",
              "  <thead>\n",
              "    <tr style=\"text-align: left;\">\n",
              "      <th>epoch</th>\n",
              "      <th>train_loss</th>\n",
              "      <th>valid_loss</th>\n",
              "      <th>accuracy</th>\n",
              "      <th>time</th>\n",
              "    </tr>\n",
              "  </thead>\n",
              "  <tbody>\n",
              "    <tr>\n",
              "      <td>0</td>\n",
              "      <td>3.677010</td>\n",
              "      <td>3.527002</td>\n",
              "      <td>0.307432</td>\n",
              "      <td>11:12</td>\n",
              "    </tr>\n",
              "  </tbody>\n",
              "</table>"
            ],
            "text/plain": [
              "<IPython.core.display.HTML object>"
            ]
          },
          "metadata": {
            "tags": []
          }
        },
        {
          "output_type": "display_data",
          "data": {
            "text/html": [
              "<table border=\"1\" class=\"dataframe\">\n",
              "  <thead>\n",
              "    <tr style=\"text-align: left;\">\n",
              "      <th>epoch</th>\n",
              "      <th>train_loss</th>\n",
              "      <th>valid_loss</th>\n",
              "      <th>accuracy</th>\n",
              "      <th>time</th>\n",
              "    </tr>\n",
              "  </thead>\n",
              "  <tbody>\n",
              "    <tr>\n",
              "      <td>0</td>\n",
              "      <td>3.201628</td>\n",
              "      <td>3.098289</td>\n",
              "      <td>0.360587</td>\n",
              "      <td>12:54</td>\n",
              "    </tr>\n",
              "    <tr>\n",
              "      <td>1</td>\n",
              "      <td>3.070693</td>\n",
              "      <td>2.996487</td>\n",
              "      <td>0.374368</td>\n",
              "      <td>12:58</td>\n",
              "    </tr>\n",
              "  </tbody>\n",
              "</table>"
            ],
            "text/plain": [
              "<IPython.core.display.HTML object>"
            ]
          },
          "metadata": {
            "tags": []
          }
        }
      ]
    },
    {
      "cell_type": "code",
      "metadata": {
        "id": "S5IzDJe_2Cl5",
        "colab_type": "code",
        "colab": {}
      },
      "source": [
        "lang_learner.save_encoder('fine_enc')"
      ],
      "execution_count": 0,
      "outputs": []
    },
    {
      "cell_type": "code",
      "metadata": {
        "id": "anx9MnBtDe2D",
        "colab_type": "code",
        "colab": {}
      },
      "source": [
        "# Classifier model data\n",
        "data_clas = TextClasDataBunch.from_df('./', train_df=df_train, valid_df=df_test_new, vocab=data_lm.train_ds.vocab, min_freq=1, bs=32)"
      ],
      "execution_count": 0,
      "outputs": []
    },
    {
      "cell_type": "code",
      "metadata": {
        "id": "-qV1fMHMKOZ8",
        "colab_type": "code",
        "colab": {}
      },
      "source": [
        "# Classifier\n",
        "learn = text_classifier_learner(data_clas, AWD_LSTM, drop_mult=0.5)\n",
        "learn.load_encoder('fine_enc')\n",
        "learn.freeze()"
      ],
      "execution_count": 0,
      "outputs": []
    },
    {
      "cell_type": "code",
      "metadata": {
        "id": "mGmuTjKhMU32",
        "colab_type": "code",
        "colab": {
          "base_uri": "https://localhost:8080/",
          "height": 296
        },
        "outputId": "0cb83e1e-05c7-4449-d148-1a2081737593"
      },
      "source": [
        "learn.lr_find()\n",
        "learn.recorder.plot()"
      ],
      "execution_count": 14,
      "outputs": [
        {
          "output_type": "display_data",
          "data": {
            "text/html": [
              ""
            ],
            "text/plain": [
              "<IPython.core.display.HTML object>"
            ]
          },
          "metadata": {
            "tags": []
          }
        },
        {
          "output_type": "stream",
          "text": [
            "LR Finder is complete, type {learner_name}.recorder.plot() to see the graph.\n"
          ],
          "name": "stdout"
        },
        {
          "output_type": "display_data",
          "data": {
            "image/png": "[encoded data removed]",
            "text/plain": [
              "<Figure size 432x288 with 1 Axes>"
            ]
          },
          "metadata": {
            "tags": []
          }
        }
      ]
    },
    {
      "cell_type": "code",
      "metadata": {
        "id": "PNAFkP7Z3EnA",
        "colab_type": "code",
        "colab": {
          "base_uri": "https://localhost:8080/",
          "height": 80
        },
        "outputId": "85d37faf-a213-4b2d-cdd0-55822fafc6c6"
      },
      "source": [
        "learn = text_classifier_learner(data_clas, AWD_LSTM, drop_mult=0.5)\n",
        "learn.load_encoder('fine_enc')\n",
        "\n",
        "learn.freeze()\n",
        "learn.fit_one_cycle(1, 1e-3, moms=(0.8, 0.7))"
      ],
      "execution_count": 15,
      "outputs": [
        {
          "output_type": "display_data",
          "data": {
            "text/html": [
              "<table border=\"1\" class=\"dataframe\">\n",
              "  <thead>\n",
              "    <tr style=\"text-align: left;\">\n",
              "      <th>epoch</th>\n",
              "      <th>train_loss</th>\n",
              "      <th>valid_loss</th>\n",
              "      <th>accuracy</th>\n",
              "      <th>time</th>\n",
              "    </tr>\n",
              "  </thead>\n",
              "  <tbody>\n",
              "    <tr>\n",
              "      <td>0</td>\n",
              "      <td>1.989043</td>\n",
              "      <td>1.723378</td>\n",
              "      <td>0.609488</td>\n",
              "      <td>04:20</td>\n",
              "    </tr>\n",
              "  </tbody>\n",
              "</table>"
            ],
            "text/plain": [
              "<IPython.core.display.HTML object>"
            ]
          },
          "metadata": {
            "tags": []
          }
        }
      ]
    },
    {
      "cell_type": "code",
      "metadata": {
        "id": "i50yKGSEz5sg",
        "colab_type": "code",
        "colab": {
          "base_uri": "https://localhost:8080/",
          "height": 142
        },
        "outputId": "2f967516-9c1b-46e0-f581-3040b6900c22"
      },
      "source": [
        "learn.unfreeze()\n",
        "learn.fit_one_cycle(3, slice(1e-4, 1e-2))"
      ],
      "execution_count": 16,
      "outputs": [
        {
          "output_type": "display_data",
          "data": {
            "text/html": [
              "<table border=\"1\" class=\"dataframe\">\n",
              "  <thead>\n",
              "    <tr style=\"text-align: left;\">\n",
              "      <th>epoch</th>\n",
              "      <th>train_loss</th>\n",
              "      <th>valid_loss</th>\n",
              "      <th>accuracy</th>\n",
              "      <th>time</th>\n",
              "    </tr>\n",
              "  </thead>\n",
              "  <tbody>\n",
              "    <tr>\n",
              "      <td>0</td>\n",
              "      <td>1.715294</td>\n",
              "      <td>1.472869</td>\n",
              "      <td>0.666410</td>\n",
              "      <td>10:32</td>\n",
              "    </tr>\n",
              "    <tr>\n",
              "      <td>1</td>\n",
              "      <td>1.367701</td>\n",
              "      <td>1.238326</td>\n",
              "      <td>0.709750</td>\n",
              "      <td>10:53</td>\n",
              "    </tr>\n",
              "    <tr>\n",
              "      <td>2</td>\n",
              "      <td>1.178881</td>\n",
              "      <td>1.125301</td>\n",
              "      <td>0.734561</td>\n",
              "      <td>11:30</td>\n",
              "    </tr>\n",
              "  </tbody>\n",
              "</table>"
            ],
            "text/plain": [
              "<IPython.core.display.HTML object>"
            ]
          },
          "metadata": {
            "tags": []
          }
        }
      ]
    },
    {
      "cell_type": "code",
      "metadata": {
        "id": "fXOdtMUlD0np",
        "colab_type": "code",
        "colab": {
          "base_uri": "https://localhost:8080/",
          "height": 80
        },
        "outputId": "18eb235e-eb89-48f2-9699-ab9ca23394ae"
      },
      "source": [
        "learn.freeze_to(-2)\n",
        "learn.fit_one_cycle(1, slice(1e-4,1e-2), moms=(0.8,0.7))"
      ],
      "execution_count": 17,
      "outputs": [
        {
          "output_type": "display_data",
          "data": {
            "text/html": [
              "<table border=\"1\" class=\"dataframe\">\n",
              "  <thead>\n",
              "    <tr style=\"text-align: left;\">\n",
              "      <th>epoch</th>\n",
              "      <th>train_loss</th>\n",
              "      <th>valid_loss</th>\n",
              "      <th>accuracy</th>\n",
              "      <th>time</th>\n",
              "    </tr>\n",
              "  </thead>\n",
              "  <tbody>\n",
              "    <tr>\n",
              "      <td>0</td>\n",
              "      <td>1.121296</td>\n",
              "      <td>1.133016</td>\n",
              "      <td>0.735125</td>\n",
              "      <td>05:09</td>\n",
              "    </tr>\n",
              "  </tbody>\n",
              "</table>"
            ],
            "text/plain": [
              "<IPython.core.display.HTML object>"
            ]
          },
          "metadata": {
            "tags": []
          }
        }
      ]
    },
    {
      "cell_type": "code",
      "metadata": {
        "id": "iX9YxjtND2Ce",
        "colab_type": "code",
        "colab": {
          "base_uri": "https://localhost:8080/",
          "height": 80
        },
        "outputId": "ff314bbf-4b7b-4133-dc94-e6e2533dc847"
      },
      "source": [
        "learn.freeze_to(-3)\n",
        "learn.fit_one_cycle(1, slice(1e-5,5e-3), moms=(0.8,0.7))"
      ],
      "execution_count": 18,
      "outputs": [
        {
          "output_type": "display_data",
          "data": {
            "text/html": [
              "<table border=\"1\" class=\"dataframe\">\n",
              "  <thead>\n",
              "    <tr style=\"text-align: left;\">\n",
              "      <th>epoch</th>\n",
              "      <th>train_loss</th>\n",
              "      <th>valid_loss</th>\n",
              "      <th>accuracy</th>\n",
              "      <th>time</th>\n",
              "    </tr>\n",
              "  </thead>\n",
              "  <tbody>\n",
              "    <tr>\n",
              "      <td>0</td>\n",
              "      <td>1.171512</td>\n",
              "      <td>1.103547</td>\n",
              "      <td>0.741502</td>\n",
              "      <td>07:52</td>\n",
              "    </tr>\n",
              "  </tbody>\n",
              "</table>"
            ],
            "text/plain": [
              "<IPython.core.display.HTML object>"
            ]
          },
          "metadata": {
            "tags": []
          }
        }
      ]
    },
    {
      "cell_type": "code",
      "metadata": {
        "id": "k-H0AJ9BD7rc",
        "colab_type": "code",
        "colab": {
          "base_uri": "https://localhost:8080/",
          "height": 173
        },
        "outputId": "97ade554-5373-4a09-eb67-a532618fece7"
      },
      "source": [
        "learn.unfreeze()\n",
        "learn.fit_one_cycle(4, slice(1e-5,1e-3), moms=(0.8,0.7))"
      ],
      "execution_count": 19,
      "outputs": [
        {
          "output_type": "display_data",
          "data": {
            "text/html": [
              "<table border=\"1\" class=\"dataframe\">\n",
              "  <thead>\n",
              "    <tr style=\"text-align: left;\">\n",
              "      <th>epoch</th>\n",
              "      <th>train_loss</th>\n",
              "      <th>valid_loss</th>\n",
              "      <th>accuracy</th>\n",
              "      <th>time</th>\n",
              "    </tr>\n",
              "  </thead>\n",
              "  <tbody>\n",
              "    <tr>\n",
              "      <td>0</td>\n",
              "      <td>1.024637</td>\n",
              "      <td>1.091188</td>\n",
              "      <td>0.744493</td>\n",
              "      <td>11:42</td>\n",
              "    </tr>\n",
              "    <tr>\n",
              "      <td>1</td>\n",
              "      <td>0.953407</td>\n",
              "      <td>1.073143</td>\n",
              "      <td>0.751096</td>\n",
              "      <td>10:55</td>\n",
              "    </tr>\n",
              "    <tr>\n",
              "      <td>2</td>\n",
              "      <td>0.983073</td>\n",
              "      <td>1.044979</td>\n",
              "      <td>0.757924</td>\n",
              "      <td>11:34</td>\n",
              "    </tr>\n",
              "    <tr>\n",
              "      <td>3</td>\n",
              "      <td>0.956593</td>\n",
              "      <td>1.045913</td>\n",
              "      <td>0.759899</td>\n",
              "      <td>11:51</td>\n",
              "    </tr>\n",
              "  </tbody>\n",
              "</table>"
            ],
            "text/plain": [
              "<IPython.core.display.HTML object>"
            ]
          },
          "metadata": {
            "tags": []
          }
        }
      ]
    },
    {
      "cell_type": "code",
      "metadata": {
        "id": "mhc2xcrQD3qB",
        "colab_type": "code",
        "colab": {
          "base_uri": "https://localhost:8080/",
          "height": 279
        },
        "outputId": "8eedd7e3-7508-4649-8882-08575802ed6d"
      },
      "source": [
        "learn.recorder.plot_losses()"
      ],
      "execution_count": 20,
      "outputs": [
        {
          "output_type": "display_data",
          "data": {
            "image/png": "[encoded data removed]",
            "text/plain": [
              "<Figure size 432x288 with 1 Axes>"
            ]
          },
          "metadata": {
            "tags": []
          }
        }
      ]
    },
    {
      "cell_type": "code",
      "metadata": {
        "id": "IkfKh6w-EBIL",
        "colab_type": "code",
        "colab": {}
      },
      "source": [
        "learn.export()"
      ],
      "execution_count": 0,
      "outputs": []
    },
    {
      "cell_type": "code",
      "metadata": {
        "id": "E-svXhehHeAu",
        "colab_type": "code",
        "colab": {
          "base_uri": "https://localhost:8080/",
          "height": 470
        },
        "outputId": "adcf6fba-b69c-4050-b026-076372ee2b68"
      },
      "source": [
        "# get predictions\n",
        "preds, targets = learn.get_preds()\n",
        "predictions = np.argmax(preds, axis=1)\n",
        "pd.crosstab(predictions, targets)"
      ],
      "execution_count": 22,
      "outputs": [
        {
          "output_type": "execute_result",
          "data": {
            "text/html": [
              "<div>\n",
              "<style scoped>\n",
              "    .dataframe tbody tr th:only-of-type {\n",
              "        vertical-align: middle;\n",
              "    }\n",
              "\n",
              "    .dataframe tbody tr th {\n",
              "        vertical-align: top;\n",
              "    }\n",
              "\n",
              "    .dataframe thead th {\n",
              "        text-align: right;\n",
              "    }\n",
              "</style>\n",
              "<table border=\"1\" class=\"dataframe\">\n",
              "  <thead>\n",
              "    <tr style=\"text-align: right;\">\n",
              "      <th>col_0</th>\n",
              "      <th>0</th>\n",
              "      <th>1</th>\n",
              "      <th>4</th>\n",
              "      <th>5</th>\n",
              "      <th>6</th>\n",
              "      <th>7</th>\n",
              "      <th>8</th>\n",
              "      <th>9</th>\n",
              "      <th>10</th>\n",
              "      <th>11</th>\n",
              "      <th>12</th>\n",
              "      <th>13</th>\n",
              "      <th>14</th>\n",
              "      <th>15</th>\n",
              "      <th>17</th>\n",
              "      <th>18</th>\n",
              "      <th>19</th>\n",
              "      <th>20</th>\n",
              "      <th>21</th>\n",
              "      <th>22</th>\n",
              "      <th>23</th>\n",
              "      <th>24</th>\n",
              "      <th>25</th>\n",
              "      <th>26</th>\n",
              "      <th>27</th>\n",
              "      <th>28</th>\n",
              "      <th>29</th>\n",
              "      <th>31</th>\n",
              "      <th>32</th>\n",
              "      <th>34</th>\n",
              "      <th>36</th>\n",
              "      <th>37</th>\n",
              "      <th>38</th>\n",
              "      <th>39</th>\n",
              "      <th>40</th>\n",
              "      <th>41</th>\n",
              "      <th>43</th>\n",
              "      <th>44</th>\n",
              "      <th>46</th>\n",
              "      <th>47</th>\n",
              "      <th>...</th>\n",
              "      <th>755</th>\n",
              "      <th>756</th>\n",
              "      <th>757</th>\n",
              "      <th>758</th>\n",
              "      <th>759</th>\n",
              "      <th>761</th>\n",
              "      <th>762</th>\n",
              "      <th>763</th>\n",
              "      <th>764</th>\n",
              "      <th>765</th>\n",
              "      <th>766</th>\n",
              "      <th>768</th>\n",
              "      <th>770</th>\n",
              "      <th>772</th>\n",
              "      <th>773</th>\n",
              "      <th>774</th>\n",
              "      <th>775</th>\n",
              "      <th>776</th>\n",
              "      <th>778</th>\n",
              "      <th>780</th>\n",
              "      <th>781</th>\n",
              "      <th>782</th>\n",
              "      <th>783</th>\n",
              "      <th>784</th>\n",
              "      <th>786</th>\n",
              "      <th>787</th>\n",
              "      <th>788</th>\n",
              "      <th>790</th>\n",
              "      <th>791</th>\n",
              "      <th>792</th>\n",
              "      <th>795</th>\n",
              "      <th>796</th>\n",
              "      <th>797</th>\n",
              "      <th>799</th>\n",
              "      <th>800</th>\n",
              "      <th>801</th>\n",
              "      <th>802</th>\n",
              "      <th>805</th>\n",
              "      <th>809</th>\n",
              "      <th>810</th>\n",
              "    </tr>\n",
              "    <tr>\n",
              "      <th>row_0</th>\n",
              "      <th></th>\n",
              "      <th></th>\n",
              "      <th></th>\n",
              "      <th></th>\n",
              "      <th></th>\n",
              "      <th></th>\n",
              "      <th></th>\n",
              "      <th></th>\n",
              "      <th></th>\n",
              "      <th></th>\n",
              "      <th></th>\n",
              "      <th></th>\n",
              "      <th></th>\n",
              "      <th></th>\n",
              "      <th></th>\n",
              "      <th></th>\n",
              "      <th></th>\n",
              "      <th></th>\n",
              "      <th></th>\n",
              "      <th></th>\n",
              "      <th></th>\n",
              "      <th></th>\n",
              "      <th></th>\n",
              "      <th></th>\n",
              "      <th></th>\n",
              "      <th></th>\n",
              "      <th></th>\n",
              "      <th></th>\n",
              "      <th></th>\n",
              "      <th></th>\n",
              "      <th></th>\n",
              "      <th></th>\n",
              "      <th></th>\n",
              "      <th></th>\n",
              "      <th></th>\n",
              "      <th></th>\n",
              "      <th></th>\n",
              "      <th></th>\n",
              "      <th></th>\n",
              "      <th></th>\n",
              "      <th></th>\n",
              "      <th></th>\n",
              "      <th></th>\n",
              "      <th></th>\n",
              "      <th></th>\n",
              "      <th></th>\n",
              "      <th></th>\n",
              "      <th></th>\n",
              "      <th></th>\n",
              "      <th></th>\n",
              "      <th></th>\n",
              "      <th></th>\n",
              "      <th></th>\n",
              "      <th></th>\n",
              "      <th></th>\n",
              "      <th></th>\n",
              "      <th></th>\n",
              "      <th></th>\n",
              "      <th></th>\n",
              "      <th></th>\n",
              "      <th></th>\n",
              "      <th></th>\n",
              "      <th></th>\n",
              "      <th></th>\n",
              "      <th></th>\n",
              "      <th></th>\n",
              "      <th></th>\n",
              "      <th></th>\n",
              "      <th></th>\n",
              "      <th></th>\n",
              "      <th></th>\n",
              "      <th></th>\n",
              "      <th></th>\n",
              "      <th></th>\n",
              "      <th></th>\n",
              "      <th></th>\n",
              "      <th></th>\n",
              "      <th></th>\n",
              "      <th></th>\n",
              "      <th></th>\n",
              "      <th></th>\n",
              "    </tr>\n",
              "  </thead>\n",
              "  <tbody>\n",
              "    <tr>\n",
              "      <th>0</th>\n",
              "      <td>1015</td>\n",
              "      <td>1</td>\n",
              "      <td>0</td>\n",
              "      <td>0</td>\n",
              "      <td>0</td>\n",
              "      <td>1</td>\n",
              "      <td>0</td>\n",
              "      <td>0</td>\n",
              "      <td>0</td>\n",
              "      <td>0</td>\n",
              "      <td>0</td>\n",
              "      <td>0</td>\n",
              "      <td>0</td>\n",
              "      <td>0</td>\n",
              "      <td>1</td>\n",
              "      <td>0</td>\n",
              "      <td>0</td>\n",
              "      <td>0</td>\n",
              "      <td>0</td>\n",
              "      <td>0</td>\n",
              "      <td>0</td>\n",
              "      <td>0</td>\n",
              "      <td>0</td>\n",
              "      <td>0</td>\n",
              "      <td>1</td>\n",
              "      <td>0</td>\n",
              "      <td>0</td>\n",
              "      <td>0</td>\n",
              "      <td>0</td>\n",
              "      <td>0</td>\n",
              "      <td>0</td>\n",
              "      <td>0</td>\n",
              "      <td>0</td>\n",
              "      <td>0</td>\n",
              "      <td>0</td>\n",
              "      <td>0</td>\n",
              "      <td>0</td>\n",
              "      <td>0</td>\n",
              "      <td>0</td>\n",
              "      <td>0</td>\n",
              "      <td>...</td>\n",
              "      <td>0</td>\n",
              "      <td>0</td>\n",
              "      <td>0</td>\n",
              "      <td>0</td>\n",
              "      <td>0</td>\n",
              "      <td>0</td>\n",
              "      <td>0</td>\n",
              "      <td>0</td>\n",
              "      <td>0</td>\n",
              "      <td>0</td>\n",
              "      <td>1</td>\n",
              "      <td>0</td>\n",
              "      <td>0</td>\n",
              "      <td>0</td>\n",
              "      <td>0</td>\n",
              "      <td>0</td>\n",
              "      <td>0</td>\n",
              "      <td>0</td>\n",
              "      <td>0</td>\n",
              "      <td>7</td>\n",
              "      <td>0</td>\n",
              "      <td>0</td>\n",
              "      <td>0</td>\n",
              "      <td>0</td>\n",
              "      <td>0</td>\n",
              "      <td>2</td>\n",
              "      <td>0</td>\n",
              "      <td>0</td>\n",
              "      <td>0</td>\n",
              "      <td>0</td>\n",
              "      <td>0</td>\n",
              "      <td>0</td>\n",
              "      <td>0</td>\n",
              "      <td>0</td>\n",
              "      <td>0</td>\n",
              "      <td>0</td>\n",
              "      <td>0</td>\n",
              "      <td>0</td>\n",
              "      <td>0</td>\n",
              "      <td>0</td>\n",
              "    </tr>\n",
              "    <tr>\n",
              "      <th>4</th>\n",
              "      <td>0</td>\n",
              "      <td>0</td>\n",
              "      <td>392</td>\n",
              "      <td>0</td>\n",
              "      <td>0</td>\n",
              "      <td>0</td>\n",
              "      <td>0</td>\n",
              "      <td>0</td>\n",
              "      <td>0</td>\n",
              "      <td>0</td>\n",
              "      <td>0</td>\n",
              "      <td>0</td>\n",
              "      <td>0</td>\n",
              "      <td>0</td>\n",
              "      <td>0</td>\n",
              "      <td>0</td>\n",
              "      <td>0</td>\n",
              "      <td>0</td>\n",
              "      <td>0</td>\n",
              "      <td>0</td>\n",
              "      <td>0</td>\n",
              "      <td>0</td>\n",
              "      <td>0</td>\n",
              "      <td>0</td>\n",
              "      <td>0</td>\n",
              "      <td>0</td>\n",
              "      <td>4</td>\n",
              "      <td>0</td>\n",
              "      <td>0</td>\n",
              "      <td>0</td>\n",
              "      <td>0</td>\n",
              "      <td>0</td>\n",
              "      <td>0</td>\n",
              "      <td>0</td>\n",
              "      <td>0</td>\n",
              "      <td>0</td>\n",
              "      <td>0</td>\n",
              "      <td>0</td>\n",
              "      <td>0</td>\n",
              "      <td>0</td>\n",
              "      <td>...</td>\n",
              "      <td>0</td>\n",
              "      <td>0</td>\n",
              "      <td>0</td>\n",
              "      <td>0</td>\n",
              "      <td>0</td>\n",
              "      <td>0</td>\n",
              "      <td>0</td>\n",
              "      <td>0</td>\n",
              "      <td>0</td>\n",
              "      <td>0</td>\n",
              "      <td>0</td>\n",
              "      <td>0</td>\n",
              "      <td>0</td>\n",
              "      <td>0</td>\n",
              "      <td>0</td>\n",
              "      <td>0</td>\n",
              "      <td>0</td>\n",
              "      <td>0</td>\n",
              "      <td>0</td>\n",
              "      <td>0</td>\n",
              "      <td>0</td>\n",
              "      <td>0</td>\n",
              "      <td>0</td>\n",
              "      <td>0</td>\n",
              "      <td>0</td>\n",
              "      <td>0</td>\n",
              "      <td>0</td>\n",
              "      <td>0</td>\n",
              "      <td>0</td>\n",
              "      <td>0</td>\n",
              "      <td>0</td>\n",
              "      <td>0</td>\n",
              "      <td>0</td>\n",
              "      <td>0</td>\n",
              "      <td>0</td>\n",
              "      <td>0</td>\n",
              "      <td>0</td>\n",
              "      <td>0</td>\n",
              "      <td>2</td>\n",
              "      <td>0</td>\n",
              "    </tr>\n",
              "    <tr>\n",
              "      <th>7</th>\n",
              "      <td>0</td>\n",
              "      <td>0</td>\n",
              "      <td>0</td>\n",
              "      <td>0</td>\n",
              "      <td>0</td>\n",
              "      <td>1733</td>\n",
              "      <td>0</td>\n",
              "      <td>0</td>\n",
              "      <td>0</td>\n",
              "      <td>1</td>\n",
              "      <td>0</td>\n",
              "      <td>0</td>\n",
              "      <td>0</td>\n",
              "      <td>0</td>\n",
              "      <td>0</td>\n",
              "      <td>0</td>\n",
              "      <td>0</td>\n",
              "      <td>0</td>\n",
              "      <td>0</td>\n",
              "      <td>0</td>\n",
              "      <td>0</td>\n",
              "      <td>0</td>\n",
              "      <td>0</td>\n",
              "      <td>0</td>\n",
              "      <td>0</td>\n",
              "      <td>0</td>\n",
              "      <td>0</td>\n",
              "      <td>0</td>\n",
              "      <td>0</td>\n",
              "      <td>0</td>\n",
              "      <td>0</td>\n",
              "      <td>0</td>\n",
              "      <td>0</td>\n",
              "      <td>0</td>\n",
              "      <td>0</td>\n",
              "      <td>0</td>\n",
              "      <td>0</td>\n",
              "      <td>0</td>\n",
              "      <td>0</td>\n",
              "      <td>0</td>\n",
              "      <td>...</td>\n",
              "      <td>0</td>\n",
              "      <td>0</td>\n",
              "      <td>0</td>\n",
              "      <td>0</td>\n",
              "      <td>0</td>\n",
              "      <td>0</td>\n",
              "      <td>0</td>\n",
              "      <td>0</td>\n",
              "      <td>0</td>\n",
              "      <td>0</td>\n",
              "      <td>0</td>\n",
              "      <td>0</td>\n",
              "      <td>0</td>\n",
              "      <td>0</td>\n",
              "      <td>0</td>\n",
              "      <td>1</td>\n",
              "      <td>3</td>\n",
              "      <td>0</td>\n",
              "      <td>0</td>\n",
              "      <td>0</td>\n",
              "      <td>0</td>\n",
              "      <td>0</td>\n",
              "      <td>0</td>\n",
              "      <td>0</td>\n",
              "      <td>0</td>\n",
              "      <td>0</td>\n",
              "      <td>0</td>\n",
              "      <td>0</td>\n",
              "      <td>0</td>\n",
              "      <td>0</td>\n",
              "      <td>0</td>\n",
              "      <td>0</td>\n",
              "      <td>0</td>\n",
              "      <td>0</td>\n",
              "      <td>0</td>\n",
              "      <td>0</td>\n",
              "      <td>0</td>\n",
              "      <td>0</td>\n",
              "      <td>0</td>\n",
              "      <td>0</td>\n",
              "    </tr>\n",
              "    <tr>\n",
              "      <th>8</th>\n",
              "      <td>0</td>\n",
              "      <td>0</td>\n",
              "      <td>0</td>\n",
              "      <td>0</td>\n",
              "      <td>0</td>\n",
              "      <td>0</td>\n",
              "      <td>0</td>\n",
              "      <td>0</td>\n",
              "      <td>0</td>\n",
              "      <td>0</td>\n",
              "      <td>0</td>\n",
              "      <td>0</td>\n",
              "      <td>0</td>\n",
              "      <td>0</td>\n",
              "      <td>0</td>\n",
              "      <td>0</td>\n",
              "      <td>0</td>\n",
              "      <td>0</td>\n",
              "      <td>0</td>\n",
              "      <td>0</td>\n",
              "      <td>0</td>\n",
              "      <td>0</td>\n",
              "      <td>0</td>\n",
              "      <td>0</td>\n",
              "      <td>0</td>\n",
              "      <td>0</td>\n",
              "      <td>0</td>\n",
              "      <td>0</td>\n",
              "      <td>0</td>\n",
              "      <td>0</td>\n",
              "      <td>0</td>\n",
              "      <td>0</td>\n",
              "      <td>0</td>\n",
              "      <td>0</td>\n",
              "      <td>0</td>\n",
              "      <td>0</td>\n",
              "      <td>0</td>\n",
              "      <td>0</td>\n",
              "      <td>0</td>\n",
              "      <td>0</td>\n",
              "      <td>...</td>\n",
              "      <td>0</td>\n",
              "      <td>0</td>\n",
              "      <td>0</td>\n",
              "      <td>0</td>\n",
              "      <td>0</td>\n",
              "      <td>0</td>\n",
              "      <td>0</td>\n",
              "      <td>0</td>\n",
              "      <td>0</td>\n",
              "      <td>0</td>\n",
              "      <td>0</td>\n",
              "      <td>0</td>\n",
              "      <td>0</td>\n",
              "      <td>0</td>\n",
              "      <td>0</td>\n",
              "      <td>0</td>\n",
              "      <td>0</td>\n",
              "      <td>0</td>\n",
              "      <td>0</td>\n",
              "      <td>0</td>\n",
              "      <td>0</td>\n",
              "      <td>0</td>\n",
              "      <td>0</td>\n",
              "      <td>0</td>\n",
              "      <td>0</td>\n",
              "      <td>0</td>\n",
              "      <td>0</td>\n",
              "      <td>0</td>\n",
              "      <td>0</td>\n",
              "      <td>0</td>\n",
              "      <td>0</td>\n",
              "      <td>0</td>\n",
              "      <td>0</td>\n",
              "      <td>0</td>\n",
              "      <td>0</td>\n",
              "      <td>0</td>\n",
              "      <td>0</td>\n",
              "      <td>0</td>\n",
              "      <td>0</td>\n",
              "      <td>0</td>\n",
              "    </tr>\n",
              "    <tr>\n",
              "      <th>9</th>\n",
              "      <td>0</td>\n",
              "      <td>0</td>\n",
              "      <td>0</td>\n",
              "      <td>0</td>\n",
              "      <td>0</td>\n",
              "      <td>0</td>\n",
              "      <td>0</td>\n",
              "      <td>6</td>\n",
              "      <td>0</td>\n",
              "      <td>0</td>\n",
              "      <td>0</td>\n",
              "      <td>0</td>\n",
              "      <td>0</td>\n",
              "      <td>0</td>\n",
              "      <td>0</td>\n",
              "      <td>0</td>\n",
              "      <td>0</td>\n",
              "      <td>0</td>\n",
              "      <td>0</td>\n",
              "      <td>0</td>\n",
              "      <td>0</td>\n",
              "      <td>0</td>\n",
              "      <td>0</td>\n",
              "      <td>0</td>\n",
              "      <td>0</td>\n",
              "      <td>0</td>\n",
              "      <td>0</td>\n",
              "      <td>0</td>\n",
              "      <td>0</td>\n",
              "      <td>0</td>\n",
              "      <td>0</td>\n",
              "      <td>0</td>\n",
              "      <td>0</td>\n",
              "      <td>0</td>\n",
              "      <td>0</td>\n",
              "      <td>0</td>\n",
              "      <td>0</td>\n",
              "      <td>0</td>\n",
              "      <td>0</td>\n",
              "      <td>0</td>\n",
              "      <td>...</td>\n",
              "      <td>0</td>\n",
              "      <td>0</td>\n",
              "      <td>0</td>\n",
              "      <td>0</td>\n",
              "      <td>0</td>\n",
              "      <td>0</td>\n",
              "      <td>0</td>\n",
              "      <td>0</td>\n",
              "      <td>0</td>\n",
              "      <td>0</td>\n",
              "      <td>0</td>\n",
              "      <td>0</td>\n",
              "      <td>0</td>\n",
              "      <td>0</td>\n",
              "      <td>0</td>\n",
              "      <td>0</td>\n",
              "      <td>0</td>\n",
              "      <td>0</td>\n",
              "      <td>0</td>\n",
              "      <td>0</td>\n",
              "      <td>0</td>\n",
              "      <td>0</td>\n",
              "      <td>0</td>\n",
              "      <td>0</td>\n",
              "      <td>0</td>\n",
              "      <td>0</td>\n",
              "      <td>0</td>\n",
              "      <td>0</td>\n",
              "      <td>0</td>\n",
              "      <td>0</td>\n",
              "      <td>0</td>\n",
              "      <td>0</td>\n",
              "      <td>0</td>\n",
              "      <td>0</td>\n",
              "      <td>0</td>\n",
              "      <td>0</td>\n",
              "      <td>0</td>\n",
              "      <td>0</td>\n",
              "      <td>0</td>\n",
              "      <td>0</td>\n",
              "    </tr>\n",
              "    <tr>\n",
              "      <th>...</th>\n",
              "      <td>...</td>\n",
              "      <td>...</td>\n",
              "      <td>...</td>\n",
              "      <td>...</td>\n",
              "      <td>...</td>\n",
              "      <td>...</td>\n",
              "      <td>...</td>\n",
              "      <td>...</td>\n",
              "      <td>...</td>\n",
              "      <td>...</td>\n",
              "      <td>...</td>\n",
              "      <td>...</td>\n",
              "      <td>...</td>\n",
              "      <td>...</td>\n",
              "      <td>...</td>\n",
              "      <td>...</td>\n",
              "      <td>...</td>\n",
              "      <td>...</td>\n",
              "      <td>...</td>\n",
              "      <td>...</td>\n",
              "      <td>...</td>\n",
              "      <td>...</td>\n",
              "      <td>...</td>\n",
              "      <td>...</td>\n",
              "      <td>...</td>\n",
              "      <td>...</td>\n",
              "      <td>...</td>\n",
              "      <td>...</td>\n",
              "      <td>...</td>\n",
              "      <td>...</td>\n",
              "      <td>...</td>\n",
              "      <td>...</td>\n",
              "      <td>...</td>\n",
              "      <td>...</td>\n",
              "      <td>...</td>\n",
              "      <td>...</td>\n",
              "      <td>...</td>\n",
              "      <td>...</td>\n",
              "      <td>...</td>\n",
              "      <td>...</td>\n",
              "      <td>...</td>\n",
              "      <td>...</td>\n",
              "      <td>...</td>\n",
              "      <td>...</td>\n",
              "      <td>...</td>\n",
              "      <td>...</td>\n",
              "      <td>...</td>\n",
              "      <td>...</td>\n",
              "      <td>...</td>\n",
              "      <td>...</td>\n",
              "      <td>...</td>\n",
              "      <td>...</td>\n",
              "      <td>...</td>\n",
              "      <td>...</td>\n",
              "      <td>...</td>\n",
              "      <td>...</td>\n",
              "      <td>...</td>\n",
              "      <td>...</td>\n",
              "      <td>...</td>\n",
              "      <td>...</td>\n",
              "      <td>...</td>\n",
              "      <td>...</td>\n",
              "      <td>...</td>\n",
              "      <td>...</td>\n",
              "      <td>...</td>\n",
              "      <td>...</td>\n",
              "      <td>...</td>\n",
              "      <td>...</td>\n",
              "      <td>...</td>\n",
              "      <td>...</td>\n",
              "      <td>...</td>\n",
              "      <td>...</td>\n",
              "      <td>...</td>\n",
              "      <td>...</td>\n",
              "      <td>...</td>\n",
              "      <td>...</td>\n",
              "      <td>...</td>\n",
              "      <td>...</td>\n",
              "      <td>...</td>\n",
              "      <td>...</td>\n",
              "      <td>...</td>\n",
              "    </tr>\n",
              "    <tr>\n",
              "      <th>787</th>\n",
              "      <td>4</td>\n",
              "      <td>0</td>\n",
              "      <td>0</td>\n",
              "      <td>0</td>\n",
              "      <td>0</td>\n",
              "      <td>0</td>\n",
              "      <td>0</td>\n",
              "      <td>0</td>\n",
              "      <td>0</td>\n",
              "      <td>0</td>\n",
              "      <td>0</td>\n",
              "      <td>0</td>\n",
              "      <td>0</td>\n",
              "      <td>0</td>\n",
              "      <td>0</td>\n",
              "      <td>0</td>\n",
              "      <td>0</td>\n",
              "      <td>0</td>\n",
              "      <td>0</td>\n",
              "      <td>0</td>\n",
              "      <td>0</td>\n",
              "      <td>0</td>\n",
              "      <td>0</td>\n",
              "      <td>0</td>\n",
              "      <td>0</td>\n",
              "      <td>1</td>\n",
              "      <td>0</td>\n",
              "      <td>0</td>\n",
              "      <td>0</td>\n",
              "      <td>0</td>\n",
              "      <td>0</td>\n",
              "      <td>0</td>\n",
              "      <td>0</td>\n",
              "      <td>0</td>\n",
              "      <td>0</td>\n",
              "      <td>0</td>\n",
              "      <td>0</td>\n",
              "      <td>0</td>\n",
              "      <td>0</td>\n",
              "      <td>0</td>\n",
              "      <td>...</td>\n",
              "      <td>0</td>\n",
              "      <td>0</td>\n",
              "      <td>0</td>\n",
              "      <td>0</td>\n",
              "      <td>0</td>\n",
              "      <td>0</td>\n",
              "      <td>0</td>\n",
              "      <td>2</td>\n",
              "      <td>0</td>\n",
              "      <td>0</td>\n",
              "      <td>1</td>\n",
              "      <td>0</td>\n",
              "      <td>0</td>\n",
              "      <td>0</td>\n",
              "      <td>0</td>\n",
              "      <td>0</td>\n",
              "      <td>0</td>\n",
              "      <td>0</td>\n",
              "      <td>0</td>\n",
              "      <td>0</td>\n",
              "      <td>0</td>\n",
              "      <td>0</td>\n",
              "      <td>0</td>\n",
              "      <td>0</td>\n",
              "      <td>0</td>\n",
              "      <td>446</td>\n",
              "      <td>0</td>\n",
              "      <td>0</td>\n",
              "      <td>0</td>\n",
              "      <td>0</td>\n",
              "      <td>0</td>\n",
              "      <td>0</td>\n",
              "      <td>0</td>\n",
              "      <td>0</td>\n",
              "      <td>0</td>\n",
              "      <td>1</td>\n",
              "      <td>0</td>\n",
              "      <td>0</td>\n",
              "      <td>0</td>\n",
              "      <td>0</td>\n",
              "    </tr>\n",
              "    <tr>\n",
              "      <th>791</th>\n",
              "      <td>0</td>\n",
              "      <td>0</td>\n",
              "      <td>0</td>\n",
              "      <td>0</td>\n",
              "      <td>0</td>\n",
              "      <td>0</td>\n",
              "      <td>0</td>\n",
              "      <td>0</td>\n",
              "      <td>0</td>\n",
              "      <td>0</td>\n",
              "      <td>0</td>\n",
              "      <td>0</td>\n",
              "      <td>0</td>\n",
              "      <td>0</td>\n",
              "      <td>0</td>\n",
              "      <td>0</td>\n",
              "      <td>0</td>\n",
              "      <td>0</td>\n",
              "      <td>0</td>\n",
              "      <td>0</td>\n",
              "      <td>0</td>\n",
              "      <td>0</td>\n",
              "      <td>0</td>\n",
              "      <td>0</td>\n",
              "      <td>0</td>\n",
              "      <td>0</td>\n",
              "      <td>0</td>\n",
              "      <td>0</td>\n",
              "      <td>0</td>\n",
              "      <td>0</td>\n",
              "      <td>0</td>\n",
              "      <td>0</td>\n",
              "      <td>0</td>\n",
              "      <td>0</td>\n",
              "      <td>0</td>\n",
              "      <td>0</td>\n",
              "      <td>0</td>\n",
              "      <td>0</td>\n",
              "      <td>0</td>\n",
              "      <td>0</td>\n",
              "      <td>...</td>\n",
              "      <td>0</td>\n",
              "      <td>0</td>\n",
              "      <td>0</td>\n",
              "      <td>0</td>\n",
              "      <td>0</td>\n",
              "      <td>0</td>\n",
              "      <td>0</td>\n",
              "      <td>0</td>\n",
              "      <td>0</td>\n",
              "      <td>0</td>\n",
              "      <td>0</td>\n",
              "      <td>0</td>\n",
              "      <td>0</td>\n",
              "      <td>0</td>\n",
              "      <td>0</td>\n",
              "      <td>0</td>\n",
              "      <td>0</td>\n",
              "      <td>0</td>\n",
              "      <td>0</td>\n",
              "      <td>0</td>\n",
              "      <td>0</td>\n",
              "      <td>0</td>\n",
              "      <td>0</td>\n",
              "      <td>0</td>\n",
              "      <td>0</td>\n",
              "      <td>0</td>\n",
              "      <td>0</td>\n",
              "      <td>0</td>\n",
              "      <td>59</td>\n",
              "      <td>0</td>\n",
              "      <td>0</td>\n",
              "      <td>0</td>\n",
              "      <td>0</td>\n",
              "      <td>0</td>\n",
              "      <td>0</td>\n",
              "      <td>0</td>\n",
              "      <td>0</td>\n",
              "      <td>0</td>\n",
              "      <td>0</td>\n",
              "      <td>0</td>\n",
              "    </tr>\n",
              "    <tr>\n",
              "      <th>796</th>\n",
              "      <td>0</td>\n",
              "      <td>0</td>\n",
              "      <td>0</td>\n",
              "      <td>0</td>\n",
              "      <td>0</td>\n",
              "      <td>0</td>\n",
              "      <td>0</td>\n",
              "      <td>0</td>\n",
              "      <td>0</td>\n",
              "      <td>0</td>\n",
              "      <td>0</td>\n",
              "      <td>0</td>\n",
              "      <td>0</td>\n",
              "      <td>0</td>\n",
              "      <td>0</td>\n",
              "      <td>0</td>\n",
              "      <td>0</td>\n",
              "      <td>0</td>\n",
              "      <td>0</td>\n",
              "      <td>0</td>\n",
              "      <td>0</td>\n",
              "      <td>0</td>\n",
              "      <td>0</td>\n",
              "      <td>0</td>\n",
              "      <td>0</td>\n",
              "      <td>0</td>\n",
              "      <td>0</td>\n",
              "      <td>0</td>\n",
              "      <td>0</td>\n",
              "      <td>0</td>\n",
              "      <td>0</td>\n",
              "      <td>0</td>\n",
              "      <td>0</td>\n",
              "      <td>0</td>\n",
              "      <td>0</td>\n",
              "      <td>0</td>\n",
              "      <td>0</td>\n",
              "      <td>0</td>\n",
              "      <td>0</td>\n",
              "      <td>0</td>\n",
              "      <td>...</td>\n",
              "      <td>0</td>\n",
              "      <td>0</td>\n",
              "      <td>0</td>\n",
              "      <td>0</td>\n",
              "      <td>0</td>\n",
              "      <td>0</td>\n",
              "      <td>0</td>\n",
              "      <td>0</td>\n",
              "      <td>0</td>\n",
              "      <td>0</td>\n",
              "      <td>0</td>\n",
              "      <td>0</td>\n",
              "      <td>0</td>\n",
              "      <td>0</td>\n",
              "      <td>0</td>\n",
              "      <td>0</td>\n",
              "      <td>0</td>\n",
              "      <td>0</td>\n",
              "      <td>0</td>\n",
              "      <td>0</td>\n",
              "      <td>0</td>\n",
              "      <td>0</td>\n",
              "      <td>0</td>\n",
              "      <td>0</td>\n",
              "      <td>0</td>\n",
              "      <td>0</td>\n",
              "      <td>0</td>\n",
              "      <td>0</td>\n",
              "      <td>0</td>\n",
              "      <td>0</td>\n",
              "      <td>0</td>\n",
              "      <td>2</td>\n",
              "      <td>0</td>\n",
              "      <td>0</td>\n",
              "      <td>0</td>\n",
              "      <td>0</td>\n",
              "      <td>0</td>\n",
              "      <td>0</td>\n",
              "      <td>0</td>\n",
              "      <td>0</td>\n",
              "    </tr>\n",
              "    <tr>\n",
              "      <th>797</th>\n",
              "      <td>0</td>\n",
              "      <td>0</td>\n",
              "      <td>0</td>\n",
              "      <td>0</td>\n",
              "      <td>0</td>\n",
              "      <td>0</td>\n",
              "      <td>0</td>\n",
              "      <td>0</td>\n",
              "      <td>0</td>\n",
              "      <td>0</td>\n",
              "      <td>0</td>\n",
              "      <td>0</td>\n",
              "      <td>0</td>\n",
              "      <td>0</td>\n",
              "      <td>0</td>\n",
              "      <td>0</td>\n",
              "      <td>0</td>\n",
              "      <td>0</td>\n",
              "      <td>0</td>\n",
              "      <td>0</td>\n",
              "      <td>0</td>\n",
              "      <td>0</td>\n",
              "      <td>0</td>\n",
              "      <td>0</td>\n",
              "      <td>0</td>\n",
              "      <td>0</td>\n",
              "      <td>0</td>\n",
              "      <td>0</td>\n",
              "      <td>0</td>\n",
              "      <td>0</td>\n",
              "      <td>0</td>\n",
              "      <td>0</td>\n",
              "      <td>0</td>\n",
              "      <td>0</td>\n",
              "      <td>0</td>\n",
              "      <td>0</td>\n",
              "      <td>0</td>\n",
              "      <td>0</td>\n",
              "      <td>0</td>\n",
              "      <td>0</td>\n",
              "      <td>...</td>\n",
              "      <td>0</td>\n",
              "      <td>0</td>\n",
              "      <td>0</td>\n",
              "      <td>0</td>\n",
              "      <td>0</td>\n",
              "      <td>0</td>\n",
              "      <td>0</td>\n",
              "      <td>0</td>\n",
              "      <td>0</td>\n",
              "      <td>0</td>\n",
              "      <td>0</td>\n",
              "      <td>0</td>\n",
              "      <td>0</td>\n",
              "      <td>0</td>\n",
              "      <td>0</td>\n",
              "      <td>0</td>\n",
              "      <td>0</td>\n",
              "      <td>0</td>\n",
              "      <td>0</td>\n",
              "      <td>0</td>\n",
              "      <td>0</td>\n",
              "      <td>0</td>\n",
              "      <td>0</td>\n",
              "      <td>0</td>\n",
              "      <td>0</td>\n",
              "      <td>0</td>\n",
              "      <td>0</td>\n",
              "      <td>0</td>\n",
              "      <td>0</td>\n",
              "      <td>0</td>\n",
              "      <td>0</td>\n",
              "      <td>0</td>\n",
              "      <td>0</td>\n",
              "      <td>0</td>\n",
              "      <td>0</td>\n",
              "      <td>0</td>\n",
              "      <td>0</td>\n",
              "      <td>0</td>\n",
              "      <td>0</td>\n",
              "      <td>0</td>\n",
              "    </tr>\n",
              "    <tr>\n",
              "      <th>801</th>\n",
              "      <td>0</td>\n",
              "      <td>0</td>\n",
              "      <td>0</td>\n",
              "      <td>0</td>\n",
              "      <td>0</td>\n",
              "      <td>0</td>\n",
              "      <td>0</td>\n",
              "      <td>0</td>\n",
              "      <td>0</td>\n",
              "      <td>0</td>\n",
              "      <td>0</td>\n",
              "      <td>0</td>\n",
              "      <td>0</td>\n",
              "      <td>0</td>\n",
              "      <td>0</td>\n",
              "      <td>0</td>\n",
              "      <td>0</td>\n",
              "      <td>0</td>\n",
              "      <td>0</td>\n",
              "      <td>0</td>\n",
              "      <td>0</td>\n",
              "      <td>0</td>\n",
              "      <td>0</td>\n",
              "      <td>0</td>\n",
              "      <td>0</td>\n",
              "      <td>0</td>\n",
              "      <td>0</td>\n",
              "      <td>0</td>\n",
              "      <td>0</td>\n",
              "      <td>0</td>\n",
              "      <td>0</td>\n",
              "      <td>0</td>\n",
              "      <td>0</td>\n",
              "      <td>0</td>\n",
              "      <td>0</td>\n",
              "      <td>0</td>\n",
              "      <td>0</td>\n",
              "      <td>0</td>\n",
              "      <td>0</td>\n",
              "      <td>0</td>\n",
              "      <td>...</td>\n",
              "      <td>0</td>\n",
              "      <td>0</td>\n",
              "      <td>0</td>\n",
              "      <td>0</td>\n",
              "      <td>0</td>\n",
              "      <td>0</td>\n",
              "      <td>0</td>\n",
              "      <td>0</td>\n",
              "      <td>0</td>\n",
              "      <td>0</td>\n",
              "      <td>0</td>\n",
              "      <td>0</td>\n",
              "      <td>0</td>\n",
              "      <td>0</td>\n",
              "      <td>0</td>\n",
              "      <td>0</td>\n",
              "      <td>0</td>\n",
              "      <td>0</td>\n",
              "      <td>0</td>\n",
              "      <td>0</td>\n",
              "      <td>0</td>\n",
              "      <td>0</td>\n",
              "      <td>0</td>\n",
              "      <td>0</td>\n",
              "      <td>0</td>\n",
              "      <td>0</td>\n",
              "      <td>0</td>\n",
              "      <td>0</td>\n",
              "      <td>0</td>\n",
              "      <td>0</td>\n",
              "      <td>0</td>\n",
              "      <td>0</td>\n",
              "      <td>0</td>\n",
              "      <td>0</td>\n",
              "      <td>0</td>\n",
              "      <td>4</td>\n",
              "      <td>0</td>\n",
              "      <td>0</td>\n",
              "      <td>0</td>\n",
              "      <td>0</td>\n",
              "    </tr>\n",
              "  </tbody>\n",
              "</table>\n",
              "<p>288 rows × 639 columns</p>\n",
              "</div>"
            ],
            "text/plain": [
              "col_0   0    1    4    5    6     7    8    ...  799  800  801  802  805  809  810\n",
              "row_0                                       ...                                   \n",
              "0      1015    1    0    0    0     1    0  ...    0    0    0    0    0    0    0\n",
              "4         0    0  392    0    0     0    0  ...    0    0    0    0    0    2    0\n",
              "7         0    0    0    0    0  1733    0  ...    0    0    0    0    0    0    0\n",
              "8         0    0    0    0    0     0    0  ...    0    0    0    0    0    0    0\n",
              "9         0    0    0    0    0     0    0  ...    0    0    0    0    0    0    0\n",
              "...     ...  ...  ...  ...  ...   ...  ...  ...  ...  ...  ...  ...  ...  ...  ...\n",
              "787       4    0    0    0    0     0    0  ...    0    0    1    0    0    0    0\n",
              "791       0    0    0    0    0     0    0  ...    0    0    0    0    0    0    0\n",
              "796       0    0    0    0    0     0    0  ...    0    0    0    0    0    0    0\n",
              "797       0    0    0    0    0     0    0  ...    0    0    0    0    0    0    0\n",
              "801       0    0    0    0    0     0    0  ...    0    0    4    0    0    0    0\n",
              "\n",
              "[288 rows x 639 columns]"
            ]
          },
          "metadata": {
            "tags": []
          },
          "execution_count": 22
        }
      ]
    },
    {
      "cell_type": "code",
      "metadata": {
        "id": "h-g5NzzjEALD",
        "colab_type": "code",
        "colab": {
          "base_uri": "https://localhost:8080/",
          "height": 272
        },
        "outputId": "3c7c8b01-57b7-4b3a-9c5d-53d7d041536f"
      },
      "source": [
        "# from fastai.vision import *\n",
        "\n",
        "# preds, y, losses = learn.get_preds(with_loss = 1)\n",
        "print(f\"softmax predictions: {preds}\")\n",
        "print(f\"indexed predictions:{predictions}\")\n",
        "print(f\"targets:{targets}\")"
      ],
      "execution_count": 23,
      "outputs": [
        {
          "output_type": "stream",
          "text": [
            "softmax predictions: tensor([[1.3931e-04, 4.4034e-08, 3.2655e-10,  ..., 4.6868e-10, 1.5637e-08,\n",
            "         1.6651e-06],\n",
            "        [2.1586e-04, 3.5576e-06, 1.9858e-08,  ..., 3.1536e-08, 1.0085e-06,\n",
            "         2.7557e-04],\n",
            "        [7.3554e-05, 7.1727e-09, 3.4460e-11,  ..., 4.5149e-11, 8.5710e-09,\n",
            "         3.3757e-07],\n",
            "        ...,\n",
            "        [7.2420e-05, 1.3995e-07, 4.7871e-10,  ..., 4.7110e-10, 2.8365e-08,\n",
            "         5.0595e-07],\n",
            "        [1.4263e-02, 1.9691e-06, 1.1852e-08,  ..., 1.4841e-08, 2.0409e-06,\n",
            "         2.4175e-04],\n",
            "        [7.7150e-03, 5.2438e-06, 3.5307e-08,  ..., 4.0551e-08, 4.1645e-06,\n",
            "         4.0330e-04]])\n",
            "indexed predictions:tensor([491, 189, 501,  ..., 461, 510, 521])\n",
            "targets:tensor([491, 189, 501,  ..., 189, 252, 645])\n"
          ],
          "name": "stdout"
        }
      ]
    },
    {
      "cell_type": "code",
      "metadata": {
        "id": "vfAU1Msv5iJg",
        "colab_type": "code",
        "colab": {
          "base_uri": "https://localhost:8080/",
          "height": 54
        },
        "outputId": "4febda31-7253-4aca-9121-e34b1c8d65d3"
      },
      "source": [
        "class_names = learn.data.classes\n",
        "print(class_names)"
      ],
      "execution_count": 24,
      "outputs": [
        {
          "output_type": "stream",
          "text": [
            "['ADHD', 'AIDS Related Wasting', 'AV Heart Block', 'Abdominal Distension', 'Abnormal Uterine Bleeding', 'Abortion', 'Acetaminophen Overdose', 'Acne', 'Actinic Keratosis', 'Acute Coronary Syndrome', 'Acute Lymphoblastic Leukemia', 'Acute Nonlymphocytic Leukemia', 'Acute Promyelocytic Leukemia', \"Addison's Disease\", 'Adrenocortical Insufficiency', 'Adult Human Growth Hormone Deficiency', 'Aggressive Behavi', 'Agitated State', 'Agitation', 'Alcohol Dependence', 'Alcohol Withdrawal', 'Allergic Reactions', 'Allergic Rhinitis', 'Allergic Urticaria', 'Allergies', 'Alopecia', 'Alpha-1 Proteinase Inhibitor Deficiency', \"Alzheimer's Disease\", 'Amebiasis', 'Amenorrhea', 'Amyotrophic Lateral Sclerosis', 'Anal Fissure and Fistula', 'Anal Itching', 'Anaphylaxis', 'Anaplastic Astrocytoma', 'Anaplastic Oligodendroglioma', 'Androgenetic Alopecia', 'Anemia', 'Anemia Associated with Chronic Renal Failure', 'Anemia, Chemotherapy Induced', 'Anemia, Sickle Cell', 'Anesthesia', 'Anesthetic Adjunct', 'Angina', 'Angina Pectoris Prophylaxis', 'Angioedema', 'Ankylosing Spondylitis', 'Anorexia', 'Anorexia/Feeding Problems', 'Anthrax', 'Anti NMDA Receptor Encephalitis', 'Antiphospholipid Syndrome', 'Anxiety', 'Anxiety and Stress', 'Aphthous Ulce', 'Arrhythmia', 'Ascariasis', 'Asperger Syndrome', 'Aspergillosis, Aspergilloma', 'Aspiration Pneumonia', 'Asthma', 'Asthma, Maintenance', 'Asthma, acute', 'Asystole', 'Atherosclerosis', 'Atopic Dermatitis', 'Atrial Fibrillation', 'Atrial Flutte', 'Atrophic Urethritis', 'Atrophic Vaginitis', 'Auditory Processing Disorde', 'Autism', 'Autoimmune Hemolytic Anemia', 'Autoimmune Hepatitis', 'Avian Influenza', 'B12 Nutritional Deficiency', 'Babesiosis', 'Back Pain', 'Bacterial Endocarditis Prevention', 'Bacterial Infection', 'Bacterial Skin Infection', 'Bacterial Vaginitis', \"Barrett's Esophagus\", 'Bartonellosis', 'Basal Cell Carcinoma', \"Behcet's Disease\", 'Benign Essential Trem', 'Benign Prostatic Hyperplasia', 'Benzodiazepine Withdrawal', 'Biliary Cirrhosis', 'Binge Eating Disorde', 'Bipolar Disorde', 'Birth Control', 'Bladder Infection', 'Bleeding Disorde', 'Blepharitis', 'Body Dysmorphic Disorde', 'Body Imaging', 'Bone infection', 'Borderline Personality Disorde', 'Bowel Preparation', 'Brain Tum', 'Breakthrough Pain', 'Breast Cance', 'Breast Cancer, Adjuvant', 'Breast Cancer, Metastatic', 'Breast Cancer, Palliative', 'Breast Cancer, Prevention', 'Bronchiectasis', 'Bronchitis', 'Bronchospasm Prophylaxis', 'Bulimia', 'Bullous Pemphigoid', 'Burning Mouth Syndrome', 'Burns, External', 'Bursitis', 'CMV Prophylaxis', 'CNS Magnetic Resonance Imaging', 'COPD', 'COPD, Acute', 'COPD, Maintenance', 'Cachexia', 'Campylobacter Gastroenteritis', 'Cance', 'Candida Urinary Tract Infection', 'Candidemia', 'Carcinoid Tum', 'Cardiovascular Risk Reduction', 'Cataplexy', 'Cerebral Edema', 'Cerebral Spasticity', 'Cerebrovascular Insufficiency', 'Cervical Dystonia', 'Chlamydia Infection', 'Cholera', 'Chronic Eosinophilic Leukemia', 'Chronic Fatigue Syndrome', 'Chronic Idiopathic Constipation', 'Chronic Inflammatory Demyelinating Polyradiculoneuropathy', 'Chronic Lymphocytic Leukemia', 'Chronic Myelogenous Leukemia', 'Chronic Myofascial Pain', 'Chronic Pain', 'Chronic Pancreatitis', 'Chronic Spasticity', 'Clostridial Infection', 'Cluster Headaches', 'Cluster-Tic Syndrome', 'Coccidioidomycosis', \"Cogan's Syndrome\", 'Cold Sores', 'Cold Symptoms', 'Colorectal Cance', 'Computed Tomography', 'Condylomata Acuminata', 'Conjunctivitis', 'Conjunctivitis, Allergic', 'Conjunctivitis, Bacterial', 'Constipation', 'Constipation, Acute', 'Constipation, Chronic', 'Constipation, Drug Induced', 'Corneal Ulce', 'Coronary Artery Disease', 'Costochondritis', 'Cough', 'Cough and Nasal Congestion', \"Crohn's Disease\", \"Crohn's Disease, Acute\", \"Crohn's Disease, Maintenance\", 'Croup', 'Cutaneous Candidiasis', 'Cutaneous Larva Migrans', 'Cutaneous T-cell Lymphoma', 'Cyclic Vomiting Syndrome', 'Cyclitis', 'Cyclothymic Disorde', 'Cystic Fibrosis', 'Dandruff', 'Deep Neck Infection', 'Deep Vein Thrombosis', 'Deep Vein Thrombosis Prophylaxis after Hip Replacement Surgery', 'Deep Vein Thrombosis Prophylaxis after Knee Replacement Surgery', 'Deep Vein Thrombosis, First Event', 'Deep Vein Thrombosis, Prophylaxis', 'Deep Vein Thrombosis, Recurrent Event', 'Delayed Puberty, Male', 'Dementia', 'Dental Abscess', 'Depression', \"Dercum's Disease\", 'Dermatitis', 'Dermatitis Herpeti', 'Dermatitis Herpetiformis', 'Dermatologic Lesion', 'Dermatological Disorders', 'Dermatomyositis', 'Dermatophytosis', 'Diabetes Insipidus', 'Diabetes, Type 1', 'Diabetes, Type 2', 'Diabetic Kidney Disease', 'Diabetic Macular Edema', 'Diabetic Peripheral Neuropathy', 'Diagnosis and Investigation', 'Diagnostic Bronchograms', 'Diaper Rash', 'Diarrhea', 'Diarrhea, Acute', 'Diarrhea, Chronic', 'Dientamoeba fragilis', 'Dietary Fiber Supplementation', 'Dietary Supplementation', 'Dissociative Identity Disorde', 'Diverticulitis', 'Dry Eye Disease', 'Dry Skin', 'Dumping Syndrome', 'Duodenal Ulce', 'Duodenal Ulcer Prophylaxis', \"Dupuytren's contracture\", 'Dysautonomia', 'Dyspareunia', 'Dystonia', 'Dysuria', 'Ear Wax Impaction', 'Ectopic Pregnancy', 'Eczema', 'Edema', 'Ehrlichiosis', 'Emergency Contraception', 'Endometrial Cance', 'Endometrial Hyperplasia', 'Endometrial Hyperplasia, Prophylaxis', 'Endometriosis', 'Endoscopy or Radiology Premedication', 'Enterocolitis', 'Eosinophilic Esophagitis', 'Epicondylitis, Tennis Elbow', 'Epididymitis, Sexually Transmitted', 'Epilepsy', 'Erectile Dysfunction', 'Erosive Esophagitis', 'Esophageal Candidiasis', 'Esophageal Spasm', 'Esophageal Variceal Hemorrhage Prophylaxis', 'Euvolemic Hyponatremia', 'Expectoration', 'Extrapyramidal Reaction', 'Eye Redness', 'Eye Redness/Itching', 'Eyelash Hypotrichosis', 'GERD', 'Gallbladder Disease', 'Gas', 'Gastric Cance', 'Gastric Ulcer Maintenance Treatment', 'Gastritis/Duodenitis', 'Gastroenteritis', 'Gastrointestinal Decontamination', 'Gastrointestinal Stromal Tum', 'Gastroparesis', 'Gaucher Disease', 'Gender Dysphoria', 'Generalized Anxiety Disorde', 'Gestational Diabetes', 'Giant Cell Tumor of Bone', 'Giardiasis', 'Gingivitis', 'Glaucoma', 'Glaucoma, Open Angle', 'Glaucoma/Intraocular Hypertension', 'Glioblastoma Multi', 'Glioblastoma Multiforme', 'Gonadotropin Inhibition', 'Gonococcal Infection, Disseminated', 'Gonococcal Infection, Uncomplicated', 'Gout', 'Gout, Acute', 'Gout, Prophylaxis', 'Gouty Arthritis', 'Granuloma Annulare', 'HIV Infection', 'Hairy Cell Leukemia', \"Hashimoto's disease\", 'Head Injury', 'Head Lice', 'Head and Neck Cance', 'Headache', 'Heart Attack', 'Heart Failure', 'Helicobacter Pylori Infection', 'Hemangioma', 'Hemophilia A', 'Hemophilia B', 'Hemorrhoids', 'Hepatic Encephalopathy', 'Hepatic Tum', 'Hepatitis B', 'Hepatitis B Prevention', 'Hepatitis C', 'Hepatocellular Carcinoma', 'Herbal Supplementation', 'Hereditary Angioedema', 'Herpes Simplex', 'Herpes Simplex Dendritic Keratitis', 'Herpes Simplex, Mucocutaneous/Immunocompetent Host', 'Herpes Simplex, Mucocutaneous/Immunocompromised Host', 'Herpes Simplex, Suppression', 'Herpes Zoste', 'Herpes Zoster, Prophylaxis', 'Hiccups', 'Hidradenitis Suppurativa', 'High Blood Pressure', 'High Cholesterol', 'High Cholesterol, Familial Heterozygous', 'High Cholesterol, Familial Homozygous', 'Hirsutism', 'Histoplasmosis', \"Hodgkin's Lymphoma\", 'Hot Flashes', 'Human Papilloma Virus', 'Human Papillomavirus Prophylaxis', 'Hydrocephalus', 'Hyperbilirubinemia', 'Hypercalcemia', 'Hypercalcemia of Malignancy', 'Hyperekplexia', 'Hyperhidrosis', 'Hyperkalemia', 'Hyperlipoproteinemia', 'Hyperlipoproteinemia Type III, Elevated beta-VLDL   IDL', 'Hyperlipoproteinemia Type IIa, Elevated LDL', 'Hyperlipoproteinemia Type IV, Elevated VLDL', 'Hyperparathyroidism Secondary to Renal Impairment', 'Hyperphosphatemia', 'Hyperphosphatemia of Renal Failure', 'Hyperprolactinemia', 'Hypersomnia', 'Hypertensive Emergency', 'Hyperthyroidism', 'Hypertriglyceridemia', 'Hyperuricemia Secondary to Chemotherapy', 'Hypoactive Sexual Desire Disorde', 'Hypocalcemia', 'Hypodermoclysis', 'Hypoestrogenism', 'Hypoglycemia', 'Hypogonadism, Male', 'Hypokalemia', 'Hypokalemic Periodic Paralysis', 'Hypomagnesemia', 'Hypoparathyroidism', 'Hypopituitarism', 'Hypotension', 'Hypothyroidism, After Thyroid Removal', 'ICU Agitation', 'Ichthyosis', 'Idiopathic Thrombocytopenic Purpura', 'Immunosuppression', 'Impetig', 'Indigestion', 'Infection Prophylaxis', 'Infectious Diarrhea', 'Inflammatory Bowel Disease', 'Inflammatory Conditions', 'Influenza', 'Influenza Prophylaxis', 'Insomnia', 'Insomnia, Stimulant-Associated', 'Insulin Resistance Syndrome', 'Intermittent Claudication', 'Intermittent Explosive Disorde', 'Interstitial Cystitis', 'Intraabdominal Infection', 'Intraocular Hypertension', 'Iritis', 'Iron Deficiency Anemia', 'Irritable Bowel Syndrome', 'Ischemic Stroke', 'Ischemic Stroke, Prophylaxis', 'Joint Infection', 'Juvenile Idiopathic Arthritis', 'Juvenile Rheumatoid Arthritis', 'Keratitis', 'Keratoconjunctivitis Sicca', 'Keratosis', 'Kidney Infections', 'Klinefelter Syndrome', 'Labor Induction', 'Labor Pain', 'Lactation Augmentation', 'Lactose Intolerance', 'Left Ventricular Dysfunction', 'Legionella Pneumonia', 'Lennox-Gastaut Syndrome', 'Leukemia', 'Leukocytoclastic Vasculitis', 'Lewy Body Dementia', 'Lichen Planus', 'Lichen Sclerosus', 'Light Anesthesia', 'Light Sedation', 'Linear IgA Disease', 'Lipodystrophy', 'Liver Magnetic Resonance Imaging', 'Local Anesthesia', 'Lyme Disease', 'Lyme Disease, Arthritis', 'Lyme Disease, Neurologic', 'Lymphocytic Colitis', 'Lymphoma', 'Macular Degeneration', 'Macular Edema', 'Major Depressive Disorde', 'Malaria', 'Malaria Prevention', 'Malignant Glioma', 'Mania', 'Manscaping Pain', 'Melanoma', 'Melanoma, Metastatic', 'Melasma', \"Meniere's Disease\", 'Meningitis', 'Meningitis, Meningococcal', 'Meningococcal Meningitis Prophylaxis', 'Menopausal Disorders', 'Menorrhagia', 'Menstrual Disorders', 'Methicillin-Resistant Staphylococcus Aureus Infection', 'Microscopic polyangiitis', 'Migraine', 'Migraine Prevention', 'Mild Cognitive Impairment', 'Mitral Valve Prolapse', 'Mixed Connective Tissue Disease', 'Mononucleosis', 'Motion Sickness', 'Mountain Sickness / Altitude Sickness', 'Mucositis', 'Multiple Endocrine Adenomas', 'Multiple Myeloma', 'Multiple Sclerosis', 'Mumps Prophylaxis', 'Muscle Pain', 'Muscle Spasm', 'Muscle Twitching', 'Myasthenia Gravis', 'Mycobacterium avium-intracellulare, Treatment', 'Mycoplasma Pneumonia', 'Myelodysplastic Syndrome', 'Myelofibrosis', 'Myeloproliferative Disorders', 'Myxedema Coma', 'NSAID-Induced Gastric Ulce', 'NSAID-Induced Ulcer Prophylaxis', 'Narcolepsy', 'Nasal Carriage of Staphylococcus aureus', 'Nasal Congestion', 'Nasal Polyps', 'Nausea/Vomiting', 'Nausea/Vomiting of Pregnancy', 'Nausea/Vomiting, Chemotherapy Induced', 'Nausea/Vomiting, Postoperative', 'Nausea/Vomiting, Radiation Induced', 'Neck Pain', 'Neoplastic Diseases', 'Nephrocalcinosis', 'Nephrotic Syndrome', 'Neuralgia', 'Neuritis', 'Neuropathic Pain', 'Neurosis', 'Neurosurgery', 'Neurotic Depression', 'Neutropenia', 'Neutropenia Associated with Chemotherapy', 'New Daily Persistent Headache', 'Niacin Deficiency', 'Night Terrors', 'Nightmares', 'Nocardiosis', 'Nocturnal Leg Cramps', \"Non-Hodgkin's Lymphoma\", 'Non-Small Cell Lung Cance', 'Nonalcoholic Fatty Liver Disease', 'Noninfectious Colitis', 'Nonoccupational Exposure', 'Not Listed / Othe', 'Obesity', 'Obsessive Compulsive Disorde', 'Obstructive Sleep Apnea/Hypopnea Syndrome', 'Occipital Neuralgia', 'Ocular Rosacea', 'Oligospermia', 'Onychomycosis, Fingernail', 'Onychomycosis, Toenail', 'Oophorectomy', 'Ophthalmic Surgery', 'Opiate Adjunct', 'Opiate Dependence', 'Opiate Withdrawal', 'Opioid Overdose', 'Opioid-Induced Constipation', 'Oppositional Defiant Disorde', 'Oral Thrush', 'Oral and Dental Conditions', 'Organ Transplant, Rejection Prophylaxis', 'Organ Transplant, Rejection Reversal', 'Osteoarthritis', 'Osteolytic Bone Lesions of Multiple Myeloma', 'Osteolytic Bone Metastases of Solid Tumors', 'Osteoporosis', 'Otitis Externa', 'Otitis Media', 'Ovarian Cance', 'Ovarian Cysts', 'Overactive Bladde', 'Ovulation Induction', \"Paget's Disease\", 'Pain', 'Pain/Feve', 'Pancreatic Cance', 'Pancreatic Exocrine Dysfunction', 'Panic Disorde', 'Paragonimus westermani, Lung Fluke', 'Paranoid Disorde', \"Parkinson's Disease\", 'Parkinsonian Trem', 'Parkinsonism', 'Paroxysmal Supraventricular Tachycardia', 'Patent Ductus Arteriosus', 'Pathological Hypersecretory Conditions', 'Pe', 'Pediatric Growth Hormone Deficiency', 'Pelvic Inflammatory Disease', 'Pemphigoid', 'Pemphigus', 'Peptic Ulce', 'Percutaneous Coronary Intervention', 'Performance Anxiety', 'Perimenopausal Symptoms', 'Period Pain', 'Periodic Limb Movement Disorde', 'Periodontitis', 'Perioral Dermatitis', 'Peripheral Arterial Disease', 'Peripheral Neuropathy', 'Peripheral T-cell Lymphoma', 'Peritonitis', 'Persistent Depressive Disorde', 'Pertussis', \"Peyronie's Disease\", 'Pharyngitis', 'Photoaging of the Skin', 'Pinworm Infection (Enterobius vermicularis)', 'Pityriasis rubra pilaris', 'Plaque Psoriasis', 'Platelet Aggregation Inhibition', 'Pneumococcal Disease Prophylaxis', 'Pneumonia', 'Polycystic Ovary Syndrome', 'Polycythemia Vera', 'Porphyria', 'Portal Hypertension', 'Post Traumatic Stress Disorde', 'Post-Cholecystectomy Diarrhea', 'Postherpetic Neuralgia', 'Postmenopausal Symptoms', 'Postoperative Increased Intraocular Pressure', 'Postoperative Ocular Inflammation', 'Postoperative Pain', 'Postpartum Breast Pain', 'Postpartum Depression', 'Postural Orthostatic Tachycardia Syndrome', 'Pre-Exposure Prophylaxis', 'Precocious Puberty', 'Premature Lab', 'Premature Ventricular Depolarizations', 'Premenstrual Dysphoric Disorde', 'Premenstrual Syndrome', 'Prevention of Atherothrombotic Events', 'Prevention of Bladder infection', 'Prevention of Cardiovascular Disease', 'Prevention of Dental Caries', 'Prevention of Hypokalemia', 'Prevention of Osteoporosis', 'Prevention of Perinatal Group B Streptococcal Disease', 'Prevention of Thromboembolism in Atrial Fibrillation', 'Primary Hyperaldosteronism', 'Primary Hyperaldosteronism Diagnosis', 'Primary Immunodeficiency Syndrome', 'Primary Nocturnal Enuresis', 'Primary Ovarian Failure', 'Progesterone Insufficiency', 'Prostate Cance', 'Prostatitis', 'Prosthetic Heart Valves, Mechanical Valves - Thrombosis Prophylaxis', 'Prosthetic Heart Valves, Tissue Valves - Thrombosis Prophylaxis', 'Pruritus', 'Pruritus of Partial Biliary Obstruction', 'Pseudobulbar Affect', 'Pseudogout, Prophylaxis', 'Pseudomembranous Colitis', 'Pseudotumor Cerebri', 'Psoriasis', 'Psoriatic Arthritis', 'Psychosis', 'Pudendal Neuralgia', 'Pulmonary Embolism', 'Pulmonary Embolism, First Event', 'Pulmonary Embolism, Recurrent Event', 'Pulmonary Hypertension', 'Pupillary Dilation', 'Q Feve', 'Rabies Prophylaxis', 'Radionuclide Myocardial Perfusion Study', 'Ramsay Hunt Syndrome', \"Raynaud's Syndrome\", 'Reflex Sympathetic Dystrophy Syndrome', \"Reiter's Syndrome\", 'Rejection Prophylaxis', 'Renal Cell Carcinoma', 'Renal Transplant', 'Restless Legs Syndrome', 'Reversal of Nondepolarizing Muscle Relaxants', 'Reversal of Opioid Sedation', 'Rheumatoid Arthritis', 'Rhinitis', 'Rhinorrhea', 'Rosacea', 'SIADH', 'STD Prophylaxis', 'Salivary Gland Cance', 'Sarcoidosis', 'Scabies', 'Schilling Test', 'Schistosoma japonicum', 'Schizoaffective Disorde', 'Schizophrenia', 'Schnitzler Syndrome', 'Sciatica', 'Scleroderma', 'Seasonal Affective Disorde', 'Seasonal Allergic Conjunctivitis', 'Seborrheic Dermatitis', 'Secondary Cutaneous Bacterial Infections', 'Secondary Hyperparathyroidism', 'Sedation', 'Seizure Prevention', 'Seizures', 'Sepsis', 'Severe Mood Dysregulation', 'Sexual Dysfunction, SSRI Induced', 'Shift Work Sleep Disorde', 'Short Stature', 'Short Stature for Age', 'Sinus Symptoms', 'Sinusitis', \"Sjogren's Syndrome\", 'Skin Cance', 'Skin Disinfection, Preoperative', 'Skin Rash', 'Skin and Structure Infection', 'Skin or Soft Tissue Infection', 'Sleep Paralysis', 'Small Bowel Bacterial Overgrowth', 'Small Bowel or Pancreatic Fistula', 'Small Fiber Neuropathy', 'Smoking Cessation', 'Social Anxiety Disorde', 'Soft Tissue Sarcoma', 'Solid Tumors', 'Somatoform Pain Disorde', 'Sore Throat', 'Spondyloarthritis', 'Spondylolisthesis', 'Sporotrichosis', 'Squamous Cell Carcinoma', 'Status Epilepticus', \"Still's Disease\", 'Stomach Cance', 'Stomach Ulce', 'Strabismus', 'Strep Throat', 'Streptococcal Infection', 'Stress Ulcer Prophylaxis', 'Strongyloidiasis', 'Subarachnoid Hemorrhage', 'Submental Fullness', 'Sunburn', 'Supraventricular Tachycardia', 'Surgical Prophylaxis', 'Swine Flu', 'Syringomyelia', 'Systemic Candidiasis', 'Systemic Lupus Erythematosus', 'Systemic Mastocytosis', 'Systemic Sclerosis', 'TSH Suppression', 'Tardive Dyskinesia', 'Temporomandibular Joint Disorde', 'Tendonitis', 'Testicular Cance', 'Tetanus', 'Thrombocythemia', 'Thrombocytopenia', 'Thromboembolic Stroke Prophylaxis', 'Thyroid Cance', 'Thyroid Suppression Test', 'Thyrotoxicosis', 'Tic Disorde', 'Tinea Barbae', 'Tinea Capitis', 'Tinea Corporis', 'Tinea Cruris', 'Tinea Pedis', 'Tinea Versicol', 'Tinnitus', 'Tonsillitis/Pharyngitis', 'Toothache', 'Topical Disinfection', \"Tourette's Syndrome\", 'Transient Ischemic Attack', 'Transverse Myelitis', \"Traveler's Diarrhea\", 'Trichomoniasis', 'Trichotillomania', 'Trigeminal Neuralgia', 'Tuberculosis, Active', 'Tuberculosis, Latent', 'Tuberculosis, Prophylaxis', \"Turner's Syndrome\", 'Typhoid Feve', 'Ulcerative Colitis', 'Ulcerative Colitis, Active', 'Ulcerative Colitis, Maintenance', 'Ulcerative Proctitis', 'Underactive Thyroid', 'Undifferentiated Connective Tissue Disease', 'Upper Limb Spasticity', 'Upper Respiratory Tract Infection', 'Urinary Incontinence', 'Urinary Retention', 'Urinary Tract Infection', 'Urinary Tract Stones', 'Urticaria', 'Uterine Bleeding', 'Uterine Fibroids', 'Uveitis', 'Vaginal Yeast Infection', 'Varicella-Zoste', 'Varicose Veins', 'Ventricular Arrhythmia', 'Ventricular Fibrillation', 'Ventricular Tachycardia', 'Vertig', 'Vitamin B12 Deficiency', 'Vitamin D Deficiency', 'Vitamin K Deficiency', 'Vitamin/Mineral Supplementation and Deficiency', 'Vitamin/Mineral Supplementation during Pregnancy/Lactation', 'Vulvodynia', 'Warts', \"Wegener's Granulomatosis\", 'Weight Loss', \"Wilson's Disease\", 'Wolff-Parkinson-White Syndrome', 'Women (minoxidil)', 'Women (oxybutynin)', 'Wound Cleansing', 'Xerostomia', 'Zollinger-Ellison Syndrome', 'acial Lipoatrophy', 'acial Wrinkles', 'actor IX Deficiency', 'ailure to Thrive', 'amilial Cold Autoinflammatory Syndrome', 'amilial Mediterranean Feve', 'atigue', 'cal Segmental Glomerulosclerosis', 'emale Infertility', 'eve', 'ge (amlodipine / valsartan)', 'ge HCT (amlodipine / hydrochlorothiazide / valsartan)', 'ibrocystic Breast Disease', 'ibromyalgia', 'lic Acid Deficiency', 'llicular Lymphoma', 'm Pain Disorde', 'mance Anxiety', 'me', 'min / pioglitazone)', 'min / rosiglitazone)', 'min / saxagliptin)', 'min / sitagliptin)', 'min)', 'mis', 'mist (', 'moterol / mometasone)', 'moterol)', 'mulation) (phenylephrine)', 't Care', 't Pac with Cyclobenzaprine (cyclobenzaprine)', 'tic (mycophenolic acid)', 'unctional Gastric Disorde', 'ungal Infection Prophylaxis', 'ungal Pneumonia', \"von Willebrand's Disease\", 'zen Shoulde']\n"
          ],
          "name": "stdout"
        }
      ]
    },
    {
      "cell_type": "code",
      "metadata": {
        "id": "PGZsUkJv5oia",
        "colab_type": "code",
        "colab": {
          "base_uri": "https://localhost:8080/",
          "height": 170
        },
        "outputId": "b5e857f1-0545-4343-b5db-fbc7b29dbb21"
      },
      "source": [
        "from sklearn import metrics\n",
        "\n",
        "confusion_matrix = metrics.confusion_matrix(targets, predictions)\n",
        "print(confusion_matrix)\n"
      ],
      "execution_count": 25,
      "outputs": [
        {
          "output_type": "stream",
          "text": [
            "[[1015    0    0    0 ...    0    0    0    0]\n",
            " [   1    0    0    0 ...    0    0    0    0]\n",
            " [   0    0  392    0 ...    0    0    0    0]\n",
            " [   0    0    0    0 ...    0    0    0    0]\n",
            " ...\n",
            " [   0    0    0    0 ...    0    0    0    0]\n",
            " [   0    0    0    0 ...    0    0    0    0]\n",
            " [   0    0    2    0 ...    0    0    0    0]\n",
            " [   0    0    0    0 ...    0    0    0    0]]\n"
          ],
          "name": "stdout"
        }
      ]
    },
    {
      "cell_type": "code",
      "metadata": {
        "id": "qemfnBsE7YZU",
        "colab_type": "code",
        "colab": {}
      },
      "source": [
        "# metrics.classification_report(targets, predictions, target_names=class_names)\n",
        "# metrics.classification_report(targets, predictions, target_names=unique_train_labels_list)"
      ],
      "execution_count": 0,
      "outputs": []
    },
    {
      "cell_type": "code",
      "metadata": {
        "id": "IyTNy-zPBbns",
        "colab_type": "code",
        "colab": {}
      },
      "source": [
        "# interp = ClassificationInterpretation(learn, preds, y, losses)\n",
        "\n",
        "# interp.plot_confusion_matrix()"
      ],
      "execution_count": 0,
      "outputs": []
    },
    {
      "cell_type": "code",
      "metadata": {
        "id": "sz47asPgCG52",
        "colab_type": "code",
        "colab": {}
      },
      "source": [
        "# from google.colab import drive \n",
        "# drive.mount('/content/gdrive')"
      ],
      "execution_count": 0,
      "outputs": []
    },
    {
      "cell_type": "code",
      "metadata": {
        "id": "eKHENmQVF532",
        "colab_type": "code",
        "colab": {
          "base_uri": "https://localhost:8080/",
          "height": 34
        },
        "outputId": "5e71faa7-eb90-4956-8c9f-ffedc4e3513e"
      },
      "source": [
        "learn.save(\"trained_model\", return_path=True)"
      ],
      "execution_count": 30,
      "outputs": [
        {
          "output_type": "execute_result",
          "data": {
            "text/plain": [
              "PosixPath('models/trained_model.pth')"
            ]
          },
          "metadata": {
            "tags": []
          },
          "execution_count": 30
        }
      ]
    },
    {
      "cell_type": "code",
      "metadata": {
        "id": "WQSI68OqhHM_",
        "colab_type": "code",
        "colab": {}
      },
      "source": [
        "# from google.colab import files\n",
        "\n",
        "# uploaded = files.upload()"
      ],
      "execution_count": 0,
      "outputs": []
    },
    {
      "cell_type": "code",
      "metadata": {
        "id": "L362V-51EMFr",
        "colab_type": "code",
        "colab": {}
      },
      "source": [
        "#from fastai.text import *\n",
        "\n",
        "# model_save_name = 'export.pkl'\n",
        "# path = F\"/content/gdrive/My Drive/{model_save_name}\" \n",
        "\n",
        "# saved_learner = load_learner(io.StringIO(uploaded['export.pkl'].decode('utf-8')))\n",
        "\n"
      ],
      "execution_count": 0,
      "outputs": []
    },
    {
      "cell_type": "code",
      "metadata": {
        "id": "3nDoM_OseQ-K",
        "colab_type": "code",
        "colab": {}
      },
      "source": [
        "# saved_learner.predict(\"\")"
      ],
      "execution_count": 0,
      "outputs": []
    },
    {
      "cell_type": "code",
      "metadata": {
        "id": "LuoIulv1EJIK",
        "colab_type": "code",
        "colab": {
          "base_uri": "https://localhost:8080/",
          "height": 34
        },
        "outputId": "2d7a811a-a071-4ca8-d8c7-d51390b26d80"
      },
      "source": [
        "model_save_name = 'export.pkl'\n",
        "path = F\"/content/drive/My Drive/{model_save_name}\" \n",
        "print(path)\n",
        "learn.export(path)"
      ],
      "execution_count": 34,
      "outputs": [
        {
          "output_type": "stream",
          "text": [
            "/content/drive/My Drive/export.pkl\n"
          ],
          "name": "stdout"
        }
      ]
    }
  ]
}