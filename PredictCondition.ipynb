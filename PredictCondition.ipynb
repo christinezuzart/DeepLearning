{
  "nbformat": 4,
  "nbformat_minor": 0,
  "metadata": {
    "colab": {
      "name": "PredictCondition.ipynb",
      "provenance": [],
      "collapsed_sections": [],
      "include_colab_link": true
    },
    "kernelspec": {
      "name": "python3",
      "display_name": "Python 3"
    }
  },
  "cells": [
    {
      "cell_type": "markdown",
      "metadata": {
        "id": "view-in-github",
        "colab_type": "text"
      },
      "source": [
        "<a href=\"https://colab.research.google.com/github/christinezuzart/DeepLearning/blob/master/PredictCondition.ipynb\" target=\"_parent\"><img src=\"https://colab.research.google.com/assets/colab-badge.svg\" alt=\"Open In Colab\"/></a>"
      ]
    },
    {
      "cell_type": "code",
      "metadata": {
        "id": "BelpwrzCQlug",
        "colab_type": "code",
        "colab": {}
      },
      "source": [
        "from google.colab import files\n",
        "uploaded = files.upload()"
      ],
      "execution_count": 0,
      "outputs": []
    },
    {
      "cell_type": "code",
      "metadata": {
        "id": "01xKPY-pQr8e",
        "colab_type": "code",
        "colab": {}
      },
      "source": [
        "import io\n",
        "import pandas as pd\n",
        "\n",
        "#This file name should match with the csv uploaded else edit this file name.\n",
        "\n",
        "dfTest = pd.read_csv(io.BytesIO(uploaded['drugsComTestClean_raw.csv']))\n",
        "\n",
        "#This is the training data set to remove labels not in the test set\n",
        "#This can be commented out if not required to remove the labels\n",
        "dfTrain = pd.read_csv(io.BytesIO(uploaded['drugsComTrainClean_raw.csv']))"
      ],
      "execution_count": 0,
      "outputs": []
    },
    {
      "cell_type": "code",
      "metadata": {
        "id": "NfA6Yp-cOHgT",
        "colab_type": "code",
        "colab": {}
      },
      "source": [
        "# comment this code if a new test csv is shared.\n",
        "#this code removes test examples which do not have labels in training\n",
        "\n",
        "dfTrain = pd.read_csv('/content/gdrive/My Drive/Data/drugsComTrainClean_raw.csv')\n",
        "dfTest = pd.read_csv('/content/gdrive/My Drive/Data/drugsComTestClean_raw.csv') \n",
        "\n",
        "train_texts = dfTrain.loc[ : , 'review'].values\n",
        "train_labels = dfTrain.loc[ : , 'condition'].values\n",
        "\n",
        "test_texts = dfTest.loc[ : , 'review'].values\n",
        "test_labels = dfTest.loc[ : , 'condition'].values\n",
        "\n",
        "col_names = ['labels','text']\n",
        "df_train = pd.DataFrame({'text':train_texts, 'labels':train_labels}, columns=col_names)\n",
        "df_test = pd.DataFrame({'text':test_texts, 'labels':test_labels}, columns=col_names)\n",
        "\n",
        "df_train = df_train.dropna(axis=0)\n",
        "df_test = df_test.dropna(axis=0)\n",
        "\n",
        "unique_train_labels_list = df_train.labels.unique()\n",
        "unique_test_labels_list = df_test.labels.unique()\n",
        "\n",
        "df_test_new = pd.DataFrame(columns=['labels','text'])\n",
        "\n",
        "for ind in df_test.index: \n",
        "  if df_test['labels'][ind] in unique_train_labels_list :\n",
        "   new_row = {'labels': df_test['labels'][ind], 'text':df_test['text'][ind]}\n",
        "   df_test_new = df_test_new.append(new_row, ignore_index=True)"
      ],
      "execution_count": 0,
      "outputs": []
    },
    {
      "cell_type": "code",
      "metadata": {
        "id": "BGLE5SOEcODz",
        "colab_type": "code",
        "colab": {}
      },
      "source": [
        "def perform_prediction(review):\n",
        "  pred, b, c = learn_classifier.predict(review)\n",
        "  return pred.obj"
      ],
      "execution_count": 0,
      "outputs": []
    },
    {
      "cell_type": "code",
      "metadata": {
        "id": "74nnEBkjeIYJ",
        "colab_type": "code",
        "colab": {}
      },
      "source": [
        "from fastai.text import *\n",
        "\n",
        "# give the path of the model file\n",
        "learn_classifier = load_learner('/content/gdrive/My Drive/', 'export1.pkl')"
      ],
      "execution_count": 0,
      "outputs": []
    },
    {
      "cell_type": "code",
      "metadata": {
        "id": "oft5OQzvnsWX",
        "colab_type": "code",
        "colab": {}
      },
      "source": [
        "#Code to test predictions against the reviews given as input\n",
        "\n",
        "total_test_data = len(df_test_new)\n",
        "\n",
        "for i in range(total_test_data) : \n",
        "  review = df_test_new.loc[i, \"text\"] \n",
        "  true_label = df_test_new.loc[i, \"labels\"] \n",
        "  label_predicted = perform_prediction(df_test_new.loc[i, \"text\"])\n",
        "  print (f\"Review: {review}\")\n",
        "  print(f\"Actual Condition: {true_label}\")\n",
        "  print(f\"Predicted Codition: {label_predicted}\")"
      ],
      "execution_count": 0,
      "outputs": []
    },
    {
      "cell_type": "code",
      "metadata": {
        "id": "e_Qfn6SiR8aI",
        "colab_type": "code",
        "colab": {}
      },
      "source": [
        "#Test accuracy\n",
        "\n",
        "count = 0\n",
        "total_test_data = len(df_test_new)\n",
        "\n",
        "for i in range(total_test_data) : \n",
        "  review = df_test_new.loc[i, \"text\"] \n",
        "  true_label = df_test_new.loc[i, \"labels\"] \n",
        "  label_predicted = perform_prediction(df_test_new.loc[i, \"text\"])\n",
        "  if(label_predicted == true_label): \n",
        "    count = count + 1\n",
        "\n",
        "accuaracy = count*100/total_test_data\n",
        "print(count)\n",
        "print(total_test_data)\n",
        "print(accuaracy)"
      ],
      "execution_count": 0,
      "outputs": []
    },
    {
      "cell_type": "code",
      "metadata": {
        "id": "PrX5xW6NXCBJ",
        "colab_type": "code",
        "colab": {}
      },
      "source": [
        "def perform_prediction_finetuned(review):\n",
        "  pred, b, c = learn_classifier.predict(review)\n",
        "  return pred.obj"
      ],
      "execution_count": 0,
      "outputs": []
    },
    {
      "cell_type": "code",
      "metadata": {
        "id": "gtQNrcYMXE2_",
        "colab_type": "code",
        "colab": {}
      },
      "source": [
        "# give the path of the model file\n",
        "learn_classifier = load_learner('/content/gdrive/My Drive/', 'export4.pkl')"
      ],
      "execution_count": 0,
      "outputs": []
    },
    {
      "cell_type": "code",
      "metadata": {
        "id": "tUgDM3JZXJOn",
        "colab_type": "code",
        "colab": {}
      },
      "source": [
        "total_test_data = len(df_test_new)\n",
        "\n",
        "for i in range(total_test_data) : \n",
        "  review = df_test_new.loc[i, \"text\"] \n",
        "  true_label = df_test_new.loc[i, \"labels\"] \n",
        "  label_predicted = perform_prediction_finetuned(df_test_new.loc[i, \"text\"])\n",
        "  print (f\"Review: {review}\")\n",
        "  print(f\"Actual Condition: {true_label}\")\n",
        "  print(f\"Predicted Codition: {label_predicted}\")"
      ],
      "execution_count": 0,
      "outputs": []
    },
    {
      "cell_type": "code",
      "metadata": {
        "id": "_rp8MRQqXM_3",
        "colab_type": "code",
        "colab": {}
      },
      "source": [
        "#Test accuracy of fine tuned model\n",
        "\n",
        "count = 0\n",
        "total_test_data = len(df_test_new)\n",
        "\n",
        "for i in range(total_test_data) : \n",
        "  review = df_test_new.loc[i, \"text\"] \n",
        "  true_label = df_test_new.loc[i, \"labels\"] \n",
        "  label_predicted = perform_prediction_finetuned(df_test_new.loc[i, \"text\"])\n",
        "  if(label_predicted == true_label): \n",
        "    count = count + 1\n",
        "\n",
        "accuaracy = count*100/total_test_data\n",
        "print(count)\n",
        "print(total_test_data)\n",
        "print(accuaracy)"
      ],
      "execution_count": 0,
      "outputs": []
    }
  ]
}