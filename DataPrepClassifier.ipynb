{
  "nbformat": 4,
  "nbformat_minor": 0,
  "metadata": {
    "colab": {
      "name": "DataPrepClassifier.ipynb",
      "provenance": [],
      "collapsed_sections": [],
      "include_colab_link": true
    },
    "kernelspec": {
      "name": "python3",
      "display_name": "Python 3"
    },
    "accelerator": "GPU"
  },
  "cells": [
    {
      "cell_type": "markdown",
      "metadata": {
        "id": "view-in-github",
        "colab_type": "text"
      },
      "source": [
        "<a href=\"https://colab.research.google.com/github/christinezuzart/DeepLearning/blob/master/DataPrepClassifier.ipynb\" target=\"_parent\"><img src=\"https://colab.research.google.com/assets/colab-badge.svg\" alt=\"Open In Colab\"/></a>"
      ]
    },
    {
      "cell_type": "code",
      "metadata": {
        "id": "i__FR_zD3l17",
        "colab_type": "code",
        "outputId": "7425f084-65af-4969-9c91-9d81a28c8139",
        "colab": {
          "base_uri": "https://localhost:8080/",
          "height": 54
        }
      },
      "source": [
        "from google.colab import drive \n",
        "drive.mount('/content/gdrive')"
      ],
      "execution_count": 0,
      "outputs": [
        {
          "output_type": "stream",
          "text": [
            "Drive already mounted at /content/gdrive; to attempt to forcibly remount, call drive.mount(\"/content/gdrive\", force_remount=True).\n"
          ],
          "name": "stdout"
        }
      ]
    },
    {
      "cell_type": "code",
      "metadata": {
        "id": "x4qlPw-8317Y",
        "colab_type": "code",
        "outputId": "3d41359d-adaf-4e25-df50-65bdcb510b89",
        "colab": {
          "base_uri": "https://localhost:8080/",
          "height": 34
        }
      },
      "source": [
        "import pandas as pd\n",
        "import io\n",
        "\n",
        "df_classifier = pd.read_csv(F'/content/gdrive/My Drive/texts.csv')\n",
        "print(df_classifier.shape)"
      ],
      "execution_count": 0,
      "outputs": [
        {
          "output_type": "stream",
          "text": [
            "(215063, 4)\n"
          ],
          "name": "stdout"
        }
      ]
    },
    {
      "cell_type": "code",
      "metadata": {
        "id": "p9e3Ot69355H",
        "colab_type": "code",
        "outputId": "8f8df41d-7e51-4f21-c302-634fbad6d801",
        "colab": {
          "base_uri": "https://localhost:8080/",
          "height": 34
        }
      },
      "source": [
        "df_classifier = df_classifier.dropna(axis=0)\n",
        "print(df_classifier.shape)"
      ],
      "execution_count": 0,
      "outputs": [
        {
          "output_type": "stream",
          "text": [
            "(213869, 4)\n"
          ],
          "name": "stdout"
        }
      ]
    },
    {
      "cell_type": "code",
      "metadata": {
        "id": "na2_fmLs38Lg",
        "colab_type": "code",
        "outputId": "8c7e6e65-ddfd-4680-db1e-f5417813436c",
        "colab": {
          "base_uri": "https://localhost:8080/",
          "height": 34
        }
      },
      "source": [
        "df_Train = pd.read_csv('/content/gdrive/My Drive/Data/drugsComTrain_raw.csv')\n",
        "df_Train.head()\n",
        "print(df_Train.shape)"
      ],
      "execution_count": 0,
      "outputs": [
        {
          "output_type": "stream",
          "text": [
            "(161297, 7)\n"
          ],
          "name": "stdout"
        }
      ]
    },
    {
      "cell_type": "code",
      "metadata": {
        "id": "GGy0PQdv3-ru",
        "colab_type": "code",
        "outputId": "8e04088f-4259-47f4-cb5c-6304c3ccc951",
        "colab": {
          "base_uri": "https://localhost:8080/",
          "height": 34
        }
      },
      "source": [
        "df_Train = df_Train.drop(columns=['Unnamed: 0', 'drugName', 'rating', 'date', 'usefulCount'])\n",
        "df_Train.head()\n",
        "print(df_Train.shape)"
      ],
      "execution_count": 0,
      "outputs": [
        {
          "output_type": "stream",
          "text": [
            "(161297, 2)\n"
          ],
          "name": "stdout"
        }
      ]
    },
    {
      "cell_type": "code",
      "metadata": {
        "id": "ITwXXlbh4BxR",
        "colab_type": "code",
        "outputId": "acb130a8-cd00-48a0-8d2c-cdf3c524acf6",
        "colab": {
          "base_uri": "https://localhost:8080/",
          "height": 34
        }
      },
      "source": [
        "df_Train = df_Train.dropna(axis=0)\n",
        "print(df_Train.shape)"
      ],
      "execution_count": 0,
      "outputs": [
        {
          "output_type": "stream",
          "text": [
            "(160398, 2)\n"
          ],
          "name": "stdout"
        }
      ]
    },
    {
      "cell_type": "code",
      "metadata": {
        "id": "_gpglszA4HFQ",
        "colab_type": "code",
        "colab": {}
      },
      "source": [
        "unique_train_labels_list = df_Train.condition.unique()"
      ],
      "execution_count": 0,
      "outputs": []
    },
    {
      "cell_type": "code",
      "metadata": {
        "id": "ZMgC2ZPg4JHY",
        "colab_type": "code",
        "outputId": "10b13a69-f7dc-4d62-b26b-9dcafa5d5fd4",
        "colab": {
          "base_uri": "https://localhost:8080/",
          "height": 34
        }
      },
      "source": [
        "df_classifier_clean = pd.DataFrame(columns=['label','text', 'is_valid'])\n",
        "\n",
        "for ind in df_classifier.index: \n",
        "  if df_classifier['label'][ind] in unique_train_labels_list :\n",
        "    new_row = {'label': df_classifier['label'][ind], 'text':df_classifier['text'][ind], 'is_valid':df_classifier['is_valid'][ind]}\n",
        "    df_classifier_clean = df_classifier_clean.append(new_row, ignore_index=True)\n",
        "\n",
        "print(df_classifier_clean.shape)"
      ],
      "execution_count": 0,
      "outputs": [
        {
          "output_type": "stream",
          "text": [
            "(213823, 3)\n"
          ],
          "name": "stdout"
        }
      ]
    },
    {
      "cell_type": "code",
      "metadata": {
        "id": "zeugGBjE4L8P",
        "colab_type": "code",
        "colab": {}
      },
      "source": [
        "class_filename = 'df_classifier_clean.csv'\n",
        "path = F\"/content/gdrive/My Drive/{class_filename}\" \n",
        "df_classifier_clean.to_csv(path)"
      ],
      "execution_count": 0,
      "outputs": []
    },
    {
      "cell_type": "code",
      "metadata": {
        "id": "v2FVZ6gcGv9l",
        "colab_type": "code",
        "outputId": "3d90b2aa-932a-4327-a1aa-b17a802781aa",
        "colab": {
          "base_uri": "https://localhost:8080/",
          "height": 34
        }
      },
      "source": [
        "print(unique_train_labels_list.shape)"
      ],
      "execution_count": 0,
      "outputs": [
        {
          "output_type": "stream",
          "text": [
            "(884,)\n"
          ],
          "name": "stdout"
        }
      ]
    }
  ]
}